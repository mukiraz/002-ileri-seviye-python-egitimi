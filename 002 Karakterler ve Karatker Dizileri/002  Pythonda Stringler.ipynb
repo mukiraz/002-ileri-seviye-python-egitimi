{
 "cells": [
  {
   "cell_type": "markdown",
   "id": "e9e65770-cb36-4d83-a672-a442a0f392eb",
   "metadata": {},
   "source": [
    "# Karakter \r\n",
    "\r\n",
    "Dizileme\r\n",
    "\r\n",
    "Python'ın dizelerinin doğasını kısaca gözden geçirelim.\r\n",
    "\r\n",
    "Öncelikle, Python'ın dizeleri (veya sadece dizeler, çünkü başka bir dilin dizelerini tartışmayacağız) değişmez dizilerdir.\r\n",
    "\r\n",
    "Bu, onların bazı tanıdık davranışlar sergileyeceğini beklemeniz gerektiği anlamına geldiği için çok önemlidir.\r\n",
    "\r\n",
    "Ne hakkında konuştuğumuzu anlamak için editördeki kodu analiz edelim:\r\n",
    "\r\n",
    "Örnek 1'e bir göz atın. Dizeler için kullanılan `len()` işlevi, argüman tarafından içerilen karakterlerin sayısını döndürür. Kod parçacığı 2 çıktısını verir.\r\n",
    "Herhangi bir dize boş olabilir. Bu durumda uzunluğu 0 olur - Örnek 2'de olduğu gibi.\r\n",
    "Bir kaçış karakteri olarak kullanılan ters eğik çizginin (`\\`) dizenin toplam uzunluğuna dahil edilmediğini unutmayın. Bu nedenle, Örnek 3'teki kod 3 çıktısını verir.\r\n",
    "Üç örnek kodu çalıştırınontrol edin.\r\n",
    "\r\n",
    "---"
   ]
  },
  {
   "cell_type": "code",
   "execution_count": 2,
   "id": "dec8e865-c581-4c84-9360-5f254e2573af",
   "metadata": {},
   "outputs": [
    {
     "name": "stdout",
     "output_type": "stream",
     "text": [
      "2\n",
      "0\n",
      "3\n"
     ]
    }
   ],
   "source": [
    "# Example 1\n",
    "word = 'by'\n",
    "print(len(word))\n",
    "\n",
    "# Example 2\n",
    "empty = ''\n",
    "print(len(empty))\n",
    "\n",
    "# Example 3\n",
    "i_am = 'I\\'m'\n",
    "print(len(i_am))"
   ]
  },
  {
   "cell_type": "markdown",
   "id": "924571d1-9542-44cd-afd0-cecb61192649",
   "metadata": {},
   "source": [
    "## Çok Satırlı Dizeler\r\n",
    "\r\n",
    "Şimdi Python kaynak kodunda dizeleri belirtmenin başka bir yolunu göstermek için harika bir zaman. Bildiğiniz sözdizimi, bir satırdan fazla metin içeren bir dize kullanmanıza izin vermez.\r\n",
    "\r\n",
    "Örneğin, aşağıdaki kod hatalıdır:\r\n",
    "\r\n",
    "```python\r\n",
    "multiline = 'Line #1\r\n",
    "Line #2'\r\n",
    "\r\n",
    "print(len(multiline))\r\n",
    "```\r\n",
    "\r\n",
    "Neyse ki, bu tür dizeler için Python ayrı, kullanışlı ve basit bir sözdizimi sunar.\r\n",
    "\r\n",
    "Editördeki koda bakın. Bu şekilde görünüyor:\r\n",
    "\r\n",
    "```python\r\n",
    "multiline = '''Line #1\r\n",
    "Line #2'''\r\n",
    "\r\n",
    "print(len(multiline))\r\n",
    "```\r\n",
    "\r\n",
    "Gördüğünüz gibi, dize üç tırnak işareti ile başlıyor, tek tırnak yerine. Aynı üçlü tırnak işareti ile bitiriliyor.\r\n",
    "\r\n",
    "Bu tür bir dize içine herhangi bir sayıda metin satırı koyabilirsiniz.\r\n",
    "\r\n",
    "Kod parçası 15 çıktısını verir.\r\n",
    "\r\n",
    "Karakterleri dikkatlice sayın. Bu sonuç doğru mu? İlk bakışta doğru görünüyor, ancak karakterleri saydığınızda öyle değil.\r\n",
    "\r\n",
    "Satır #1 yedi karakter içerir. İki böyle satır 14 karakter oluşturur. Bir karakter mi kaybettik? Nerede? Nasıl?\r\n",
    "\r\n",
    "Hayır, kaybetmedik.\r\n",
    "\r\n",
    "Eksik karakter basitçe görünmez - bir boşluk karakteri. İki metin satırı arasında yer alır.\r\n",
    "\r\n",
    "Şu şekilde gösterilir: `\\n`.\r\n",
    "\r\n",
    "Hatırladınız mı? Bu, satır sonu (adından da anlaşılacağı gibi: LF) zorlamak için kullanılan özel (kontrol) karakteridir. Göremezsiniz, ancak sayılır.\r\n",
    "\r\n",
    "Çok satırlı dizeler, üçlü tırnak işareti ile de sınırlandırılabilir, işte böyle:\r\n",
    "\r\n",
    "```python\r\n",
    "multiline = \"\"\"Line #1\r\n",
    "Line #2\"\"\"\r\n",
    "\r\n",
    "print(len(multiline))\r\n",
    "```\r\n",
    "\r\n",
    "Sizin için daha rahat olan yöntemi seçin. Her ikisi de aynı şekilde çalışır."
   ]
  },
  {
   "cell_type": "code",
   "execution_count": 3,
   "id": "e01d072f-b664-4d5e-8077-cf8ef77699b9",
   "metadata": {},
   "outputs": [
    {
     "name": "stdout",
     "output_type": "stream",
     "text": [
      "15\n"
     ]
    }
   ],
   "source": [
    "multiline = '''Line #1\n",
    "Line #2'''\n",
    "\n",
    "print(len(multiline))"
   ]
  },
  {
   "cell_type": "markdown",
   "id": "c469eb9d-f8ee-46c1-81c7-f679153be79d",
   "metadata": {},
   "source": [
    "### Dizeler Üzerinde İşlemler\r\n",
    "\r\n",
    "Diğer veri türleri gibi, dizelerin de kendine özgü izin verilen işlemleri vardır, ancak bunlar sayılara kıyasla biraz sınırlıdır.\r\n",
    "\r\n",
    "Genel olarak, dizeler şunları yapabilir:\r\n",
    "\r\n",
    "- Birleştirilebilir (concatenate)\r\n",
    "- Çoğaltılabilir (replicate)\r\n",
    "\r\n",
    "İlk işlem `+` operatörü ile gerçekleştirilir (not: bu bir toplama işlemi değildir) ve ikincisi `*` operatörü ile gerçekleştirilir (tekrar not: bu bir çarpma işlemi değildir).\r\n",
    "\r\n",
    "Aynı operatörün tamamen farklı veri türlerine (sayılara ve dizelere) karşı kullanılabilmesi yeteneğine aşırı yükleme (overloading) denir (çünkü operatör farklı görevlerle aşırı yüklenmiştir).\r\n",
    "\r\n",
    "Örneği göz önünde bulundurun:\r\n",
    "\r\n",
    "- `+` operatörü iki veya daha fazla dize ile kullanıldığında, argümanlarının tüm karakterlerini içeren yeni bir dize üretir (not: sıra önemlidir - bu aşırı yüklenmiş `+`, sayısal versiyonun aksine, değiştirilebilir (commutative) değildir).\r\n",
    "- `*` operatörü bir dize ve bir sayı gerektirir; bu durumda sıra önemli değildir - sayıyı dizeden önce veya sonra koyabilirsiniz ve sonuç aynı olacaktır: argümanın dizisini `n` kez çoğaltarak oluşturulan b\r\n",
    "ba\r\n",
    "aaaaa\r\n",
    "bbbb\r\n",
    "```\r\n",
    "\r\n",
    "Not: Bu operatörlerin kısayol versiyonları da dizeler için geçerlidir (`+=` ve `*=`)."
   ]
  },
  {
   "cell_type": "code",
   "execution_count": 4,
   "id": "28395830-24ee-4c48-b605-17381d8c9e10",
   "metadata": {},
   "outputs": [
    {
     "name": "stdout",
     "output_type": "stream",
     "text": [
      "ab\n",
      "ba\n",
      "aaaaa\n",
      "bbbb\n"
     ]
    }
   ],
   "source": [
    "str1 = 'a'\n",
    "str2 = 'b'\n",
    "\n",
    "print(str1 + str2)\n",
    "print(str2 + str1)\n",
    "print(5 * 'a')\n",
    "print('b' * 4)"
   ]
  },
  {
   "cell_type": "markdown",
   "id": "4b682427-b2ee-4b7a-8742-240e7aa2928d",
   "metadata": {},
   "source": [
    "## Dizeler Üzerinde İşlemler: ord()\r\n",
    "\r\n",
    "Belirli bir karakterin ASCII/UNICODE kod noktası değerini öğrenmek istiyorsanız, `ord()` adlı bir fonksiyonu kullanabilirsiniz (ordinal kelimesinden türetilmiştir).\r\n",
    "\r\n",
    "Bu fonksiyon, tek karakterlik bir dizeyi argüman olarak alır. Bu gereksinimi ihlal etmek bir `TypeError` istisnasına neden olur ve fonksiyon, argümanın kod noktası değerini temsil eden bir sayı döndürür.\r\n",
    "\r\n",
    "Editördeki kodu inceleyin ve çalıştırın. Kod parçası şu çıktıyı üretir:\r\n",
    "\r\n",
    "```python\r\n",
    "97\r\n",
    "32\r\n",
    "```\r\n",
    "\r\n",
    "Şimdi, `char_1` ve `char_2`'ye farklı değerler atayın, örneğin `α` (Yunan alfası) ve `ę` (Polonya alfabesinde bir harf); ardından kodu tekrar çalıştırın ve çıkan sonucu görün. Kendi deneylerinizi yapmaktan çekinmeyin."
   ]
  },
  {
   "cell_type": "code",
   "execution_count": 7,
   "id": "627fa9df-7d8f-4575-87d8-9aa8b635ea34",
   "metadata": {},
   "outputs": [
    {
     "name": "stdout",
     "output_type": "stream",
     "text": [
      "97\n",
      "32\n"
     ]
    }
   ],
   "source": [
    "# Demonstrating the ord() function.\n",
    "\n",
    "char_1 = 'a'\n",
    "char_2 = ' '  # space\n",
    "\n",
    "print(ord(char_1))\n",
    "print(ord(char_2))"
   ]
  },
  {
   "cell_type": "markdown",
   "id": "40c227c6-f759-4e78-8019-57cd84184512",
   "metadata": {},
   "source": [
    "### Dizeler Üzerinde İşlemler: chr()\n",
    "\n",
    "Kod noktasını (sayıyı) biliyorsanız ve karşılık gelen karakteri elde etmek istiyorsanız, `chr()` adlı bir fonksiyonu kullanabilirsiniz.\n",
    "\n",
    "Bu fonksiyon bir kod noktasını argüman olarak alır ve ilgili karakteri döndürür.\n",
    "\n",
    "Geçersiz bir argüman (örneğin, negatif bir sayı veya geçersiz bir kod noktası) kullanmak, `ValueError` veya `TypeError` istisnalarına neden olur.\n",
    "\n",
    "Editördeki kodu çalıştırın. Örnek kod parçacığı şu çıktıyı üretir:\n",
    "\n",
    "```python\n",
    "a\n",
    "α\n",
    "```\n",
    "\n",
    "Not:\n",
    "\n",
    "```python\n",
    "chr(ord(x)) == x\n",
    "ord(chr(x)) == x\n",
    "```\n",
    "\n",
    "Kendi deneylerinizi yapmaktan çekinmeyin."
   ]
  },
  {
   "cell_type": "code",
   "execution_count": 8,
   "id": "6a6469c6-41e0-43ce-8940-e490d1f208d9",
   "metadata": {},
   "outputs": [
    {
     "name": "stdout",
     "output_type": "stream",
     "text": [
      "a\n",
      "α\n"
     ]
    }
   ],
   "source": [
    "# Demonstrating the chr() function.\n",
    "\n",
    "print(chr(97))\n",
    "print(chr(945))"
   ]
  },
  {
   "cell_type": "markdown",
   "id": "31c307dc-8e3e-44a3-a053-891e6451252c",
   "metadata": {},
   "source": [
    "## Dizeler Olarak Sıralar: İndeksleme\n",
    "\n",
    "Daha önce Python dizelerinin sıralar olduğunu söylemiştik. Şimdi bunun aslında ne anlama geldiğini göstereceğiz.\n",
    "\n",
    "Dizeler liste değildir, ancak birçok durumda onları listeler gibi ele alabilirsiniz.\n",
    "\n",
    "Örneğin, bir dizenin herhangi bir karakterine erişmek isterseniz, indeksleme kullanarak bunu yapabilirsiniz. Aşağıdaki örnekte olduğu gibi. Programı çalıştırın:\n",
    "\n",
    "Dizenin sınırlarını aşmamaya dikkat edin - bu bir istisnaya neden olur."
   ]
  },
  {
   "cell_type": "code",
   "execution_count": 9,
   "id": "111ca6f5-0268-4faf-a7cc-d7c9229b9a97",
   "metadata": {},
   "outputs": [
    {
     "name": "stdout",
     "output_type": "stream",
     "text": [
      "s i l l y   w a l k s \n"
     ]
    }
   ],
   "source": [
    "# Indexing strings.\n",
    "\n",
    "the_string = 'silly walks'\n",
    "\n",
    "for ix in range(len(the_string)):\n",
    "    print(the_string[ix], end=' ')\n",
    "\n",
    "print()"
   ]
  },
  {
   "cell_type": "markdown",
   "id": "a927ed9b-502a-4197-b652-1a3d087e3e97",
   "metadata": {},
   "source": [
    "Bu arada, negatif indeksler de beklenildiği gibi çalışır. Bunu kendiniz kontrol edin.\n",
    "\n",
    "Dizeler Olarak Sıralar: Yineleme\n",
    "\n",
    "Dizeler arasında yineleme de çalışır. Aşağıdaki örneğe bakın:"
   ]
  },
  {
   "cell_type": "code",
   "execution_count": 10,
   "id": "bcc60af5-40c8-42d8-891e-e513138b726b",
   "metadata": {},
   "outputs": [
    {
     "name": "stdout",
     "output_type": "stream",
     "text": [
      "s i l l y   w a l k s \n"
     ]
    }
   ],
   "source": [
    "# Iterating through a string.\n",
    "\n",
    "the_string = 'silly walks'\n",
    "\n",
    "for character in the_string:\n",
    "    print(character, end=' ')\n",
    "\n",
    "print()"
   ]
  },
  {
   "cell_type": "markdown",
   "id": "643bf730-4baf-4cdc-9be1-45ac2f101948",
   "metadata": {},
   "source": [
    "## Dilimler\n",
    "\n",
    "Ayrıca dilimler hakkında bildiğiniz her şey hâlâ uygulanabilir.\n",
    "\n",
    "Dilimlerin dizelerle nasıl çalıştığını göstermek için bazı örnekler verdik. Kodu düzenleyicide inceleyin, analiz edin ve çalıştırın.\n",
    "\n",
    "Örnekte yeni bir şey göremeyebilirsiniz ancak kodun her satırını açıklayabilmeniz önemlidir."
   ]
  },
  {
   "cell_type": "code",
   "execution_count": 11,
   "id": "f597b29d-6c8e-47e7-9300-bae17b32e13b",
   "metadata": {},
   "outputs": [
    {
     "name": "stdout",
     "output_type": "stream",
     "text": [
      "bd\n",
      "efg\n",
      "abd\n",
      "e\n",
      "e\n",
      "adf\n",
      "beg\n"
     ]
    }
   ],
   "source": [
    "# Slices\n",
    "\n",
    "alpha = \"abdefg\"\n",
    "\n",
    "print(alpha[1:3])\n",
    "print(alpha[3:])\n",
    "print(alpha[:3])\n",
    "print(alpha[3:-2])\n",
    "print(alpha[-3:4])\n",
    "print(alpha[::2])\n",
    "print(alpha[1::2])"
   ]
  },
  {
   "cell_type": "markdown",
   "id": "12a7c598-5b0a-430a-a943-2620c1a6e996",
   "metadata": {},
   "source": [
    "## `in` ve `not in` Operatörleri\r\n",
    "\r\n",
    "**`in` Operatörü**\r\n",
    "\r\n",
    "`in` operatörü, dizelerde kullanıldığında sizi şaşırtmamalıdır—bu operatör, sol argümanının (bir dize) sağ argümanının (başka bir dize) herhangi bir yerinde bulunup bulunmadığını kontrol eder.\r\n",
    "\r\n",
    "Bu kontrolün sonucu basitçe `True` veya `False` olur.\r\n",
    "\r\n",
    "Aşağıdaki örnek programı inceleyin. Bu, `in` operatörünün nasıl çalıştığını gekildedir:\r\n",
    "\r\n",
    "```\r\n",
    "False\r\n",
    "True\r\n",
    "True\r\n",
    "False\r\n",
    "True\r\n",
    "```"
   ]
  },
  {
   "cell_type": "code",
   "execution_count": 12,
   "id": "b50e14ff-bad7-490c-b1ea-5a2dc5c9ccbe",
   "metadata": {},
   "outputs": [
    {
     "name": "stdout",
     "output_type": "stream",
     "text": [
      "True\n",
      "False\n",
      "False\n",
      "True\n",
      "False\n"
     ]
    }
   ],
   "source": [
    "alphabet = \"abcdefghijklmnopqrstuvwxyz\"\n",
    "\n",
    "print(\"f\" in alphabet)\n",
    "print(\"F\" in alphabet)\n",
    "print(\"1\" in alphabet)\n",
    "print(\"ghi\" in alphabet)\n",
    "print(\"Xyz\" in alphabet)"
   ]
  },
  {
   "cell_type": "markdown",
   "id": "44c75171-578e-48bf-9e67-1a49a3b1ff80",
   "metadata": {},
   "source": [
    "**`not in` Operatörü**\n",
    "\n",
    "Muhtemelen tahmin ettiğiniz gibi, `not in` operatörü de burada uygulanabilir.\n",
    "\n",
    "İşte nasıl çalıştığı:"
   ]
  },
  {
   "cell_type": "code",
   "execution_count": 13,
   "id": "affbee5d-232f-4da3-9eda-4ae7d5371c4d",
   "metadata": {},
   "outputs": [
    {
     "name": "stdout",
     "output_type": "stream",
     "text": [
      "False\n",
      "True\n",
      "True\n",
      "False\n",
      "True\n"
     ]
    }
   ],
   "source": [
    "alphabet = \"abcdefghijklmnopqrstuvwxyz\"\n",
    "\n",
    "print(\"f\" not in alphabet)\n",
    "print(\"F\" not in alphabet)\n",
    "print(\"1\" not in alphabet)\n",
    "print(\"ghi\" not in alphabet)\n",
    "print(\"Xyz\" not in alphabet)"
   ]
  },
  {
   "cell_type": "markdown",
   "id": "0f9c1a6c-2e7f-4bc5-89dc-4f91e1016a55",
   "metadata": {},
   "source": [
    "## Python Karakter Dizeleri Değişmezdir\n",
    "\n",
    "Daha önce belirttiğimiz gibi, Python dizeleri değişmezdir. Bu çok önemli bir özelliktir. Peki bu ne anlama gelir?\n",
    "\n",
    "Öncelikle, dizelerin ve listelerin benzerliği sınırlıdır. Bir listeyle yapabileceğiniz her şeyi bir dizeyle yapamazsınız.\n",
    "\n",
    "İlk önemli fark, bir dizeden bir şeyi kaldırmak için del komutunu kullanmanıza izin vermemesidir.\n",
    "\n",
    "Örneğin, bu kod çalışmaz:"
   ]
  },
  {
   "cell_type": "code",
   "execution_count": 14,
   "id": "df895292-b075-4c90-ad9c-f116c6db07a7",
   "metadata": {},
   "outputs": [
    {
     "ename": "TypeError",
     "evalue": "'str' object doesn't support item deletion",
     "output_type": "error",
     "traceback": [
      "\u001b[1;31m---------------------------------------------------------------------------\u001b[0m",
      "\u001b[1;31mTypeError\u001b[0m                                 Traceback (most recent call last)",
      "Cell \u001b[1;32mIn[14], line 2\u001b[0m\n\u001b[0;32m      1\u001b[0m alphabet \u001b[38;5;241m=\u001b[39m \u001b[38;5;124m\"\u001b[39m\u001b[38;5;124mabcdefghijklmnopqrstuvwxyz\u001b[39m\u001b[38;5;124m\"\u001b[39m\n\u001b[1;32m----> 2\u001b[0m \u001b[38;5;28;01mdel\u001b[39;00m alphabet[\u001b[38;5;241m0\u001b[39m]\n",
      "\u001b[1;31mTypeError\u001b[0m: 'str' object doesn't support item deletion"
     ]
    }
   ],
   "source": [
    "alphabet = \"abcdefghijklmnopqrstuvwxyz\"\n",
    "del alphabet[0]"
   ]
  },
  {
   "cell_type": "markdown",
   "id": "d1043b9c-121d-4ff4-8616-74cae85a38a7",
   "metadata": {},
   "source": [
    "`del` ve bir dize ile yapabileceğiniz tek şey, dizenin tamamını kaldırmaktır. Bunu dene.\n",
    "\n",
    "Python dizelerinin append() yöntemi yoktur—onları herhangi bir şekilde genişletemezsiniz.\n",
    "\n",
    "Aşağıdaki örnek hatalıdır:"
   ]
  },
  {
   "cell_type": "code",
   "execution_count": 15,
   "id": "631f0744-a67e-442d-8428-c9d28a73e6ee",
   "metadata": {},
   "outputs": [
    {
     "ename": "AttributeError",
     "evalue": "'str' object has no attribute 'append'",
     "output_type": "error",
     "traceback": [
      "\u001b[1;31m---------------------------------------------------------------------------\u001b[0m",
      "\u001b[1;31mAttributeError\u001b[0m                            Traceback (most recent call last)",
      "Cell \u001b[1;32mIn[15], line 2\u001b[0m\n\u001b[0;32m      1\u001b[0m alphabet \u001b[38;5;241m=\u001b[39m \u001b[38;5;124m\"\u001b[39m\u001b[38;5;124mabcdefghijklmnopqrstuvwxyz\u001b[39m\u001b[38;5;124m\"\u001b[39m\n\u001b[1;32m----> 2\u001b[0m alphabet\u001b[38;5;241m.\u001b[39mappend(\u001b[38;5;124m\"\u001b[39m\u001b[38;5;124mA\u001b[39m\u001b[38;5;124m\"\u001b[39m)\n",
      "\u001b[1;31mAttributeError\u001b[0m: 'str' object has no attribute 'append'"
     ]
    }
   ],
   "source": [
    "alphabet = \"abcdefghijklmnopqrstuvwxyz\"\n",
    "alphabet.append(\"A\")"
   ]
  },
  {
   "cell_type": "markdown",
   "id": "b05d612f-3ebd-49f0-81a0-b094bd3bce37",
   "metadata": {},
   "source": [
    "Aynı şekilde, append() yönteminin olmaması nedeniyle, insert() yöntemi de geçersizdir:"
   ]
  },
  {
   "cell_type": "code",
   "execution_count": 16,
   "id": "64add0d4-e5f9-42fd-9fdf-d3fd61228107",
   "metadata": {},
   "outputs": [
    {
     "ename": "AttributeError",
     "evalue": "'str' object has no attribute 'insert'",
     "output_type": "error",
     "traceback": [
      "\u001b[1;31m---------------------------------------------------------------------------\u001b[0m",
      "\u001b[1;31mAttributeError\u001b[0m                            Traceback (most recent call last)",
      "Cell \u001b[1;32mIn[16], line 2\u001b[0m\n\u001b[0;32m      1\u001b[0m alphabet \u001b[38;5;241m=\u001b[39m \u001b[38;5;124m\"\u001b[39m\u001b[38;5;124mabcdefghijklmnopqrstuvwxyz\u001b[39m\u001b[38;5;124m\"\u001b[39m\n\u001b[1;32m----> 2\u001b[0m alphabet\u001b[38;5;241m.\u001b[39minsert(\u001b[38;5;241m0\u001b[39m, \u001b[38;5;124m\"\u001b[39m\u001b[38;5;124mA\u001b[39m\u001b[38;5;124m\"\u001b[39m)\n",
      "\u001b[1;31mAttributeError\u001b[0m: 'str' object has no attribute 'insert'"
     ]
    }
   ],
   "source": [
    "alphabet = \"abcdefghijklmnopqrstuvwxyz\"\n",
    "alphabet.insert(0, \"A\")"
   ]
  },
  {
   "cell_type": "markdown",
   "id": "59267b2a-2787-4b92-b5c0-62ee08739d6b",
   "metadata": {},
   "source": [
    "Bir dizenin değişmezliğinin dizelerle çalışma yeteneğinizi sınırladığını düşünmeyin.\n",
    "\n",
    "Bunun tek sonucu, bunu hatırlamanız ve kodunuzu biraz farklı bir şekilde uygulamanız gerektiğidir; düzenleyicideki örnek koda bakın.\n",
    "\n",
    "Bu kod biçimi tamamen kabul edilebilirdir, Python'un kurallarını değiştirmeden çalışır ve Latin alfabesinin tamamını ekranınıza getirir:\n",
    "\n",
    "İçeriğini her değiştirdiğinizde bir dizenin yeni bir kopyasını oluşturmanın kodun etkinliğini kötüleştirip kötüleştirmediğini sormak isteyebilirsiniz.\n",
    "\n",
    "Evet öyle. Biraz. Ancak bu hiç de sorun değil."
   ]
  },
  {
   "cell_type": "code",
   "execution_count": 17,
   "id": "ae9f5d2a-03b3-4eab-852b-43b675613011",
   "metadata": {},
   "outputs": [
    {
     "name": "stdout",
     "output_type": "stream",
     "text": [
      "abcdefghijklmnopqrstuvwxyz\n"
     ]
    }
   ],
   "source": [
    "alphabet = \"bcdefghijklmnopqrstuvwxy\"\n",
    "\n",
    "alphabet = \"a\" + alphabet\n",
    "alphabet = alphabet + \"z\"\n",
    "\n",
    "print(alphabet)\n"
   ]
  },
  {
   "cell_type": "markdown",
   "id": "dc99d214-00cf-46dc-91c6-ab30b3a72d2a",
   "metadata": {},
   "source": [
    "## Dizeler Üzerinde İşlemler: `min()`\n",
    "\n",
    "Dizelerin sıralar olduğunu anladığınıza göre, bazı daha az belirgin sıra yeteneklerini gösterebiliriz. Bunları dizeler kullanarak göstereceğiz, ancak unutmayın ki listeler de aynı teknikleri kullanabilir.\n",
    "\n",
    "Bir `min()` adlı fonksiyonla başlayalım.\n",
    "\n",
    "`min()` fonksiyonu, argüman olarak verilen sıradaki en küçük öğeyi bulur. Bir şart vardır - sıra (dize, liste, vb.) boş olamaz, aksi takdirde bir `ValueError` istisnası alırsınız.\n",
    "\n",
    "1. Örnekteki program şu çıktıyı verir:"
   ]
  },
  {
   "cell_type": "code",
   "execution_count": 19,
   "id": "bdb754a0-fe1a-4e72-9371-942de15b3648",
   "metadata": {},
   "outputs": [
    {
     "name": "stdout",
     "output_type": "stream",
     "text": [
      "A\n",
      "[ ]\n",
      "0\n"
     ]
    }
   ],
   "source": [
    "# Demonstrating min() - Example 1:\n",
    "print(min(\"aAbByYzZ\"))\n",
    "\n",
    "\n",
    "# Demonstrating min() - Examples 2 & 3:\n",
    "t = 'The Knights Who Say \"Ni!\"'\n",
    "print('[' + min(t) + ']')\n",
    "\n",
    "t = [0, 1, 2]\n",
    "print(min(t))"
   ]
  },
  {
   "cell_type": "markdown",
   "id": "c19495ba-c42c-4b93-8c97-927af2d2a019",
   "metadata": {},
   "source": [
    "Not: Büyük harf 'A'dır. Neden? ASCII tablosunu hatırlayın; hangi harfler önce gelir, büyük harf mi yoksa küçük harf mi?\r\n",
    "\r\n",
    "Analiz etmek için iki örnek daha hazırladık: Örnek 2 ve 3.\r\n",
    "\r\n",
    "Gördüğünüz gibi dizelerden daha fazlasını gösteriyorlar. Beklenen çıktı:\r\n",
    "\r\n",
    "Not: Alanın ekranınızda görünmesini sağlamak için köşeli parantez kullandık."
   ]
  },
  {
   "cell_type": "markdown",
   "id": "83fff706-1821-4f74-839f-b63e89a4821f",
   "metadata": {},
   "source": [
    "## Dizeler üzerindeki işlemler: max()\n",
    "Benzer şekilde, max() adlı bir işlev dizinin maksimum öğesini bulur.\n",
    "\n",
    "Editördeki Örnek 1'e bakın. Örnek program çıktısı:"
   ]
  },
  {
   "cell_type": "code",
   "execution_count": 20,
   "id": "940d7d80-5b08-42bb-8256-519f7320b178",
   "metadata": {},
   "outputs": [
    {
     "name": "stdout",
     "output_type": "stream",
     "text": [
      "z\n",
      "[y]\n",
      "2\n"
     ]
    }
   ],
   "source": [
    "# Demonstrating max() - Example 1:\n",
    "print(max(\"aAbByYzZ\"))\n",
    "\n",
    "\n",
    "# Demonstrating max() - Examples 2 & 3:\n",
    "t = 'The Knights Who Say \"Ni!\"'\n",
    "print('[' + max(t) + ']')\n",
    "\n",
    "t = [0, 1, 2]\n",
    "print(max(t))\n"
   ]
  },
  {
   "cell_type": "markdown",
   "id": "e2ae00be-6d30-4a9b-88d0-22a2d3ff720d",
   "metadata": {},
   "source": [
    "Not: Küçük harf z'dir.\n",
    "\n",
    "Şimdi max() fonksiyonunun daha önce olduğu gibi aynı verilere uygulandığını görelim. Editördeki Örnek 2 ve 3'e bakın."
   ]
  },
  {
   "cell_type": "markdown",
   "id": "ef02a64f-85ae-44d7-b905-083b9e2af3fb",
   "metadata": {},
   "source": [
    "## Dizeler üzerindeki işlemler: index() metodu\n",
    "index() yöntemi (bu bir metot, bir fonksiyon değil), bağımsız değişkeninde belirtilen değerin ilk öğesini bulmak için diziyi baştan arar.\n",
    "\n",
    "Not: Aranan öğenin dizide bulunması gerekir; yokluğu bir ValueError istisnasına neden olur.\n",
    "\n",
    "Yöntem, argümanın ilk geçtiği yerin indeksini döndürür (bu, mümkün olan en düşük sonucun 0 olduğu, en yüksek sonucun ise 1 azaltılmış argüman uzunluğu olduğu anlamına gelir).\n",
    "\n",
    "Bu nedenle, editördeki örnek şunu verir:"
   ]
  },
  {
   "cell_type": "code",
   "execution_count": 22,
   "id": "91d8bb88-8d6e-4543-9426-51b8efecb2f5",
   "metadata": {},
   "outputs": [
    {
     "name": "stdout",
     "output_type": "stream",
     "text": [
      "2\n",
      "7\n",
      "1\n"
     ]
    }
   ],
   "source": [
    "# Demonstrating the index() method:\n",
    "print(\"aAbByYzZaA\".index(\"b\"))\n",
    "print(\"aAbByYzZaA\".index(\"Z\"))\n",
    "print(\"aAbByYzZaA\".index(\"A\"))"
   ]
  },
  {
   "cell_type": "markdown",
   "id": "7d4b4c1d-8a8a-42db-9af5-78878ece7856",
   "metadata": {},
   "source": [
    "## Dizeler üzerindeki işlemler: list() işlevi\n",
    "list() işlevi argümanını (bir dize) alır ve liste öğesi başına bir tane olmak üzere dizenin tüm karakterlerini içeren yeni bir liste oluşturur.\n",
    "\n",
    "Not: Bu kesinlikle bir dize işlevi değildir - list() diğer birçok varlıktan (örneğin, tuple'lardan ve sözlüklerden) yeni bir liste oluşturabilir.\n",
    "\n",
    "Düzenleyicideki kod örneğine bir göz atın."
   ]
  },
  {
   "cell_type": "code",
   "execution_count": 23,
   "id": "5226a16e-aed2-495d-bf4a-ce1970cf8634",
   "metadata": {},
   "outputs": [
    {
     "name": "stdout",
     "output_type": "stream",
     "text": [
      "['a', 'b', 'c', 'a', 'b', 'c']\n"
     ]
    }
   ],
   "source": [
    "# Demonstrating the list() function:\n",
    "print(list(\"abcabc\"))"
   ]
  },
  {
   "cell_type": "markdown",
   "id": "8fd790ff-cdc5-4969-906d-2ee4d9021094",
   "metadata": {},
   "source": [
    "## Dizeler üzerindeki işlemler: count() yöntemi\n",
    "Count() yöntemi, öğenin dizi içindeki tüm oluşumlarını sayar. Bu tür unsurların bulunmaması herhangi bir soruna neden olmaz.\n",
    "\n",
    "Editördeki ikinci örneğe bakın. Çıktısını tahmin edebilir misiniz?"
   ]
  },
  {
   "cell_type": "code",
   "execution_count": 24,
   "id": "e80759dd-453f-48ee-b979-5fae8786fc7d",
   "metadata": {},
   "outputs": [
    {
     "name": "stdout",
     "output_type": "stream",
     "text": [
      "2\n",
      "0\n"
     ]
    }
   ],
   "source": [
    "# Demonstrating the count() method:\n",
    "print(\"abcabc\".count(\"b\"))\n",
    "print('abcabc'.count(\"d\"))"
   ]
  },
  {
   "cell_type": "markdown",
   "id": "21dee756-4c75-4d8d-bd77-9d466bc2a517",
   "metadata": {},
   "source": [
    "Dahası, Python dizeleri, yalnızca karakterleri işlemeye yönelik önemli sayıda yönteme sahiptir. Başka koleksiyonlarla çalışmalarını beklemeyin. Tam listesi burada sunulmaktadır: https://docs.python.org/3.4/library/stdtypes.html#string-methods.\n",
    "\n",
    "Size en yararlı olduğunu düşündüklerimizi göstereceğiz."
   ]
  },
  {
   "cell_type": "code",
   "execution_count": null,
   "id": "eb0059a5-f282-4ed5-9290-df3fc392d37c",
   "metadata": {},
   "outputs": [],
   "source": []
  }
 ],
 "metadata": {
  "kernelspec": {
   "display_name": "Python 3 (ipykernel)",
   "language": "python",
   "name": "python3"
  },
  "language_info": {
   "codemirror_mode": {
    "name": "ipython",
    "version": 3
   },
   "file_extension": ".py",
   "mimetype": "text/x-python",
   "name": "python",
   "nbconvert_exporter": "python",
   "pygments_lexer": "ipython3",
   "version": "3.11.7"
  }
 },
 "nbformat": 4,
 "nbformat_minor": 5
}
