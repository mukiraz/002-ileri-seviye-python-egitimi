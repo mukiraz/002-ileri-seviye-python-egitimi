{
 "cells": [
  {
   "cell_type": "markdown",
   "id": "c6e413a5-6144-4f04-8422-3d4f28509c66",
   "metadata": {},
   "source": [
    "## `capitalize()` Metodu\n",
    "\n",
    "Bazı standart Python dize metodlarını keşfedelim ve alfabetik sırayla başlayalım. Bu sırayı rastgele seçtik çünkü her sıranın avantajları ve dezavantajları vardır.\n",
    "\n",
    "`capitalize()` metodu, adının tam olarak söylediği şeyi yapar—kaynak diziden karakterler alarak yeni bir dize oluşturur ve onu şu şekilde değiştirir:\n",
    "\n",
    "- Eğer dizenin ilk karakteri bir harfse (not: ilk karakter, 0'a eşit bir indekse sahip olan elemandır, sadece ilk görünen karakter değil), büyük harfe dönüştürülür.\n",
    "- Dizedeki kalan tüm harfler küçük harfe dönüştürülür.\n",
    "\n",
    "Unutmayın ki:\n",
    "\n",
    "- Orijinal dize (metodun çağrıldığı dize) hiçbir şekilde değişmez (dizelerin değişmezliği kayıtsız şartsız gözetilmelidir).\n",
    "- Değiştirilen (bu durumda büyük harfe dönüştürülen) dize sonuç olarak döndürülür. Eğer bunu herhangi bir şekilde kullanmazsanız (bir değişkene atayarak veya bir fonksiyon/metoda geçirerek) iz bırakmadan kaybolur.\n",
    "\n",
    "Not: Metodlar sadece değişkenlerden çağrılmak zorunda değildir. Doğrudan dize literallerinden de çağrılabilirler. Bu metodu düzenli olarak kullanacağız çünkü örnekleri basitleştirecek ve en önemli noktalar gereksiz atamalar arasında kaybolmayacak."
   ]
  },
  {
   "cell_type": "code",
   "execution_count": 31,
   "id": "ef8e4ceb-abe7-4817-8940-f8052d657927",
   "metadata": {},
   "outputs": [
    {
     "name": "stdout",
     "output_type": "stream",
     "text": [
      "Alpha\n",
      "Alpha\n",
      " alpha\n",
      "123\n",
      "Αβγδ\n"
     ]
    }
   ],
   "source": [
    "print(\"Alpha\".capitalize())\n",
    "print('ALPHA'.capitalize())\n",
    "print(' Alpha'.capitalize())\n",
    "print('123'.capitalize())\n",
    "print(\"αβγδ\".capitalize())"
   ]
  },
  {
   "cell_type": "markdown",
   "id": "f7f73e2c-ac2c-4a44-9bab-b608d9046253",
   "metadata": {},
   "source": [
    "## `center()` Metodu\n",
    "\n",
    "`center()` metodunun tek parametreli versiyonu, orijinal dizenin bir kopyasını yapar ve bu kopyayı belirtilen genişlikte bir alanın ortasına yerleştirmeye çalışır.\n",
    "\n",
    "Ortalamak, dizenin önüne ve arkasına boşluklar ekleyerek gerçekleştirilir.\n",
    "\n",
    "Bu metodun herhangi bir karmaşık beceri sergilemesini beklemeyin; oldukça basittir.\n",
    "\n",
    "Editördeki örnek, ortalanmış dizenin nerede başladığını ve bittiğini net bir şekilde göstermek için köşeli parantezler kullanır."
   ]
  },
  {
   "cell_type": "code",
   "execution_count": 32,
   "id": "7c8422af-29e6-4cc1-bec4-9cd2fc1f0447",
   "metadata": {},
   "outputs": [
    {
     "name": "stdout",
     "output_type": "stream",
     "text": [
      "[  alpha   ]\n"
     ]
    }
   ],
   "source": [
    "# Demonstrating the center() method:\n",
    "print('[' + 'alpha'.center(10) + ']')"
   ]
  },
  {
   "cell_type": "markdown",
   "id": "9388fd2d-9082-411c-b83b-eac479171242",
   "metadata": {},
   "source": [
    "Eğer hedef alanın uzunluğu diziyi sığdırmak için çok küçükse, orijinal dize döndürülür.\n",
    "\n",
    "center() metodunun daha fazla örneğini burada görebilirsiniz:"
   ]
  },
  {
   "cell_type": "code",
   "execution_count": 33,
   "id": "f6e55a14-af65-422f-8b00-0ec756b4b29e",
   "metadata": {},
   "outputs": [
    {
     "name": "stdout",
     "output_type": "stream",
     "text": [
      "[Beta]\n",
      "[Beta]\n",
      "[ Beta ]\n"
     ]
    }
   ],
   "source": [
    "print('[' + 'Beta'.center(2) + ']')\n",
    "print('[' + 'Beta'.center(4) + ']')\n",
    "print('[' + 'Beta'.center(6) + ']')"
   ]
  },
  {
   "cell_type": "markdown",
   "id": "3f8926d8-5016-4370-9286-2ad86ee42eca",
   "metadata": {},
   "source": [
    "Yukarıdaki kod parçacıklarını çalıştırın ve ne çıktılar ürettiklerini kontrol edin.\n",
    "\n",
    "center() metodunun iki parametreli versiyonu, boşluk yerine ikinci argümandaki karakteri kullanır. Aşağıdaki örneği inceleyin:"
   ]
  },
  {
   "cell_type": "code",
   "execution_count": 34,
   "id": "4eee7b8d-85bc-4647-8334-8d09b9a34148",
   "metadata": {},
   "outputs": [
    {
     "name": "stdout",
     "output_type": "stream",
     "text": [
      "[*******gamma********]\n"
     ]
    }
   ],
   "source": [
    "print('[' + 'gamma'.center(20, '*') + ']')"
   ]
  },
  {
   "cell_type": "markdown",
   "id": "e3532f98-eace-42fe-9a5e-c9b769d295c2",
   "metadata": {},
   "source": [
    "## `find()` Metodu\n",
    "\n",
    "`find()` metodu, daha önce bildiğiniz `index()` metoduna benzer—bir alt dizeyi arar ve bu alt dizenin ilk oluşumunun indeksini döndürür. Ancak:\n",
    "\n",
    "- Daha güvenlidir—var olmayan bir alt dize için bir hata oluşturmaz (bunun yerine -1 döner).\n",
    "- Sadece dizelerle çalışır—başka türde sıralar üzerinde kullanmayı denemeyin.\n",
    "\n",
    "İşte nasıl kullanabileceğiniz:"
   ]
  },
  {
   "cell_type": "code",
   "execution_count": 35,
   "id": "eff52564-7956-498a-914d-92e63ceab809",
   "metadata": {},
   "outputs": [
    {
     "name": "stdout",
     "output_type": "stream",
     "text": [
      "1\n",
      "-1\n"
     ]
    }
   ],
   "source": [
    "# Demonstrating the find() method:\n",
    "print(\"Eta\".find(\"ta\"))\n",
    "print(\"Eta\".find(\"mma\"))"
   ]
  },
  {
   "cell_type": "markdown",
   "id": "d6bc3e80-455e-4dae-96ba-7984df06e20c",
   "metadata": {},
   "source": [
    "Not: Bir dize içinde yalnızca tek bir karakterin bulunup bulunmadığını kontrol etmek istiyorsanız find() işlevini kullanmayın; in operatörü çok daha hızlı olacaktır.\n",
    "\n",
    "İşte başka bir örnek:"
   ]
  },
  {
   "cell_type": "code",
   "execution_count": 36,
   "id": "e726f734-9dcc-4770-9d9f-7a0a5b0a4250",
   "metadata": {},
   "outputs": [
    {
     "name": "stdout",
     "output_type": "stream",
     "text": [
      "2\n",
      "2\n",
      "0\n",
      "-1\n"
     ]
    }
   ],
   "source": [
    "t = 'theta'\n",
    "print(t.find('eta'))\n",
    "print(t.find('et'))\n",
    "print(t.find('the'))\n",
    "print(t.find('ha'))"
   ]
  },
  {
   "cell_type": "markdown",
   "id": "2c6e567a-bd50-4a8a-85a2-1ed39bb03597",
   "metadata": {},
   "source": [
    "Bulmayı dizenin **başlangıcından** değil, **herhangi bir konumdan** gerçekleştirmek istiyorsanız, `find()` metodunun **iki parametreli bir değişkenini** kullanabilirsiniz. Örneğe bakınız:"
   ]
  },
  {
   "cell_type": "code",
   "execution_count": 37,
   "id": "4df161aa-9ccc-4f99-af17-b3106b184fb2",
   "metadata": {},
   "outputs": [
    {
     "name": "stdout",
     "output_type": "stream",
     "text": [
      "4\n"
     ]
    }
   ],
   "source": [
    "print('kappa'.find('a', 2))"
   ]
  },
  {
   "cell_type": "markdown",
   "id": "97763bb3-02a4-4bce-bd8e-0d77be30ee16",
   "metadata": {},
   "source": [
    "İkinci argüman **aramanın başlatılacağı dizini belirtir** (dizenin içine sığması gerekmez).\n",
    "\n",
    "İki a harfinden sadece ikincisi bulunacaktır. Snippet'i çalıştırın ve kontrol edin.\n",
    "\n",
    "\n",
    "Burada olduğu gibi, alt dizenin tüm oluşumlarını aramak için `find()` metodunu kullanabilirsiniz:"
   ]
  },
  {
   "cell_type": "code",
   "execution_count": 38,
   "id": "65bc79bd-fa4c-41f5-9758-423b18a27b91",
   "metadata": {},
   "outputs": [
    {
     "name": "stdout",
     "output_type": "stream",
     "text": [
      "15\n",
      "80\n",
      "198\n",
      "221\n",
      "238\n"
     ]
    }
   ],
   "source": [
    "the_text = \"\"\"A variation of the ordinary lorem ipsum\n",
    "text has been used in typesetting since the 1960s \n",
    "or earlier, when it was popularized by advertisements \n",
    "for Letraset transfer sheets. It was introduced to \n",
    "the Information Age in the mid-1980s by the Aldus Corporation, \n",
    "which employed it in graphics and word-processing templates\n",
    "for its desktop publishing program PageMaker (from Wikipedia)\"\"\"\n",
    "\n",
    "fnd = the_text.find('the')\n",
    "while fnd != -1:\n",
    "    print(fnd)\n",
    "    fnd = the_text.find('the', fnd + 1)"
   ]
  },
  {
   "cell_type": "markdown",
   "id": "b14fdccd-5695-41e9-8b42-46ced9947725",
   "metadata": {},
   "source": [
    "Ayrıca `find()` metodunun üç parametreli bir mutasyonu da vardır - üçüncü argüman **arama sırasında dikkate alınmayacak olan ilk dizine işaret eder** (bu aslında aramanın üst sınırıdır).\n",
    "\n",
    "Aşağıdaki örneğimize bakın:"
   ]
  },
  {
   "cell_type": "code",
   "execution_count": 39,
   "id": "bd712a22-d978-49ca-9291-b432c6900894",
   "metadata": {},
   "outputs": [
    {
     "name": "stdout",
     "output_type": "stream",
     "text": [
      "1\n",
      "-1\n"
     ]
    }
   ],
   "source": [
    "print('kappa'.find('a', 1, 4))\n",
    "print('kappa'.find('a', 2, 4))"
   ]
  },
  {
   "cell_type": "markdown",
   "id": "aedb56af-0015-44ab-a459-ae077b194a4f",
   "metadata": {},
   "source": [
    "İkinci argüman, aramanın başlatılacağı dizini belirtir (dizenin içine sığması gerekmez)."
   ]
  },
  {
   "cell_type": "markdown",
   "id": "7e28422a-05cf-4610-a87d-019916529364",
   "metadata": {},
   "source": [
    "## `isalnum()` Metodu\n",
    "\n",
    "Parametresiz olan `isalnum()` metodu, bir dizenin yalnızca rakamlar veya alfabetik karakterler (harfler) içerip içermediğini kontrol eder ve sonuca göre `True` veya `False` döndürür.\n",
    "\n",
    "Editördeki örneğe bakın ve çalıştırın.\n",
    "\n",
    "Not: Bir dizenin herhangi bir elemanı rakam veya harf değilse, metod `False` döner. Boş bir dize de `False` döner."
   ]
  },
  {
   "cell_type": "code",
   "execution_count": 40,
   "id": "f760ce91-189f-4cea-bad9-31d8f8bb758e",
   "metadata": {},
   "outputs": [
    {
     "name": "stdout",
     "output_type": "stream",
     "text": [
      "True\n",
      "True\n",
      "True\n",
      "False\n",
      "False\n",
      "False\n"
     ]
    }
   ],
   "source": [
    "# Demonstrating the isalnum() method:\n",
    "print('lambda30'.isalnum())\n",
    "print('lambda'.isalnum())\n",
    "print('30'.isalnum())\n",
    "print('@'.isalnum())\n",
    "print('lambda_30'.isalnum())\n",
    "print(''.isalnum())"
   ]
  },
  {
   "cell_type": "markdown",
   "id": "57aff2ab-df22-41e8-bfe1-ffe926d06216",
   "metadata": {},
   "source": [
    "Üç ilgi çekici örnek daha burada:"
   ]
  },
  {
   "cell_type": "code",
   "execution_count": 41,
   "id": "f3dd449c-7499-4944-a834-b85b92e0c44d",
   "metadata": {},
   "outputs": [
    {
     "name": "stdout",
     "output_type": "stream",
     "text": [
      "False\n",
      "True\n",
      "True\n"
     ]
    }
   ],
   "source": [
    "t = 'Six lambdas'\n",
    "print(t.isalnum())\n",
    "\n",
    "t = 'ΑβΓδ'\n",
    "print(t.isalnum())\n",
    "\n",
    "t = '20E1'\n",
    "print(t.isalnum())"
   ]
  },
  {
   "cell_type": "markdown",
   "id": "fe4eed06-f03a-42a1-a16e-930371994f85",
   "metadata": {},
   "source": [
    "## `isalpha()` metodu\n",
    "isalpha() metodu daha uzmanlaşmıştır; yalnızca harflerle ilgilenir.\n",
    "\n",
    "Örnek 1'e bakın - çıktısı:"
   ]
  },
  {
   "cell_type": "code",
   "execution_count": 42,
   "id": "44d96e47-dc2b-4b9e-a16d-52bfe829309b",
   "metadata": {},
   "outputs": [
    {
     "name": "stdout",
     "output_type": "stream",
     "text": [
      "True\n",
      "False\n"
     ]
    }
   ],
   "source": [
    "# Example 1: Demonstrating the isapha() method:\n",
    "print(\"Moooo\".isalpha())\n",
    "print('Mu40'.isalpha())"
   ]
  },
  {
   "cell_type": "markdown",
   "id": "165cf750-2178-427d-ab98-f1911916f329",
   "metadata": {},
   "source": [
    "## `isdigit()` metodu\n",
    "Buna karşılık, isdigit() metodu yalnızca rakamlara bakar; diğer her şey sonuç olarak False değerini üretir.\n",
    "\n",
    "Örnek 2'ye bakın - çıktısı:"
   ]
  },
  {
   "cell_type": "code",
   "execution_count": 43,
   "id": "2b8c08ed-e60a-44c0-85e6-f016fcb9c1c5",
   "metadata": {},
   "outputs": [
    {
     "name": "stdout",
     "output_type": "stream",
     "text": [
      "True\n",
      "False\n"
     ]
    }
   ],
   "source": [
    "# Example 2: Demonstrating the isdigit() method:\n",
    "print('2018'.isdigit())\n",
    "print(\"Year2019\".isdigit())"
   ]
  },
  {
   "cell_type": "markdown",
   "id": "124c90b8-ec99-4834-9af1-5c8ca1956467",
   "metadata": {},
   "source": [
    "## `islower()` metodu\n",
    "islower() metodu, isalpha() metodunun titiz bir çeşididir; yalnızca küçük harfleri kabul eder.\n",
    "\n",
    "Editördeki Örnek 1'e bakın; çıktısı:"
   ]
  },
  {
   "cell_type": "code",
   "execution_count": 44,
   "id": "2701a743-b0e8-4952-8809-33c289e5df96",
   "metadata": {},
   "outputs": [
    {
     "name": "stdout",
     "output_type": "stream",
     "text": [
      "False\n",
      "True\n"
     ]
    }
   ],
   "source": [
    "# Example 1: Demonstrating the islower() method:\n",
    "print(\"Moooo\".islower())\n",
    "print('moooo'.islower())"
   ]
  },
  {
   "cell_type": "markdown",
   "id": "de6a1e2a-1da7-4cee-984f-82b1f0764483",
   "metadata": {},
   "source": [
    "## `isspace()` metodu\n",
    "isspace() metodu yalnızca boşlukları tanımlar; diğer karakterleri dikkate almaz (bu durumda sonuç False olur).\n",
    "\n",
    "Editördeki Örnek 2'ye bakın – çıktı:"
   ]
  },
  {
   "cell_type": "code",
   "execution_count": 45,
   "id": "20a76b3d-f817-442e-a02c-723539e80025",
   "metadata": {},
   "outputs": [
    {
     "name": "stdout",
     "output_type": "stream",
     "text": [
      "True\n",
      "True\n",
      "False\n"
     ]
    }
   ],
   "source": [
    "# Example 2: Demonstrating the isspace() method:\n",
    "print(' \\n '.isspace())\n",
    "print(\" \".isspace())\n",
    "print(\"mooo mooo mooo\".isspace())"
   ]
  },
  {
   "cell_type": "markdown",
   "id": "2ddc6594-6837-423e-81b5-3f09e55bf59a",
   "metadata": {},
   "source": [
    "## `isupper()` metodu\n",
    "isupper() metodu, islower() metodunun büyük harf versiyonudur; yalnızca büyük harflere odaklanır.\n",
    "\n",
    "Tekrar editördeki koda bakın – Örnek 3 aşağıdaki çıktıyı üretir:"
   ]
  },
  {
   "cell_type": "code",
   "execution_count": 46,
   "id": "9f1d66ee-0d6e-4972-9cf2-1bcb5f85c5c2",
   "metadata": {},
   "outputs": [
    {
     "name": "stdout",
     "output_type": "stream",
     "text": [
      "False\n",
      "False\n",
      "True\n"
     ]
    }
   ],
   "source": [
    "# Example 3: Demonstrating the isupper() method:\n",
    "print(\"Moooo\".isupper())\n",
    "print('moooo'.isupper())\n",
    "print('MOOOO'.isupper())"
   ]
  },
  {
   "cell_type": "markdown",
   "id": "803c4bfd-9cb8-4385-b6e6-879643cd8ec2",
   "metadata": {},
   "source": [
    "## `join()` Metodu\n",
    "\n",
    "`join()` metodu biraz karmaşık olabilir, bu yüzden adım adım inceleyelim:\n",
    "\n",
    "- Adından da anlaşılacağı gibi, metod birleştirme işlemi yapar—bir argüman alır, bu argüman bir liste olmalıdır. Listedeki tüm öğelerin dize olduğundan emin olunmalıdır, aksi takdirde metod bir `TypeError` hatası verecektir.\n",
    "- Listenin tüm öğeleri tek bir dizeye birleştirilir, ancak...\n",
    "- Metodun çağrıldığı dize bir ayırıcı olarak kullanılır ve dizeler arasına yerleştirilir.\n",
    "- Sonuç olarak yeni oluşturulan dize döndürülür.\n",
    "\n",
    "Editördeki örneğe göz atın. Bunu analiz edelim:\n",
    "\n",
    "- `join()` metodu, içinde virgül bulunan bir dizeden çağrılmıştır (dize herhangi bir uzunlukta olabilir veya boş olabilir).\n",
    "- `join()` metodunun argümanı üç dize içeren bir listedir.\n",
    "- Metod, yeni bir dize döndürür."
   ]
  },
  {
   "cell_type": "code",
   "execution_count": 47,
   "id": "974dac9a-e901-47cb-bef0-925a66556700",
   "metadata": {},
   "outputs": [
    {
     "name": "stdout",
     "output_type": "stream",
     "text": [
      "omicron,pi,rho\n"
     ]
    }
   ],
   "source": [
    "# Demonstrating the join() method:\n",
    "print(\",\".join([\"omicron\", \"pi\", \"rho\"]))"
   ]
  },
  {
   "cell_type": "markdown",
   "id": "f4e30616-ba34-45b9-bc70-ebca3270eb33",
   "metadata": {},
   "source": [
    "## `lower()` metodu\n",
    "`lower()`metodui **kaynak dizenin bir kopyasını oluşturur, tüm büyük harfleri küçük harflerle değiştirir** ve sonuç olarak dizeyi döndürür. Yine kaynak dizeye dokunulmadan kalır.\n",
    "\n",
    "Dize herhangi bir büyük harf karakter içermiyorsa metod orijinal dizeyi döndürür.\n",
    "\n",
    "Not: `lower()`metodu herhangi bir parametre almaz.\n",
    "\n",
    "Editördeki örnek çıktıları:"
   ]
  },
  {
   "cell_type": "code",
   "execution_count": 48,
   "id": "df1e4aaa-075a-4486-8ed8-758c1f664652",
   "metadata": {},
   "outputs": [
    {
     "name": "stdout",
     "output_type": "stream",
     "text": [
      "sigma=60\n"
     ]
    }
   ],
   "source": [
    "# Demonstrating the lower() method:\n",
    "print(\"SiGmA=60\".lower())"
   ]
  },
  {
   "cell_type": "markdown",
   "id": "be02f7ab-5703-4244-92e5-edfd27319b43",
   "metadata": {},
   "source": [
    "## `lstrip()` Metodu\n",
    "Herhangi bir parametre içermeyen` lstrip(`) metodu, baştaki tüm boşluk karakterlerini kaldırarak orijinal dizeden oluşturulan yeni bir dize döndürür.\n",
    "\n",
    "Düzenleyicideki örnek kodu göz önünde bulundurun.\n",
    "\n",
    "Köşeli parantezler sonucun bir parçası değildir; yalnızca sonucun sınırlarını gösterirler."
   ]
  },
  {
   "cell_type": "code",
   "execution_count": 49,
   "id": "1dbce338-774a-4e47-8275-81b920746945",
   "metadata": {},
   "outputs": [
    {
     "name": "stdout",
     "output_type": "stream",
     "text": [
      "[tau ]\n"
     ]
    }
   ],
   "source": [
    "# Demonstrating the lstrip() method:\n",
    "print(\"[\" + \" tau \".lstrip() + \"]\")"
   ]
  },
  {
   "cell_type": "markdown",
   "id": "87a17517-26f5-4ab8-a3e7-2647cd0c19d4",
   "metadata": {},
   "source": [
    "Tek parametreli lstrip() metodu, parametresiz sürümüne benzer şekilde çalışır, ancak yalnızca boşluk karakterlerini değil, bağımsız değişkeninde (bir dize) belirtilen tüm karakterleri kaldırır:"
   ]
  },
  {
   "cell_type": "code",
   "execution_count": 50,
   "id": "410c43ef-1fff-4b89-822d-ec3ef0d4926a",
   "metadata": {},
   "outputs": [
    {
     "name": "stdout",
     "output_type": "stream",
     "text": [
      "cisco.com\n"
     ]
    }
   ],
   "source": [
    "print(\"www.cisco.com\".lstrip(\"w.\"))"
   ]
  },
  {
   "cell_type": "markdown",
   "id": "af1a717b-d477-46f8-8ebe-7ef5f154c3e4",
   "metadata": {},
   "source": [
    "## `replace()` Metodu\n",
    "İki parametreli `replace()`metodu, ilk argümanın tüm oluşumlarının ikinci argümanla değiştirildiği orijinal dizenin bir kopyasını döndürür.\n",
    "\n",
    "Düzenleyicideki örnek kodu göz önünde bulundurun ve çalıştırın."
   ]
  },
  {
   "cell_type": "code",
   "execution_count": 51,
   "id": "5dcdc18a-9d01-4517-bfc4-0767c4ffb8d7",
   "metadata": {},
   "outputs": [
    {
     "name": "stdout",
     "output_type": "stream",
     "text": [
      "www.pythoninstitute.org\n",
      "Thare are it!\n",
      "Apple \n"
     ]
    }
   ],
   "source": [
    "# Demonstrating the replace() method:\n",
    "print(\"www.netacad.com\".replace(\"netacad.com\", \"pythoninstitute.org\"))\n",
    "print(\"This is it!\".replace(\"is\", \"are\"))\n",
    "print(\"Apple juice\".replace(\"juice\", \"\"))"
   ]
  },
  {
   "cell_type": "markdown",
   "id": "5d61a05d-133a-46d9-8565-4ddcfb152a71",
   "metadata": {},
   "source": [
    "İkinci argüman boş bir dize ise, metot ilk argümanın dizesinin tüm örneklerini kaldırır. İlk argüman boş bir dize ise ne olur?\n",
    "\n",
    "Üç parametrel` 'replace`)' çeşidi, değiştirme sayısını sınırlamak için üçüncü bir argüman (bir sayı) içerir.\n",
    "\n",
    "Aşağıdaki değiştirilmiş örnek kodu göz önünde bulundurun:"
   ]
  },
  {
   "cell_type": "code",
   "execution_count": 52,
   "id": "ee8b2989-9ae2-4c87-9aa4-68298ce57cca",
   "metadata": {},
   "outputs": [
    {
     "name": "stdout",
     "output_type": "stream",
     "text": [
      "Thare is it!\n",
      "Thare are it!\n"
     ]
    }
   ],
   "source": [
    "print(\"This is it!\".replace(\"is\", \"are\", 1))\n",
    "print(\"This is it!\".replace(\"is\", \"are\", 2))"
   ]
  },
  {
   "cell_type": "markdown",
   "id": "8d268fab-7cfd-40f2-a2c2-e59c40901da3",
   "metadata": {},
   "source": [
    "## `rfind()` metodu\n",
    "'rfind()' adı verilen bir, iki ve üç parametreli metotlar, benzerleriyle (r öneki olmayanlarla) hemen hemen aynı şeyleri yapar, ancak **aramalarına dizenin sonundan başlar** , başlangıç ​​değil (dolayısıyla sağ için r öneki).\n",
    "\n",
    "Düzenleyicideki örnek koda bir göz atın ve çıktısını tahmin etmeye çalışın. Haklı olup olmadığınızı kontrol etmek için kodu çalıştırın."
   ]
  },
  {
   "cell_type": "code",
   "execution_count": 53,
   "id": "7d231eef-87d0-45fe-af83-fcecbd781055",
   "metadata": {},
   "outputs": [
    {
     "name": "stdout",
     "output_type": "stream",
     "text": [
      "8\n",
      "-1\n",
      "4\n"
     ]
    }
   ],
   "source": [
    "# Demonstrating the rfind() method:\n",
    "print(\"tau tau tau\".rfind(\"ta\"))\n",
    "print(\"tau tau tau\".rfind(\"ta\", 9))\n",
    "print(\"tau tau tau\".rfind(\"ta\", 3, 9))"
   ]
  },
  {
   "cell_type": "markdown",
   "id": "8c7a64a9-4b60-4b14-bf46-cd453e05678c",
   "metadata": {},
   "source": [
    "## rstrip() metodu\n",
    "\"rstrip()\" metodunun iki çeşidi neredeyse \"lstrips\" ile aynı işlevi görür, ancak **dizenin karşıt tarafını etkiler**.\n",
    "\n",
    "Düzenleyicideki kod örneğine bakın. Çıktısını tahmin edebilir misiniz? Tahminlerinizi kontrol etmek için kodu çalıştırın.\n",
    "\n",
    "Her zamanki gibi, kendi örneklerinizle denemeler yapmanızı öneririz."
   ]
  },
  {
   "cell_type": "code",
   "execution_count": 54,
   "id": "0ebc43c5-f180-4f0e-885c-6ca0480a08a0",
   "metadata": {},
   "outputs": [
    {
     "name": "stdout",
     "output_type": "stream",
     "text": [
      "[ upsilon]\n",
      "cis\n"
     ]
    }
   ],
   "source": [
    "# Demonstrating the rstrip() method:\n",
    "print(\"[\" + \" upsilon \".rstrip() + \"]\")\n",
    "print(\"cisco.com\".rstrip(\".com\"))"
   ]
  },
  {
   "cell_type": "markdown",
   "id": "88bba2a4-ca73-42b8-bb11-15f5385a15e5",
   "metadata": {},
   "source": [
    "## `split()` metodu\n",
    "`split()` metodu ne diyorsa onu yapar; **dizeyi böler ve algılanan tüm alt dizelerin bir listesini oluşturur.**\n",
    "\n",
    "Metot **alt dizelerin boşluklarla sınırlandırıldığını varsayar** - boşluklar işlemde yer almaz ve ortaya çıkan listeye kopyalanmaz.\n",
    "\n",
    "Dize boşsa sonuç listesi de boş olur.\n",
    "\n",
    "Editördeki koda bakın. Örnek aşağıdaki çıktıyı üretir:"
   ]
  },
  {
   "cell_type": "code",
   "execution_count": 55,
   "id": "1fada104-c5bd-4883-b097-ba6a3522ad66",
   "metadata": {},
   "outputs": [
    {
     "name": "stdout",
     "output_type": "stream",
     "text": [
      "['phi', 'chi', 'psi']\n"
     ]
    }
   ],
   "source": [
    "# Demonstrating the split() method:\n",
    "print(\"phi       chi\\npsi\".split())"
   ]
  },
  {
   "cell_type": "markdown",
   "id": "0d2a0d6a-d6b1-4bf8-8c33-571094f94040",
   "metadata": {},
   "source": [
    "## `startswith()` metodu\n",
    "`startswith()`metodu, `endswith()` metodunun ayna yansımasıdır - **belirli bir dizenin belirtilen alt dizeyle başlayıp başlamadığını kontrol eder.**\n",
    "\n",
    "Editördeki örneğe bakın. Bundan çıkan sonuç şudur:"
   ]
  },
  {
   "cell_type": "code",
   "execution_count": 56,
   "id": "78a8285e-31be-422b-92e8-00e7b3aa3c84",
   "metadata": {},
   "outputs": [
    {
     "name": "stdout",
     "output_type": "stream",
     "text": [
      "False\n",
      "True\n"
     ]
    }
   ],
   "source": [
    "# Demonstrating the startswith() method:\n",
    "print(\"omega\".startswith(\"meg\"))\n",
    "print(\"omega\".startswith(\"om\"))"
   ]
  },
  {
   "cell_type": "markdown",
   "id": "df71ac38-0988-4d3d-8178-2130bdc46ee9",
   "metadata": {},
   "source": [
    "## `strip()` metodu\n",
    "`strip()` metodu, `rstrip()` ve `lstrip()`in neden olduğu efektleri birleştirir; **baştaki ve sondaki tüm boşlukların bulunmadığı yeni bir dize oluşturur.**\n",
    "\n",
    "Editördeci örneğe bakın. Döndürdüğü sonuç budur:"
   ]
  },
  {
   "cell_type": "code",
   "execution_count": 57,
   "id": "216624c6-b105-4325-94e6-576ba9fd6999",
   "metadata": {},
   "outputs": [
    {
     "name": "stdout",
     "output_type": "stream",
     "text": [
      "[aleph]\n"
     ]
    }
   ],
   "source": [
    "# Demonstrating the strip() method:\n",
    "print(\"[\" + \"   aleph   \".strip() + \"]\")"
   ]
  },
  {
   "cell_type": "markdown",
   "id": "4f072b24-c194-4343-a6b5-5330f5b151cf",
   "metadata": {},
   "source": [
    "## `swapcase()` metodu\n",
    "`swapcase()` metodu **kaynak dizedeki tüm harflerin büyük/küçük harflerini değiştirerek yeni bir dize oluşturur:** küçük harfli karakterler büyük harfe dönüşür ve bunun tersi de geçerlidir.\n",
    "\n",
    "Diğer tüm karakterlere dokunulmaz.\n",
    "\n",
    "Editördeki ilk örneğe bakın. Çıktıyı tahmin edebilir misiniz? Pek iyi görünmeyecek ama şunu görmelisiniz:"
   ]
  },
  {
   "cell_type": "code",
   "execution_count": 58,
   "id": "5003671b-bc6b-46aa-8a9e-25de846b3d81",
   "metadata": {},
   "outputs": [
    {
     "name": "stdout",
     "output_type": "stream",
     "text": [
      "i KNOW THAT i KNOW NOTHING.\n"
     ]
    }
   ],
   "source": [
    "# Demonstrating the swapcase() method:\n",
    "print(\"I know that I know nothing.\".swapcase())"
   ]
  },
  {
   "cell_type": "markdown",
   "id": "0f8e5ed3-556f-42fc-92a4-e768ef3c9d24",
   "metadata": {},
   "source": [
    "## `title()` metodu\n",
    "`title()` metodu de benzer bir işlevi yerine getirir; **her kelimenin ilk harfini büyük harfe dönüştürür, diğer tüm harfleri ise küçük harfe çevirir.**\n",
    "\n",
    "Editördeki ikinci örneğe bakın. Çıktısını tahmin edebilir misiniz? Sonuç budur:"
   ]
  },
  {
   "cell_type": "code",
   "execution_count": 59,
   "id": "af51a3e8-5db1-439c-938a-82b33239eaf0",
   "metadata": {},
   "outputs": [
    {
     "name": "stdout",
     "output_type": "stream",
     "text": [
      "I Know That I Know Nothing. Part 1.\n"
     ]
    }
   ],
   "source": [
    "# Demonstrating the title() method:\n",
    "print(\"I know that I know nothing. Part 1.\".title())"
   ]
  },
  {
   "cell_type": "markdown",
   "id": "2605124f-f8af-4091-b70b-57e7edaa10f4",
   "metadata": {},
   "source": [
    "## `Upper()` metodu\n",
    "Son olarak, `upper()' metodu **kaynak dizenin bir kopyasını oluşturur, tüm küçük harfleri büyük harflerle değiştirir** ve sonuç olarak dizeyi döndürür.\n",
    "\n",
    "Editördeki üçüncü örneğe bakın. Çıktı:"
   ]
  },
  {
   "cell_type": "code",
   "execution_count": 60,
   "id": "7462870b-b989-44a6-a561-3944831f6ed2",
   "metadata": {},
   "outputs": [
    {
     "name": "stdout",
     "output_type": "stream",
     "text": [
      "I KNOW THAT I KNOW NOTHING. PART 2.\n"
     ]
    }
   ],
   "source": [
    "# Demonstrating the upper() method:\n",
    "print(\"I know that I know nothing. Part 2.\".upper())"
   ]
  },
  {
   "cell_type": "markdown",
   "id": "b90498fe-4c59-4eea-8f3c-705f4c54d31b",
   "metadata": {},
   "source": [
    "## Özet\n",
    "\n",
    "- ``capitalize()` – tüm dize harflerini büyük harfe dönüştürür;\n",
    "- `center()` – dizeyi bilinen uzunluktaki alanın içinde ortalar;\n",
    "- `count()` – belirli bir karakterin oluşumlarını sayar;\n",
    "- `join()` – bir demet/listenin tüm öğelerini tek bir dizede birleştirir;\n",
    "- `lower()` – dizedeki tüm harfleri küçük harflere dönüştürür;\n",
    "- `lstrip()` – dizenin başlangıcındaki beyaz karakterleri kaldırır;\n",
    "- `replace()` – belirli bir alt dizeyi bir başkasıyla değiştirir;\n",
    "- `rfind()` – dizenin sonundan başlayarak bir alt dize bulur;\n",
    "- `rstrip()` – dizenin sonundaki boşlukları kaldırır;\n",
    "- `split()` – belirli bir sınırlayıcıyı kullanarak dizeyi bir alt dizeye böler;\n",
    "- `strip()` – baştaki ve sondaki beyaz boşlukları kaldırır;\n",
    "- `swapcase()` – harflerin büyük/küçük harflerini değiştirir (aşağıdan yukarıya ve tam tersi)\n",
    "- `title()` – her kelimenin ilk harfini büyük harf yapar;\n",
    "- `upper()` – dizenin tüm harflerini büyük harflere dönüştürür.\n",
    "- `endswith()` – dize belirli bir alt dizeyle bitiyor mu?\n",
    "- `isalnum()` – dize yalnızca harflerden ve rakamlardan mı oluşuyor?\n",
    "- `isalpha()` – dize yalnızca harflerden mi oluşuyor?\n",
    "- `islower()` – dize yalnızca küçük harflerden mi oluşuyor?\n",
    "- `isspace()` – dize yalnızca boşluklardan mı oluşuyor?\n",
    "- `isupper()` – dize yalnızca büyük harflerden mi oluşuyor?\n",
    "- `startswith()` – dize belirli bir alt dizeyle mi başlıyor?"
   ]
  }
 ],
 "metadata": {
  "kernelspec": {
   "display_name": "Python 3 (ipykernel)",
   "language": "python",
   "name": "python3"
  },
  "language_info": {
   "codemirror_mode": {
    "name": "ipython",
    "version": 3
   },
   "file_extension": ".py",
   "mimetype": "text/x-python",
   "name": "python",
   "nbconvert_exporter": "python",
   "pygments_lexer": "ipython3",
   "version": "3.11.7"
  }
 },
 "nbformat": 4,
 "nbformat_minor": 5
}
