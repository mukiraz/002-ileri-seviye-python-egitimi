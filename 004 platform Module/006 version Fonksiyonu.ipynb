{
 "cells": [
  {
   "cell_type": "markdown",
   "id": "8a392fbc-323b-4f8b-b0bf-95d12113392c",
   "metadata": {},
   "source": [
    "### version Fonksiyonu\n",
    "\n",
    "`version()` fonksiyonu, işletim sistemi sürümünü bir dize olarak sağlar.\n",
    "\n",
    "Kodu çalıştırın ve çıktısını kontrol edin. İşte elde ettiğimiz sonuçlar:\n",
    "\n",
    "Intel x86 + Windows ® Vista (32 bit):\n",
    "\n",
    "```\n",
    "6.0.6002\n",
    "```\n",
    "\n",
    "Intel x86 + Gentoo Linux (64 bit):\n",
    "\n",
    "```\n",
    "#1 SMP PREEMPT Fri Jul 21 22:44:37 CEST 2017\n",
    "```\n",
    "\n",
    "Raspberry PI2 + Raspbian Linux (32 bit):\n",
    "\n",
    "```\n",
    "#1 SMP Debian 4.4.6-1+rpi14 (2016-05-05)\n",
    "```\n",
    "\n",
    "Bu platformlarda `version()` fonksiyonunun çıktıları gösterilmiştir."
   ]
  },
  {
   "cell_type": "code",
   "execution_count": 1,
   "id": "621bc225-1e22-4471-bbb6-3c2b11558028",
   "metadata": {},
   "outputs": [
    {
     "name": "stdout",
     "output_type": "stream",
     "text": [
      "10.0.22631\n"
     ]
    }
   ],
   "source": [
    "from platform import version\n",
    "\n",
    "print(version())"
   ]
  }
 ],
 "metadata": {
  "kernelspec": {
   "display_name": "Python 3 (ipykernel)",
   "language": "python",
   "name": "python3"
  },
  "language_info": {
   "codemirror_mode": {
    "name": "ipython",
    "version": 3
   },
   "file_extension": ".py",
   "mimetype": "text/x-python",
   "name": "python",
   "nbconvert_exporter": "python",
   "pygments_lexer": "ipython3",
   "version": "3.11.7"
  }
 },
 "nbformat": 4,
 "nbformat_minor": 5
}
