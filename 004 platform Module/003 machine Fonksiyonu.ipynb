{
 "cells": [
  {
   "cell_type": "markdown",
   "id": "41faa1cc-bcae-47f6-bdea-c39d70c4ae73",
   "metadata": {},
   "source": [
    "### machine Fonksiyonu\r\n",
    "\r\n",
    "Bazen, işletim sisteminizin yanı sıra Python ve kodunuzu çalıştıran işlemcinin genel adını bilmek isteyebilirsiniz - bunu size `machine()` adlı bir fonksiyon sağlar. Daha önce olduğu gibi, bu fonksiyon da bir dize döndürür.\r\n",
    "\r\n",
    "Yine, örnek programımızı üç farklı platformda çalıştırdık:\r\n",
    "\r\n",
    "**Intel x86 + Windows ® Vista (32 bit):**\r\n",
    "```\r\n",
    "x86\r\n",
    "```\r\n",
    "\r\n",
    "**Intel x86 + Gentoo Linux (64 bit):**\r\n",
    "```\r\n",
    "x86_64\r\n",
    "```\r\n",
    "\r\n",
    "**Raspberry PI2 + Raspbian Linux (32 bit):**\r\n",
    "```\r\n",
    "armv7l\r\n",
    "```\r\n",
    "\r\n",
    "Bu çıktılar, her platform için işlemci mimarisini göstererek `machine()` fonksiyonunun farklı ortamlarda nasıl işlemci bilgisi sağladığını göstermektedir."
   ]
  },
  {
   "cell_type": "code",
   "execution_count": 2,
   "id": "61418a48-a433-425a-9fa7-8afaf8015bc8",
   "metadata": {},
   "outputs": [
    {
     "name": "stdout",
     "output_type": "stream",
     "text": [
      "AMD64\n"
     ]
    }
   ],
   "source": [
    "from platform import machine\n",
    "\n",
    "print(machine())"
   ]
  },
  {
   "cell_type": "code",
   "execution_count": null,
   "id": "073bb6fa-ecc9-47ba-8fa4-da0d3f8d8afe",
   "metadata": {},
   "outputs": [],
   "source": []
  }
 ],
 "metadata": {
  "kernelspec": {
   "display_name": "Python 3 (ipykernel)",
   "language": "python",
   "name": "python3"
  },
  "language_info": {
   "codemirror_mode": {
    "name": "ipython",
    "version": 3
   },
   "file_extension": ".py",
   "mimetype": "text/x-python",
   "name": "python",
   "nbconvert_exporter": "python",
   "pygments_lexer": "ipython3",
   "version": "3.11.7"
  }
 },
 "nbformat": 4,
 "nbformat_minor": 5
}
