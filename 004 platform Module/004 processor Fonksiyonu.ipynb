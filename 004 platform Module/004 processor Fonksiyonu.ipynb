{
 "cells": [
  {
   "cell_type": "markdown",
   "id": "73647f5b-ddef-4f77-898f-4c613f78d2b9",
   "metadata": {},
   "source": [
    "### processor Fonksiyonu\n",
    "\n",
    "`processor()` fonksiyonu, mümkünse gerçek işlemci adını içeren bir dize döndürür.\n",
    "\n",
    "Tekrar, örnek programı üç farklı platformda çalıştırdık:\n",
    "\n",
    "**Intel x86 + Windows ® Vista (32 bit):**\n",
    "```\n",
    "x86\n",
    "```\n",
    "\n",
    "**Intel x86 + Gentoo Linux (64 bit):**\n",
    "```\n",
    "Intel(R) Core(TM) i3-2330M CPU @ 2.20GHz\n",
    "```\n",
    "\n",
    "**Raspberry PI2 + Raspbian Linux (32 bit):**\n",
    "```\n",
    "armv7l\n",
    "```\n",
    "\n",
    "Bu işlemleri yerel makinenizde deneyebilirsiniz."
   ]
  },
  {
   "cell_type": "code",
   "execution_count": 1,
   "id": "625180ff-a88e-41da-b528-44b2d84519d6",
   "metadata": {},
   "outputs": [
    {
     "name": "stdout",
     "output_type": "stream",
     "text": [
      "Intel64 Family 6 Model 142 Stepping 12, GenuineIntel\n"
     ]
    }
   ],
   "source": [
    "from platform import processor\n",
    "\n",
    "print(processor())"
   ]
  }
 ],
 "metadata": {
  "kernelspec": {
   "display_name": "Python 3 (ipykernel)",
   "language": "python",
   "name": "python3"
  },
  "language_info": {
   "codemirror_mode": {
    "name": "ipython",
    "version": 3
   },
   "file_extension": ".py",
   "mimetype": "text/x-python",
   "name": "python",
   "nbconvert_exporter": "python",
   "pygments_lexer": "ipython3",
   "version": "3.11.7"
  }
 },
 "nbformat": 4,
 "nbformat_minor": 5
}
