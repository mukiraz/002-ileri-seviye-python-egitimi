{
 "cells": [
  {
   "cell_type": "markdown",
   "id": "91c931b0-34b8-4f03-b771-0deb136840bc",
   "metadata": {},
   "source": [
    "### Python Paketleme Ekosistemi ve Nasıl Kullanılır\r\n",
    "\r\n",
    "Python çok güçlü bir araçtır ve birçok kişi bunu çeşitli alanlarda kullanır. Python, yapay zeka araştırmalarının lideri haline gelmiştir. Veri madenciliği, matematik, psikoloji, genetik, meteoroloji ve dilbilim gibi alanlarda yaygın olarak kullanılır.\r\n",
    "\r\n",
    "Tüm Python kullanıcılarının sıfırdan kod yazması verimsiz olurdu. Bunun yerine, Python topluluğu kod paylaşımı ve iş birliğiyle gelişir. Python'un açık kaynak doğası, geliştiricilerin kodlarını yayınlamasını, bakımını yapmasını ve kullanmasını sağlar. Merkezi bir depo ve bu depoya erişim araçları sayesinde, kodlar sürekli geliştirilir ve uyarlanır. Bu model, yenilikçi çözümlerin daha verimli bir şekilde oluşturulmasını sağ\n",
    "\n",
    "Bu dünyanın dönmesini sağlamak için iki temel unsur kurulmalı ve hareket halinde tutulmalıdır: Tüm mevcut yazılım paketlerinin bulunduğu merkezi bir depo ve kullanıcıların bu depoya erişimini sağlayan bir araç. Bu iki unsur zaten mevcuttur ve her an kullanılabilir.lar."
   ]
  },
  {
   "cell_type": "markdown",
   "id": "2d4ef7bd-a44f-4777-8064-a58096538fd9",
   "metadata": {},
   "source": [
    "### Python Package Index\r\n",
    "\r\n",
    "Daha önce bahsettiğimiz depo, Python Package Index'in kısaltması olan PyPI'dir ve Python Software Foundation'ın bir parçası olan Packaging Working Group (PWG) tarafından yönetilmektedir. Bu grubun ana görevi, Python geliştiricilerine kodlarını etkili bir şekilde dağıtmada destek olmaktır.\r\n",
    "\r\n",
    "Web sitelerine buradan ulaşabilirsiniz: [Packaging Working Group](https://wiki.python.org/psf/PackagingWG).\r\n",
    "\r\n",
    "PyPI web sitesi: [PyPI](https://pypi.org/).\r\n",
    "\r\n",
    "Haziran 2020 itibarıyla, PyPI 237,515 proje, 2,877,545 dosya ve 427,487 kullanıcıya ev sahipliği yapmaktadır. Bu rakamlar, Python topluluğunun gücünü ve geliştiriciler arasındaki iş birliğinin önemini göstermektedir.\r\n",
    "\r\n",
    "PyPI, en önemli Python deposu olmasına rağmen, birçok farklı topluluk tarafından oluşturulmuş başka Python depoları da bulunmaktadır. Günün birinde siz ve arkadaşlarınız da kendi depolarınızı oluşturmak isteyebilirsiniz. Yine de PyPI, Python paketleri için merkezi bir konumda olup ekosistemin hayati bir parçasıdır."
   ]
  },
  {
   "cell_type": "markdown",
   "id": "c5d0bc1c-6dd5-4c43-8777-b1e823dd5e00",
   "metadata": {},
   "source": [
    "### PyPI Deposu: Cheese Shop\r\n",
    "\r\n",
    "PyPI deposu bazen esprili bir şekilde \"Peynir Dükkanı\" olarak adlandırılır. Bu size tuhaf geliyorsa endişelenmeyin, tamamen masum bir benzetmedir. Depoyu bir dükkân olarak adlandırıyoruz çünkü ihtiyaçlarınızı karşılamak için oraya gidiyorsunuz. Peynir almak isterseniz peynir dükkanına gidersiniz, yazılım almak isterseniz yazılım deposuna gidersiniz. Neyse ki benzetme burada sona eriyor; PyPI tamamen ücretsizdir ve kodu alıp kullanabilirsiniz.\r\n",
    "\r\n",
    "\"Peki,\" diyorsunuz, \"dükkan tamam, ama peynirin Python ile ne ilgisi var?\"\r\n",
    "\r\n",
    "Peynir Dükkanı, ünlü Monty Python skeçlerinden biridir. İngiliz bir adamın peynir almak için bir dükkâna gitmesini ve dükkânda hiç peynir bulunmamasını anlatır. Tabii ki bu ironik bir göndermedir. Bildiğiniz gibi, PyPI'de birçok yazılım mevcut ve 24/7 erişilebilir. Bu yüzden kendisini \"Ye International Python Software Emporium\" olarak tanımlamakta hak\n",
    "\n",
    "\r\n",
    "PyPI, tüm ürünlerini ücretsiz sunduğu için değil, aynı zamanda kullanımı için özel bir araca ihtiyaç duyduğu için de özeldir. Neyse ki, bu araç da ücretsizdir. PyPI mağazasındaki yazılımları kullanmak için ihtiyacınız olan araç \"pip\" olarak adlandırılır.\r\n",
    "\r\n",
    "Evet, doğru duydunuz, sadece pip. Pip, \"pip installs packages\" (pip paketleri kurar) anlamına gelen, kendine referans veren bir kısaltmadır, bu da açıklamasını sonsuz bir süreç haline getirir.\r\n",
    "\r\n",
    "Bu arada, başka ünlü kendine referans veren kısaltmalar da vardır. Örneğin, Linux, \"Linux is Not Unix\" anlamına gelir.lıdır."
   ]
  },
  {
   "cell_type": "code",
   "execution_count": null,
   "id": "3c9c6987-6b4a-4a4a-b42b-7361e2af06cb",
   "metadata": {},
   "outputs": [],
   "source": []
  }
 ],
 "metadata": {
  "kernelspec": {
   "display_name": "Python 3 (ipykernel)",
   "language": "python",
   "name": "python3"
  },
  "language_info": {
   "codemirror_mode": {
    "name": "ipython",
    "version": 3
   },
   "file_extension": ".py",
   "mimetype": "text/x-python",
   "name": "python",
   "nbconvert_exporter": "python",
   "pygments_lexer": "ipython3",
   "version": "3.11.7"
  }
 },
 "nbformat": 4,
 "nbformat_minor": 5
}
