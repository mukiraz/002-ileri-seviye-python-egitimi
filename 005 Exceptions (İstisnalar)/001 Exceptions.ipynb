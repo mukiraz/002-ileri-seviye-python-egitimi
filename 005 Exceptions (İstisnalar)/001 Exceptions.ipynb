{
 "cells": [
  {
   "cell_type": "markdown",
   "metadata": {},
   "source": [
    "## İstisnalar Hakkında Daha Fazla Bilgi\n",
    "\n",
    "Nesne yönelimli programlama konusunu tartışmak, istisnalara geri dönmek için mükemmel bir fırsat sunar. Python'un nesne yönelimli doğası, istisnaları çok esnek bir araç haline getirir, belirli ihtiyaçlara uyum sağlayabilir ve henüz bilmediğiniz ihtiyaçları bile karşılayabilir.\n",
    "\n",
    "İstisnaların nesne yönelimli yüzüne dalmadan önce, Python'un try-except bloğunu nasıl ele aldığına dair bazı sözdizimsel ve anlamsal detayları inceleyelim. Şimdiye kadar sunduklarımızdan daha fazlasını sunar.\n",
    "\n",
    "Burada tartışmak istediğimiz ilk özellik, try-except bloğunun içine (ya da daha doğrusu, doğrudan arkasına) yerleştirilebilecek ek bir dalın varlığıdır - bu kod parçası else ile başlar. Örneğin:"
   ]
  },
  {
   "cell_type": "code",
   "execution_count": null,
   "metadata": {},
   "outputs": [],
   "source": [
    "def reciprocal(n):\n",
    "    try:\n",
    "        n = 1 / n\n",
    "    except ZeroDivisionError:\n",
    "        print(\"Bölme başarısız oldu\")\n",
    "        return None\n",
    "    else:\n",
    "        print(\"Her şey yolunda gitti\")\n",
    "        return n\n",
    "\n",
    "print(reciprocal(2))\n",
    "print(reciprocal(0))"
   ]
  },
  {
   "cell_type": "markdown",
   "metadata": {},
   "source": [
    "Else bloğu, son except bloğunun ardından yerleştirilmelidir. Bu yapıda, try bloğundan sonra tam olarak bir dal çalışacaktır: ya except dalı (bu türden birden fazla dal olabilir) ya da else dalı.\n",
    "\n",
    "Örnek kod şu çıktıyı üretir:\n",
    "\n",
    "```\n",
    "Her şey yolunda gitti\n",
    "0.5\n",
    "Bölme başarısız oldu\n",
    "None\n",
    "```"
   ]
  },
  {
   "cell_type": "markdown",
   "metadata": {},
   "source": [
    "## İstisnalar Hakkında Daha Fazla Bilgi\n",
    "\n",
    "Try-except bloğu, son bir kısmına finally anahtar kelimesiyle başlayan bir bölüm ekleyerek daha da genişletilebilir (istisnaları ele almak için tasarlanan kodun son dalı olmalıdır).\n",
    "\n",
    "Not: Bu iki varyant (else ve finally) birbirinden bağımsızdır ve birlikte veya ayrı ayrı kullanılabilirler.\n",
    "\n",
    "Finally bloğu, daha önce ne olduğuna bakılmaksızın her zaman çalıştırılır. Bir istisna ortaya çıksa ve ele alınsa da alınmasa da, try-except bloğunun yürütülmesini sonlandırır.\n",
    "\n",
    "Aşağıdaki koda bir göz atın. Çıktısı aşağıdaki gibidir:"
   ]
  },
  {
   "cell_type": "code",
   "execution_count": null,
   "metadata": {},
   "outputs": [],
   "source": [
    "def reciprocal(n):\n",
    "    try:\n",
    "        n = 1 / n\n",
    "    except ZeroDivisionError:\n",
    "        print(\"Bölme başarısız oldu\")\n",
    "        n = None\n",
    "    else:\n",
    "        print(\"Her şey yolunda gitti\")\n",
    "    finally:\n",
    "        print(\"Veda etme zamanı geldi\")\n",
    "        return n\n",
    "\n",
    "print(reciprocal(2))\n",
    "print(reciprocal(0))"
   ]
  },
  {
   "cell_type": "markdown",
   "metadata": {},
   "source": [
    "Çıktı:\n",
    "```\n",
    "Her şey yolunda gitti\n",
    "Veda etme zamanı geldi\n",
    "0.5\n",
    "Bölme başarısız oldu\n",
    "Veda etme zamanı geldi\n",
    "None\n",
    "```"
   ]
  },
  {
   "cell_type": "markdown",
   "metadata": {},
   "source": [
    "## İstisnalar Sınıflardır\n",
    "\n",
    "Önceki örneklerin tümü, belirli türdeki istisnaları tespit etmek ve bunlara uygun şekilde yanıt vermekle yetinmişti. Şimdi ise daha derinlemesine inceleyerek, istisnanın kendisine bakacağız.\n",
    "\n",
    "İstisnaların sınıflar olduğunu öğrenmek sizi şaşırtmayacaktır. Daha da ötesi, bir istisna yükseltildiğinde, bu sınıfın bir nesnesi oluşturulur ve program yürütme düzeylerinde ilerleyerek, onunla başa çıkmaya hazırlanan `except` dalını arar.\n",
    "\n",
    "Böylesi bir nesne, bekleyen durumun tüm yönlerini kesin bir şekilde tanımlamanıza yardımcı olabilecek bazı yararlı bilgiler taşır. Bu amacı gerçekleştirmek için Python, istisna deyiminin özel bir varyantını sunar. Örnekte görüldüğü gibi, `except` ifadesi genişletilmiş ve `as` anahtar kelimesi ile başlayan ek bir ifade içerir, bunu bir tanımlayıcı izler. Bu tanımlayıcı, istisna nesnesini yakalamak için tasarlanmıştır, böylece onun doğasını analiz edebilir ve uygun sonuçlara varabilirsiniz.\n",
    "\n",
    "Not: Tanımlayıcının kapsamı kendi `except` dalıyla sınırlıdır ve daha ötesine geçmez.\n",
    "\n",
    "Aşağıdaki örnek, yakalanan nesneyi kullanmanın çok basit bir yolunu sunmaktadır – sadece onu yazdırmak. Çıktı, nesnenin `__str__()` yöntemi tarafından üretilir ve nedeni açıklayan kısa bir mesaj içerir."
   ]
  },
  {
   "cell_type": "code",
   "execution_count": null,
   "metadata": {},
   "outputs": [],
   "source": [
    "try:\n",
    "    i = int(\"Hello!\")\n",
    "except Exception as e:\n",
    "    print(e)\n",
    "    print(e.__str__())"
   ]
  },
  {
   "cell_type": "markdown",
   "metadata": {},
   "source": [
    "Eğer kodda uygun bir `except` bloğu yoksa ve Python bu istisna ile tek başına başa çıkmak zorunda kalırsa, aynı mesaj yazdırılacaktır."
   ]
  },
  {
   "cell_type": "markdown",
   "metadata": {},
   "source": [
    "## İstisnalar Sınıflardır\n",
    "\n",
    "Tüm yerleşik Python istisnaları bir sınıf hiyerarşisi oluşturur. Gerektiğinde bu hiyerarşiyi genişletebilirsiniz.\n",
    "\n",
    "Aşağıdaki koda göz atın:"
   ]
  },
  {
   "cell_type": "code",
   "execution_count": null,
   "metadata": {},
   "outputs": [],
   "source": [
    "def print_exception_tree(thisclass, nest=0):\n",
    "    if nest > 1:\n",
    "        print(\"   |\" * (nest - 1), end=\"\")\n",
    "    if nest > 0:\n",
    "        print(\"   +---\", end=\"\")\n",
    "\n",
    "    print(thisclass.__name__)\n",
    "\n",
    "    for subclass in thisclass.__subclasses__():\n",
    "        print_exception_tree(subclass, nest + 1)\n",
    "\n",
    "print_exception_tree(BaseException)"
   ]
  },
  {
   "cell_type": "markdown",
   "metadata": {},
   "source": [
    "Bu program, tüm önceden tanımlanmış istisna sınıflarını ağaç benzeri bir yapıda yazdırır.\n",
    "\n",
    "Bir ağaç, yinelemeli (recursive) bir veri yapısının mükemmel bir örneği olduğundan, onu dolaşmak için yineleme en iyi araçtır. `print_exception_tree()` fonksiyonu iki argüman alır:\n",
    "- Ağacın içinde dolaşmaya başlayacağımız bir nokta.\n",
    "- Ağacın dallarının basit bir çizimini oluşturmak için kullanılacak iç içe geçme seviyesi.\n",
    "\n",
    "Ağacın kökünden başlayalım - Python'un istisna sınıflarının kökü `BaseException` sınıfıdır, bu sınıf tüm diğer istisnaların üst sınıfıdır.\n",
    "\n",
    "Her karşılaşılan sınıf için şu işlemleri gerçekleştirin:\n",
    "- `__name__` özelliğinden alınan adını yazdırın.\n",
    "- `__subclasses__()` yöntemi tarafından sağlanan alt sınıflar listesini yineleyin ve `print_exception_tree()` fonksiyonunu yinelemeli olarak çağırarak iç içe geçme seviyesini artırın.\n",
    "\n",
    "Dalların ve çatalların nasıl çizildiğine dikkat edin. Çıktı herhangi bir şekilde sıralanmaz - isterseniz bir zorluk olarak bunu kendiniz sıralayabilirsiniz. Ayrıca bazı dalların sunumunda ince hatalar vardır. İsterseniz bunları da düzeltebilirsiniz.\n",
    "\n",
    "Çıktı şöyle görünür:\n",
    "\n",
    "```\n",
    "BaseException\n",
    "   +---Exception\n",
    "   |   +---TypeError\n",
    "   |   +---StopAsyncIteration\n",
    "   |   +---StopIteration\n",
    "   |   +---ImportError\n",
    "   |   |   +---ModuleNotFoundError\n",
    "   |   |   +---ZipImportError\n",
    "   |   +---OSError\n",
    "   |   |   +---ConnectionError\n",
    "   |   |   |   +---BrokenPipeError\n",
    "   |   |   |   +---ConnectionAbortedError\n",
    "   |   |   |   +---ConnectionRefusedError\n",
    "   |   |   |   +---ConnectionResetError\n",
    "   |   |   +---BlockingIOError\n",
    "   |   |   +---ChildProcessError\n",
    "   |   |   +---FileExistsError\n",
    "   |   |   +---FileNotFoundError\n",
    "   |   |   +---IsADirectoryError\n",
    "   |   |   +---NotADirectoryError\n",
    "   |   |   +---InterruptedError\n",
    "   |   |   +---PermissionError\n",
    "   |   |   +---ProcessLookupError\n",
    "   |   |   +---TimeoutError\n",
    "   |   |   +---UnsupportedOperation\n",
    "   |   |   +---herror\n",
    "   |   |   +---gaierror\n",
    "   |   |   +---timeout\n",
    "   |   |   +---Error\n",
    "   |   |   |   +---SameFileError\n",
    "   |   |   +---SpecialFileError\n",
    "   |   |   +---ExecError\n",
    "   |   |   +---ReadError\n",
    "   |   +---EOFError\n",
    "   |   +---RuntimeError\n",
    "   |   |   +---RecursionError\n",
    "   |   |   +---NotImplementedError\n",
    "   |   |   +---_DeadlockError\n",
    "   |   |   +---BrokenBarrierError\n",
    "   |   +---NameError\n",
    "   |   |   +---UnboundLocalError\n",
    "   |   +---AttributeError\n",
    "   |   +---SyntaxError\n",
    "   |   |   +---IndentationError\n",
    "   |   |   |   +---TabError\n",
    "   |   +---LookupError\n",
    "   |   |   +---IndexError\n",
    "   |   |   +---KeyError\n",
    "   |   |   +---CodecRegistryError\n",
    "   |   +---ValueError\n",
    "   |   |   +---UnicodeError\n",
    "   |   |   |   +---UnicodeEncodeError\n",
    "   |   |   |   +---UnicodeDecodeError\n",
    "   |   |   |   +---UnicodeTranslateError\n",
    "   |   |   +---UnsupportedOperation\n",
    "   |   +---AssertionError\n",
    "   |   +---ArithmeticError\n",
    "   |   |   +---FloatingPointError\n",
    "   |   |   +---OverflowError\n",
    "   |   |   +---ZeroDivisionError\n",
    "   |   +---SystemError\n",
    "   |   |   +---CodecRegistryError\n",
    "   |   +---ReferenceError\n",
    "   |   +---BufferError\n",
    "   |   +---MemoryError\n",
    "   |   +---Warning\n",
    "   |   |   +---UserWarning\n",
    "   |   |   +---DeprecationWarning\n",
    "   |   |   +---PendingDeprecationWarning\n",
    "   |   |   +---SyntaxWarning\n",
    "   |   |   +---RuntimeWarning\n",
    "   |   |   +---FutureWarning\n",
    "   |   |   +---ImportWarning\n",
    "   |   |   +---UnicodeWarning\n",
    "   |   |   +---BytesWarning\n",
    "   |   |   +---ResourceWarning\n",
    "   |   +---error\n",
    "   |   +---Verbose\n",
    "   |   +---Error\n",
    "   |   +---TokenError\n",
    "   |   +---StopTokenizing\n",
    "   |   +---Empty\n",
    "   |   +---Full\n",
    "   |   +---_OptionError\n",
    "   |   +---TclError\n",
    "   |   +---SubprocessError\n",
    "   |   |   +---CalledProcessError\n",
    "   |   |   +---TimeoutExpired\n",
    "   |   +---Error\n",
    "   |   |   +---NoSectionError\n",
    "   |   |   +---DuplicateSectionError\n",
    "   |   |   +---DuplicateOptionError\n",
    "   |   |   +---NoOptionError\n",
    "   |   |   +---InterpolationError\n",
    "   |   |   |   +---InterpolationMissingOptionError\n",
    "   |   |   |   +---InterpolationSyntaxError\n",
    "   |   |   |   +---InterpolationDepthError\n",
    "   |   |   +---ParsingError\n",
    "   |   |   |   +---MissingSectionHeaderError\n",
    "   |   +---InvalidConfigType\n",
    "   |   +---InvalidConfigSet\n",
    "   |   +---InvalidFgBg\n",
    "   |   +---InvalidTheme\n",
    "   |   +---EndOfBlock\n",
    "   |   +---BdbQuit\n",
    "   |   +---error\n",
    "   |   +---_Stop\n",
    "   |   +---PickleError\n",
    "   |   |   +---PicklingError\n",
    "   |   |   +---UnpicklingError\n",
    "   |   +---_GiveupOnSendfile\n",
    "   |   +---error\n",
    "   |   +---LZMAError\n",
    "   |   +---RegistryError\n",
    "   |   +---ErrorDuringImport\n",
    "   +---GeneratorExit\n",
    "   +---SystemExit\n",
    "   +---KeyboardInterrupt\n",
    "```"
   ]
  },
  {
   "cell_type": "markdown",
   "metadata": {},
   "source": [
    "## İstisnaların Detaylı Anatomisi\n",
    "\n",
    "İstisna nesnelerine daha yakından bakalım, çünkü burada gerçekten ilginç unsurlar var. Python'un girdi/çıktı tekniklerini ele aldığımızda, bu konuyu yeniden inceleyeceğiz çünkü onların istisna alt sistemi bu nesneleri biraz genişletir.\n",
    "\n",
    "`BaseException` sınıfı, `args` adlı bir özellik tanıtır. Bu özellik, sınıf yapıcısına iletilen tüm argümanları toplamak için tasarlanmış bir demettir. Yapıcı hiçbir argüman olmadan çağrıldığında boştur, yapıcı bir argüman aldığında bir öğe içerir (burada `self` argümanını saymıyoruz) ve bu şekilde devam eder.\n",
    "\n",
    "İşte `args` özelliğini şık bir şekilde yazdırmak için basit bir fonksiyon:"
   ]
  },
  {
   "cell_type": "code",
   "execution_count": null,
   "metadata": {},
   "outputs": [],
   "source": [
    "def print_args(args):\n",
    "    lng = len(args)\n",
    "    if lng == 0:\n",
    "        print(\"\")\n",
    "    elif lng == 1:\n",
    "        print(args[0])\n",
    "    else:\n",
    "        print(str(args))\n",
    "\n",
    "try:\n",
    "    raise Exception\n",
    "except Exception as e:\n",
    "    print(e, e.__str__(), sep=' : ' , end=' : ')\n",
    "    print_args(e.args)\n",
    "\n",
    "try:\n",
    "    raise Exception(\"my exception\")\n",
    "except Exception as e:\n",
    "    print(e, e.__str__(), sep=' : ', end=' : ')\n",
    "    print_args(e.args)\n",
    "\n",
    "try:\n",
    "    raise Exception(\"my\", \"exception\")\n",
    "except Exception as e:\n",
    "    print(e, e.__str__(), sep=' : ', end=' : ')\n",
    "    print_args(e.args)"
   ]
  },
  {
   "cell_type": "markdown",
   "metadata": {},
   "source": [
    "Bu fonksiyonu, `args` özelliğinin içeriğini üç farklı durumda yazdırmak için kullandık; burada `Exception` sınıfının bir istisnası üç farklı şekilde yükseltilir. Daha anlaşılır hale getirmek için nesnenin kendisini ve `__str__()` yönteminin sonucunu da yazdırdık.\n",
    "\n",
    "- İlk durum rutindir - `raise` anahtar kelimesinden sonra sadece `Exception` adı vardır. Bu, bu sınıfın nesnesinin en rutin şekilde oluşturulduğu anlamına gelir.\n",
    "- İkinci ve üçüncü durumlar ilk bakışta biraz garip görünebilir, ancak burada tuhaf bir şey yok - bunlar sadece yapıcı çağrılarıdır. İkinci `raise` ifadesinde yapıcı bir argümanla, üçüncüde ise iki argümanla çağrılır.\n",
    "\n",
    "Gördüğünüz gibi, program çıktısı bunu yansıtarak `args` özelliğinin uygun içeriğini gösterir:\n",
    "\n",
    "```\n",
    " :  :\n",
    "my exception : my exception : my exception\n",
    "('my', 'exception') : ('my', 'exception') : ('my', 'exception')\n",
    "```"
   ]
  },
  {
   "cell_type": "markdown",
   "metadata": {},
   "source": [
    "## Kendi İstisnanızı Nasıl Oluşturursunuz?\n",
    "\n",
    "Python'daki istisna hiyerarşisi ne kapalı ne de sabittir ve gerektiğinde kendi istisnalarınızı oluşturmak için genişletebilirsiniz.\n",
    "\n",
    "Bu, hataları tespit edip istisnalar oluşturan karmaşık bir modül geliştirirken faydalı olabilir. Özel istisnalar, hatalarınızı Python'un yerleşik istisnalarından kolayca ayırt edilebilir hale getirebilir.\n",
    "\n",
    "Kendi istisnalarınızı oluşturmak için, önceden tanımlanmış istisnalardan türetilmiş yeni alt sınıflar tanımlayın.\n",
    "\n",
    "Not: İstisnanızın yerleşik bir istisnanın özel bir durumu olmasını istiyorsanız, sadece o istisnadan türetin. Kendi hiyerarşinizi oluşturmak ve bunu Python'un istisna ağacından ayrı tutmak istiyorsanız, `Exception` gibi üst düzey istisna sınıflarından birinden türetin.\n",
    "\n",
    "Kendi yasalarınız ve teoremlerinizle yönetilen yeni bir aritmetik sistem geliştirdiğinizi hayal edin. Bu sistemde bölme de yeniden tanımlanmış ve standart bölmeden farklı şekilde davranmaktadır. Bu yeni bölmenin, yerleşik `ZeroDivisionError`'dan farklı, kendi istisnasını oluşturmasını istiyorsunuz. Ancak bazı durumlarda, siz (veya aritmetik sisteminizin kullanıcıları) tüm sıfıra bölme hatalarını aynı şekilde ele almak isteyebilirsiniz.\n",
    "\n",
    "Bu, aşağıdaki kodda gösterildiği gibi gerçekleştirilebilir:"
   ]
  },
  {
   "cell_type": "code",
   "execution_count": null,
   "metadata": {},
   "outputs": [],
   "source": [
    "class MyZeroDivisionError(ZeroDivisionError):    \n",
    "    pass\n",
    "\n",
    "def do_the_division(mine):\n",
    "    if mine:\n",
    "        raise MyZeroDivisionError(\"some worse news\")\n",
    "    else:        \n",
    "        raise ZeroDivisionError(\"some bad news\")\n",
    "\n",
    "for mode in [False, True]:\n",
    "    try:\n",
    "        do_the_division(mode)\n",
    "    except ZeroDivisionError:\n",
    "        print('Division by zero')\n",
    "\n",
    "for mode in [False, True]:\n",
    "    try:\n",
    "        do_the_division(mode)\n",
    "    except MyZeroDivisionError:\n",
    "        print('My division by zero')\n",
    "    except ZeroDivisionError:\n",
    "        print('Original division by zero')"
   ]
  },
  {
   "cell_type": "markdown",
   "metadata": {},
   "source": [
    "İşte kodun açıklaması:\n",
    "\n",
    "1. Yerleşik `ZeroDivisionError`'dan türetilmiş `MyZeroDivisionError` adlı kendi istisnamızı tanımladık. Sınıfa yeni bileşenler eklemedik.\n",
    "2. Bu sınıfın bir istisnası, bağlama bağlı olarak sıradan bir `ZeroDivisionError` olarak veya ayrı olarak ele alınabilir.\n",
    "3. `do_the_division()` fonksiyonu, argümanın değerine bağlı olarak ya `MyZeroDivisionError` ya da `ZeroDivisionError` istisnasını yükseltir.\n",
    "4. Fonksiyon toplamda dört kez çağrılır. İlk iki çağrı sadece bir `except` dalı (daha genel olan) kullanılarak, son iki çağrı ise istisnaları ayırt edebilen iki farklı dal ile ele alınır (unutmayın: dalların sırası çok önemlidir!)."
   ]
  },
  {
   "cell_type": "markdown",
   "metadata": {},
   "source": [
    "## Kendi İstisna Yapınızı Oluşturmak\n",
    "\n",
    "Tamamen yeni yaratıklarla dolu, tanıdık kavramlarla hiçbir ortak noktası olmayan tamamen yeni bir evren oluştururken, kendi istisna hiyerarşinizi kurmak isteyebilirsiniz.\n",
    "\n",
    "Örneğin, bir pizza restoranının faaliyetlerini modellemeyi amaçlayan büyük bir simülasyon sistemi üzerinde çalışıyorsanız, ayrı bir istisna hiyerarşisi oluşturmak faydalı olabilir.\n",
    "\n",
    "Bunu yapmak için, herhangi bir diğer özel istisna için yeni bir temel sınıf olarak genel bir istisna tanımlayarak başlayabilirsiniz. Bunu şu şekilde yaptık:"
   ]
  },
  {
   "cell_type": "code",
   "execution_count": null,
   "metadata": {},
   "outputs": [],
   "source": [
    "class PizzaError(Exception):\n",
    "    def __init__(self, pizza, message):\n",
    "        super().__init__(message)\n",
    "        self.pizza = pizza"
   ]
  },
  {
   "cell_type": "markdown",
   "metadata": {},
   "source": [
    "Not: Burada normal bir `Exception`'dan daha spesifik bilgi toplayacağız, bu yüzden yapıcımız iki argüman alır:\n",
    "- Bir tanesi sürecin konusu olarak bir pizzayı belirtir.\n",
    "- Diğeri ise sorunun bir tanımını içerir.\n",
    "\n",
    "İkinci parametreyi üst sınıf yapıcısına geçiririz ve ilkini kendi özelliğimizde saklarız.\n",
    "\n",
    "Daha spesifik bir sorun (örneğin, fazla peynir) daha spesifik bir istisna gerektirebilir. Bu yeni sınıfı, zaten tanımlanmış olan `PizzaError` sınıfından türetebilirsiniz, burada gösterildiği gibi:"
   ]
  },
  {
   "cell_type": "code",
   "execution_count": null,
   "metadata": {},
   "outputs": [],
   "source": [
    "class TooMuchCheeseError(PizzaError):\n",
    "    def __init__(self, pizza, cheese, message):\n",
    "        super().__init__(pizza, message)\n",
    "        self.cheese = cheese\n"
   ]
  },
  {
   "cell_type": "markdown",
   "metadata": {},
   "source": [
    "`TooMuchCheeseError` istisnası, normal `PizzaError` istisnasından daha fazla bilgiye ihtiyaç duyar, bu yüzden yapıcıya ekleriz. `cheese` niteliği daha fazla işlem için saklanır."
   ]
  },
  {
   "cell_type": "markdown",
   "metadata": {},
   "source": [
    "Editördeki koda bir göz atın. Daha önce tanımlanan iki istisnayı bir araya getirdik ve küçük bir örnek kod parçasında kullandık.\n",
    "\n",
    "Bu istisnalardan biri, yanlış bir pizza isteği veya çok fazla peynir isteği tespit edildiğinde `make_pizza()` fonksiyonu içinde tetiklenir.\n",
    "\n",
    "Not:\n",
    "\n",
    "- `except TooMuchCheeseError` ile başlayan dalı kaldırmak, tüm istisnaların `PizzaError` olarak sınıflandırılmasına neden olur.\n",
    "- `except PizzaError` ile başlayan dalı kaldırmak, `TooMuchCheeseError` istisnalarının işlenmeden kalmasına ve programın sonlanmasına neden olur.\n",
    "\n",
    "Önceki çözüm, zarif ve verimli olmasına rağmen, önemli bir zayıflığa sahiptir. Yapıcıların tanımlanma biçimi nedeniyle, yeni istisnalar, gerekli argümanların tam listesi olmadan kullanılamaz.\n",
    "\n",
    "Bu zayıflığı, tüm yapıcı parametreleri için varsayılan değerler ayarlayarak ortadan kaldıracağız. Şuna bir bakın:"
   ]
  },
  {
   "cell_type": "code",
   "execution_count": null,
   "metadata": {},
   "outputs": [],
   "source": [
    "class PizzaError(Exception):\n",
    "    def __init__(self, pizza='unknown', message=''):\n",
    "        super().__init__(message)\n",
    "        self.pizza = pizza\n",
    "\n",
    "class TooMuchCheeseError(PizzaError):\n",
    "    def __init__(self, pizza='unknown', cheese='>100', message=''):\n",
    "        super().__init__(pizza, message)\n",
    "        self.cheese = cheese\n",
    "\n",
    "def make_pizza(pizza, cheese):\n",
    "    if pizza not in ['margherita', 'capricciosa', 'calzone']:\n",
    "        raise PizzaError\n",
    "    if cheese > 100:\n",
    "        raise TooMuchCheeseError\n",
    "    print(\"Pizza ready!\")\n",
    "\n",
    "for (pz, ch) in [('calzone', 0), ('margherita', 110), ('mafia', 20)]:\n",
    "    try:\n",
    "        make_pizza(pz, ch)\n",
    "    except TooMuchCheeseError as tmce:\n",
    "        print(tmce, ':', tmce.cheese)\n",
    "    except PizzaError as pe:\n",
    "        print(pe, ':', pe.pizza)\n"
   ]
  },
  {
   "cell_type": "markdown",
   "metadata": {},
   "source": [
    "Artık koşullar izin veriyorsa, sınıf adlarını tek başına kullanmak mümkündür."
   ]
  },
  {
   "cell_type": "markdown",
   "metadata": {},
   "source": [
    "## Özet\n",
    "\n",
    "1. `try` ifadesinin `else` dalı, `try` bloğunun yürütülmesi sırasında herhangi bir istisna meydana gelmediğinde çalıştırılır.\n",
    "\n",
    "2. `try` ifadesinin `finally` dalı her zaman çalıştırılır.\n",
    "\n",
    "3. `except Exception_Name as exception_object` sözdizimi, bekleyen bir istisna hakkında bilgi taşıyan bir nesneyi yakalamanızı sağlar. Nesnenin `args` adlı özelliği (bir demet), nesnenin yapıcısına geçirilen tüm argümanları depolar.\n",
    "\n",
    "4. İstisna sınıfları, yeni yeteneklerle zenginleştirilmek veya yeni tanımlanmış istisnalara uyum sağlamak için genişletilebilir.\n",
    "\n",
    "Örneğin:"
   ]
  },
  {
   "cell_type": "markdown",
   "metadata": {},
   "source": [
    "try:\n",
    "    assert __name__ == \"__main__\"\n",
    "except:\n",
    "    print(\"başarısız\", end=' ')\n",
    "else:\n",
    "    print(\"başarılı\", end=' ')\n",
    "finally:\n",
    "    print(\"tamamlandı\")"
   ]
  },
  {
   "cell_type": "markdown",
   "metadata": {},
   "source": [
    "Kodun çıktısı: `başarılı tamamlandı`."
   ]
  },
  {
   "cell_type": "markdown",
   "metadata": {},
   "source": []
  }
 ],
 "metadata": {
  "language_info": {
   "name": "python"
  }
 },
 "nbformat": 4,
 "nbformat_minor": 2
}
