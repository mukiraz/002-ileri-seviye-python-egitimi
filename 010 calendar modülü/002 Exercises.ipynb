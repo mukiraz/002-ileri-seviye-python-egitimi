{
 "cells": [
  {
   "cell_type": "markdown",
   "metadata": {},
   "source": [
    "### Görev: Takvim Sınıfını Genişletme\n",
    "\n",
    "#### Tahmini Süre\n",
    "30-60 dakika\n",
    "\n",
    "#### Zorluk Seviyesi\n",
    "Kolay\n",
    "\n",
    "#### Hedefler\n",
    "- `Calendar` sınıfını kullanma becerilerini geliştirme.\n",
    "\n",
    "#### Senaryo\n",
    "`Calendar` sınıfının işlevselliğini, bir yıl ve bir haftanın gününü parametre olarak alıp, o yıl içinde belirli bir günün kaç kez geçtiğini döndüren `count_weekday_in_year` adlı yeni bir yöntem ekleyerek genişletin.\n",
    "\n",
    "#### İpuçları:\n",
    "- `Calendar` sınıfını genişleten `MyCalendar` adlı bir sınıf oluşturun.\n",
    "- `count_weekday_in_year` yöntemini `year` ve `weekday` parametreleriyle oluşturun. `weekday` parametresi 0 ile 6 arasında bir değer olmalıdır; burada 0 Pazartesi ve 6 Pazar'dır. Yöntem, gün sayısını bir tamsayı olarak döndürmelidir.\n",
    "- Uygulamanızda `Calendar` sınıfının `monthdays2calendar` yöntemini kullanın."
   ]
  },
  {
   "cell_type": "markdown",
   "metadata": {},
   "source": []
  }
 ],
 "metadata": {
  "language_info": {
   "name": "python"
  }
 },
 "nbformat": 4,
 "nbformat_minor": 2
}
