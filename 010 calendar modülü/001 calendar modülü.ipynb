{
 "cells": [
  {
   "cell_type": "markdown",
   "metadata": {},
   "source": [
    "### `calendar` Modülüne Giriş\n",
    "\n",
    "`datetime` ve `time` modüllerine ek olarak, Python standart kütüphanesi, adından da anlaşılacağı gibi takvimle ilgili işlevler sunan `calendar` adlı bir modül sağlar.\n",
    "\n",
    "Bu modül tarafından sağlanan işlevlerden biri takvimi görüntülemektir. Haftanın günlerinin Pazartesi'den Pazar'a görüntülenmesi önemlidir ve haftanın her günü bir tamsayı ile temsil edilir:\n",
    "\n",
    "| Haftanın Günü | Tamsayı Değeri | Sabit                |\n",
    "|---------------|----------------|----------------------|\n",
    "| Pazartesi     | 0              | `calendar.MONDAY`    |\n",
    "| Salı          | 1              | `calendar.TUESDAY`   |\n",
    "| Çarşamba      | 2              | `calendar.WEDNESDAY` |\n",
    "| Perşembe      | 3              | `calendar.THURSDAY`  |\n",
    "| Cuma          | 4              | `calendar.FRIDAY`    |\n",
    "| Cumartesi     | 5              | `calendar.SATURDAY`  |\n",
    "| Pazar         | 6              | `calendar.SUNDAY`    |\n",
    "\n",
    "Yukarıdaki tablo, haftanın günlerinin `calendar` modülünde nasıl temsil edildiğini gösterir. Haftanın ilk günü olan Pazartesi, 0 değeri ve `calendar.MONDAY` sabiti ile temsil edilirken, haftanın son günü olan Pazar, 6 değeri ve `calendar.SUNDAY` sabiti ile temsil edilir.\n",
    "\n",
    "Aylar için tamsayı değerleri 1'den başlar, yani Ocak ayı 1 ile ve Aralık ayı 12 ile temsil edilir. Ne yazık ki, ayları ifade eden sabitler yoktur.\n",
    "\n",
    "Yukarıdaki bilgiler, bu kursun bu bölümünde `calendar` modülü ile çalışırken size faydalı olacaktır. Ancak, önce bazı basit takvim örnekleriyle başlayalım."
   ]
  },
  {
   "cell_type": "markdown",
   "metadata": {},
   "source": [
    "### İlk Takviminiz\n",
    "\n",
    "`calendar` modülüyle olan maceranıza, tüm yılın takvimini görüntülemeye olanak tanıyan basit bir fonksiyon olan `calendar` ile başlayacaksınız. 2020 yılı takvimini görüntülemek için bu fonksiyonu nasıl kullanacağımıza bir bakalım. Aşağıdaki kodu çalıştırın ve ne olduğunu görün."
   ]
  },
  {
   "cell_type": "code",
   "execution_count": 1,
   "metadata": {},
   "outputs": [
    {
     "name": "stdout",
     "output_type": "stream",
     "text": [
      "                                  2020\n",
      "\n",
      "      January                   February                   March\n",
      "Mo Tu We Th Fr Sa Su      Mo Tu We Th Fr Sa Su      Mo Tu We Th Fr Sa Su\n",
      "       1  2  3  4  5                      1  2                         1\n",
      " 6  7  8  9 10 11 12       3  4  5  6  7  8  9       2  3  4  5  6  7  8\n",
      "13 14 15 16 17 18 19      10 11 12 13 14 15 16       9 10 11 12 13 14 15\n",
      "20 21 22 23 24 25 26      17 18 19 20 21 22 23      16 17 18 19 20 21 22\n",
      "27 28 29 30 31            24 25 26 27 28 29         23 24 25 26 27 28 29\n",
      "                                                    30 31\n",
      "\n",
      "       April                      May                       June\n",
      "Mo Tu We Th Fr Sa Su      Mo Tu We Th Fr Sa Su      Mo Tu We Th Fr Sa Su\n",
      "       1  2  3  4  5                   1  2  3       1  2  3  4  5  6  7\n",
      " 6  7  8  9 10 11 12       4  5  6  7  8  9 10       8  9 10 11 12 13 14\n",
      "13 14 15 16 17 18 19      11 12 13 14 15 16 17      15 16 17 18 19 20 21\n",
      "20 21 22 23 24 25 26      18 19 20 21 22 23 24      22 23 24 25 26 27 28\n",
      "27 28 29 30               25 26 27 28 29 30 31      29 30\n",
      "\n",
      "        July                     August                  September\n",
      "Mo Tu We Th Fr Sa Su      Mo Tu We Th Fr Sa Su      Mo Tu We Th Fr Sa Su\n",
      "       1  2  3  4  5                      1  2          1  2  3  4  5  6\n",
      " 6  7  8  9 10 11 12       3  4  5  6  7  8  9       7  8  9 10 11 12 13\n",
      "13 14 15 16 17 18 19      10 11 12 13 14 15 16      14 15 16 17 18 19 20\n",
      "20 21 22 23 24 25 26      17 18 19 20 21 22 23      21 22 23 24 25 26 27\n",
      "27 28 29 30 31            24 25 26 27 28 29 30      28 29 30\n",
      "                          31\n",
      "\n",
      "      October                   November                  December\n",
      "Mo Tu We Th Fr Sa Su      Mo Tu We Th Fr Sa Su      Mo Tu We Th Fr Sa Su\n",
      "          1  2  3  4                         1          1  2  3  4  5  6\n",
      " 5  6  7  8  9 10 11       2  3  4  5  6  7  8       7  8  9 10 11 12 13\n",
      "12 13 14 15 16 17 18       9 10 11 12 13 14 15      14 15 16 17 18 19 20\n",
      "19 20 21 22 23 24 25      16 17 18 19 20 21 22      21 22 23 24 25 26 27\n",
      "26 27 28 29 30 31         23 24 25 26 27 28 29      28 29 30 31\n",
      "                          30\n",
      "\n"
     ]
    }
   ],
   "source": [
    "import calendar\n",
    "\n",
    "print(calendar.calendar(2020))"
   ]
  },
  {
   "cell_type": "markdown",
   "metadata": {},
   "source": [
    "Görüntülenen sonuç, Unix'te mevcut olan `cal` komutunun sonucuna benzer. Varsayılan takvim formatını değiştirmek isterseniz, aşağıdaki parametreleri kullanabilirsiniz:\n",
    "\n",
    "- `w` – tarih sütunu genişliği (varsayılan 2)\n",
    "- `l` – hafta başına satır sayısı (varsayılan 1)\n",
    "- `c` – ay sütunları arasındaki boşluk sayısı (varsayılan 6)\n",
    "- `m` – sütun sayısı (varsayılan 3)\n",
    "\n",
    "`calendar` fonksiyonu yılı belirtmenizi gerektirir, diğer formatlama ile ilgili parametreler isteğe bağlıdır. Bu parametreleri kendiniz denemenizi öneririz.\n",
    "\n",
    "Yukarıdaki fonksiyona iyi bir alternatif, `prcal` fonksiyonudur. Bu fonksiyon da `calendar` fonksiyonuyla aynı parametreleri alır, ancak takvimi görüntülemek için `print` fonksiyonunun kullanılmasını gerektirmez. Kullanımı şu şekildedir:"
   ]
  },
  {
   "cell_type": "code",
   "execution_count": 2,
   "metadata": {},
   "outputs": [
    {
     "name": "stdout",
     "output_type": "stream",
     "text": [
      "                                  2020\n",
      "\n",
      "      January                   February                   March\n",
      "Mo Tu We Th Fr Sa Su      Mo Tu We Th Fr Sa Su      Mo Tu We Th Fr Sa Su\n",
      "       1  2  3  4  5                      1  2                         1\n",
      " 6  7  8  9 10 11 12       3  4  5  6  7  8  9       2  3  4  5  6  7  8\n",
      "13 14 15 16 17 18 19      10 11 12 13 14 15 16       9 10 11 12 13 14 15\n",
      "20 21 22 23 24 25 26      17 18 19 20 21 22 23      16 17 18 19 20 21 22\n",
      "27 28 29 30 31            24 25 26 27 28 29         23 24 25 26 27 28 29\n",
      "                                                    30 31\n",
      "\n",
      "       April                      May                       June\n",
      "Mo Tu We Th Fr Sa Su      Mo Tu We Th Fr Sa Su      Mo Tu We Th Fr Sa Su\n",
      "       1  2  3  4  5                   1  2  3       1  2  3  4  5  6  7\n",
      " 6  7  8  9 10 11 12       4  5  6  7  8  9 10       8  9 10 11 12 13 14\n",
      "13 14 15 16 17 18 19      11 12 13 14 15 16 17      15 16 17 18 19 20 21\n",
      "20 21 22 23 24 25 26      18 19 20 21 22 23 24      22 23 24 25 26 27 28\n",
      "27 28 29 30               25 26 27 28 29 30 31      29 30\n",
      "\n",
      "        July                     August                  September\n",
      "Mo Tu We Th Fr Sa Su      Mo Tu We Th Fr Sa Su      Mo Tu We Th Fr Sa Su\n",
      "       1  2  3  4  5                      1  2          1  2  3  4  5  6\n",
      " 6  7  8  9 10 11 12       3  4  5  6  7  8  9       7  8  9 10 11 12 13\n",
      "13 14 15 16 17 18 19      10 11 12 13 14 15 16      14 15 16 17 18 19 20\n",
      "20 21 22 23 24 25 26      17 18 19 20 21 22 23      21 22 23 24 25 26 27\n",
      "27 28 29 30 31            24 25 26 27 28 29 30      28 29 30\n",
      "                          31\n",
      "\n",
      "      October                   November                  December\n",
      "Mo Tu We Th Fr Sa Su      Mo Tu We Th Fr Sa Su      Mo Tu We Th Fr Sa Su\n",
      "          1  2  3  4                         1          1  2  3  4  5  6\n",
      " 5  6  7  8  9 10 11       2  3  4  5  6  7  8       7  8  9 10 11 12 13\n",
      "12 13 14 15 16 17 18       9 10 11 12 13 14 15      14 15 16 17 18 19 20\n",
      "19 20 21 22 23 24 25      16 17 18 19 20 21 22      21 22 23 24 25 26 27\n",
      "26 27 28 29 30 31         23 24 25 26 27 28 29      28 29 30 31\n",
      "                          30\n"
     ]
    }
   ],
   "source": [
    "import calendar\n",
    "\n",
    "calendar.prcal(2020)"
   ]
  },
  {
   "cell_type": "markdown",
   "metadata": {},
   "source": [
    "Bu fonksiyon, ek bir `print` ifadesine gerek kalmadan doğrudan 2020 yılının takvimini yazdırır."
   ]
  },
  {
   "cell_type": "markdown",
   "metadata": {},
   "source": [
    "### Belirli Bir Ayın Takvimi\n",
    "\n",
    "`calendar` modülünde, belirli bir ayın takvimini görüntülemenizi sağlayan `month` adlı bir fonksiyon vardır. Kullanımı oldukça basittir, sadece yılı ve ayı belirtmeniz yeterlidir. Aşağıdaki koda göz atın:"
   ]
  },
  {
   "cell_type": "code",
   "execution_count": 3,
   "metadata": {},
   "outputs": [
    {
     "name": "stdout",
     "output_type": "stream",
     "text": [
      "   November 2020\n",
      "Mo Tu We Th Fr Sa Su\n",
      "                   1\n",
      " 2  3  4  5  6  7  8\n",
      " 9 10 11 12 13 14 15\n",
      "16 17 18 19 20 21 22\n",
      "23 24 25 26 27 28 29\n",
      "30\n",
      "\n"
     ]
    }
   ],
   "source": [
    "import calendar\n",
    "\n",
    "print(calendar.month(2020, 11))"
   ]
  },
  {
   "cell_type": "markdown",
   "metadata": {},
   "source": [
    "Bu örnek, Kasım 2020 için takvimi görüntüler. `calendar` fonksiyonunda olduğu gibi, varsayılan formatı aşağıdaki parametrelerle değiştirebilirsiniz:\n",
    "\n",
    "- `w` – tarih sütunu genişliği (varsayılan 2)\n",
    "- `l` – hafta başına satır sayısı (varsayılan 1)\n",
    "\n",
    "Not: `month` fonksiyonuna alternatif olarak `prmonth` fonksiyonunu da kullanabilirsiniz. Bu fonksiyon `month` fonksiyonuyla aynı parametrelere sahiptir, ancak takvimi görüntülemek için `print` fonksiyonunu kullanmanızı gerektirmez."
   ]
  },
  {
   "cell_type": "code",
   "execution_count": 4,
   "metadata": {},
   "outputs": [
    {
     "name": "stdout",
     "output_type": "stream",
     "text": [
      "   November 2020\n",
      "Mo Tu We Th Fr Sa Su\n",
      "                   1\n",
      " 2  3  4  5  6  7  8\n",
      " 9 10 11 12 13 14 15\n",
      "16 17 18 19 20 21 22\n",
      "23 24 25 26 27 28 29\n",
      "30\n"
     ]
    }
   ],
   "source": [
    "import calendar\n",
    "\n",
    "calendar.prmonth(2020, 11)"
   ]
  },
  {
   "cell_type": "markdown",
   "metadata": {},
   "source": [
    "Bu fonksiyon, ek bir `print` ifadesine gerek kalmadan doğrudan belirli bir ayın takvimini yazdırır."
   ]
  },
  {
   "cell_type": "markdown",
   "metadata": {},
   "source": [
    "### `setfirstweekday()` Fonksiyonu\n",
    "\n",
    "Varsayılan olarak, `calendar` modülünde haftanın ilk günü Pazartesi'dir. Ancak, bu davranışı `setfirstweekday` adlı bir fonksiyon kullanarak değiştirebilirsiniz.\n",
    "\n",
    "Haftanın günlerini ve bunların tamsayı değerleriyle temsil edilmesini gösteren tabloyu hatırlıyor musunuz? Şimdi bu tabloyu kullanma zamanı çünkü `setfirstweekday` metodu, haftanın gününü tamsayı değeri olarak ifade eden bir parametre gerektirir. Aşağıdaki örneğe bir göz atın:"
   ]
  },
  {
   "cell_type": "code",
   "execution_count": 5,
   "metadata": {},
   "outputs": [
    {
     "name": "stdout",
     "output_type": "stream",
     "text": [
      "   December 2020\n",
      "Su Mo Tu We Th Fr Sa\n",
      "       1  2  3  4  5\n",
      " 6  7  8  9 10 11 12\n",
      "13 14 15 16 17 18 19\n",
      "20 21 22 23 24 25 26\n",
      "27 28 29 30 31\n"
     ]
    }
   ],
   "source": [
    "import calendar\n",
    "\n",
    "calendar.setfirstweekday(calendar.SUNDAY)\n",
    "calendar.prmonth(2020, 12)"
   ]
  },
  {
   "cell_type": "markdown",
   "metadata": {},
   "source": [
    "Bu örnekte, değeri 6 olan `calendar.SUNDAY` sabitini kullanıyoruz. Bu değeri doğrudan `setfirstweekday` fonksiyonuna geçirebilirsiniz, ancak sabit kullanmak daha şıktır.\n",
    "\n",
    "Sonuç olarak, haftanın ilk günü olarak Pazar'ı gösteren Aralık 2020 takvimini elde ederiz."
   ]
  },
  {
   "cell_type": "markdown",
   "metadata": {},
   "source": [
    "### `weekday()` Fonksiyonu\n",
    "\n",
    "`calendar` modülünün sağladığı bir diğer kullanışlı fonksiyon, belirli bir yıl, ay ve gün için haftanın gününü tamsayı değeri olarak döndüren `weekday` fonksiyonudur. Bunu pratikte görelim.\n",
    "\n",
    "24 Aralık 2020 tarihinin haftanın hangi günü olduğunu kontrol etmek için aşağıdaki kodu çalıştırın:"
   ]
  },
  {
   "cell_type": "code",
   "execution_count": 6,
   "metadata": {},
   "outputs": [
    {
     "name": "stdout",
     "output_type": "stream",
     "text": [
      "3\n"
     ]
    }
   ],
   "source": [
    "import calendar\n",
    "print(calendar.weekday(2020, 12, 24))"
   ]
  },
  {
   "cell_type": "markdown",
   "metadata": {},
   "source": [
    "**Sonuç:**\n",
    "```\n",
    "3\n",
    "```\n",
    "\n",
    "`weekday` fonksiyonu 3 değerini döner, bu da 24 Aralık 2020'nin bir Perşembe olduğunu gösterir.\n",
    "\n",
    "### `weekheader()` Fonksiyonu\n",
    "\n",
    "Muhtemelen takvimin kısaltılmış formda haftalık başlıklar içerdiğini fark etmişsinizdir. Gerektiğinde, `weekheader` yöntemi ile kısa hafta isimlerini alabilirsiniz.\n",
    "\n",
    "`weekheader` yöntemi, haftanın bir günü için karakter genişliğini belirtmenizi gerektirir. Sağladığınız genişlik 3'ten büyükse, yine de üç karakterden oluşan kısaltılmış hafta isimlerini alırsınız.\n",
    "\n",
    "Daha küçük bir başlık nasıl alınır, bir bakalım. Aşağıdaki kodu çalıştırın:"
   ]
  },
  {
   "cell_type": "code",
   "execution_count": 7,
   "metadata": {},
   "outputs": [
    {
     "name": "stdout",
     "output_type": "stream",
     "text": [
      "Su Mo Tu We Th Fr Sa\n"
     ]
    }
   ],
   "source": [
    "import calendar\n",
    "print(calendar.weekheader(2))"
   ]
  },
  {
   "cell_type": "markdown",
   "metadata": {},
   "source": [
    "**Sonuç:**\n",
    "```\n",
    "Mo Tu We Th Fr Sa Su\n",
    "```\n",
    "\n",
    "**Not:** Haftanın ilk gününü `setfirstweekday` fonksiyonunu kullanarak değiştirirseniz, bu `weekheader` fonksiyonunun sonucunu etkiler.\n",
    "\n",
    "### Bir Yılın Artık Yıl Olduğunu Kontrol Etme\n",
    "\n",
    "`calendar` modülü, yılların artık yıl olup olmadığını kontrol etmek için iki kullanışlı fonksiyon sağlar.\n",
    "\n",
    "İlk fonksiyon olan `isleap`, geçilen yılın artık yıl olup olmadığını kontrol eder ve `True` veya `False` döner. İkinci fonksiyon olan `leapdays`, belirtilen yıl aralığındaki artık yıl sayısını döner.\n",
    "\n",
    "Aşağıdaki kodu çalıştırın:"
   ]
  },
  {
   "cell_type": "code",
   "execution_count": 8,
   "metadata": {},
   "outputs": [
    {
     "name": "stdout",
     "output_type": "stream",
     "text": [
      "True\n",
      "3\n"
     ]
    }
   ],
   "source": [
    "import calendar\n",
    "\n",
    "print(calendar.isleap(2020))\n",
    "print(calendar.leapdays(2010, 2021))  # 2021 dahil edilmez."
   ]
  },
  {
   "cell_type": "markdown",
   "metadata": {},
   "source": [
    "**Sonuç:**\n",
    "```\n",
    "True\n",
    "3\n",
    "```\n",
    "\n",
    "Örnekte, 3 sonucu elde edilir çünkü 2010'dan 2020'ye kadar olan dönemde sadece üç artık yıl vardır (not: 2021 dahil edilmemiştir). Bu yıllar 2012, 2016 ve 2020'dir."
   ]
  },
  {
   "cell_type": "markdown",
   "metadata": {},
   "source": [
    "### Takvim Oluşturma Sınıfları\n",
    "\n",
    "Sunulan fonksiyonlar, `calendar` modülünün sunduğu tüm özellikler değildir. Aşağıdaki sınıfları da kullanabilirsiniz:\n",
    "\n",
    "- `calendar.Calendar` – Takvim verilerini biçimlendirmek için yöntemler sağlar.\n",
    "- `calendar.TextCalendar` – Normal metin takvimleri oluşturmak için kullanılır.\n",
    "- `calendar.HTMLCalendar` – HTML takvimleri oluşturmak için kullanılır.\n",
    "- `calendar.LocalTextCalendar` – `calendar.TextCalendar` sınıfının bir alt sınıfıdır. Bu sınıfın yapıcısı, uygun ayları ve haftanın günlerini döndürmek için kullanılan bir `locale` parametresi alır.\n",
    "- `calendar.LocalHTMLCalendar` – `calendar.HTMLCalendar` sınıfının bir alt sınıfıdır. Bu sınıfın yapıcısı, uygun ayları ve haftanın günlerini döndürmek için kullanılan bir `locale` parametresi alır.\n",
    "\n",
    "Bu kurs sırasında, `calendar` modülünün fonksiyonlarını tartışırken metin takvimleri oluşturma fırsatınız oldu. Şimdi yeni bir şeyler denemenin zamanı geldi ve `Calendar` sınıfının yöntemlerine daha yakından bakalım.\n",
    "\n",
    "### Takvim Nesnesi Oluşturma\n",
    "\n",
    "`Calendar` sınıfının yapıcısı, varsayılan olarak 0 (Pazartesi) olan `firstweekday` adlı bir isteğe bağlı parametre alır.\n",
    "\n",
    "`firstweekday` parametresi 0-6 arasında bir tamsayı olmalıdır. Bu amaçla zaten bilinen sabitleri kullanabilirsiniz. Koda bir göz atın:"
   ]
  },
  {
   "cell_type": "code",
   "execution_count": 9,
   "metadata": {},
   "outputs": [
    {
     "name": "stdout",
     "output_type": "stream",
     "text": [
      "6 0 1 2 3 4 5 "
     ]
    }
   ],
   "source": [
    "import calendar  \n",
    "\n",
    "c = calendar.Calendar(calendar.SUNDAY)\n",
    "\n",
    "for weekday in c.iterweekdays():\n",
    "    print(weekday, end=\" \")"
   ]
  },
  {
   "cell_type": "markdown",
   "metadata": {},
   "source": [
    "**Çıktı:**\n",
    "```\n",
    "6 0 1 2 3 4 5\n",
    "```\n",
    "\n",
    "Kod örneği, haftanın gün numaraları için bir yineleyici döndüren `Calendar` sınıfının `iterweekdays` yöntemini kullanır.\n",
    "\n",
    "Döndürülen ilk değer her zaman `firstweekday` özelliğinin değerine eşittir. İlk döndürülen değer 6 olduğundan, haftanın Pazar günü başladığı anlamına gelir.\n",
    "\n",
    "### `itermonthdates()` Yöntemi\n",
    "\n",
    "`Calendar` sınıfı, bir yineleyici döndüren birkaç yönteme sahiptir. Bunlardan biri, yıl ve ay belirterek tüm günleri döndüren `itermonthdates` yöntemidir. Belirtilen ay ve yıldaki tüm günleri ve haftanın tamamlanması için gerekli olan ayın başından veya sonundan önceki veya sonraki günleri döndürür. Her gün bir `datetime.date` nesnesi ile temsil edilir. Aşağıdaki örneğe bakın:"
   ]
  },
  {
   "cell_type": "code",
   "execution_count": 10,
   "metadata": {},
   "outputs": [
    {
     "name": "stdout",
     "output_type": "stream",
     "text": [
      "2019-10-28 2019-10-29 2019-10-30 2019-10-31 2019-11-01 2019-11-02 2019-11-03 2019-11-04 2019-11-05 2019-11-06 2019-11-07 2019-11-08 2019-11-09 2019-11-10 2019-11-11 2019-11-12 2019-11-13 2019-11-14 2019-11-15 2019-11-16 2019-11-17 2019-11-18 2019-11-19 2019-11-20 2019-11-21 2019-11-22 2019-11-23 2019-11-24 2019-11-25 2019-11-26 2019-11-27 2019-11-28 2019-11-29 2019-11-30 2019-12-01 "
     ]
    }
   ],
   "source": [
    "import calendar  \n",
    "\n",
    "c = calendar.Calendar()\n",
    "\n",
    "for date in c.itermonthdates(2019, 11):\n",
    "    print(date, end=\" \")"
   ]
  },
  {
   "cell_type": "markdown",
   "metadata": {},
   "source": [
    "**Çıktı:**\n",
    "```\n",
    "2019-10-28 2019-10-29 2019-10-30 2019-10-31 2019-11-01 2019-11-02 2019-11-03 2019-11-04 2019-11-05 2019-11-06 2019-11-07 2019-11-08 2019-11-09 2019-11-10 2019-11-11 2019-11-12 2019-11-13 2019-11-14 2019-11-15 2019-11-16 2019-11-17 2019-11-18 2019-11-19 2019-11-20 2019-11-21 2019-11-22 2019-11-23 2019-11-24 2019-11-25 2019-11-26 2019-11-27 2019-11-28 2019-11-29 2019-11-30 2019-12-01 \n",
    "```\n",
    "\n",
    "Kod, Kasım 2019'daki tüm günleri görüntüler. Kasım 2019'un ilk günü bir Cuma olduğundan, haftayı tamamlamak için ayın başındaki günler de döndürülür: 28/10/2019 (Pazartesi), 29/10/2019 (Salı), 30/10/2019 (Çarşamba) ve 31/10/2019 (Perşembe).\n",
    "\n",
    "Kasım 2019'un son günü Cumartesi olduğundan, haftayı tamamlamak için bir sonraki gün olan 01/12/2019 (Pazar) da döndürülür.\n",
    "\n",
    "### Yineleyici Döndüren Diğer Yöntemler\n",
    "\n",
    "`Calendar` sınıfında, yıl ve ayı parametre olarak alan ve günlerin yineleyicisini döndüren `itermonthdays` adlı başka bir kullanışlı yöntem vardır.\n",
    "\n",
    "Örnek:"
   ]
  },
  {
   "cell_type": "code",
   "execution_count": 11,
   "metadata": {},
   "outputs": [
    {
     "name": "stdout",
     "output_type": "stream",
     "text": [
      "0 0 0 0 1 2 3 4 5 6 7 8 9 10 11 12 13 14 15 16 17 18 19 20 21 22 23 24 25 26 27 28 29 30 0 "
     ]
    }
   ],
   "source": [
    "import calendar  \n",
    "\n",
    "c = calendar.Calendar()\n",
    "\n",
    "for day in c.itermonthdays(2019, 11):\n",
    "    print(day, end=\" \")"
   ]
  },
  {
   "cell_type": "markdown",
   "metadata": {},
   "source": [
    "**Çıktı:**\n",
    "```\n",
    "0 0 0 0 1 2 3 4 5 6 7 8 9 10 11 12 13 14 15 16 17 18 19 20 21 22 23 24 25 26 27 28 29 30 0 \n",
    "```\n",
    "\n",
    "Kod örneğinin döndürdüğü birçok 0'ı fark edeceksiniz. Bunlar, haftayı tamamlamak için eklenen belirtilen ay aralığı dışındaki günleri temsil eder.\n",
    "\n",
    "İlk dört sıfır 28/10/2019 (Pazartesi), 29/10/2019 (Salı), 30/10/2019 (Çarşamba) ve 31/10/2019 (Perşembe) günlerini temsil eder. Kalan sayılar ay içindeki günleri temsil eder, son değer olan 0 ise 01/12/2019 (Pazar) tarihini temsil eder.\n",
    "\n",
    "`Calendar` sınıfında, döndürülen veriler açısından farklılık gösteren dört benzer yöntem daha vardır:\n",
    "\n",
    "- `itermonthdays2` – Günleri, bir ayın günü numarası ve haftanın günü numarasından oluşan demetler şeklinde döner.\n",
    "- `itermonthdays3` – Günleri, bir yıl, bir ay ve bir ayın günü numaralarından oluşan demetler şeklinde döner. Bu yöntem sürüm 3.7'den beri kullanılabilir.\n",
    "- `itermonthdays4` – Günleri, bir yıl, bir ay, bir ayın günü ve haftanın günü numaralarından oluşan demetler şeklinde döner. Bu yöntem Python sürüm 3.7'den beri kullanılabilir.\n",
    "\n",
    "Test amacıyla yukarıdaki örneği kullanarak, açıklanan yöntemlerin döndürdüğü değerlerin pratikte nasıl göründüğünü görebilirsiniz."
   ]
  },
  {
   "cell_type": "markdown",
   "metadata": {},
   "source": [
    "### `monthdays2calendar()` Yöntemi\n",
    "\n",
    "`Calendar` sınıfında, [belgelerde](https://docs.python.org/3/library/calendar.html) daha fazla bilgi edinebileceğiniz başka yararlı yöntemler de vardır.\n",
    "\n",
    "Bu yöntemlerden biri, yıl ve ayı alan ve belirtilen ay içindeki haftaların bir listesini döndüren `monthdays2calendar` yöntemidir. Her hafta, gün numaraları ve hafta gün numaralarından oluşan demetler (tuple) şeklindedir. Aşağıdaki koda bakın:"
   ]
  },
  {
   "cell_type": "code",
   "execution_count": 12,
   "metadata": {},
   "outputs": [
    {
     "name": "stdout",
     "output_type": "stream",
     "text": [
      "[(0, 0), (1, 1), (2, 2), (3, 3), (4, 4), (5, 5), (6, 6)]\n",
      "[(7, 0), (8, 1), (9, 2), (10, 3), (11, 4), (12, 5), (13, 6)]\n",
      "[(14, 0), (15, 1), (16, 2), (17, 3), (18, 4), (19, 5), (20, 6)]\n",
      "[(21, 0), (22, 1), (23, 2), (24, 3), (25, 4), (26, 5), (27, 6)]\n",
      "[(28, 0), (29, 1), (30, 2), (31, 3), (0, 4), (0, 5), (0, 6)]\n"
     ]
    }
   ],
   "source": [
    "import calendar  \n",
    "\n",
    "c = calendar.Calendar()\n",
    "\n",
    "for data in c.monthdays2calendar(2020, 12):\n",
    "    print(data)"
   ]
  },
  {
   "cell_type": "markdown",
   "metadata": {},
   "source": [
    "Ay dışındaki günlerin numaralarının 0 olarak temsil edildiğine ve hafta gün numaralarının 0'dan 6'ya kadar olduğuna dikkat edin; burada 0 Pazartesi ve 6 Pazar'dır.\n",
    "\n",
    "Bu yöntem, yakında yapacağınız bir laboratuvar görevi için faydalı olabilir. Şimdi öğrendiklerimizi özetleyelim.\n",
    "\n",
    "### Özet\n",
    "\n",
    "1. **Haftanın Günlerinin Temsili:**\n",
    "   `calendar` modülünde, haftanın günleri Pazartesi'den Pazar'a kadar görüntülenir. Her gün bir tamsayı ile temsil edilir; Pazartesi 0, Pazar ise 6 ile gösterilir.\n",
    "\n",
    "2. **Yıllık Takvimi Görüntüleme:**\n",
    "   Herhangi bir yıl için takvim görüntülemek için `calendar` fonksiyonunu yıl argümanı ile çağırın:\n",
    "\n",
    "   ```python\n",
    "   import calendar\n",
    "   print(calendar.calendar(2020))\n",
    "   ```\n",
    "\n",
    "   Not: Alternatif olarak `prcal` fonksiyonu kullanılabilir, bu fonksiyon aynı parametreleri alır ancak takvimi görüntülemek için `print` fonksiyonunu kullanmanız gerekmez.\n",
    "\n",
    "3. **Aylık Takvimi Görüntüleme:**\n",
    "   Herhangi bir yılın herhangi bir ayı için takvim görüntülemek için `month` fonksiyonunu yıl ve ay parametreleri ile çağırın:\n",
    "\n",
    "   ```python\n",
    "   import calendar\n",
    "   print(calendar.month(2020, 9))\n",
    "   ```\n",
    "\n",
    "   Not: `prmonth` fonksiyonunu da kullanabilirsiniz, bu fonksiyon aynı parametrelere sahiptir ancak takvimi görüntülemek için `print` fonksiyonunu kullanmanız gerekmez.\n",
    "\n",
    "4. **Haftanın İlk Gününü Değiştirme:**\n",
    "   `setfirstweekday` fonksiyonu, haftanın ilk gününü değiştirmenizi sağlar. 0'dan 6'ya kadar bir değer alır; 0 Pazar ve 6 Cumartesi'dir.\n",
    "\n",
    "5. **Haftanın Gününü Alma:**\n",
    "   `weekday` fonksiyonu, belirtilen yıl, ay ve gün için haftanın gününü tamsayı olarak döner:\n",
    "\n",
    "   ```python\n",
    "   import calendar\n",
    "   print(calendar.weekday(2020, 9, 29))  # 1 döner, bu da Salı anlamına gelir.\n",
    "   ```\n",
    "\n",
    "6. **Kısa Hafta İsimlerini Alma:**\n",
    "   `weekheader` fonksiyonu, haftanın günlerinin kısa isimlerini döner. Bu yöntem, haftanın bir günü için karakter genişliğini belirtmenizi gerektirir:\n",
    "\n",
    "   ```python\n",
    "   import calendar\n",
    "   print(calendar.weekheader(2))  # Çıktı: Mo Tu We Th Fr Sa Su\n",
    "   ```\n",
    "\n",
    "7. **Artık Yılı Kontrol Etme:**\n",
    "   `isleap` fonksiyonu, bir yılın artık yıl olup olmadığını kontrol eder:\n",
    "\n",
    "   ```python\n",
    "   import calendar\n",
    "   print(calendar.isleap(2020))  # Çıktı: True\n",
    "   ```\n",
    "\n",
    "8. **Takvim Nesnesi Oluşturma:**\n",
    "   `Calendar` sınıfını kullanarak bir takvim nesnesi oluşturabilirsiniz. `firstweekday` parametresi ile haftanın ilk gününü değiştirebilirsiniz:\n",
    "\n",
    "   ```python\n",
    "   import calendar  \n",
    "\n",
    "   c = calendar.Calendar(2)\n",
    "\n",
    "   for weekday in c.iterweekdays():\n",
    "       print(weekday, end=\" \")\n",
    "   # Sonuç: 2 3 4 5 6 0 1\n",
    "   ```\n",
    "\n",
    "   `iterweekdays` yöntemi, haftanın gün numaraları için bir yineleyici döner. Döndürülen ilk değer her zaman `firstweekday` özelliğinin değerine eşittir."
   ]
  },
  {
   "cell_type": "markdown",
   "metadata": {},
   "source": []
  }
 ],
 "metadata": {
  "kernelspec": {
   "display_name": "Python 3 (ipykernel)",
   "language": "python",
   "name": "python3"
  },
  "language_info": {
   "codemirror_mode": {
    "name": "ipython",
    "version": 3
   },
   "file_extension": ".py",
   "mimetype": "text/x-python",
   "name": "python",
   "nbconvert_exporter": "python",
   "pygments_lexer": "ipython3",
   "version": "3.11.7"
  }
 },
 "nbformat": 4,
 "nbformat_minor": 4
}
