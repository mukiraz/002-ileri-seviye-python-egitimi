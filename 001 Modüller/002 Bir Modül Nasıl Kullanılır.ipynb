{
 "cells": [
  {
   "cell_type": "markdown",
   "id": "443006aa-b16c-43bb-8bff-85bf56337ac5",
   "metadata": {},
   "source": [
    "## Bir Modül Nasıl Kullanılır?\r\n",
    "\r\n",
    "#### Modül Nedir?\r\n",
    "\r\n",
    "Python Tutorial'a göre, bir modül gerekli olduğunda içe aktarılabilecek ve kullanılabilecek Python tanımlamaları ve ifadeleri içeren bir dosyadır.\r\n",
    "\r\n",
    "#### Modülleri Kullanma: İki Perspektif\r\n",
    "\r\n",
    "1. **Kullanıcı vs. Sağlayıcı Kavramı**:\r\n",
    "   - **Kullanıcı Perspektifi**: Bu en yaygın senaryodur; burada başka birinin yazdığı veya daha büyük bir projenin parçası olarak kendinizin oluşturduğu mevcut bir modülü kullanırsınız. Bu durumda, modülün kullanıcısısınız.\r\n",
    "   - **Sağlayıcı Perspektifi**: Bu durum, kendi kullanımınız için veya diğer programcıların işini kolaylaştırmak için yeni bir modül oluşturduğunuzda ortaya çıkar. Burada, modülün sağlayıcısısınız.\r\n",
    "\r\n",
    "Bu perspektifleri ayrı ayrı inceleyelim.\r\n",
    "\r\n",
    "#### Modülleri Kullanma\r\n",
    "\r\n",
    "Bir modül adıyla tanımlanır. Herhangi bir modülü kullanmak için adını bilmeniz gerekir. Python, birlikte gelen çok sayıda önceden yüklenmiş modülle birlikte gelir; bunları Python'un \"ekstra donanımları\" olarak düşünebilirsiniz.\r\n",
    "\r\n",
    "Bu modüller, yerleşik işlevlerle birlikte, Python standart kütüphanesini oluşturur—burada modüller kitap, klasörler ise raflar gibi işlev görür. Bu kütüphanedeki tüm \"ciltlerin\" tam listesini görmek için burayı ziyaret edebilirsiniz: [Python Standart Kütüphanesi](https://docs.python.org/3/library/index.html).\r\n",
    "\r\n",
    "Her modül, varlıklar (bir kitabın bölümleri gibi) içerir; bu varlıklar işlevler, değişkenler, sabitler, sınıflar veya nesneler olabilir. Belirli bir modüle nasıl erişeceğinizi bildiğinizde, onun içerdiği herhangi bir varlıktan faydalanabilirsiniz.\r\n",
    "\r\n",
    "#### Math Modülüne Erişme\r\n",
    "\r\n",
    "En sık kullanılan modüllerden biri olan `math` modülü ile başlayalım. Adından da anlaşılacağı gibi, bu modül, `sin()` veya `log()` gibi matematiksel işlevlerin kullanılmasını gerektiren hesaplamaları verimli bir şekilde gerçekleştirmek için zengin bir varlık koleksiyonu (sadece işlevler değil) içerir."
   ]
  }
 ],
 "metadata": {
  "kernelspec": {
   "display_name": "Python 3 (ipykernel)",
   "language": "python",
   "name": "python3"
  },
  "language_info": {
   "codemirror_mode": {
    "name": "ipython",
    "version": 3
   },
   "file_extension": ".py",
   "mimetype": "text/x-python",
   "name": "python",
   "nbconvert_exporter": "python",
   "pygments_lexer": "ipython3",
   "version": "3.11.7"
  }
 },
 "nbformat": 4,
 "nbformat_minor": 5
}
