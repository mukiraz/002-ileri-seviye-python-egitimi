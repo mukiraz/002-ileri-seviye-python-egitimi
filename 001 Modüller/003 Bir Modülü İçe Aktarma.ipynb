{
 "cells": [
  {
   "cell_type": "markdown",
   "id": "80b25cff-1f3a-4eb1-b244-da1b9adf9717",
   "metadata": {},
   "source": [
    "## Bir Modülü İçe Aktarma\r\n",
    "\r\n",
    "#### Bir Modülü Kullanılabilir Hale Getirme\r\n",
    "\r\n",
    "Bir modülü kullanabilmek için onu içe aktarmanız gerekir; bu, bir kitabı raftan almak gibidir. Bu işlem, `import` ifadesi kullanılarak yapılır. `Import` ifadesi, belirli sonuçları olan bir anahtar kelimedir.\r\n",
    "\r\n",
    "#### `import` Anahtar Kelimesi\r\n",
    "\r\n",
    "Örneğin, `math` modülünden iki öğeyi kullanmak istediğinizi varsayalım:\r\n",
    "\r\n",
    "- Çift hassasiyetli kayan nokta aritmetiği kullanarak mümkün olan en hassas şekilde π (pi) değerini temsil eden bir sabit. Python'da değişken adlarında Yunanca harfler kullanılabilir olsa da, sabit `pi` olarak adlandırılır; bu, özellikle Yunanca klavye kullanmayanlar için daha uygun bir çözümdür.\r\n",
    "- Bir sayının sinüsünü hesaplayan `sin()` adlı bir işlev.\r\n",
    "\r\n",
    "Bu iki öğe de `math` modülünde bulunur, ancak onları nasıl kullanabileceğiniz, modülü nasıl içe aktardığınıza bağlıdır.\r\n",
    "\r\n",
    "#### Modül İçe Aktarma: Temel Yöntem\r\n",
    "\r\n",
    "Bir modülü içe aktarmanın en basit yolu, `import` ifadesini şu şekilde kullanmaktır:\r\n",
    "\r\n",
    "```python\r\n",
    "import math\r\n",
    "```\r\n",
    "\r\n",
    "Bu ifade şunları içerir:\r\n",
    "\r\n",
    "- `import` anahtar kelimesi.\r\n",
    "- İçe aktarılacak modülün adı.\r\n",
    "\r\n",
    "`Import` ifadesi kodunuzun herhangi bir yerine yerleştirilebilir, ancak modülün özelliklerini kullanmadan önce yer almalıdır.\r\n",
    "\r\n",
    "#### Birden Fazla Modül İçe Aktarma\r\n",
    "\r\n",
    "Birden fazla modül içe aktarmanız gerekirse, bunu şu şekillerde yapabilirsiniz:\r\n",
    "\r\n",
    "- Her modül için ayrı `import` ifadeleri kullanarak:\r\n",
    "\r\n",
    "```python\r\n",
    "import math\r\n",
    "import sys\r\n",
    "```\r\n",
    "\r\n",
    "- Veya tek bir `import` ifadesinde birden fazla modülü listeleyerek:\r\n",
    "\r\n",
    "```python\r\n",
    "import math, sys\r\n",
    "```\r\n",
    "\r\n",
    "Bu tek ifade, hem `math` hem de `sys` modüllerini içe aktarır. Listeye ihtiyacınız olan kadar modül ekleyebilirsiniz.nclude as many modules as you need in the list."
   ]
  }
 ],
 "metadata": {
  "kernelspec": {
   "display_name": "Python 3 (ipykernel)",
   "language": "python",
   "name": "python3"
  },
  "language_info": {
   "codemirror_mode": {
    "name": "ipython",
    "version": 3
   },
   "file_extension": ".py",
   "mimetype": "text/x-python",
   "name": "python",
   "nbconvert_exporter": "python",
   "pygments_lexer": "ipython3",
   "version": "3.11.7"
  }
 },
 "nbformat": 4,
 "nbformat_minor": 5
}
