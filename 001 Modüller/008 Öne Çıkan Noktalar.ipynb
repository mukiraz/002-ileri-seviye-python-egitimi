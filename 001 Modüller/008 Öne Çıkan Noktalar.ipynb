{
 "cells": [
  {
   "cell_type": "markdown",
   "id": "92a176ad-a6c7-401b-a617-fcc3391888ee",
   "metadata": {},
   "source": [
    "### Bir Modülü İçe Aktarma: Devamı\n",
    "\n",
    "Eğer \"math\" kelimesini değiştirmeniz gerekiyorsa, kendi adınızı kullanabilirsiniz, örnekte olduğu gibi:\n",
    "\n",
    "```python\n",
    "import math as m\n",
    "\n",
    "print(m.sin(m.pi/2))\n",
    "```\n",
    "\n",
    "Not: Bir takma adıyla başarılı bir şekilde içe aktardıktan sonra, orijinal modül adı erişilemez hale gelir ve kullanılmamalıdır.\n",
    "\n",
    "Öte yandan, `from modül import isim` varyantını kullandığınızda ve bir varlığın adını değiştirmeniz gerekiyorsa, varlığın adı için bir takma ad oluşturabilirsiniz. Bu, adın sizin seçtiğiniz takma adla değiştirilmesine neden olur.\n",
    "\n",
    "İşte nasıl yapılacağı:\n",
    "\n",
    "```python\n",
    "from modül import isim as takma_ad\n",
    "```\n",
    "\n",
    "Daha önce olduğu gibi, orijinal (takma adlandırılmamış) ad erişilemez hale gelir.\n",
    "\n",
    "`isim as takma_ad` sözdizimi tekrarlanabilir - çoğaltılmış ifadeleri ayırmak için virgül kullanın, aşağıdaki gibi:\n",
    "\n",
    "```python\n",
    "from modül import n as a, m as b, o as c\n",
    "```\n",
    "\n",
    "Örnek biraz garip görünebilir, ama işe yarar:\n",
    "\n",
    "```python\n",
    "from math import pi as PI, sin as sine\n",
    "\n",
    "print(sine(PI/2))\n",
    "```\n",
    "\n",
    "Şimdi modüllerin temellerini kullanmayı öğrendiniz. Size bazı modülleri ve bunların kullanışlı varlıklarından bazılarını gösterelim."
   ]
  },
  {
   "cell_type": "code",
   "execution_count": 14,
   "id": "28e3b29a-4d1f-40f3-8621-a1ad58644698",
   "metadata": {},
   "outputs": [
    {
     "name": "stdout",
     "output_type": "stream",
     "text": [
      "1.0\n"
     ]
    }
   ],
   "source": [
    "from math import pi as PI, sin as sine\n",
    "\n",
    "print(sine(PI/2))"
   ]
  },
  {
   "cell_type": "markdown",
   "id": "2db8dfc4-74b7-466e-9f48-bccd75914674",
   "metadata": {},
   "source": [
    "### Öne Çıkan Noktalar\n",
    "\n",
    "1. Bir modülü tamamen içe aktarmak için, `import modül_adı` ifadesini kullanabilirsiniz. Birden fazla modülü virgülle ayırarak aynı anda içe aktarabilirsiniz. Örneğin:\n",
    "\n",
    "```python\n",
    "import mod1\n",
    "import mod2, mod3, mod4\n",
    "```\n",
    "\n",
    "Sonraki form stilistik nedenlerle tavsiye edilmez, daha iyi ve düzenli bir ifade için, aynı niyeti daha açık ve açık bir şekilde ifade etmek tercih edilir, örneğin:\n",
    "\n",
    "```python\n",
    "import mod2\n",
    "import mod3\n",
    "import mod4\n",
    "```\n",
    "\n",
    "2. Bir modül yukarıdaki yöntemle içe aktarıldığında, varlıklarına erişmek için onlara nokta notasyonunu kullanarak önek eklemeniz gerekir. Örneğin:\n",
    "\n",
    "```python\n",
    "import benim_modülüm\n",
    "\n",
    "sonuc = benim_modülüm.benim_fonksiyonum(benim_modülüm.benim_verim)\n",
    "```\n",
    "\n",
    "Burada, `my_module` modülünden iki varlık kullanıyoruz: `benim_fonksiyonum()` adında bir işlev ve `benim_verim` adında bir değişken. Her ikisi de `benim_modülüm` ile öneklenmelidir. Bu, kodunuzun ad alanında bulunan isimlerle çakışmaları önler.\n",
    "\n",
    "3. Bir modülden bireysel varlıkları önek olmadan içe aktarabilirsiniz. Örneğin:\n",
    "\n",
    "```python\n",
    "from modül import benim_fonksiyonum, benim_verim\n",
    "\n",
    "sonuc = benim_fonksiyonum(benim_verim)\n",
    "```\n",
    "\n",
    "Çekiciliğine rağmen, bu yöntem kodunuzun ad alanıyla çakışma riski nedeniyle tavsiye edilmez.\n",
    "\n",
    "4. Bir modülden tüm varlıkları içe aktarmanın en genel biçimi şöyledir:\n",
    "\n",
    "```python\n",
    "from benim_modülüm import *\n",
    "\n",
    "sonuc = benim_fonksiyonum(benim_verim)\n",
    "```\n",
    "\n",
    "Not: Bu içe aktarma türü, önceki nedenlerle tavsiye edilmez (ad çakışma riski burada daha da yüksektir).\n",
    "\n",
    "5. İçe aktarılan varlıklara anında isim değişikliği yapabilirsiniz, bunun için `as` anahtar kelimesini kullanabilirsiniz. Örneğin:\n",
    "\n",
    "```python\n",
    "from modül import benim_fonksiyonum as fun, benim_verim as veri\n",
    "\n",
    "sonuc = fun(veri)\n",
    "```"
   ]
  },
  {
   "cell_type": "code",
   "execution_count": null,
   "id": "32dcb646-78cd-4340-9e4f-66dc860af793",
   "metadata": {},
   "outputs": [],
   "source": []
  }
 ],
 "metadata": {
  "kernelspec": {
   "display_name": "Python 3 (ipykernel)",
   "language": "python",
   "name": "python3"
  },
  "language_info": {
   "codemirror_mode": {
    "name": "ipython",
    "version": 3
   },
   "file_extension": ".py",
   "mimetype": "text/x-python",
   "name": "python",
   "nbconvert_exporter": "python",
   "pygments_lexer": "ipython3",
   "version": "3.11.7"
  }
 },
 "nbformat": 4,
 "nbformat_minor": 5
}
