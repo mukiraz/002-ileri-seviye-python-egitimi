{
 "cells": [
  {
   "cell_type": "markdown",
   "id": "85f8ee15-b79e-4e65-887c-064d015357b5",
   "metadata": {},
   "source": [
    "## Namespace (İsim Uzayı) Kavramı"
   ]
  },
  {
   "cell_type": "markdown",
   "id": "cb9cfd19-5712-4fb1-84e7-de1eea3876f5",
   "metadata": {},
   "source": [
    "#### Namespace Kavramını Anlamak\n",
    "\n",
    "Devam etmek için namespace (isim alanı) kavramını anlamak önemlidir. Endişelenmeyin; bu açıklama kısa olacak.\n",
    "\n",
    "Bir namespace, isimlerin tanımlandığı ve birbirinden ayrı tutulduğu bir bağlamdır. Bu, isimler arasında çakışma olmamasını sağlar, yani aynı namespace içinde iki farklı nesne aynı isme sahip olamaz. Namespace’i, her üyenin benzersiz bir isme sahip olduğu bir sosyal grup gibi düşünün (örneğin, ebeveynler çocuklarına aynı adı vermezler).\n",
    "\n",
    "#### Namespace Kavramı\n",
    "\n",
    "Namespace içindeki benzersizlik çeşitli şekillerde sağlanabilir. Örneğin, küçük bir grupta ilk isimlerin yanında takma adlar kullanmak ya da her üyeye özel kimlik numaraları atamak (ABD Sosyal Güvenlik Numarası gibi).\n",
    "\n",
    "Belirli bir namespace içinde, her isim benzersiz olmalıdır. Yeni bir varlık mevcut bir isimle namespace'e girerse, bu çakışmalara neden olabilir veya mevcut ismi geçersiz kılabilir. Bunun nasıl çalıştığını ve nasıl kontrol edileceğini açıklayacağız, ancak önce modüllerin içe aktarılmasına geri dönelim.\n",
    "\n",
    "#### İçe Aktarma Nasıl Çalışır\n",
    "\n",
    "Bir modülü içe aktardığınızda, Python belirtilen isimde bir modülün mevcut olup olmadığını ve erişilebilir olup olmadığını kontrol eder. Eğer öyleyse, Python modülün içeriğini içe aktarır, yani modülde tanımlanan tüm isimler programınıza tanıtılır. Ancak, bu isimler doğrudan programınızın namespace'ine girmez.\n",
    "\n",
    "Bu, `sin` veya `pi` gibi kendi değişkenlerinizi oluşturabileceğiniz ve bunların içe aktarılan modülün isimleriyle çakışmayacağı anlamına gelir.\n",
    "\n",
    "#### `math` Modülünden `pi` Değerine Erişme\n",
    "\n",
    "`math` modülünden `pi` değerine erişmek için, `pi`'yi modül ismiyle birlikte belirtmeniz gerekir. Bu şekilde, namespace, belirli olarak `math` modülündeki `pi`'ye başvurduğunuzu garanti eder.\n",
    "\n",
    "Örneğin:\n",
    "\n",
    "```python\n",
    "import math\n",
    "print(math.pi)\n",
    "```\n",
    "\n",
    "Bu, Python'a `math` modülündeki `pi`'yi kullanmasını söyler ve kodunuzda tanımlayabileceğiniz diğer `pi`'lerden ayırır."
   ]
  }
 ],
 "metadata": {
  "kernelspec": {
   "display_name": "Python 3 (ipykernel)",
   "language": "python",
   "name": "python3"
  },
  "language_info": {
   "codemirror_mode": {
    "name": "ipython",
    "version": 3
   },
   "file_extension": ".py",
   "mimetype": "text/x-python",
   "name": "python",
   "nbconvert_exporter": "python",
   "pygments_lexer": "ipython3",
   "version": "3.11.7"
  }
 },
 "nbformat": 4,
 "nbformat_minor": 5
}
