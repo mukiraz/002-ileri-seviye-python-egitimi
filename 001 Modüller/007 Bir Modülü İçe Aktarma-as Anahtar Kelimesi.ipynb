{
 "cells": [
  {
   "cell_type": "markdown",
   "id": "c8c111c9-c9cc-461b-b29d-37ca1cb11730",
   "metadata": {},
   "source": [
    "### Bir Modülü İçe Aktarma: \"as\" Anahtar Kelimesini Kullanma\n",
    "\n",
    "Eğer import modül değişkenini kullanıyorsanız ve belirli bir modül adını beğenmiyorsanız (örneğin, zaten tanımladığınız varlıklardan biriyle çakışıyorsa, nitelendirme sıkıntılı hale gelir), ona istediğiniz herhangi bir adı verebilirsiniz - buna takma ad verilir.\n",
    "\n",
    "Takma ad, modülü orijinal adından farklı bir ad altında tanımlamanızı sağlar. Bu ayrıca nitelendirilmiş adları kısaltabilir.\n",
    "\n",
    "Bir takma ad oluşturmak, modülü içe aktarırken aşağıdaki içe aktarma talimatının biçimini gerektirir:\n",
    "\n",
    "```python\n",
    "import modül as takma_ad\n",
    "```\n",
    "\n",
    "Burada, \"modül\" orijinal modülün adını belirtirken, \"takma_ad\" ise yerine kullanmak istediğiniz alternatif adı belirtir.\n",
    "\n",
    "Not: \"as\" bir ayrılmış anahtar kelimedir."
   ]
  }
 ],
 "metadata": {
  "kernelspec": {
   "display_name": "Python 3 (ipykernel)",
   "language": "python",
   "name": "python3"
  },
  "language_info": {
   "codemirror_mode": {
    "name": "ipython",
    "version": 3
   },
   "file_extension": ".py",
   "mimetype": "text/x-python",
   "name": "python",
   "nbconvert_exporter": "python",
   "pygments_lexer": "ipython3",
   "version": "3.11.7"
  }
 },
 "nbformat": 4,
 "nbformat_minor": 5
}
