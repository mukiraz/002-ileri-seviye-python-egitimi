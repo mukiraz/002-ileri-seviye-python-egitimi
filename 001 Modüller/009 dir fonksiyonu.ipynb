{
 "cells": [
  {
   "cell_type": "markdown",
   "id": "af461d89-1a09-4751-af88-b05390bc8b8b",
   "metadata": {},
   "source": [
    "### dir fonksiyonu\r\n",
    "\r\n",
    "Bazı standart Python modüllerini incelemeye başlamadan önce, size `dir()` fonksiyonunu tanıtmak istiyoruz. Bu fonksiyon, Windows ve Unix konsollarından bildiğiniz `dir` komutuyla ilgili değildir, çünkü `dir()` bir disk dizininin/klasörünün içeriğini göstermez. Ancak, oldukça benzer bir şey yapar - belirli bir modül tarafından sağlanan tüm adları ortaya çıkarabilir.\r\n",
    "\r\n",
    "Bir koşul vardır: modülün önceden tamamen içe aktarılmış olması gerekir (yani, `import module` talimatı kullanılarak - `from module` yeterli değildir).\r\n",
    "\r\n",
    "Fonksiyon, bir argüman olarak geçirilen modülün kimliği ile belirlenen modül içerisindeki tüm varlık adlarını içeren alfabetik olarak sıralanmış bir liste döner:\r\n",
    "\r\n",
    "```python\r\n",
    "dir(module)\r\n",
    "```\r\n",
    "\r\n",
    "Not: eğer modülün adı takma ad olarak belirlenmişse, orijinal adı değil, takma adı kullanmanız gerekir.\r\n",
    "\r\n",
    "Fonksiyonu normal bir betik içinde kullanmak pek mantıklı değildir, ancak yine de mümkündür.\r\n",
    "\r\n",
    "Örneğin, `math` modülü içindeki tüm varlıkların adlarını yazdırmak için aşağıdaki kodu çalıython konsolu penceresi - math modülünün içeriği"
   ]
  },
  {
   "cell_type": "code",
   "execution_count": 4,
   "id": "09d0ac00-d101-4b6f-bce1-04c26846a9a1",
   "metadata": {},
   "outputs": [
    {
     "name": "stdout",
     "output_type": "stream",
     "text": [
      "__doc__\t__loader__\t__name__\t__package__\t__spec__\tacos\tacosh\tasin\tasinh\tatan\tatan2\tatanh\tcbrt\tceil\tcomb\tcopysign\tcos\tcosh\tdegrees\tdist\te\terf\terfc\texp\texp2\texpm1\tfabs\tfactorial\tfloor\tfmod\tfrexp\tfsum\tgamma\tgcd\thypot\tinf\tisclose\tisfinite\tisinf\tisnan\tisqrt\tlcm\tldexp\tlgamma\tlog\tlog10\tlog1p\tlog2\tmodf\tnan\tnextafter\tperm\tpi\tpow\tprod\tradians\tremainder\tsin\tsinh\tsqrt\ttan\ttanh\ttau\ttrunc\tulp\t"
     ]
    }
   ],
   "source": [
    "import math\n",
    "\n",
    "for name in dir(math):\n",
    "    print(name, end=\"\\t\")"
   ]
  },
  {
   "cell_type": "markdown",
   "id": "e8e6d0e2-f3d2-4498-986d-2366a8050f0b",
   "metadata": {},
   "source": [
    "Listenin en üstünde __ ile başlayan bu garip adları fark ettiniz mi? Kendi modüllerinizi yazma konularını ele aldığımızda bunlar hakkında daha fazla bilgi vereceğiz.\n",
    "\n",
    "Bazı adlar matematik derslerinden hatıralarınızı canlandırabilir ve anlamlarını tahmin etmekte zorlanmayacağınızı düşünüyoruz.\n",
    "\n",
    "dir() fonksiyonunu kod içinde kullanmak çok faydalı görünmeyebilir - genellikle bir modülün içeriğini, kodu yazıp çalıştırmadan önce bilmek istersiniz.\n",
    "\n",
    "Neyse ki, fonksiyonu jupyterde ayrı bir betik yazıp çalıştırmaya gerek kalmadan doğrudan çalıştırabilirsiniz.\n",
    "\n",
    "Bunu şu şekilde yapabilirsiniz:"
   ]
  },
  {
   "cell_type": "code",
   "execution_count": 3,
   "id": "ff4dc369-17a6-4b22-aabb-74bc017f155c",
   "metadata": {},
   "outputs": [
    {
     "data": {
      "text/plain": [
       "['__doc__',\n",
       " '__loader__',\n",
       " '__name__',\n",
       " '__package__',\n",
       " '__spec__',\n",
       " 'acos',\n",
       " 'acosh',\n",
       " 'asin',\n",
       " 'asinh',\n",
       " 'atan',\n",
       " 'atan2',\n",
       " 'atanh',\n",
       " 'cbrt',\n",
       " 'ceil',\n",
       " 'comb',\n",
       " 'copysign',\n",
       " 'cos',\n",
       " 'cosh',\n",
       " 'degrees',\n",
       " 'dist',\n",
       " 'e',\n",
       " 'erf',\n",
       " 'erfc',\n",
       " 'exp',\n",
       " 'exp2',\n",
       " 'expm1',\n",
       " 'fabs',\n",
       " 'factorial',\n",
       " 'floor',\n",
       " 'fmod',\n",
       " 'frexp',\n",
       " 'fsum',\n",
       " 'gamma',\n",
       " 'gcd',\n",
       " 'hypot',\n",
       " 'inf',\n",
       " 'isclose',\n",
       " 'isfinite',\n",
       " 'isinf',\n",
       " 'isnan',\n",
       " 'isqrt',\n",
       " 'lcm',\n",
       " 'ldexp',\n",
       " 'lgamma',\n",
       " 'log',\n",
       " 'log10',\n",
       " 'log1p',\n",
       " 'log2',\n",
       " 'modf',\n",
       " 'nan',\n",
       " 'nextafter',\n",
       " 'perm',\n",
       " 'pi',\n",
       " 'pow',\n",
       " 'prod',\n",
       " 'radians',\n",
       " 'remainder',\n",
       " 'sin',\n",
       " 'sinh',\n",
       " 'sqrt',\n",
       " 'tan',\n",
       " 'tanh',\n",
       " 'tau',\n",
       " 'trunc',\n",
       " 'ulp']"
      ]
     },
     "execution_count": 3,
     "metadata": {},
     "output_type": "execute_result"
    }
   ],
   "source": [
    "dir(math)"
   ]
  },
  {
   "cell_type": "code",
   "execution_count": null,
   "id": "5e352431-c5bc-4ea0-878b-7e7563fe3fac",
   "metadata": {},
   "outputs": [],
   "source": []
  }
 ],
 "metadata": {
  "kernelspec": {
   "display_name": "Python 3 (ipykernel)",
   "language": "python",
   "name": "python3"
  },
  "language_info": {
   "codemirror_mode": {
    "name": "ipython",
    "version": 3
   },
   "file_extension": ".py",
   "mimetype": "text/x-python",
   "name": "python",
   "nbconvert_exporter": "python",
   "pygments_lexer": "ipython3",
   "version": "3.11.7"
  }
 },
 "nbformat": 4,
 "nbformat_minor": 5
}
