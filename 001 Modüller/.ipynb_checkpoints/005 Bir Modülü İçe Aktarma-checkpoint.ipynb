{
 "cells": [
  {
   "cell_type": "markdown",
   "id": "c062c882-e0f7-4838-b979-e324a695c828",
   "metadata": {},
   "source": [
    "## Bir Modülü İçe Aktarma\r\n",
    "\r\n",
    "Aşağıdaki kod parçasına bakın, burada, pi ve sin isimlerini köken modül adıyla nasıl belirlediğinize dikkat edin:\r\n",
    "\r\n",
    "```python\r\n",
    "math.pi\r\n",
    "math.sin\r\n",
    "```\r\n",
    "\r\n",
    "Oldukça basit: İçere koyduğunuz şeyler:\r\n",
    "\r\n",
    "- Modülün adı (örneğin, math).\r\n",
    "- Bir nokta (yani, .).\r\n",
    "- Belirli bir öğenin adı (örneğin, pi).\r\n",
    "\r\n",
    "Bu format, her bir ismin hangi isim alanında bulunduğunu açıkça belirtir.\r\n",
    "\r\n",
    "Not: Bu nitelendirme, bir modül, import modül talimatıyla içe aktarıldığında zorunludur. Kodunuzdaki herhangi bir isim ile modülün ad alanındaki isimler arasında çakışma olup olmadığı önemli değildir.\r\n",
    "\r\n",
    "Basit bir örnek ile başlayalım: sin(½π) değerini yazdırmak.\r\n",
    "\r\n",
    "Aşağıdaki kod parçasına bir göz atın. Bu şekilde nasıl çalıştırdığımızı gösteriyor:\r\n",
    "\r\n",
    "```python\r\n",
    "import math\r\n",
    "print(math.sin(math.pi/2))\r\n",
    "```\r\n",
    "\r\n",
    "Kod beklenen çıktıyı verir: 1.0.\r\n",
    "\r\n",
    "Not: İki nitelendirmeden herhangi birini kaldırmak kodda bir hata oluşturur. Aşağıdaki gibi math modülünü içe aktardıysanız, ad alanına erişmek için başka bir yol yoktur:\r\n",
    "\r\n",
    "```python\r\n",
    "import math\r\n",
    "```"
   ]
  },
  {
   "cell_type": "code",
   "execution_count": 1,
   "id": "419e4aa2-f74e-403a-a496-c564dfe858a1",
   "metadata": {},
   "outputs": [
    {
     "name": "stdout",
     "output_type": "stream",
     "text": [
      "1.0\n"
     ]
    }
   ],
   "source": [
    "import math\n",
    "print(math.sin(math.pi/2))"
   ]
  },
  {
   "cell_type": "markdown",
   "id": "c392425d-a730-45ac-9991-8108739cdab6",
   "metadata": {},
   "source": [
    "\r\n",
    "Şimdi, iki ad alanının (sizininki ve modülün ad alanı) nasıl bir arada var olabileceğini göstereceğiz.\r\n",
    "\r\n",
    "Editör penceresindeki örneğe bir göz atın.\r\n",
    "\r\n",
    "Burada, kendi `pi` ve `sin` öğelerimizi tanımladık.\r\n",
    "\r\n",
    "Programı çalıştırın. Kod aşağıdaki çıktıyı üretmelidir:\r\n",
    "\r\n",
    "```\r\n",
    "0.99999999\r\n",
    "1.0\r\n",
    "```\r\n",
    "\r\n",
    "Görebileceğiniz gibi, bu öğeler birbirlerini etkilemez."
   ]
  },
  {
   "cell_type": "code",
   "execution_count": 2,
   "id": "18d38677-d458-4f8e-ba4a-1dbe8e2d0843",
   "metadata": {},
   "outputs": [
    {
     "name": "stdout",
     "output_type": "stream",
     "text": [
      "0.99999999\n",
      "1.0\n"
     ]
    }
   ],
   "source": [
    "import math\n",
    "\n",
    "def sin(x):\n",
    "    if 2 * x == pi:\n",
    "        return 0.99999999\n",
    "    else:\n",
    "        return None\n",
    "\n",
    "pi = 3.14\n",
    "print(sin(pi/2))\n",
    "print(math.sin(math.pi/2))"
   ]
  },
  {
   "cell_type": "markdown",
   "id": "f50676be-0806-4bc7-ba2d-a9a19e9d8a23",
   "metadata": {},
   "source": [
    "\r\n",
    "\r\n",
    "İkinci yöntemde, içe aktarmanın sözdizimi, kod içinde hangi modülün öğesinin (veya öğelerinin) kabul edilebilir olduğunu tam olarak belirtir:\r\n",
    "\r\n",
    "```python\r\n",
    "from math import pi\r\n",
    "```\r\n",
    "\r\n",
    "Bu talimat şu unsurlardan oluşur:\r\n",
    "\r\n",
    "- `from` anahtar kelimesi.\r\n",
    "- Seçici olarak içe aktarılacak modülün adı.\r\n",
    "- `import` anahtar kelimesi.\r\n",
    "- İçe aktarılacak öğe/öğelerin adı veya listesi.\r\n",
    "\r\n",
    "Bu talimat şu etkilere sahiptir:\r\n",
    "\r\n",
    "- Yalnızca belirtilen öğeler belirtilen modülden içe aktarılır.\r\n",
    "- İçe aktarılan öğelerin adları nitelendirmeden erişilebilir.\r\n",
    "\r\n",
    "Not: Başka hiçbir öğe içe aktarılmaz. Ayrıca, nitelendirme kullanarak ek öğeleri içe aktaramazsınız. Örneğin, şu satır:\r\n",
    "\r\n",
    "```python\r\n",
    "print(math.e)\r\n",
    "```\r\n",
    "\r\n",
    "bir hata verir (e Euler'in sayısıdır: 2.71828...).\r\n",
    "\r\n",
    "Önceki betiği bu yeni teknikle kullanacak şekilde yeniden yazalımeğildir. Göstereceğimiz şeyi gösterelim."
   ]
  },
  {
   "cell_type": "code",
   "execution_count": 3,
   "id": "0ad3922f-1dc5-4f40-a9e5-a944b6238935",
   "metadata": {},
   "outputs": [
    {
     "name": "stdout",
     "output_type": "stream",
     "text": [
      "1.0\n"
     ]
    }
   ],
   "source": [
    "from math import sin, pi\n",
    "\n",
    "print(sin(pi/2))"
   ]
  },
  {
   "cell_type": "markdown",
   "id": "6a37aead-ecbe-4407-8c8a-206bae71c1ce",
   "metadata": {},
   "source": [
    "Aşağıdaki kodu dikkatlice inceleyin:\n",
    "\n",
    "- **Satır 1**: Seçici içe aktarmayı gerçekleştirir.\n",
    "- **Satır 3**: İçe aktarılan öğeleri kullanarak beklenen sonucu (1.0) elde eder.\n",
    "- **5. satırdan 12. satıra kadar olanlar**: `pi` ve `sin`'in anlamlarını yeniden tanımlar, bu da kodun ad alanı içindeki orijinal (içe aktarılan) tanımları geçersiz kılar.\n",
    "- **Satır 15**: Sonucu 0.99999999 olarak alırız, bu da sonuçlarımızı doğrular.\n"
   ]
  },
  {
   "cell_type": "code",
   "execution_count": 13,
   "id": "ccb3d054-13c5-430e-8a2f-a374e7d3cd21",
   "metadata": {},
   "outputs": [
    {
     "name": "stdout",
     "output_type": "stream",
     "text": [
      "1.0\n",
      "0.99999999\n"
     ]
    }
   ],
   "source": [
    "from math import sin, pi #1\n",
    "print(sin(pi / 2))\n",
    "\n",
    "pi = 3.14 #3\n",
    "\n",
    "def sin(x): #5-12\n",
    "    if 2 * x == pi:\n",
    "        return 0.99999999\n",
    "    else:\n",
    "        return None\n",
    "\n",
    "\n",
    "print(sin(pi / 2)) #15"
   ]
  },
  {
   "cell_type": "markdown",
   "id": "bc9c29b0-b114-4599-928b-6a9c60e69d2a",
   "metadata": {},
   "source": [
    "Şimdi başka bir deney yapalım. Aşağıdaki kodlara bakın:"
   ]
  },
  {
   "cell_type": "code",
   "execution_count": 12,
   "id": "4c7e43fb-f6a2-4308-a9a9-971656443248",
   "metadata": {},
   "outputs": [
    {
     "name": "stdout",
     "output_type": "stream",
     "text": [
      "0.99999999\n",
      "1.0\n"
     ]
    }
   ],
   "source": [
    "pi = 3.14\n",
    "\n",
    "def sin(x):\n",
    "    if 2 * x == pi:\n",
    "        return 0.99999999\n",
    "    else:\n",
    "        return None\n",
    "\n",
    "print(sin(pi / 2))\n",
    "\n",
    "from math import sin, pi\n",
    "\n",
    "print(sin(pi / 2))"
   ]
  },
  {
   "cell_type": "markdown",
   "id": "c2bcacd4-480f-419a-a2fd-3bc4f9797b40",
   "metadata": {},
   "source": [
    "Burada, kodun işlemlerinin sırasını değiştirdik:\n",
    "\n",
    "- **1. satırdan 8. satıra kadar olanlar**: Kendi `pi` ve `sin`'imizi tanımlarız.\n",
    "- **11. satır**: Bu özel tanımlamaları kullanırız (0.99999999 ekranda görünür).\n",
    "- **13. satır**: İçe aktarmayı gerçekleştirir - içe aktarılan semboller ad alanları içindeki önceki tanımlamalarını geçersiz kılar.\n",
    "- **15. satır**: Sonuç olarak 1.0 elde edilir."
   ]
  }
 ],
 "metadata": {
  "kernelspec": {
   "display_name": "Python 3 (ipykernel)",
   "language": "python",
   "name": "python3"
  },
  "language_info": {
   "codemirror_mode": {
    "name": "ipython",
    "version": 3
   },
   "file_extension": ".py",
   "mimetype": "text/x-python",
   "name": "python",
   "nbconvert_exporter": "python",
   "pygments_lexer": "ipython3",
   "version": "3.11.7"
  }
 },
 "nbformat": 4,
 "nbformat_minor": 5
}
