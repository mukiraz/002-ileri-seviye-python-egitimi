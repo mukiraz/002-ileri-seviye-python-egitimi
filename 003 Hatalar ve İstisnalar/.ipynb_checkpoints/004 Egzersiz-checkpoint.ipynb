{
 "cells": [
  {
   "cell_type": "markdown",
   "id": "661fc843-a921-4f18-9f4f-ac518778ee6c",
   "metadata": {},
   "source": [
    "## Alıştırma 1\r\n",
    "\r\n",
    "### Tahmini süresi\r\n",
    "15-25 dakika\r\n",
    "\r\n",
    "### Zorluk seviyesi\r\n",
    "Orta\r\n",
    "\r\n",
    "### Hedefler\r\n",
    "- Öğrencinin fonksiyonları tanımlama yeteneğini geliştirin\r\n",
    "- Güvenli giriş işlemeyi sağlamak için istisnaları kullanın\r\n",
    "\r\n",
    "### Senaryo\r\n",
    "Göreviniz tamsayı değerlerini giren ve bunların belirli bir aralıkta olup olmadığını kontrol eden bir işlev oluşturmaktır.\r\n",
    "\r\n",
    "### İşlev Gereksinimleri\r\n",
    "- İşlev üç bağımsız değişkeni kabul etmelidir: bir bilgi istemi, bir alt sınır ve bir üst sınır.\r\n",
    "- Kullanıcı tamsayı olmayan bir değer girerse, işlev 'Hata: yanlış giriş' mesajını görüntülemeli ve kullanıcıdan değeri tekrar girmesini istemelidir.\r\n",
    "- Kullanıcı belirtilen aralığın dışında bir sayı girerse, fonksiyon 'Hata: değer izin verilen aralıkta değil (min..maks)' mesajını görüntülemeli ve kullanıcıdan değeri tekrar girmesini istemelidir.\r\n",
    "- Girilen değer geçerliyse fonksiyon onu döndürmelidir.\r\n",
    "\r\n",
    "### Test verisi\r\n",
    "Kodunuzu iyice test ettiğinizden emin olun.\r\n",
    "\r\n",
    "### Beklenen İşlev Davranışı\r\n",
    "Fonksiyonun kullanıcı girişlerine nasıl yanıt vermesi gerektiği aşağıda açıklanmıştır:\r\n",
    "\r\n",
    "1. **Geçerli Giriş**:\r\n",
    " - İstem: \"Bir sayı girin: \"\r\n",
    " - Alt sınır: 1\r\n",
    " - Üst sınır: 10\r\n",
    " - Kullanıcı girer: 5\r\n",
    " - Çıkış: 5 (Aralık dahilinde geçerli giriş)\r\n",
    "\r\n",
    "2. **Geçersiz Giriş (tam sayı olmayan)**:\r\n",
    " - İstem: \"Bir sayı girin: \"\r\n",
    " - Alt sınır: 1\r\n",
    " - Üst sınır: 10\r\n",
    " - Kullanıcı şunu girer: \"abc\"\r\n",
    " - Çıktı: `Hata: yanlış giriş` (Kullanıcının tekrar denemesini ister)\r\n",
    "\r\n",
    "3. **Geçersiz Giriş (aralık dışında)**:\r\n",
    " - İstem: \"Bir sayı girin: \"\r\n",
    " - Alt sınır: 1\r\n",
    " - Üst sınır: 10\r\n",
    " - Kullanıcı girer: 15\r\n",
    " - Çıkış: `Hata: değer izin verilen aralıkta değil (1..10)` (Kullanıcının tekrar denemesini ister)\r\n",
    "\r\n",
    "Örnek çıktı:"
   ]
  },
  {
   "cell_type": "raw",
   "id": "5d2e5c09-55c6-41df-89d1-2d06fa3d9322",
   "metadata": {},
   "source": [
    "Enter a number from -10 to 10: 100\n",
    "Error: the value is not within permitted range (-10..10)\n",
    "Enter a number from -10 to 10: asd\n",
    "Error: wrong input\n",
    "Enter number from -10 to 10: 1\n",
    "The number is: 1"
   ]
  },
  {
   "cell_type": "code",
   "execution_count": null,
   "id": "d183be6a-bb3e-4c1a-ba4f-e911a61ac986",
   "metadata": {},
   "outputs": [],
   "source": [
    "def read_int(prompt, min, max):\n",
    "    #\n",
    "    # Write your code here.\n",
    "    #\n",
    "\n",
    "\n",
    "v = read_int(\"Enter a number from -10 to 10: \", -10, 10)\n",
    "\n",
    "print(\"The number is:\", v)"
   ]
  },
  {
   "cell_type": "code",
   "execution_count": null,
   "id": "683c7170-b418-41d5-a048-6fac50cffbf0",
   "metadata": {},
   "outputs": [],
   "source": []
  }
 ],
 "metadata": {
  "kernelspec": {
   "display_name": "Python 3 (ipykernel)",
   "language": "python",
   "name": "python3"
  },
  "language_info": {
   "codemirror_mode": {
    "name": "ipython",
    "version": 3
   },
   "file_extension": ".py",
   "mimetype": "text/x-python",
   "name": "python",
   "nbconvert_exporter": "python",
   "pygments_lexer": "ipython3",
   "version": "3.11.7"
  }
 },
 "nbformat": 4,
 "nbformat_minor": 5
}
