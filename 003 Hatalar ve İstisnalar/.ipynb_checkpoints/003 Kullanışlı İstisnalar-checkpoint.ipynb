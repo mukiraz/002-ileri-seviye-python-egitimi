{
 "cells": [
  {
   "cell_type": "markdown",
   "id": "703c5ae2-01a0-42de-bb28-acf1f91ab8bc",
   "metadata": {},
   "source": [
    "### Yaygın Yerleşik İstisnalar\r\n",
    "\r\n",
    "Python'daki en kullanışlı yerleşik istisnalardan bazılarına kısa bir genel bakışı burada bulabilirsiniz. Hataları \"yararlı\" olarak adlandırmak tuhaf görünse de, programlamada kritik bir rol oynarlar. Hatalar kaçınılmazdır ve istisnalar bunların verimli bir şekilde yönetilmesine yardımcı olur.\r\n",
    "\r\n",
    "İstisnalar, bir programcının hayatının diğer rutin yönleri kadar ayrılmaz bir parçasıdır.\r\n",
    "\r\n",
    "Her istisna için şunları ele alacağız:\r\n",
    "\r\n",
    "- Onun adı\r\n",
    "- İstisna hiyerarşisindeki yeri\r\n",
    "- Kısa bir açıklama\r\n",
    "- İstisnanın oluşabileceği senaryoyu gösteren basit bir kod örneği\r\n",
    "\r\n",
    "Daha birçok istisna mevcut ancak hepsini burada ele almamız mümkün ArithmeticError Aritmetik Hata\r\n",
    "- **Konum:** BaseException ← İstisna ← ArithmeticError\r\n",
    "- **Açıklama:** Sıfıra bölme veya geçersiz bağımsız değişken alanları gibi aritmetik işlemlerden kaynaklanan tüm hataları kapsayan soyut biAssertionError\n",
    "\r\n",
    "#### Onay Hatası\r\n",
    "- **Konum:** BaseException ← İstisna ← AssertionError\r\n",
    "- **Açıklama:** Assert deyiminin koşulu False, Yok, 0 veya boş bir dize olarak değerlendirildiğinde ortaya çıkan somut bir istisna."
   ]
  },
  {
   "cell_type": "code",
   "execution_count": 1,
   "id": "9466fad3-c0ec-4016-b758-e0163b4a6cf9",
   "metadata": {},
   "outputs": [
    {
     "name": "stdin",
     "output_type": "stream",
     "text": [
      "Enter integral angle in degrees:  90\n"
     ]
    },
    {
     "ename": "AssertionError",
     "evalue": "",
     "output_type": "error",
     "traceback": [
      "\u001b[1;31m---------------------------------------------------------------------------\u001b[0m",
      "\u001b[1;31mAssertionError\u001b[0m                            Traceback (most recent call last)",
      "Cell \u001b[1;32mIn[1], line 5\u001b[0m\n\u001b[0;32m      2\u001b[0m angle \u001b[38;5;241m=\u001b[39m \u001b[38;5;28mint\u001b[39m(\u001b[38;5;28minput\u001b[39m(\u001b[38;5;124m'\u001b[39m\u001b[38;5;124mEnter integral angle in degrees: \u001b[39m\u001b[38;5;124m'\u001b[39m))\n\u001b[0;32m      4\u001b[0m \u001b[38;5;66;03m# We must be sure that angle != 90 + k * 180\u001b[39;00m\n\u001b[1;32m----> 5\u001b[0m \u001b[38;5;28;01massert\u001b[39;00m angle \u001b[38;5;241m%\u001b[39m \u001b[38;5;241m180\u001b[39m \u001b[38;5;241m!=\u001b[39m \u001b[38;5;241m90\u001b[39m\n\u001b[0;32m      6\u001b[0m \u001b[38;5;28mprint\u001b[39m(tan(radians(angle)))\n",
      "\u001b[1;31mAssertionError\u001b[0m: "
     ]
    }
   ],
   "source": [
    "from math import tan, radians\n",
    "angle = int(input('Enter integral angle in degrees: '))\n",
    "\n",
    "# We must be sure that angle != 90 + k * 180\n",
    "assert angle % 180 != 90\n",
    "print(tan(radians(angle)))"
   ]
  },
  {
   "cell_type": "markdown",
   "id": "c70f154b-c2f4-4088-8c4d-8b818856fba6",
   "metadata": {},
   "source": [
    "#### BaseException\n",
    "- **Konum:** BaseException\n",
    "- **Açıklama:** Python'daki en genel (soyut) istisna. Diğer tüm istisnalar bundan kaynaklanmaktadır. Dolayısıyla aşağıdaki iki hariç dal eşdeğerdir: ``hariç:'' ve `hariç BaseException:'.\n",
    "\n",
    "#### IndexError\n",
    "- **Konum:** BaseException ← İstisna ← LookupError ← IndexError\n",
    "- **Açıklama:** Bir dizinin (liste gibi) var olmayan bir öğesine erişmeye çalışırken ortaya çıkan somut bir istisna."
   ]
  },
  {
   "cell_type": "code",
   "execution_count": 2,
   "id": "7ef3c655-070e-4e05-acbd-d4a94ec1889d",
   "metadata": {},
   "outputs": [
    {
     "name": "stdout",
     "output_type": "stream",
     "text": [
      "1\n",
      "2\n",
      "3\n",
      "4\n",
      "5\n",
      "Done\n"
     ]
    }
   ],
   "source": [
    "# The code shows an extravagant way\n",
    "# of leaving the loop.\n",
    "\n",
    "the_list = [1, 2, 3, 4, 5]\n",
    "ix = 0\n",
    "do_it = True\n",
    "\n",
    "while do_it:\n",
    "    try:\n",
    "        print(the_list[ix])\n",
    "        ix += 1\n",
    "    except IndexError:\n",
    "        do_it = False\n",
    "\n",
    "print('Done')"
   ]
  },
  {
   "cell_type": "markdown",
   "id": "ad1e22a2-8509-48d9-a874-90bfb44e5ca4",
   "metadata": {},
   "source": [
    "#### KeyboardInterrupt\r\n",
    "- **Konum:** BaseException ← KeyboardInterrupt\r\n",
    "- **Açıklama:** Kullanıcı, programın yürütülmesini bir klavye kısayolu (genellikle Ctrl-C) kullanarak kesintiye uğrattığında ortaya çıkan somut bir istisnadır. Bu istisna, program sonlandırılmadan ele alınırsa program yürütülmesine devam eder.\r\n",
    "\r\n",
    "**Not:** Bu istisna, Exception sınıfından türetilmemiştir. Programı IDLE'de çalıştırın."
   ]
  },
  {
   "cell_type": "markdown",
   "id": "cfa756f7-82d6-4541-96fc-3b5811621b47",
   "metadata": {},
   "source": [
    "#### LookupError\n",
    "- **Konum:** BaseException ← İstisna ← LookupError\n",
    "- **Açıklama:** Listeler, sözlükler ve tuple'lar gibi koleksiyonlara yapılan geçersiz başvurulardan kaynaklanan tüm hataları kapsayan soyut bir istisna.\n",
    "\n",
    "#### MemoryError\n",
    "- **Konum:** BaseException ← İstisna ← MemoryError\n",
    "- **Açıklama:** Yetersiz boş bellek nedeniyle bir işlem tamamlanamadığında ortaya çıkan somut bir istisna."
   ]
  },
  {
   "cell_type": "code",
   "execution_count": null,
   "id": "e6e5be4b-453d-4b80-b122-6e0bb4b5bc90",
   "metadata": {},
   "outputs": [],
   "source": [
    "# This code causes the MemoryError exception.\n",
    "# Warning: executing this code may affect your OS.\n",
    "# Don't run it in production environments!\n",
    "\n",
    "string = 'x'\n",
    "try:\n",
    "    while True:\n",
    "        string = string + string\n",
    "        print(len(string))\n",
    "except MemoryError:\n",
    "    print('This is not funny!')"
   ]
  },
  {
   "cell_type": "markdown",
   "id": "83b727f3-aa72-4575-a359-01b7b68d5118",
   "metadata": {},
   "source": [
    "#### OverflowError\r\n",
    "- **Konum:** BaseException ← İstisna ← ArithmeticError ← OverflowError\r\n",
    "- **Açıklama:** Bir işlemin başarıyla depolanamayacak kadar büyük bir sayıyla sonuçlanması durumunda ortaya çıkan somut bir istisna."
   ]
  },
  {
   "cell_type": "code",
   "execution_count": 3,
   "id": "43436768-c90d-4535-aa3f-bd8a8f8e2ba6",
   "metadata": {},
   "outputs": [
    {
     "name": "stdout",
     "output_type": "stream",
     "text": [
      "2.718281828459045\n",
      "7.38905609893065\n",
      "54.598150033144236\n",
      "2980.9579870417283\n",
      "8886110.520507872\n",
      "78962960182680.69\n",
      "6.235149080811617e+27\n",
      "3.8877084059945954e+55\n",
      "1.5114276650041035e+111\n",
      "2.2844135865397565e+222\n",
      "The number is too big.\n"
     ]
    }
   ],
   "source": [
    "# The code prints subsequent\n",
    "# values of exp(k), k = 1, 2, 4, 8, 16, ...\n",
    "\n",
    "from math import exp\n",
    "\n",
    "ex = 1\n",
    "\n",
    "try:\n",
    "    while True:\n",
    "        print(exp(ex))\n",
    "        ex *= 2\n",
    "except OverflowError:\n",
    "    print('The number is too big.')"
   ]
  },
  {
   "cell_type": "markdown",
   "id": "8c135d07-c09e-4e82-9235-24bbfed62d3c",
   "metadata": {},
   "source": [
    "#### ImportError\n",
    "- **Konum:** BaseException ← İstisna ← StandardError ← ImportError\n",
    "- **Açıklama:** Bir içe aktarma işlemi başarısız olduğunda ortaya çıkan somut bir istisna."
   ]
  },
  {
   "cell_type": "code",
   "execution_count": 4,
   "id": "9968baad-d5ad-4fbf-81b5-358a167c6806",
   "metadata": {},
   "outputs": [
    {
     "name": "stdout",
     "output_type": "stream",
     "text": [
      "One of your imports has failed.\n"
     ]
    }
   ],
   "source": [
    "# One of these imports will fail - which one?\n",
    "\n",
    "try:\n",
    "    import math\n",
    "    import time\n",
    "    import abracadabra\n",
    "\n",
    "except:\n",
    "    print('One of your imports has failed.')"
   ]
  },
  {
   "cell_type": "markdown",
   "id": "503a7180-4d0b-4677-9f78-c8e5fdaaed6f",
   "metadata": {},
   "source": [
    "#### KeyError\n",
    "- **Konum:** BaseException ← İstisna ← LookupError ← KeyError\n",
    "- **Açıklama:** Bir koleksiyonda (ör. sözlük) var olmayan bir öğeye erişmeye çalışırken ortaya çıkan somut bir istisna."
   ]
  },
  {
   "cell_type": "code",
   "execution_count": 5,
   "id": "ed0b99f0-a59b-41f8-8121-9c94f2f57942",
   "metadata": {},
   "outputs": [
    {
     "name": "stdout",
     "output_type": "stream",
     "text": [
      "b\n",
      "c\n",
      "d\n",
      "No such key: d\n"
     ]
    }
   ],
   "source": [
    "# How to abuse the dictionary\n",
    "# and how to deal with it?\n",
    "\n",
    "dictionary = { 'a': 'b', 'b': 'c', 'c': 'd' }\n",
    "ch = 'a'\n",
    "\n",
    "try:\n",
    "    while True:\n",
    "        ch = dictionary[ch]\n",
    "        print(ch)\n",
    "except KeyError:\n",
    "    print('No such key:', ch)"
   ]
  },
  {
   "cell_type": "markdown",
   "id": "8474394c-90cb-4aac-8b34-bccfd874d8b5",
   "metadata": {},
   "source": [
    "### Sonuç\n",
    "\n",
    "Şimdilik istisnaları ele aldık, ancak Python'da nesne yönelimli programlamayı tartıştığımızda bunlar yeniden ortaya çıkacak. Kodunuzu beklenmeyen sorunlardan korumak için bunları kullanabilirsiniz ancak sağladıkları bilgilerin nasıl analiz edileceğini anlamak da önemlidir.\n",
    "\n",
    "İstisnalar aslında nesnelerdir, ancak sınıfları ve nesneleri tartışırken bu konuyu derinlemesine inceleyeceğiz.\n",
    "\n",
    "İstisnalar hakkında daha fazla bilgi edinmek için [Python 3.6 Exceptions](https://docs.python.org/3.6/library/exceptions.html) adresindeki Standart Python Kütüphanesini inceleyebilirsiniz."
   ]
  },
  {
   "cell_type": "code",
   "execution_count": null,
   "id": "5b22710f-384a-4b3b-9d77-31079457cc10",
   "metadata": {},
   "outputs": [],
   "source": []
  }
 ],
 "metadata": {
  "kernelspec": {
   "display_name": "Python 3 (ipykernel)",
   "language": "python",
   "name": "python3"
  },
  "language_info": {
   "codemirror_mode": {
    "name": "ipython",
    "version": 3
   },
   "file_extension": ".py",
   "mimetype": "text/x-python",
   "name": "python",
   "nbconvert_exporter": "python",
   "pygments_lexer": "ipython3",
   "version": "3.11.7"
  }
 },
 "nbformat": 4,
 "nbformat_minor": 5
}
