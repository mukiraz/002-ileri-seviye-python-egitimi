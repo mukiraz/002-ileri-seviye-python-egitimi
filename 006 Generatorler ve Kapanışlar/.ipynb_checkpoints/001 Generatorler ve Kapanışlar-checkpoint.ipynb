{
 "cells": [
  {
   "cell_type": "markdown",
   "metadata": {},
   "source": [
    "### Jeneratörler - Nerede Bulunurlar\n",
    "\n",
    "\"Jeneratör\" kelimesini duyduğunuzda aklınıza ne geliyor? Belki bir elektronik cihaz ya da elektrik veya başka bir güç üretmek için tasarlanmış büyük bir makine.\n",
    "\n",
    "Python'da jeneratör, bir dizi değer üretebilen ve yineleme sürecini kontrol edebilen özel bir koddur. Jeneratörler genellikle yineleyiciler (iterator) olarak adlandırılır. Aralarındaki ince farkları bazıları bulabilir, ancak basitlik adına, onları aynı şey olarak ele alacağız.\n",
    "\n",
    "Muhtemelen jeneratörlerle birçok kez karşılaştınız ama farkında değildiniz. Bu basit kod parçasını düşünün:"
   ]
  },
  {
   "cell_type": "code",
   "execution_count": 1,
   "metadata": {},
   "outputs": [
    {
     "name": "stdout",
     "output_type": "stream",
     "text": [
      "0\n",
      "1\n",
      "2\n",
      "3\n",
      "4\n"
     ]
    }
   ],
   "source": [
    "for i in range(5):\n",
    "    print(i)"
   ]
  },
  {
   "cell_type": "markdown",
   "metadata": {},
   "source": [
    "`range()` fonksiyonu aslında bir jeneratördür, dolayısıyla bir yineleyicidir.\n",
    "\n",
    "### Aralarındaki Fark Nedir?\n",
    "\n",
    "Normal bir fonksiyon, polinomun değerlendirilmesi gibi daha az veya çok karmaşık bir işlemin sonucu olarak tek bir, belirli bir değer döndürür ve yalnızca bir kez çağrılır.\n",
    "\n",
    "Buna karşılık, bir jeneratör bir dizi değer döndürür ve genellikle birden fazla kez çağrılır.\n",
    "\n",
    "Yukarıdaki örnekte, `range()` jeneratörü altı kez çağrılır, sıfırdan dörde kadar beş ardışık değer sağlar ve sonunda serinin tamamlandığını belirtir.\n",
    "\n",
    "Bu süreç genellikle şeffaftır. Şimdi biraz daha ayrıntıya girelim ve yineleyici protokolünü gösterelim."
   ]
  },
  {
   "cell_type": "markdown",
   "metadata": {},
   "source": [
    "### Yineleyici Protokolünü Anlamak\n",
    "\n",
    "Yineleyici protokolü, bir nesnenin `for` ve `in` ifadelerinin kurallarına uyması için nasıl davranması gerektiğini tanımlar. Bu protokole uyan bir nesneye yineleyici (iterator) denir.\n",
    "\n",
    "Bir yineleyici iki yöntemi uygulamalıdır:\n",
    "\n",
    "- `__iter__()`: Bu yöntem, nesnenin kendisini döndürmelidir ve iterasyon sürecini başlatmak için bir kez çağrılır.\n",
    "- `__next__()`: Bu yöntem, dizideki bir sonraki değeri döndürmek için kullanılır ve `for/in` ifadeleri tarafından tekrar tekrar çağrılır. Daha fazla değer kalmadığında, `StopIteration` istisnasını yükseltmelidir.\n",
    "\n",
    "Bu kavramı göstermek için şu örneğe bakın:"
   ]
  },
  {
   "cell_type": "code",
   "execution_count": 2,
   "metadata": {},
   "outputs": [
    {
     "name": "stdout",
     "output_type": "stream",
     "text": [
      "__init__\n",
      "__iter__\n",
      "__next__\n",
      "1\n",
      "__next__\n",
      "1\n",
      "__next__\n",
      "2\n",
      "__next__\n",
      "3\n",
      "__next__\n",
      "5\n",
      "__next__\n",
      "8\n",
      "__next__\n",
      "13\n",
      "__next__\n",
      "21\n",
      "__next__\n",
      "34\n",
      "__next__\n",
      "55\n",
      "__next__\n"
     ]
    }
   ],
   "source": [
    "class Fib:\n",
    "    def __init__(self, nn):\n",
    "        print(\"__init__\")\n",
    "        self.__n = nn\n",
    "        self.__i = 0\n",
    "        self.__p1 = self.__p2 = 1\n",
    "\n",
    "    def __iter__(self):\n",
    "        print(\"__iter__\")\n",
    "        return self\n",
    "\n",
    "    def __next__(self):\n",
    "        print(\"__next__\")\n",
    "        self.__i += 1\n",
    "        if self.__i > self.__n:\n",
    "            raise StopIteration\n",
    "        if self.__i in [1, 2]:\n",
    "            return 1\n",
    "        ret = self.__p1 + self.__p2\n",
    "        self.__p1, self.__p2 = self.__p2, ret\n",
    "        return ret\n",
    "\n",
    "for i in Fib(10):\n",
    "    print(i)"
   ]
  },
  {
   "cell_type": "markdown",
   "metadata": {},
   "source": [
    "### Açıklama\n",
    "\n",
    "Bu kod, bir örnek oluşturulduğunda belirtilen `n` Fibonacci sayısının ilk `n` değerinde yineleme yapabilen bir sınıf tanımlar.\n",
    "\n",
    "#### Ana Noktalar:\n",
    "\n",
    "1. **Sınıf Başlatma (2-6. Satırlar)**:\n",
    "   - Kurucu, dizi limitini (`__n`), mevcut indeksi (`__i`) ve ilk iki Fibonacci sayısını (`__p1` ve `__p2`) başlatır. Ayrıca izleme amacıyla bir mesaj yazdırır.\n",
    "\n",
    "2. **Yineleyici Yöntemi (8-10. Satırlar)**:\n",
    "   - `__iter__` yöntemi, yineleyici nesnenin kendisini döndürür. Bu yöntem gereksiz görünebilir, ancak yineleyiciler içeren nesneler için gereklidir. Yöntemin çağrıldığını belirten bir mesaj yazdırır.\n",
    "\n",
    "3. **Sonraki Değer Yöntemi (12-21. Satırlar)**:\n",
    "   - `__next__` yöntemi, bir sonraki Fibonacci sayısını oluşturur. Bir mesaj yazdırır, mevcut indeksi günceller ve dizi bittiğinde `StopIteration` istisnasını yükseltir. Kalan kod, Fibonacci dizisi tanımını izler.\n",
    "\n",
    "4. **Kullanım (24-25. Satırlar)**:\n",
    "   - Yineleyici, Fibonacci sayılarını yazdırmak için bir `for` döngüsünde kullanılır.\n",
    "\n",
    "### Çıktı\n",
    "\n",
    "Kod, yineleme sürecini gösteren aşağıdaki çıktıyı üretir:\n",
    "\n",
    "```plaintext\n",
    "__init__\n",
    "__iter__\n",
    "__next__\n",
    "1\n",
    "__next__\n",
    "1\n",
    "__next__\n",
    "2\n",
    "__next__\n",
    "3\n",
    "__next__\n",
    "5\n",
    "__next__\n",
    "8\n",
    "__next__\n",
    "13\n",
    "__next__\n",
    "21\n",
    "__next__\n",
    "34\n",
    "__next__\n",
    "55\n",
    "```\n",
    "\n",
    "### Özet\n",
    "\n",
    "1. Yineleyici nesne önce oluşturulur.\n",
    "2. Python, yineleyiciye erişmek için `__iter__` yöntemini çağırır.\n",
    "3. `__next__` yöntemi, `StopIteration` yükseltilene kadar dizideki değerleri üretmek için tekrar tekrar çağrılır."
   ]
  },
  {
   "cell_type": "markdown",
   "metadata": {},
   "source": [
    "### Yineleyiciler ile Bileşimi Anlamak\n",
    "\n",
    "Önceki örnek, yineleyici nesnenin daha karmaşık bir sınıfın parçası olduğu bir çözüm gösterdi. Kod çok karmaşık olmasa da, kavramı net bir şekilde açıklıyor.\n",
    "\n",
    "Aşağıdaki koda bir göz atın:"
   ]
  },
  {
   "cell_type": "code",
   "execution_count": 3,
   "metadata": {},
   "outputs": [
    {
     "name": "stdout",
     "output_type": "stream",
     "text": [
      "Class iter\n",
      "1\n",
      "1\n",
      "2\n",
      "3\n",
      "5\n",
      "8\n",
      "13\n",
      "21\n"
     ]
    }
   ],
   "source": [
    "class Fib:\n",
    "    def __init__(self, nn):\n",
    "        self.__n = nn\n",
    "        self.__i = 0\n",
    "        self.__p1 = self.__p2 = 1\n",
    "\n",
    "    def __iter__(self):\n",
    "        print(\"Fib iter\")\n",
    "        return self\n",
    "\n",
    "    def __next__(self):\n",
    "        self.__i += 1\n",
    "        if self.__i > self.__n:\n",
    "            raise StopIteration\n",
    "        if self.__i in [1, 2]:\n",
    "            return 1\n",
    "        ret = self.__p1 + self.__p2\n",
    "        self.__p1, self.__p2 = self.__p2, ret\n",
    "        return ret\n",
    "\n",
    "class Class:\n",
    "    def __init__(self, n):\n",
    "        self.__iter = Fib(n)\n",
    "\n",
    "    def __iter__(self):\n",
    "        print(\"Class iter\")\n",
    "        return self.__iter\n",
    "\n",
    "object = Class(8)\n",
    "\n",
    "for i in object:\n",
    "    print(i)"
   ]
  },
  {
   "cell_type": "markdown",
   "metadata": {},
   "source": [
    "### Açıklama\n",
    "\n",
    "Bu örnekte, `Fib` yineleyicisi başka bir sınıfa (`Class`) entegre edilmiştir. Bir `Class` nesnesi oluşturulduğunda bir `Fib` örneği yaratılır.\n",
    "\n",
    "Bir `Class` nesnesi, `__iter__` yöntemine doğru yanıt verdiği için yineleyici olarak kullanılabilir. Bu yöntem çağrıldığında, yineleme protokolüne uyan bir nesne döner.\n",
    "\n",
    "### Ana Noktalar\n",
    "\n",
    "- **Sınıf Başlatma**:\n",
    "  - `Fib` sınıfı, Fibonacci dizisini bir limit (`__n`), bir sayaç (`__i`) ve dizinin ilk iki sayısı (`__p1` ve `__p2`) ile başlatır.\n",
    "  - `Class` sınıfı, bir `Fib` yineleyici örneğini başlatır.\n",
    "\n",
    "- **Yineleyici Yöntemler**:\n",
    "  - `Fib` sınıfı, Fibonacci dizisini oluşturmak için `__iter__` ve `__next__` yöntemlerini uygular.\n",
    "  - `Class` sınıfı, `Fib` yineleyici örneğini döndüren `__iter__` yöntemini uygular.\n",
    "\n",
    "- **Kullanım**:\n",
    "  - Bir `Class` sınıfı örneği oluşturulur ve Fibonacci sayılarını yazdırmak için bir `for` döngüsünde kullanılır.\n",
    "\n",
    "### Çıktı\n",
    "\n",
    "Kod, yineleme sürecini gösteren aynı çıktıyı üretir. Bu, `Class` nesnesinin, `for` döngüsünde doğrudan `Fib` nesnesini kullanmadan yineleyici olarak hizmet edebileceğini gösterir.\n",
    "\n",
    "Bu yaklaşım, bir yineleyicinin daha karmaşık bir sınıf yapısına nasıl entegre edilebileceğini ve yineleme sürecinin işlevselliğini ve davranışını nasıl koruyabileceğini gösterir."
   ]
  },
  {
   "cell_type": "markdown",
   "metadata": {},
   "source": [
    "### `yield` İfadesi\n",
    "\n",
    "Yineleyici protokolü anlaşılması ve kullanılması zor olmayan bir yapıdadır, ancak bazı rahatsızlıkları da vardır. Bu rahatsızlıkların başında, ardışık `__iter__` çağrıları arasında yineleme durumunu koruma gereksinimi gelir.\n",
    "\n",
    "Örneğin, `Fib` yineleyicisi, son çağrının durduğu yeri (yani değerlendirilen sayı ve önceki iki elemanın değerlerini) tam olarak hatırlamak zorundadır. Bu da kodun daha büyük ve anlaşılması zor hale gelmesine neden olur.\n",
    "\n",
    "Bu sorunu çözmek için Python, yineleyicileri yazmanın çok daha etkili, kullanışlı ve zarif bir yolunu sunar: `yield` anahtar kelimesi.\n",
    "\n",
    "`yield` anahtar kelimesini, `return` ifadesinin daha akıllı bir kardeşi olarak düşünebilirsiniz, ancak temel bir farkla.\n",
    "\n",
    "Bu fonksiyona bir göz atın:"
   ]
  },
  {
   "cell_type": "code",
   "execution_count": 4,
   "metadata": {},
   "outputs": [],
   "source": [
    "def fun(n):\n",
    "    for i in range(n):\n",
    "        return i"
   ]
  },
  {
   "cell_type": "markdown",
   "metadata": {},
   "source": [
    "Garip görünüyor, değil mi? Açıkça, `for` döngüsünün ilk çalışmasını tamamlaması mümkün değil, çünkü `return` onu geri dönülmez şekilde sonlandıracaktır. Fonksiyonu çağırmak hiçbir şeyi değiştirmez; `for` döngüsü her seferinde baştan başlayacak ve hemen kırılacaktır.\n",
    "\n",
    "Bu tür bir fonksiyon, ardışık çağrılar arasında durumunu kaydedip geri yükleyemez. Bu da böyle bir fonksiyonun jeneratör olarak kullanılamayacağı anlamına gelir.\n",
    "\n",
    "Şimdi bir kelimeyi değiştirelim:"
   ]
  },
  {
   "cell_type": "code",
   "execution_count": 5,
   "metadata": {},
   "outputs": [],
   "source": [
    "def fun(n):\n",
    "    for i in range(n):\n",
    "        yield i"
   ]
  },
  {
   "cell_type": "markdown",
   "metadata": {},
   "source": [
    "`return` yerine `yield` ekledik. Bu küçük değişiklik, fonksiyonu bir jeneratöre dönüştürür ve `yield` ifadesinin çok ilginç etkileri vardır.\n",
    "\n",
    "Öncelikle, `yield` ifadesinden sonraki değeri `return` gibi sağlar, ancak fonksiyonun durumunu kaybetmez. Tüm değişkenlerin değerleri donmuş halde kalır ve bir sonraki çağrı için bekler, bu da yürütmenin (başlangıçtan alınmış gibi değil) kaldığı yerden devam etmesini sağlar.\n",
    "\n",
    "Ancak önemli bir sınırlama vardır: Bu tür bir fonksiyon artık doğrudan çağrılmamalıdır; aslında, artık bir fonksiyon değil, bir jeneratör nesnesidir. Çağrı, beklediğimiz dizi yerine nesnenin kimliğini döndürecektir.\n",
    "\n",
    "Aynı sebeplerden dolayı, önceki fonksiyon (return ifadesi ile olan) sadece doğrudan çağrılabilir ve jeneratör olarak kullanılmamalıdır.\n",
    "\n",
    "### Bir Jeneratör Nasıl Oluşturulur\n",
    "\n",
    "Yeni jeneratörü çalışırken gösterelim.\n",
    "\n",
    "İşte nasıl kullanabileceğimiz:"
   ]
  },
  {
   "cell_type": "code",
   "execution_count": 6,
   "metadata": {},
   "outputs": [
    {
     "name": "stdout",
     "output_type": "stream",
     "text": [
      "0\n",
      "1\n",
      "2\n",
      "3\n",
      "4\n"
     ]
    }
   ],
   "source": [
    "def fun(n):\n",
    "    for i in range(n):\n",
    "        yield i\n",
    "\n",
    "for v in fun(5):\n",
    "    print(v)"
   ]
  },
  {
   "cell_type": "markdown",
   "metadata": {},
   "source": [
    "### Açıklama\n",
    "\n",
    "Bu örnek, bir jeneratörün nasıl oluşturulup kullanılacağını gösterir. `yield` ifadesi, fonksiyonun durumunu kaybetmeden birçok çağrıda bir dizi değer üretmesine olanak tanır ve yineleyicileri temiz ve verimli bir şekilde uygulamak için mükemmel bir yol sağlar."
   ]
  },
  {
   "cell_type": "markdown",
   "metadata": {},
   "source": [
    "### Kendi Jeneratörünüzü Oluşturmak\n",
    "\n",
    "İlk `n` tane 2'nin kuvvetini üreten bir jeneratöre mi ihtiyacınız var? Oldukça basit. Aşağıdaki koda bir göz atın:"
   ]
  },
  {
   "cell_type": "code",
   "execution_count": 7,
   "metadata": {},
   "outputs": [
    {
     "name": "stdout",
     "output_type": "stream",
     "text": [
      "1\n",
      "2\n",
      "4\n",
      "8\n",
      "16\n",
      "32\n",
      "64\n",
      "128\n"
     ]
    }
   ],
   "source": [
    "def powers_of_2(n):\n",
    "    power = 1\n",
    "    for i in range(n):\n",
    "        yield power\n",
    "        power *= 2\n",
    "\n",
    "for v in powers_of_2(8):\n",
    "    print(v)"
   ]
  },
  {
   "cell_type": "markdown",
   "metadata": {},
   "source": [
    "Çıktıyı tahmin edebilir misiniz? Tahmininizi kontrol etmek için kodu bir editöre kopyalayıp çalıştırın.\n",
    "\n",
    "### Liste Anlamları (List Comprehensions)\n",
    "\n",
    "Jeneratörler, liste anlamları içinde de kullanılabilir, örneğin:"
   ]
  },
  {
   "cell_type": "code",
   "execution_count": 8,
   "metadata": {},
   "outputs": [
    {
     "name": "stdout",
     "output_type": "stream",
     "text": [
      "[1, 2, 4, 8, 16]\n"
     ]
    }
   ],
   "source": [
    "def powers_of_2(n):\n",
    "    power = 1\n",
    "    for i in range(n):\n",
    "        yield power\n",
    "        power *= 2\n",
    "\n",
    "t = [x for x in powers_of_2(5)]\n",
    "print(t)"
   ]
  },
  {
   "cell_type": "markdown",
   "metadata": {},
   "source": [
    "Örneği çalıştırın ve çıktıyı kontrol edin.\n",
    "\n",
    "### `list()` Fonksiyonu\n",
    "\n",
    "`list()` fonksiyonu, jeneratör çağrılarından oluşan bir seriyi gerçek bir listeye dönüştürebilir:"
   ]
  },
  {
   "cell_type": "code",
   "execution_count": 9,
   "metadata": {},
   "outputs": [
    {
     "name": "stdout",
     "output_type": "stream",
     "text": [
      "[1, 2, 4]\n"
     ]
    }
   ],
   "source": [
    "def powers_of_2(n):\n",
    "    power = 1\n",
    "    for i in range(n):\n",
    "        yield power\n",
    "        power *= 2\n",
    "\n",
    "t = list(powers_of_2(3))\n",
    "print(t)"
   ]
  },
  {
   "cell_type": "markdown",
   "metadata": {},
   "source": [
    "Çıktıyı tahmin etmeye çalışın ve kodu çalıştırarak tahminlerinizi kontrol edin.\n",
    "\n",
    "### `in` Operatörü\n",
    "\n",
    "Ayrıca, `in` operatörü tarafından oluşturulan bağlam, bir jeneratörü kullanmanıza da olanak tanır. İşte nasıl yapılacağına dair bir örnek:"
   ]
  },
  {
   "cell_type": "code",
   "execution_count": 10,
   "metadata": {},
   "outputs": [
    {
     "name": "stdout",
     "output_type": "stream",
     "text": [
      "1\n",
      "2\n",
      "4\n",
      "8\n"
     ]
    }
   ],
   "source": [
    "def powers_of_2(n):\n",
    "    power = 1\n",
    "    for i in range(n):\n",
    "        yield power\n",
    "        power *= 2\n",
    "\n",
    "for i in range(20):\n",
    "    if i in powers_of_2(4):\n",
    "        print(i)"
   ]
  },
  {
   "cell_type": "markdown",
   "metadata": {},
   "source": [
    "Bu kodun çıktısı nedir? Programı çalıştırarak öğrenin.\n",
    "\n",
    "### Fibonacci Sayı Jeneratörü\n",
    "\n",
    "Şimdi, bir Fibonacci sayı jeneratörüne bakalım. Bu yaklaşım, doğrudan yineleyici protokol uygulamasına dayanan nesne tabanlı versiyondan çok daha zariftir:"
   ]
  },
  {
   "cell_type": "code",
   "execution_count": 11,
   "metadata": {},
   "outputs": [
    {
     "name": "stdout",
     "output_type": "stream",
     "text": [
      "[1, 1, 2, 3, 5, 8, 13, 21, 34, 55]\n"
     ]
    }
   ],
   "source": [
    "def fibonacci(n):\n",
    "    p = pp = 1\n",
    "    for i in range(n):\n",
    "        if i in [0, 1]:\n",
    "            yield 1\n",
    "        else:\n",
    "            n = p + pp\n",
    "            pp, p = p, n\n",
    "            yield n\n",
    "\n",
    "fibs = list(fibonacci(10))\n",
    "print(fibs)"
   ]
  },
  {
   "cell_type": "markdown",
   "metadata": {},
   "source": [
    "\n",
    "Jeneratörün ürettiği çıktıyı (bir liste) tahmin edin ve doğru olup olmadığınızı görmek için kodu çalıştırın."
   ]
  },
  {
   "cell_type": "markdown",
   "metadata": {},
   "source": [
    "### Liste Anlamları Hakkında Daha Fazlası\n",
    "\n",
    "Liste anlamlarının oluşturulması ve kullanılmasıyla ilgili kuralları hatırlamanız gerekir. Bu, listeleri ve içeriklerini oluşturmanın basit ve etkileyici bir yoludur.\n",
    "\n",
    "Aşağıdaki koda bir göz atın:"
   ]
  },
  {
   "cell_type": "code",
   "execution_count": 12,
   "metadata": {},
   "outputs": [
    {
     "name": "stdout",
     "output_type": "stream",
     "text": [
      "[1, 10, 100, 1000, 10000, 100000]\n",
      "[1, 10, 100, 1000, 10000, 100000]\n"
     ]
    }
   ],
   "source": [
    "list_1 = []\n",
    "\n",
    "for ex in range(6):\n",
    "    list_1.append(10 ** ex)\n",
    "\n",
    "list_2 = [10 ** ex for ex in range(6)]\n",
    "\n",
    "print(list_1)\n",
    "print(list_2)"
   ]
  },
  {
   "cell_type": "markdown",
   "metadata": {},
   "source": [
    "Bu kodda, her ikisi de ilk birkaç doğal on kuvvetini içeren bir liste oluşturan iki bölüm vardır.\n",
    "\n",
    "İlk kısım, listeyi oluşturmak için geleneksel bir `for` döngüsü kullanır, ikinci kısım ise liste anlamını kullanarak listeyi doğrudan oluşturur, bir döngüye veya ek bir koda ihtiyaç duymaz.\n",
    "\n",
    "Liste kendini oluşturuyormuş gibi görünebilir. Tabii ki, Python yine de ilk örnekteki ile neredeyse aynı işlemleri yapar, ancak ikinci yaklaşım tartışmasız daha zariftir ve okuyucunun gereksiz ayrıntılardan kaçınmasına olanak tanır.\n",
    "\n",
    "Örnek, iki aynı satırı çıktı olarak verir:\n",
    "\n",
    "```\n",
    "[1, 10, 100, 1000, 10000, 100000]\n",
    "[1, 10, 100, 1000, 10000, 100000]\n",
    "```\n",
    "\n",
    "Doğruluğunu kontrol etmek için kodu çalıştırın."
   ]
  },
  {
   "cell_type": "markdown",
   "metadata": {},
   "source": [
    "### Liste Anlamları Hakkında Daha Fazlası: Devam\n",
    "\n",
    "Size çok ilginç bir sözdizimini göstermek istiyoruz. Bu sözdiziminin kullanımı sadece liste anlamlarıyla sınırlı değildir, ancak anlamlar bunun için ideal bir ortamdır.\n",
    "\n",
    "Bu sözdizimi, bir koşullu ifadedir. Bir Boolean ifadesinin sonucuna bağlı olarak iki farklı değerden birini seçmenin bir yoludur.\n",
    "\n",
    "İşte nasıl göründüğü:\n",
    "\n",
    "```python\n",
    "expression_one if condition else expression_two\n",
    "```\n",
    "\n",
    "İlk bakışta biraz şaşırtıcı gelebilir, ancak bunun bir koşullu talimat olmadığını unutmayın. Aslında, bu bir talimat bile değildir; bir operatördür.\n",
    "\n",
    "Döndürdüğü değer, koşul `True` olduğunda `expression_one` ve aksi takdirde `expression_two` olur.\n",
    "\n",
    "İyi bir örnek, bunu daha net hale getirecektir. Aşağıdaki koda bakın:"
   ]
  },
  {
   "cell_type": "code",
   "execution_count": 13,
   "metadata": {},
   "outputs": [
    {
     "name": "stdout",
     "output_type": "stream",
     "text": [
      "[1, 0, 1, 0, 1, 0, 1, 0, 1, 0]\n"
     ]
    }
   ],
   "source": [
    "the_list = []\n",
    "\n",
    "for x in range(10):\n",
    "    the_list.append(1 if x % 2 == 0 else 0)\n",
    "\n",
    "print(the_list)"
   ]
  },
  {
   "cell_type": "markdown",
   "metadata": {},
   "source": [
    "Bu kod, bir listeyi 1'ler ve 0'larla doldurur: belirli bir elemanın indeksi çift ise eleman 1'e, değilse 0'a ayarlanır.\n",
    "\n",
    "Basit mi? İlk bakışta belki değil. Zarif mi? Kesinlikle.\n",
    "\n",
    "Aynı numarayı bir liste anlamı içinde kullanabilir misiniz? Evet, kullanabilirsiniz."
   ]
  },
  {
   "cell_type": "markdown",
   "metadata": {},
   "source": [
    "### Liste Anlamları ve Jeneratörler\n",
    "\n",
    "Aşağıdaki örneğe bir göz atın:"
   ]
  },
  {
   "cell_type": "code",
   "execution_count": 14,
   "metadata": {},
   "outputs": [
    {
     "name": "stdout",
     "output_type": "stream",
     "text": [
      "[1, 0, 1, 0, 1, 0, 1, 0, 1, 0]\n"
     ]
    }
   ],
   "source": [
    "the_list = [1 if x % 2 == 0 else 0 for x in range(10)]\n",
    "\n",
    "print(the_list)"
   ]
  },
  {
   "cell_type": "markdown",
   "metadata": {},
   "source": [
    "Bu koda baktığınızda aklınıza gelen iki kelime: \"kompaktlık\" ve \"zarafet\".\n",
    "\n",
    "### Jeneratörler ve Liste Anlamları Arasındaki Bağlantı\n",
    "\n",
    "Jeneratörler ve liste anlamları arasında ne gibi bir bağlantı var? Aralarında kesin bir bağlantı var mı? Evet, oldukça belirgin bir bağlantı var. Sadece bir değişiklikle herhangi bir liste anlamını jeneratöre dönüştürebilirsiniz.\n",
    "\n",
    "### Liste Anlamları ve Jeneratörler Karşılaştırması\n",
    "\n",
    "Aşağıdaki koda bakın ve liste anlamını jeneratöre dönüştüren detayı bulun:"
   ]
  },
  {
   "cell_type": "code",
   "execution_count": 15,
   "metadata": {},
   "outputs": [
    {
     "name": "stdout",
     "output_type": "stream",
     "text": [
      "1 0 1 0 1 0 1 0 1 0 \n",
      "1 0 1 0 1 0 1 0 1 0 \n"
     ]
    }
   ],
   "source": [
    "the_list = [1 if x % 2 == 0 else 0 for x in range(10)]\n",
    "the_generator = (1 if x % 2 == 0 else 0 for x in range(10))\n",
    "\n",
    "for v in the_list:\n",
    "    print(v, end=\" \")\n",
    "print()\n",
    "\n",
    "for v in the_generator:\n",
    "    print(v, end=\" \")\n",
    "print()"
   ]
  },
  {
   "cell_type": "markdown",
   "metadata": {},
   "source": [
    "Fark, parantezlerde. Köşeli parantezler liste anlamı oluştururken, normal parantezler jeneratör oluşturur.\n",
    "\n",
    "Bu kod çalıştırıldığında iki aynı satır çıktı verir:\n",
    "\n",
    "```\n",
    "1 0 1 0 1 0 1 0 1 0\n",
    "1 0 1 0 1 0 1 0 1 0\n",
    "```\n",
    "\n",
    "### Jeneratörü Tanımlamak\n",
    "\n",
    "İkinci atamanın bir liste değil de jeneratör oluşturduğunu nasıl anlayabilirsiniz? İşte basit bir kanıt. Bu iki varlığa `len()` fonksiyonunu uygulayın.\n",
    "\n",
    "`len(the_list)` 10 değerini döndürür, bu açık ve tahmin edilebilirdir. Ancak `len(the_generator)` bir istisna fırlatır ve şu mesajı gösterir:\n",
    "\n",
    "```\n",
    "TypeError: object of type 'generator' has no len()\n",
    "```\n",
    "\n",
    "### Jeneratörleri ve Listeleri Yerinde Oluşturma\n",
    "\n",
    "Listeyi veya jeneratörü saklamanıza gerek yok; bunları tam olarak ihtiyaç duyduğunuz yerde oluşturabilirsiniz, işte burada olduğu gibi:"
   ]
  },
  {
   "cell_type": "code",
   "execution_count": 16,
   "metadata": {},
   "outputs": [
    {
     "name": "stdout",
     "output_type": "stream",
     "text": [
      "1 0 1 0 1 0 1 0 1 0 \n",
      "1 0 1 0 1 0 1 0 1 0 \n"
     ]
    }
   ],
   "source": [
    "for v in [1 if x % 2 == 0 else 0 for x in range(10)]:\n",
    "    print(v, end=\" \")\n",
    "print()\n",
    "\n",
    "for v in (1 if x % 2 == 0 else 0 for x in range(10)):\n",
    "    print(v, end=\" \")\n",
    "print()"
   ]
  },
  {
   "cell_type": "markdown",
   "metadata": {},
   "source": [
    "### Çalışma Şekline Dair Not\n",
    "\n",
    "Çıktının aynı görünmesi, her iki döngünün de aynı şekilde çalıştığı anlamına gelmez. İlk döngüde liste tamamen oluşturulur (ve üzerinde gezinilir) - döngü çalıştırılırken liste gerçekten vardır.\n",
    "\n",
    "İkinci döngüde ise hiç liste yoktur - sadece jeneratör tarafından birer birer üretilen ardışık değerler vardır.\n",
    "\n",
    "### Kendi Deneylerinizi Yapın\n",
    "\n",
    "Bu kavramları daha fazla keşfetmek için kendi deneylerinizi yapmaktan çekinmeyin."
   ]
  },
  {
   "cell_type": "markdown",
   "metadata": {},
   "source": [
    "### Lambda Fonksiyonu\n",
    "\n",
    "Lambda fonksiyonu, matematikten, özellikle de Lambda hesaplaması adı verilen bir dalından alınmış bir kavramdır. Ancak, bu iki kavram aynı şey değildir.\n",
    "\n",
    "Matematikçiler Lambda hesaplamasını mantık, özyineleme ve teorem ispatlanabilirliği ile ilgili birçok resmi sistemde kullanırlar. Programcılar ise kodu basitleştirmek, daha anlaşılır ve okunabilir hale getirmek için lambda fonksiyonlarını kullanır.\n",
    "\n",
    "Lambda fonksiyonu, adı olmayan bir fonksiyondur (anonim fonksiyon olarak da adlandırılır). Bu da hemen akla şu soruyu getirir: Tanımlanamayan bir şeyi nasıl kullanırsınız?\n",
    "\n",
    "Neyse ki, gerektiğinde böyle bir fonksiyona isim verebilirsiniz, ancak çoğu durumda lambda fonksiyonu tamamen anonim kalabilir ve çalışabilir.\n",
    "\n",
    "Lambda fonksiyonunun tanımı normal bir fonksiyon tanımına benzemez. İşte sözdizimi:\n",
    "\n",
    "```python\n",
    "lambda parametreler: ifade\n",
    "```\n",
    "\n",
    "Bu, lambda argümanlarının mevcut değeri dikkate alınarak ifadenin değerini döner.\n",
    "\n",
    "### Örnek\n",
    "\n",
    "Üç lambda fonksiyonu kullanan ve bunlara isim veren bir örneğe bakalım:"
   ]
  },
  {
   "cell_type": "code",
   "execution_count": 17,
   "metadata": {},
   "outputs": [
    {
     "name": "stdout",
     "output_type": "stream",
     "text": [
      "4 4\n",
      "1 1\n",
      "0 0\n",
      "1 1\n",
      "4 4\n"
     ]
    }
   ],
   "source": [
    "two = lambda: 2\n",
    "sqr = lambda x: x * x\n",
    "pwr = lambda x, y: x ** y\n",
    "\n",
    "for a in range(-2, 3):\n",
    "    print(sqr(a), end=\" \")\n",
    "    print(pwr(a, two()))"
   ]
  },
  {
   "cell_type": "markdown",
   "metadata": {},
   "source": [
    "### Analiz\n",
    "\n",
    "- İlk lambda, her zaman 2 döndüren, parametresiz anonim bir fonksiyondur. Bu fonksiyonu `two` adlı bir değişkene atadığımız için artık anonim değildir ve bu isimle çağrılabilir.\n",
    "  \n",
    "- İkinci lambda, bir parametre alan ve argümanının karesini döndüren anonim bir fonksiyondur. Buna `sqr` adını verdik.\n",
    "  \n",
    "- Üçüncü lambda, iki parametre alır ve ilk parametrenin ikinci parametre kuvvetini döner. Buna `pwr` adını verdik. Python'un yerleşik `pow` fonksiyonu ile karışıklığı önlemek için `pow` ismini kullanmadık.\n",
    "\n",
    "Program şu çıktıyı üretir:\n",
    "\n",
    "```\n",
    "4 4\n",
    "1 1\n",
    "0 0\n",
    "1 1\n",
    "4 4\n",
    "```\n",
    "\n",
    "Bu örnek, lambda fonksiyonlarının nasıl tanımlandığını ve davrandığını gösterir. Ancak, lambda fonksiyonlarının neden gerekli olduğunu veya ne için kullanıldığını açıklamaz, çünkü hepsi rutin Python fonksiyonları ile değiştirilebilir.\n",
    "\n",
    "### Lambda Fonksiyonlarının Avantajı\n",
    "\n",
    "Lambda fonksiyonları, kısa süreliğine küçük, geçici bir fonksiyon gerektiğinde özellikle kullanışlıdır. İşte bazı yaygın kullanımları:\n",
    "\n",
    "1. **Satır İçi Kullanım**: Lambda fonksiyonları, satır içinde tanımlanabilir, bu da kodu daha özlü hale getirir.\n",
    "   \n",
    "2. **Yüksek Dereceli Fonksiyonlar**: `map()`, `filter()` ve `sorted()` gibi yüksek dereceli fonksiyonlara argüman olarak sıkça kullanılırlar.\n",
    "\n",
    "3. **Geri Çağırmalar**: Olay güdümlü programlamada geri çağırma fonksiyonları olarak kullanışlıdır, burada tam bir fonksiyon tanımlamak aşırıya kaçabilir.\n",
    "\n",
    "Lambda fonksiyonlarını kullanarak, özellikle tam bir fonksiyon tanımlamanın gereksiz derecede ayrıntılı olacağı basit durumlarda, daha kompakt ve okunabilir kod yazabilirsiniz."
   ]
  },
  {
   "cell_type": "markdown",
   "metadata": {},
   "source": [
    "### Lambda Fonksiyonlarını Nasıl Kullanırız ve Ne İçin Kullanırız?\n",
    "\n",
    "Lambda fonksiyonlarının en ilginç yanı, onları anonim kod parçaları olarak, yani bir sonucu değerlendirmek için kullanılan isimlendirilmemiş kod parçaları olarak kullanmaktır.\n",
    "\n",
    "Bir dizi seçilmiş argüman için verilen bir fonksiyonun değerlerini yazdıran bir fonksiyona ihtiyacımız olduğunu hayal edin (bu fonksiyona `print_function` adını vereceğiz).\n",
    "\n",
    "`print_function`'ın evrensel olmasını istiyoruz. Hem bir listede yer alan argümanlar kümesini hem de değerlendirilecek fonksiyonu parametre olarak kabul etmeli, yani hiçbir şeyi doğrudan kodlamak istemiyoruz.\n",
    "\n",
    "Aşağıdaki örneğe bir göz atın. Bu fikri nasıl uyguladığımızı gösteriyor:"
   ]
  },
  {
   "cell_type": "code",
   "execution_count": 18,
   "metadata": {},
   "outputs": [
    {
     "name": "stdout",
     "output_type": "stream",
     "text": [
      "f(-2) = 18\n",
      "f(-1) = 8\n",
      "f(0) = 2\n",
      "f(1) = 0\n",
      "f(2) = 2\n"
     ]
    }
   ],
   "source": [
    "def print_function(args, fun):\n",
    "    for x in args:\n",
    "        print('f(', x, ') = ', fun(x), sep='')\n",
    "\n",
    "def poly(x):\n",
    "    return 2 * x**2 - 4 * x + 2\n",
    "\n",
    "print_function([x for x in range(-2, 3)], poly)"
   ]
  },
  {
   "cell_type": "markdown",
   "metadata": {},
   "source": [
    "### Analiz\n",
    "\n",
    "`print_function()` iki parametre alır:\n",
    "1. Sonuçlarını yazdırmak istediğimiz argümanların listesi.\n",
    "2. İlk parametrede toplanan değerler kadar kez çağrılacak olan bir fonksiyon.\n",
    "\n",
    "Not: Ayrıca `poly()` adlı bir fonksiyon tanımladık—bu, değerlerini yazdıracağımız fonksiyondur. Bu fonksiyonun gerçekleştirdiği hesaplama, aşağıdaki formdaki polinomdur:\n",
    "\n",
    "\\[ f(x) = 2x^2 - 4x + 2 \\]\n",
    "\n",
    "Fonksiyonun adı, beş farklı argüman kümesi ile birlikte `print_function()`'a iletilir ve bu küme bir liste anlamı ile oluşturulur.\n",
    "\n",
    "Kod aşağıdaki satırları yazdırır:\n",
    "\n",
    "```\n",
    "f(-2) = 18\n",
    "f(-1) = 8\n",
    "f(0) = 2\n",
    "f(1) = 0\n",
    "f(2) = 2\n",
    "```\n",
    "\n",
    "### Lambda Kullanımı\n",
    "\n",
    "`poly()` fonksiyonunu tanımlamaktan kaçınabilir miyiz, çünkü onu sadece bir kez kullanacağız? Evet, lambda burada işe yarar.\n",
    "\n",
    "Aşağıdaki örneğe bakın. Farkı görebiliyor musunuz?"
   ]
  },
  {
   "cell_type": "code",
   "execution_count": 19,
   "metadata": {},
   "outputs": [
    {
     "name": "stdout",
     "output_type": "stream",
     "text": [
      "f(-2) = 18\n",
      "f(-1) = 8\n",
      "f(0) = 2\n",
      "f(1) = 0\n",
      "f(2) = 2\n"
     ]
    }
   ],
   "source": [
    "def print_function(args, fun):\n",
    "    for x in args:\n",
    "        print('f(', x, ') = ', fun(x), sep='')\n",
    "\n",
    "print_function([x for x in range(-2, 3)], lambda x: 2 * x**2 - 4 * x + 2)"
   ]
  },
  {
   "cell_type": "markdown",
   "metadata": {},
   "source": [
    "`print_function()` aynen kalır, ancak artık `poly()` fonksiyonu yoktur. Çünkü polinom, lambda olarak doğrudan `print_function()` çağrısının içinde tanımlanmıştır:\n",
    "\n",
    "```python\n",
    "lambda x: 2 * x**2 - 4 * x + 2\n",
    "```\n",
    "\n",
    "Kod daha kısa, daha net ve daha okunabilir hale gelmiştir.\n",
    "\n",
    "### Lambda Kullanımının Bir Başka Yeri\n",
    "\n",
    "Lambda'ların faydalı olabileceği bir başka yeri gösterelim. `map()` fonksiyonu ile başlayacağız, bu yerleşik Python fonksiyonudur. İsmi çok açıklayıcı olmasa da, fikri basittir ve fonksiyonun kendisi gerçekten kullanışlıdır."
   ]
  },
  {
   "cell_type": "markdown",
   "metadata": {},
   "source": [
    "### Lambda'lar ve `map()` Fonksiyonu\n",
    "\n",
    "En basit haliyle, `map()` fonksiyonu:\n",
    "\n",
    "```python\n",
    "map(function, list)\n",
    "```\n",
    "\n",
    "iki argüman alır:\n",
    "1. Bir fonksiyon.\n",
    "2. Bir liste.\n",
    "\n",
    "Ancak, bu açıklama oldukça basittir çünkü:\n",
    "\n",
    "- `map()`'in ikinci argümanı herhangi bir yinelenebilir varlık olabilir (örneğin, bir demet veya bir jeneratör).\n",
    "- `map()` iki argümandan fazlasını kabul edebilir.\n",
    "\n",
    "`map()` fonksiyonu, ilk argüman olarak verilen fonksiyonu ikinci argümanının tüm elemanlarına uygular ve tüm sonraki fonksiyon sonuçlarını sağlayan bir yineleyici döner.\n",
    "\n",
    "Elde edilen yineleyiciyi bir döngüde kullanabilir veya `list()` fonksiyonunu kullanarak bir listeye dönüştürebilirsiniz.\n",
    "\n",
    "### Lambda'ların Kullanımı\n",
    "\n",
    "Burada lambda fonksiyonlarının nasıl faydalı olabileceğini görebiliyor musunuz?\n",
    "\n",
    "Aşağıdaki kod örneğine bir göz atın, içinde iki lambda kullanılmıştır:"
   ]
  },
  {
   "cell_type": "code",
   "execution_count": 20,
   "metadata": {},
   "outputs": [
    {
     "name": "stdout",
     "output_type": "stream",
     "text": [
      "[1, 2, 4, 8, 16]\n",
      "1 4 16 64 256 \n"
     ]
    }
   ],
   "source": [
    "list_1 = [x for x in range(5)]\n",
    "list_2 = list(map(lambda x: 2 ** x, list_1))\n",
    "print(list_2)\n",
    "\n",
    "for x in map(lambda x: x * x, list_2):\n",
    "    print(x, end=' ')\n",
    "print()"
   ]
  },
  {
   "cell_type": "markdown",
   "metadata": {},
   "source": [
    "### Analiz\n",
    "\n",
    "- **`list_1`'i Oluşturma**: `list_1`'i 0'dan 4'e kadar olan değerlerle oluştururuz.\n",
    "- **İlk Lambda ile `map()` Kullanımı**: İlk lambda ile birlikte `map()` kullanarak her bir elemanın, `list_1`'deki karşılık gelen elemandan alınan kuvvet kadar 2'nin üssü olarak değerlendirildiği yeni bir liste (`list_2`) oluştururuz.\n",
    "- **`list_2`'yi Yazdırma**: Sonra `list_2`'yi yazdırırız.\n",
    "- **İkinci Lambda ile `map()` Kullanımı**: Bir sonraki adımda, `map()` fonksiyonunu tekrar kullanarak döndürdüğü jeneratörü ve sağladığı tüm değerleri doğrudan yazdırırız. Burada ikinci lambda'yı kullanarak `list_2`'deki her bir elemanı kareleriz.\n",
    "\n",
    "### Kodun Çıktısı\n",
    "\n",
    "Kodun çıktısı şöyle olacaktır:\n",
    "```\n",
    "[1, 2, 4, 8, 16]\n",
    "1 4 16 64 256 \n",
    "```\n",
    "\n",
    "### Sonuç\n",
    "\n",
    "Aynı kodu lambdalar olmadan hayal etmeye çalışın. Daha iyi olur mu? Pek olası değil. Lambda kullanımı, özellikle basit ve tek seferlik işlemler için kodu daha özlü ve okunabilir hale getirir.--"
   ]
  },
  {
   "cell_type": "markdown",
   "metadata": {},
   "source": [
    "### Lambda'lar ve `filter()` Fonksiyonu\n",
    "\n",
    "Lambda kullanımı ile önemli ölçüde güzelleştirilebilecek bir diğer Python fonksiyonu `filter()` fonksiyonudur.\n",
    "\n",
    "`filter()` fonksiyonu, `map()` ile aynı türde argümanlar bekler, ancak farklı bir işlem yapar - belirtilen ilk argümandaki fonksiyondan gelen yönergeler doğrultusunda ikinci argümanını filtreler (fonksiyon, tıpkı `map()`'te olduğu gibi her liste öğesi için çağrılır).\n",
    "\n",
    "Fonksiyondan `True` dönen öğeler filtreyi geçer; diğerleri reddedilir.\n",
    "\n",
    "Aşağıdaki örnek, `filter()` fonksiyonunun nasıl çalıştığını gösterir:"
   ]
  },
  {
   "cell_type": "code",
   "execution_count": 21,
   "metadata": {},
   "outputs": [
    {
     "name": "stdout",
     "output_type": "stream",
     "text": [
      "[-7, 0, -3, -5, -3]\n",
      "[]\n"
     ]
    }
   ],
   "source": [
    "from random import seed, randint\n",
    "\n",
    "seed()\n",
    "data = [randint(-10, 10) for x in range(5)]\n",
    "filtered = list(filter(lambda x: x > 0 and x % 2 == 0, data))\n",
    "\n",
    "print(data)\n",
    "print(filtered)"
   ]
  },
  {
   "cell_type": "markdown",
   "metadata": {},
   "source": [
    "\n",
    "### Açıklama\n",
    "\n",
    "Bu örnekte, `random` modülünü kullanarak rastgele sayı üretecini (yeni konuştuğumuz jeneratörlerle karıştırılmamalıdır) `seed()` fonksiyonu ile başlatır ve `randint()` fonksiyonunu kullanarak -10 ile 10 arasında beş rastgele tam sayı değeri üretiriz.\n",
    "\n",
    "Liste daha sonra filtrelenir ve yalnızca sıfırdan büyük ve çift olan sayılar kabul edilir.\n",
    "\n",
    "### Örnek Çıktı\n",
    "\n",
    "Sonuçlar, rastgele girişler nedeniyle değişebilir, ancak bizim çıktımız şöyleydi:\n",
    "\n",
    "```\n",
    "[6, 3, 3, 2, -7]\n",
    "[6, 2]\n",
    "```\n",
    "\n",
    "Bu, `filter()` fonksiyonu ile lambda kullanmanın kodunuzu nasıl daha özlü ve okunabilir hale getirebileceğini gösterir."
   ]
  },
  {
   "cell_type": "markdown",
   "metadata": {},
   "source": [
    "### Kapanışlara Kısaca Bir Bakış\n",
    "\n",
    "Bir tanımla başlayalım: kapanış (closure), oluşturuldukları bağlam artık mevcut olmasa bile değerlerin saklanmasını sağlayan bir tekniktir. Karmaşık mı? Biraz.\n",
    "\n",
    "Basit bir örneği inceleyelim:"
   ]
  },
  {
   "cell_type": "code",
   "execution_count": 22,
   "metadata": {},
   "outputs": [
    {
     "ename": "NameError",
     "evalue": "name 'par' is not defined",
     "output_type": "error",
     "traceback": [
      "\u001b[1;31m---------------------------------------------------------------------------\u001b[0m",
      "\u001b[1;31mNameError\u001b[0m                                 Traceback (most recent call last)",
      "Cell \u001b[1;32mIn[22], line 7\u001b[0m\n\u001b[0;32m      4\u001b[0m var \u001b[38;5;241m=\u001b[39m \u001b[38;5;241m1\u001b[39m\n\u001b[0;32m      5\u001b[0m outer(var)\n\u001b[1;32m----> 7\u001b[0m \u001b[38;5;28mprint\u001b[39m(par)\n\u001b[0;32m      8\u001b[0m \u001b[38;5;28mprint\u001b[39m(loc)\n",
      "\u001b[1;31mNameError\u001b[0m: name 'par' is not defined"
     ]
    }
   ],
   "source": [
    "def outer(par):\n",
    "    loc = par\n",
    "\n",
    "var = 1\n",
    "outer(var)\n",
    "\n",
    "print(par)\n",
    "print(loc)"
   ]
  },
  {
   "cell_type": "markdown",
   "metadata": {},
   "source": [
    "Bu örnek açıkça hatalıdır.\n",
    "\n",
    "Son iki satır `NameError` hatasına neden olacaktır – ne `par` ne de `loc` fonksiyonun dışında erişilebilir değildir. Bu değişkenlerin her ikisi de sadece `outer()` fonksiyonu çalışırken var olur.\n",
    "\n",
    "Şimdi aşağıdaki değiştirilmiş koda bakın:"
   ]
  },
  {
   "cell_type": "code",
   "execution_count": null,
   "metadata": {},
   "outputs": [],
   "source": [
    "def outer(par):\n",
    "    loc = par\n",
    "\n",
    "    def inner():\n",
    "        return loc\n",
    "    return inner\n",
    "\n",
    "var = 1\n",
    "fun = outer(var)\n",
    "print(fun())"
   ]
  },
  {
   "cell_type": "markdown",
   "metadata": {},
   "source": [
    "Burada yeni bir unsur var – bir fonksiyon (`inner`) başka bir fonksiyonun (`outer`) içinde yer alıyor.\n",
    "\n",
    "### Nasıl Çalışır?\n",
    "\n",
    "Bu yapı, `inner()` sadece `outer()` içinde çağrılabilmesi dışında, herhangi bir başka fonksiyon gibi çalışır. Bu bağlamda, `inner()`, `outer()`'ın özel bir aracıdır – kodun başka hiçbir kısmı ona erişemez.\n",
    "\n",
    "Dikkatlice inceleyin:\n",
    "\n",
    "- `inner()` fonksiyonu, kendi kapsamı içinde erişilebilir olan `loc` değişkeninin değerini döndürür. `inner()`, `outer()`'ın kullanımına sunulan herhangi bir varlığı kullanabilir.\n",
    "- `outer()` fonksiyonu, `inner()` fonksiyonunun kendisini döndürür. Daha doğrusu, `outer()`'ın çağrılması anında dondurulmuş olan `inner()` fonksiyonunun bir kopyasını döndürür. Bu donmuş fonksiyon, tüm yerel değişkenlerin durumu da dahil olmak üzere tam çevresini içerir. Bu, `loc`'un değerinin başarıyla saklandığı anlamına gelir, `outer()` çoktan sona ermiş olsa bile.\n",
    "\n",
    "Sonuç olarak, kod tamamen geçerlidir ve şu çıktıyı verir:\n",
    "\n",
    "```\n",
    "1\n",
    "```\n",
    "\n",
    "`outer()` çağrısı sırasında döndürülen fonksiyon bir kapanıştır."
   ]
  },
  {
   "cell_type": "markdown",
   "metadata": {},
   "source": [
    "### Kapanışları Anlamak\n",
    "\n",
    "Bir kapanış (closure), tanımlandığı şekilde çağrılmalıdır.\n",
    "\n",
    "Bu örneği düşünün:"
   ]
  },
  {
   "cell_type": "code",
   "execution_count": null,
   "metadata": {},
   "outputs": [],
   "source": [
    "def outer(par):\n",
    "    loc = par\n",
    "\n",
    "    def inner():\n",
    "        return loc\n",
    "    return inner\n",
    "\n",
    "var = 1\n",
    "fun = outer(var)\n",
    "print(fun())"
   ]
  },
  {
   "cell_type": "markdown",
   "metadata": {},
   "source": [
    "`inner()` fonksiyonu parametresizdir, bu yüzden onu herhangi bir argüman olmadan çağırmalıyız.\n",
    "\n",
    "Şimdi aşağıdaki koda bakın. Bir kapanışın herhangi bir sayıda parametre ile tanımlanması tamamen mümkündür, örneğin `power()` fonksiyonu gibi:"
   ]
  },
  {
   "cell_type": "code",
   "execution_count": 23,
   "metadata": {},
   "outputs": [
    {
     "name": "stdout",
     "output_type": "stream",
     "text": [
      "0 0 0\n",
      "1 1 1\n",
      "2 4 8\n",
      "3 9 27\n",
      "4 16 64\n"
     ]
    }
   ],
   "source": [
    "def make_closure(par):\n",
    "    loc = par\n",
    "\n",
    "    def power(p):\n",
    "        return p ** loc\n",
    "    return power\n",
    "\n",
    "fsqr = make_closure(2)\n",
    "fcub = make_closure(3)\n",
    "\n",
    "for i in range(5):\n",
    "    print(i, fsqr(i), fcub(i))"
   ]
  },
  {
   "cell_type": "markdown",
   "metadata": {},
   "source": [
    "Bu, bir kapanışın donmuş ortamı kullanabileceğini ve dışarıdan alınan değerlerle davranışını değiştirebileceğini gösterir.\n",
    "\n",
    "### Analiz\n",
    "\n",
    "Bu örnek, ek olarak ilginç bir durumu daha gösterir: aynı kod parçasını kullanarak istediğiniz kadar kapanış oluşturabilirsiniz. Bu, `make_closure()` fonksiyonu ile yapılır.\n",
    "\n",
    "- `make_closure(2)`'den elde edilen ilk kapanış, argümanını karesini alan bir fonksiyonu tanımlar.\n",
    "- `make_closure(3)`'ten elde edilen ikinci kapanış, argümanını küplerini alan bir fonksiyonu tanımlar.\n",
    "\n",
    "Sonuç olarak, kod aşağıdaki çıktıyı üretir:\n",
    "\n",
    "```\n",
    "0 0 0\n",
    "1 1 1\n",
    "2 4 8\n",
    "3 9 27\n",
    "4 16 64\n",
    "```\n",
    "\n",
    "### Kendiniz Deneyin\n",
    "\n",
    "Kapanışları daha fazla keşfetmek için kendi testlerinizi yapmaktan çekinmeyin."
   ]
  },
  {
   "cell_type": "markdown",
   "metadata": {},
   "source": [
    "### Temel Bilgiler\n",
    "\n",
    "1. **İteratör**:\n",
    "   - Bir iteratör, en az iki yöntem sağlayan bir sınıfın nesnesidir (yapıcıyı saymazsak):\n",
    "     - `__iter__()`: İteratör oluşturulduğunda bir kez çağrılır ve iteratör nesnesinin kendisini döndürür.\n",
    "     - `__next__()`: Bir sonraki yineleme değerini sağlamak için çağrılır ve yineleme sona erdiğinde `StopIteration` istisnasını yükseltir.\n",
    "\n",
    "2. **`yield` İfadesi**:\n",
    "   - `yield` ifadesi yalnızca fonksiyonların içinde kullanılabilir. Fonksiyonun yürütülmesini askıya alır ve `yield` argümanını bir sonuç olarak döndürür. Bu tür bir fonksiyon normal şekilde çağrılamaz—yalnızca jeneratör olarak kullanılması amaçlanmıştır (örneğin, bir `for` döngüsü gibi bir dizi değere ihtiyaç duyan bir bağlamda).\n",
    "\n",
    "3. **Koşullu İfade**:\n",
    "   - Koşullu ifade, `if-else` operatörü kullanılarak oluşturulan bir ifadedir. Örneğin:"
   ]
  },
  {
   "cell_type": "code",
   "execution_count": 24,
   "metadata": {},
   "outputs": [
    {
     "name": "stdout",
     "output_type": "stream",
     "text": [
      "True\n"
     ]
    }
   ],
   "source": [
    "print(True if 0 >= 0 else False)"
   ]
  },
  {
   "cell_type": "markdown",
   "metadata": {},
   "source": [
    "4. **Liste Anlamından Jeneratöre**:\n",
    "   - Bir liste anlamı parantez içinde kullanıldığında jeneratör olur (köşeli parantez içinde kullanıldığında normal bir liste oluşturur). Örneğin:"
   ]
  },
  {
   "cell_type": "code",
   "execution_count": 25,
   "metadata": {},
   "outputs": [
    {
     "name": "stdout",
     "output_type": "stream",
     "text": [
      "0\n",
      "2\n",
      "4\n",
      "6\n",
      "8\n"
     ]
    }
   ],
   "source": [
    "for x in (el * 2 for el in range(5)):\n",
    "    print(x)"
   ]
  },
  {
   "cell_type": "markdown",
   "metadata": {},
   "source": [
    "5. **Lambda Fonksiyonu**:\n",
    "   - Lambda fonksiyonu, anonim fonksiyonlar oluşturmak için bir araçtır. Örneğin:"
   ]
  },
  {
   "cell_type": "code",
   "execution_count": 26,
   "metadata": {},
   "outputs": [
    {
     "name": "stdout",
     "output_type": "stream",
     "text": [
      "3.0\n"
     ]
    }
   ],
   "source": [
    "def foo(x, f):\n",
    "    return f(x)\n",
    "\n",
    "print(foo(9, lambda x: x ** 0.5))"
   ]
  },
  {
   "cell_type": "markdown",
   "metadata": {},
   "source": [
    "6. **`map()` Fonksiyonu**:\n",
    "   - `map(fun, list)` fonksiyonu, `fun` fonksiyonunu listenin tüm elemanlarına uygular ve yeni liste içeriğini eleman eleman sağlayan bir jeneratör döndürür. Örneğin:"
   ]
  },
  {
   "cell_type": "code",
   "execution_count": 27,
   "metadata": {},
   "outputs": [
    {
     "name": "stdout",
     "output_type": "stream",
     "text": [
      "['Mython', 'Python', 'Fell', 'On', 'The', 'Floor']\n"
     ]
    }
   ],
   "source": [
    "short_list = ['mython', 'python', 'fell', 'on', 'the', 'floor']\n",
    "new_list = list(map(lambda s: s.title(), short_list))\n",
    "print(new_list)"
   ]
  },
  {
   "cell_type": "markdown",
   "metadata": {},
   "source": [
    "7. **`filter()` Fonksiyonu**:\n",
    "   - `filter(fun, list)` fonksiyonu, `fun` fonksiyonunun `True` döndürdüğü liste elemanlarının bir kopyasını oluşturur. Sonuç, yeni liste içeriğini eleman eleman sağlayan bir jeneratördür. Örneğin:"
   ]
  },
  {
   "cell_type": "code",
   "execution_count": 28,
   "metadata": {},
   "outputs": [
    {
     "name": "stdout",
     "output_type": "stream",
     "text": [
      "['Python', 'Monty']\n"
     ]
    }
   ],
   "source": [
    "short_list = [1, \"Python\", -1, \"Monty\"]\n",
    "new_list = list(filter(lambda s: isinstance(s, str), short_list))\n",
    "print(new_list)"
   ]
  },
  {
   "cell_type": "markdown",
   "metadata": {},
   "source": [
    "8. **Closure**:\n",
    "   - Closure, oluşturuldukları bağlam artık mevcut olmasa bile değerlerin saklanmasını sağlayan bir tekniktir. Örneğin:"
   ]
  },
  {
   "cell_type": "code",
   "execution_count": 29,
   "metadata": {},
   "outputs": [
    {
     "name": "stdout",
     "output_type": "stream",
     "text": [
      "<b>Monty Python</b>\n"
     ]
    }
   ],
   "source": [
    "def tag(tg):\n",
    "    tg2 = tg\n",
    "    tg2 = tg[0] + '/' + tg[1:]\n",
    "\n",
    "    def inner(str):\n",
    "        return tg + str + tg2\n",
    "    return inner\n",
    "\n",
    "b_tag = tag('<b>')\n",
    "print(b_tag('Monty Python'))"
   ]
  }
 ],
 "metadata": {
  "kernelspec": {
   "display_name": "Python 3 (ipykernel)",
   "language": "python",
   "name": "python3"
  },
  "language_info": {
   "codemirror_mode": {
    "name": "ipython",
    "version": 3
   },
   "file_extension": ".py",
   "mimetype": "text/x-python",
   "name": "python",
   "nbconvert_exporter": "python",
   "pygments_lexer": "ipython3",
   "version": "3.11.7"
  }
 },
 "nbformat": 4,
 "nbformat_minor": 4
}
