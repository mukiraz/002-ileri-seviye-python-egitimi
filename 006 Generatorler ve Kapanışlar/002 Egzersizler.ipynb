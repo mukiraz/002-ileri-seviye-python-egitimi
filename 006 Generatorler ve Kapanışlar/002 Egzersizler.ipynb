{
 "cells": [
  {
   "cell_type": "markdown",
   "metadata": {},
   "source": [
    "### Alıştırma 1\n",
    "\n",
    "Aşağıdaki kodun beklenen çıktısı nedir?"
   ]
  },
  {
   "cell_type": "code",
   "execution_count": null,
   "metadata": {},
   "outputs": [],
   "source": [
    "class Vowels:\n",
    "    def __init__(self):\n",
    "        self.vow = \"aeiouy \"  # Evet, y her zaman ünlü harf olarak kabul edilmez.\n",
    "        self.pos = 0\n",
    "\n",
    "    def __iter__(self):\n",
    "        return self\n",
    "\n",
    "    def __next__(self):\n",
    "        if self.pos == len(self.vow):\n",
    "            raise StopIteration\n",
    "        self.pos += 1\n",
    "        return self.vow[self.pos - 1]\n",
    "\n",
    "vowels = Vowels()\n",
    "for v in vowels:\n",
    "    print(v, end=' ')"
   ]
  },
  {
   "cell_type": "markdown",
   "metadata": {},
   "source": [
    "### Alıştırma 2\n",
    "\n",
    "Lambda fonksiyonu yazarak, tam sayı argümanının en az anlamlı bitini ayarlayın ve bunu `map()` fonksiyonuna uygulayarak konsolda \"1 3 3 5\" dizisini üretin."
   ]
  },
  {
   "cell_type": "code",
   "execution_count": null,
   "metadata": {},
   "outputs": [],
   "source": [
    "any_list = [1, 2, 3, 4]\n",
    "even_list = list(map(lambda x: x | 1, any_list))\n",
    "print(' '.join(map(str, even_list)))"
   ]
  },
  {
   "cell_type": "markdown",
   "metadata": {},
   "source": [
    "### Alıştırma 3\n",
    "\n",
    "Aşağıdaki kodun beklenen çıktısı nedir?"
   ]
  },
  {
   "cell_type": "code",
   "execution_count": null,
   "metadata": {},
   "outputs": [],
   "source": [
    "def replace_spaces(replacement='*'):\n",
    "    def new_replacement(text):\n",
    "        return text.replace(' ', replacement)\n",
    "    return new_replacement\n",
    "\n",
    "stars = replace_spaces()\n",
    "print(stars(\"And Now for Something Completely Different\"))"
   ]
  },
  {
   "cell_type": "markdown",
   "metadata": {},
   "source": [
    "### Not\n",
    "\n",
    "PEP 8, Python Kodlama Stili Rehberi, lambda'ların değişkenlere atanmasını önermemektedir; bunun yerine, fonksiyonlar olarak tanımlanmalarını tavsiye eder. Bu, bir `def` ifadesi kullanmanın ve bir lambda ifadesini bir kimliğe bağlayan bir atama ifadesi kullanmaktan kaçınmanın daha iyi olduğu anlamına gelir. Aşağıdaki kodu inceleyin:"
   ]
  },
  {
   "cell_type": "code",
   "execution_count": null,
   "metadata": {},
   "outputs": [],
   "source": [
    "# Önerilen:\n",
    "def f(x):\n",
    "    return 3 * x\n",
    "\n",
    "# Önerilmeyen:\n",
    "f = lambda x: 3 * x"
   ]
  },
  {
   "cell_type": "markdown",
   "metadata": {},
   "source": [
    "Lambda'ları kimliklere bağlamak genellikle `def` ifadesinin işlevselliğini yineler. Öte yandan, `def` ifadelerini kullanmak daha fazla kod satırı oluşturur.\n",
    "\n",
    "Gerçekliğin genellikle kendi senaryolarını çizdiğini ve bunların her zaman gelenekleri veya resmi önerileri takip etmediğini anlamak önemlidir. Bunları takip edip etmeme kararı, birçok şeye bağlı olacaktır: tercihlerinize, benimsenen diğer geleneklere, şirketin iç yönergelerine, mevcut kodla uyumluluğa vb. Bunun farkında olun."
   ]
  }
 ],
 "metadata": {
  "language_info": {
   "name": "python"
  }
 },
 "nbformat": 4,
 "nbformat_minor": 2
}
