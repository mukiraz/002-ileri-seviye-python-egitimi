{
 "cells": [
  {
   "cell_type": "markdown",
   "id": "ab508a03-c90e-4b12-b1a6-3fdddbdf7ca6",
   "metadata": {},
   "source": [
    "### Bilgisayarlarda Rastgelelik Kavramının Açıklanması\r\n",
    "\r\n",
    "Bilgisayarlarda gerçek rastgelelik var mı? Bu soru, bilgisayarlar tarafından üretilen rastgelelik kavramının doğasını ele alır.\r\n",
    "\r\n",
    "Bilgisayar dünyasında, random adlı modül özellikle dikkat çekicidir. Bu modül, kullanıcıya sahte rastgele sayılarla çalışma imkanı sağlar.\r\n",
    "\r\n",
    "Sahte rastgele sayılar dediğimizde, sonraki değerlerinin öngörülememesi nedeniyle rastgele gibi görünen sayılar kastedilir. Ancak bu sayılar gerçekte rastgele değildir; çok rafine edilmiş algoritmalar kullanılarak üretilirler.\r\n",
    "\r\n",
    "\"Sahte\" rastgelelikteki \"sahte\" önemlidir. Görünüşte rastgele olmalarına rağmen, bu sayılar belirli bir düzen içinde belirlenir ve tahmin edilebilirler. Bu algoritmalar, bir başlangıç değeri olarak adlandırılan bir tohum (seed) üzerinden hesaplanır.\r\n",
    "\r\n",
    "Tohum, bu \"rastgele\" sayıları üretmek için kullanılan başlangıç noktası olarak işlev görür. Algoritma, her tohumun bir sayı dizisi üretmesini sağlar, ancak tohum değerleri sınırlı olduğundan dizinin belirli bir noktada tekrarlanması kaçınılmazdır.\r\n",
    "\r\n",
    "Gerçek rastgelelikten farklı olarak, gerçekten rastgele olan, kozmik radyasyon gibi kontrolsüz fiziksel olaylardan kaynaklanır. Buna karşılık, bilgisayar tarafından üretilen veri bu doğal öngörülemezliği barındırmaz.\r\n",
    "\r\n",
    "Rastgelelik faktörünü artırmak için, programcılar tohumu geçerli zamandan alınan bir sayıyla başlatabilirler. Bu yaklaşım, her program çalışmasının farklı bir tohum değeriyle başlamasını sağlayarak, sahte rastgele sayı dizileri üretir.\r\n",
    "\r\n",
    "Python, random modülünü içe aktarırken bu başlangıç işlemini otomatik olarak gerçekleştirir, sistem saati temel alınarak bir tohum değeri belirlenir."
   ]
  }
 ],
 "metadata": {
  "kernelspec": {
   "display_name": "Python 3 (ipykernel)",
   "language": "python",
   "name": "python3"
  },
  "language_info": {
   "codemirror_mode": {
    "name": "ipython",
    "version": 3
   },
   "file_extension": ".py",
   "mimetype": "text/x-python",
   "name": "python",
   "nbconvert_exporter": "python",
   "pygments_lexer": "ipython3",
   "version": "3.11.7"
  }
 },
 "nbformat": 4,
 "nbformat_minor": 5
}
