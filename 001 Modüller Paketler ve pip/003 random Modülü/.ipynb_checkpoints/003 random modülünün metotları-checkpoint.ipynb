{
 "cells": [
  {
   "cell_type": "markdown",
   "id": "c86f36e8",
   "metadata": {},
   "source": [
    "# Random metotları"
   ]
  },
  {
   "cell_type": "markdown",
   "id": "91a69426-ec2d-4ec4-abdc-754589e03725",
   "metadata": {},
   "source": [
    "#### randrange ve randint Fonksiyonları\n",
    "\n",
    "Eğer tam sayı rastgele değerler elde etmek istiyorsanız, aşağıdaki fonksiyonlardan biri daha uygun olabilir:\n",
    "\n",
    "- `randrange(end)`\n",
    "- `randrange(beg, end)`\n",
    "- `randrange(beg, end, step)`\n",
    "- `randint(left, right)`\n",
    "\n",
    "İlk üç fonksiyon sırasıyla aşağıdaki aralıklardan (sırasıyla) sözde rastgele bir tam sayı üretir:\n",
    "\n",
    "- `range(end)`\n",
    "- `range(beg, end)`\n",
    "- `range(beg, end, step)`\n",
    "\n",
    "Sağ tarafta bulunan zımni hariç tutma durumuna dikkat edin!\n",
    "\n",
    "Son fonksiyon ise `randrange(left, right+1)` ile eşdeğerdir - [left, right] aralığında bulunan bir tam sayı i üretir (sağ tarafta hariç tutma yok).\n",
    "\n",
    "Aşağıdaki kodu inceleyin. Bu örnek program, dördüncü sıradaki pozisyonda sıfır veya bir olacak şekilde, ilk üç pozisyonda sıfır değerini üretir."
   ]
  },
  {
   "cell_type": "code",
   "execution_count": 1,
   "id": "2e43bde7-8c0f-4873-b7e7-3a47b2d63be0",
   "metadata": {},
   "outputs": [
    {
     "name": "stdout",
     "output_type": "stream",
     "text": [
      "0 0 0 1\n"
     ]
    }
   ],
   "source": [
    "from random import randrange, randint\n",
    "\n",
    "print(randrange(1), end=' ')\n",
    "print(randrange(0, 1), end=' ')\n",
    "print(randrange(0, 1, 1), end=' ')\n",
    "print(randint(0, 1))"
   ]
  },
  {
   "cell_type": "markdown",
   "id": "13032c95-5ce0-4486-96fb-7a89f0d42a00",
   "metadata": {},
   "source": [
    "Her bir satırı şu şekilde açıklayalım:\n",
    "\n",
    "1. `randrange(1)`:\n",
    "   - `randrange(1)`, `[0, 1)` aralığında rastgele bir tamsayı üretir; yani sadece `0` olabilir.\n",
    "   - Bu nedenle, ilk `print` ifadesinin çıktısı her zaman `0` olacaktır.\n",
    "\n",
    "2. `randrange(0, 1)`:\n",
    "   - `randrange(0, 1)`, `[0, 1)` aralığında rastgele bir tamsayı üretir.\n",
    "   - Bu aralıkta sadece `0` değeri mümkündür.\n",
    "   - Dolayısıyla, ikinci `print` ifadesinin çıktısı her zaman `0` olacaktır.\n",
    "\n",
    "3. `randrange(0, 1, 1)`:\n",
    "   - `randrange(0, 1, 1)`, `[0, 1)` aralığında adımı `1` olan rastgele bir tamsayı üretir.\n",
    "   - Bu aralık sadece `0` değerini içerir.\n",
    "   - Bu nedenle, üçüncü `print` ifadesinin çıktısı her zaman `0` olacaktır.\n",
    "\n",
    "4. `randint(0, 1)`:\n",
    "   - `randint(0, 1)`, `[0, 1]` aralığında rastgele bir tamsayı üretir.\n",
    "   - Bu aralıkta hem `0` hem de `1` değerleri bulunur.\n",
    "   - Sonuç olarak, dördüncü `print` ifadesi rastgele olarak `0` veya `1` çıktısı verecektir.\n",
    "\n",
    "Bu açıklamalar doğrultusunda, programın çıktı dizisi sürekli olarak `0 0 0 <rastgele 0 veya 1>` şeklinde olacaktır.\n",
    "\n",
    "Dolayısıyla, programın ilk üç pozisyonu (`0 0 0`) her zaman sıfır olacak ve dördüncü pozisyonu ise `randint` fonksiyonunun doğasına bağlı olarak `0` veya `1` olacaktır."
   ]
  },
  {
   "cell_type": "markdown",
   "id": "770af896-03f3-4534-8d33-e2179b78aede",
   "metadata": {},
   "source": [
    "\r\n",
    "#### Önceki Fonksiyonların Dezavantajları\r\n",
    "\r\n",
    "Yukarıdaki fonksiyonların önemli bir dezavantajı var: belirtilen aralığın genişliği kadar çağrı yapılmasına rağmen tekrarlayan değerler üretebilirler.\r\n",
    "\r\n",
    "Aşağıdaki kod parçasına bakın - program, genellikle bazı elemanların benzersiz olmadığı bir dizi sayıyı çıktı olarak ür, çünkü rastgele ve çeşitli seçimler yapılmasını sağlarlar."
   ]
  },
  {
   "cell_type": "code",
   "execution_count": 5,
   "id": "23149654-15ba-4d16-9fe7-c9488c672e49",
   "metadata": {},
   "outputs": [
    {
     "name": "stdout",
     "output_type": "stream",
     "text": [
      "9,8,10,9,1,9,7,5,2,2,"
     ]
    }
   ],
   "source": [
    "from random import randint\n",
    "\n",
    "for i in range(10):\n",
    "    print(randint(1, 10), end=',')"
   ]
  },
  {
   "cell_type": "markdown",
   "id": "0945acc9-8b0b-411d-af67-992d447f28f6",
   "metadata": {},
   "source": [
    "#### choice ve sample Fonksiyonları\n",
    "\n",
    "Görüldüğü gibi, bu fonksiyonlar bir piyango için sayı üretmek gibi görevler için uygun değildir. Neyse ki, \"seçim\" olarak oldukça açıklayıcı bir şekilde adlandırılan ve daha iyi bir çözüm sunan bir fonksiyon var:\n",
    "\n",
    "```python\n",
    "choice(sequence)\n",
    "```\n",
    "\n",
    "Ve bir diğer fonksiyon olan `sample`:\n",
    "\n",
    "```python\n",
    "sample(sequence, elements_to_choose)\n",
    "```\n",
    "\n",
    "İlk fonksiyon girdi dizisinden rastgele bir eleman seçer ve onu döndürür. Öte yandan, `sample` fonksiyonu girdi dizisinden rastgele seçilen `elements_to_choose` sayıda elemandan oluşan bir liste (örnek) oluşturur.\n",
    "\n",
    "Özetle, bu fonksiyonlar bir diziden eleman seçmeyi kolaylaştırır ve seçilen elemanların rastgele sıralanmasını sağlar. Not: `elements_to_choose` parametresi girdi dizisinin uzunluğunu geçmemelidir.\n",
    "\n",
    "Aşağıdaki kod örneğine bakalım:\n",
    "\n",
    "Tekrar belirtmek gerekirse, programın çıktısı tahmin edilemezdir. İşte örnek sonuçlar:\n"
   ]
  },
  {
   "cell_type": "code",
   "execution_count": 6,
   "id": "6f9f2831-ebc1-4160-a736-14ed4cb332b7",
   "metadata": {},
   "outputs": [
    {
     "name": "stdout",
     "output_type": "stream",
     "text": [
      "8\n",
      "[4, 6, 8, 1, 5]\n",
      "[1, 8, 3, 10, 5, 9, 4, 2, 6, 7]\n"
     ]
    }
   ],
   "source": [
    "from random import choice, sample\n",
    "\n",
    "my_list = [1, 2, 3, 4, 5, 6, 7, 8, 9, 10]\n",
    "\n",
    "print(choice(my_list))\n",
    "print(sample(my_list, 5))\n",
    "print(sample(my_list, 10))"
   ]
  },
  {
   "cell_type": "markdown",
   "id": "3f7600c0-e3d3-4b60-9fa8-5cd80e0fac92",
   "metadata": {},
   "source": [
    "Bu fonksiyonlar, piyango çekilişi gibi benzersiz seçimler gerektiren senaryolar için idealdir, çünkü rastgele ve çeşitli seçimler yapılmasını sağlarlar."
   ]
  }
 ],
 "metadata": {
  "kernelspec": {
   "display_name": "Python 3 (ipykernel)",
   "language": "python",
   "name": "python3"
  },
  "language_info": {
   "codemirror_mode": {
    "name": "ipython",
    "version": 3
   },
   "file_extension": ".py",
   "mimetype": "text/x-python",
   "name": "python",
   "nbconvert_exporter": "python",
   "pygments_lexer": "ipython3",
   "version": "3.11.7"
  },
  "nbTranslate": {
   "displayLangs": [
    "*"
   ],
   "hotkey": "alt-t",
   "langInMainMenu": true,
   "sourceLang": "en",
   "targetLang": "fr",
   "useGoogleTranslate": true
  }
 },
 "nbformat": 4,
 "nbformat_minor": 5
}
