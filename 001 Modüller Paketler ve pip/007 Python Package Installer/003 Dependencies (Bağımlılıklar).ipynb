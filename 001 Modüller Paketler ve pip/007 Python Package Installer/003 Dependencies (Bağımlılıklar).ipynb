{
 "cells": [
  {
   "cell_type": "markdown",
   "id": "7f192f0b-c833-4f5e-8cab-ee70e17ac5ef",
   "metadata": {},
   "source": [
    "### Bağımlılıklar\r\n",
    "\r\n",
    "Pip'in hazır olduğunu doğruladıktan sonra, yalnızca MS Windows'a odaklanacağız. Ancak başlamadan önce önemli bir konuyu açıklamalıyız: bağımlılıklar.\r\n",
    "\r\n",
    "Diyelim ki %99 doğrulukla borsa tahminleri yapabilen `redsuspenders` adlı bir Python uygulaması oluşturduğunuz. Bu uygulama, `nyse` paketini kullanıyor ve `nyse` paketi de `wallstreet` paketine bağlı, `wallstreet` ise `bull` ve `bear` paketlerine bağımlıdır.\r\n",
    "\r\n",
    "Bağımlılık, bir yazılım parçasının diğer yazılımlara ihtiyaç duymasıdır. Başkası kodunuzu kullanmak istediğinde tüm bu bağımlılıkları manuel olarak kurmak zorunda kalmamalıdır. Bu, bağımlılık cehennemi olarak bilinir. Neyse ki pip, tüm bu bağımlılıkları otomatik olarak tanımlayıp çözebilir, gereksiz indirme ve yeniden kurulumları önleyebilir."
   ]
  },
  {
   "cell_type": "code",
   "execution_count": null,
   "id": "2df88550-8cfc-4264-a4ce-0c8fb1cc02a9",
   "metadata": {},
   "outputs": [],
   "source": []
  }
 ],
 "metadata": {
  "kernelspec": {
   "display_name": "Python 3 (ipykernel)",
   "language": "python",
   "name": "python3"
  },
  "language_info": {
   "codemirror_mode": {
    "name": "ipython",
    "version": 3
   },
   "file_extension": ".py",
   "mimetype": "text/x-python",
   "name": "python",
   "nbconvert_exporter": "python",
   "pygments_lexer": "ipython3",
   "version": "3.11.7"
  }
 },
 "nbformat": 4,
 "nbformat_minor": 5
}
