{
 "cells": [
  {
   "cell_type": "markdown",
   "id": "c8c111c9-c9cc-461b-b29d-37ca1cb11730",
   "metadata": {},
   "source": [
    "### Bir Modülü İçe Aktarma: Alternatif Yaklaşımlar\n",
    "\n",
    "Üçüncü yöntemde, içe aktarma ifadesinin sözdizimi daha önce sunulanlara göre daha agresif bir tutum alır:\n",
    "\n",
    "```python\n",
    "from modül import *\n",
    "```\n",
    "\n",
    "Görüldüğü gibi, bireysel öğe adları bir yıldız (*) işareti ile değiştirilir.\n",
    "\n",
    "Bu talimat, belirtilen modülden tüm öğeleri içe aktarır.\n",
    "\n",
    "Pratik mi? Evet, kesinlikle. İhtiyacınız olan tüm adları listelemekten sizi kurtarır.\n",
    "\n",
    "Güvensiz mi? Evet, olabilir. Modül tarafından sağlanan tüm adları bilmediğiniz sürece, ad çakışmalarını önleyemeyebilirsiniz. Bunun geçici bir çözüm olarak kabul edilmesi ve düzenli kodda kullanılmaması önerilir."
   ]
  }
 ],
 "metadata": {
  "kernelspec": {
   "display_name": "Python 3 (ipykernel)",
   "language": "python",
   "name": "python3"
  },
  "language_info": {
   "codemirror_mode": {
    "name": "ipython",
    "version": 3
   },
   "file_extension": ".py",
   "mimetype": "text/x-python",
   "name": "python",
   "nbconvert_exporter": "python",
   "pygments_lexer": "ipython3",
   "version": "3.11.7"
  }
 },
 "nbformat": 4,
 "nbformat_minor": 5
}
