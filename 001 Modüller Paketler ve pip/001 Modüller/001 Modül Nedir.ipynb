{
 "cells": [
  {
   "cell_type": "markdown",
   "id": "158fb115-b053-41e6-9a62-55dfaf78773d",
   "metadata": {},
   "source": [
    "# Modül Nedir?"
   ]
  },
  {
   "cell_type": "markdown",
   "id": "d5358663-86b7-4525-82bc-173f7a333562",
   "metadata": {},
   "source": [
    "Bilgisayar kodu zamanla genişleme eğilimindedir. Sabit kalan kod muhtemelen tamamen kullanışsız ya da terk edilmiş demektir. Aktif, değerli ve yaygın olarak kullanılan kod, kullanıcıların artan talepleri ve değişen beklentileri doğrultusunda sürekli olarak evrilir.\r\n",
    "\r\n",
    "Kullanıcıların ihtiyaçlarını karşılayamayan kod, hızla unutulacak ve daha yeni, daha iyi ve daha uyumlu sürümlerle değiştirilecektir. Bu kaçınılmazlık, hiçbir programı tamamlanmış olarak düşünmemeniz gerektiği anlamına gelir. Tamamlanma durumu, genellikle ilk hata raporuyla sona eren geçici bir durumdur. Python, bu prensibin işleyişine dair iyi bir örnektir.\r\n",
    "\r\n",
    "Ancak kod büyüdükçe, bakım ile ilgili zorluklar da artar. Daha büyük kod tabanları, hata tespitini zorlaştırır; tıpkı mekanik bir arızayı basit ve küçük bir makinede tespit etmenin daha kolay olması gibi.\r\n",
    "\r\n",
    "Büyük bir kod tabanı geliştirirken (genellikle toplam kaynak satır sayısıyla ölçülse de, bu metrik kesin değildir), projeyi birden fazla parçaya bölmek gerekir. Bu parçalar, birkaç hatta yüzlerce geliştirici tarafından aynı anda geliştirilebilir.\r\n",
    "\r\n",
    "Bu, tüm programcıların aynı anda düzenlediği tek bir büyük kaynak dosyasıyla yapılamaz; bu, kaosa ve muhtemelen başarısızlığa yol açar.\r\n",
    "\r\n",
    "Böyle bir yazılım projesini başarıyla tamamlamak için şu mekanizmalara ihtiyacınız vardır:\r\n",
    "\r\n",
    "- Görevleri geliştiriciler arasında dağıtmak;\r\n",
    "- Tüm oluşturulan bileşenleri çalışan bir bütün haline getirmek.\r\n",
    "\r\n",
    "Örneğin, bir proje iki ana bölüme ayrılabilir:\r\n",
    "\r\n",
    "- Kullanıcı arayüzü (kullanıcıyla widget'lar ve grafik ekran aracılığıyla iletişim kuran bölüm);\r\n",
    "- Mantık (verileri işleyen ve sonuç üreten bölüm).\r\n",
    "\r\n",
    "Bu bölümlerden her biri daha küçük parçalara bölünebilir, bu sürece ayrıştırma denir.\r\n",
    "\r\n",
    "Bir düğün düzenleme görevi verildiğini düşünün: her şeyi kendiniz yapmazsınız, bunun yerine çeşitli görevleri farklı profesyonellere devredersiniz.\r\n",
    "\r\n",
    "O halde soru şu olur: Yazılımı ayrı ama işbirliği içinde çalışan parçalara nasıl bölersiniz? Cevap modüllerle."
   ]
  }
 ],
 "metadata": {
  "kernelspec": {
   "display_name": "Python 3 (ipykernel)",
   "language": "python",
   "name": "python3"
  },
  "language_info": {
   "codemirror_mode": {
    "name": "ipython",
    "version": 3
   },
   "file_extension": ".py",
   "mimetype": "text/x-python",
   "name": "python",
   "nbconvert_exporter": "python",
   "pygments_lexer": "ipython3",
   "version": "3.11.7"
  }
 },
 "nbformat": 4,
 "nbformat_minor": 5
}
