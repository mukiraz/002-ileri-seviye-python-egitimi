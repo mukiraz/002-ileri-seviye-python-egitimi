{
 "cells": [
  {
   "cell_type": "markdown",
   "id": "48db47a8-d5f4-44f5-86e4-87d041659643",
   "metadata": {},
   "source": [
    "## Üs Alma\n",
    "\n",
    "Math modülündeki bir diğer fonksiyon grubu, üs alma ile ilgili fonksiyonlardan oluşur:\n",
    "\n",
    "- `e` → Euler sayısının yaklaşık değerini temsil eden bir sabit;\n",
    "- `exp(x)` → e^x değerini hesaplar;\n",
    "- `log(x)` → x'in doğal logaritmasını hesaplar;\n",
    "- `log(x, b)` → x'in taban b'ye göre logaritmasını belirler;\n",
    "- `log10(x)` → x'in ondalık logaritmasını bulur (log(x, 10)'dan daha hassas);\n",
    "- `log2(x)` → x'in ikili logaritmasını bulur (log(x, 2)'den daha hassas).\n",
    "\n",
    "`pow()` fonksiyonuna dikkat edin:\n",
    "\n",
    "- `pow(x, y)` → x^y değerini hesaplar (alanlara dikkat edin).\n",
    "\n",
    "Bu yerleşik bir fonksiyondur ve import edilmesi gerekmez.\n",
    "\n",
    "Editördeki koda bakın. Çıktısını tahmin edebilir misiniz?"
   ]
  },
  {
   "cell_type": "code",
   "execution_count": 1,
   "id": "7c6832e1-d6ee-4cf1-9559-44a072822a1d",
   "metadata": {},
   "outputs": [
    {
     "name": "stdout",
     "output_type": "stream",
     "text": [
      "True\n",
      "True\n",
      "True\n"
     ]
    }
   ],
   "source": [
    "from math import e, exp, log\n",
    "\n",
    "print(pow(e, 1) == exp(log(e)))\n",
    "print(pow(2, 2) == exp(2 * log(2)))\n",
    "print(log(e, e) == exp(0))"
   ]
  },
  {
   "cell_type": "code",
   "execution_count": null,
   "id": "1a2563d5-084a-484d-8932-0a48eea493af",
   "metadata": {},
   "outputs": [],
   "source": []
  }
 ],
 "metadata": {
  "kernelspec": {
   "display_name": "Python 3 (ipykernel)",
   "language": "python",
   "name": "python3"
  },
  "language_info": {
   "codemirror_mode": {
    "name": "ipython",
    "version": 3
   },
   "file_extension": ".py",
   "mimetype": "text/x-python",
   "name": "python",
   "nbconvert_exporter": "python",
   "pygments_lexer": "ipython3",
   "version": "3.11.7"
  }
 },
 "nbformat": 4,
 "nbformat_minor": 5
}
