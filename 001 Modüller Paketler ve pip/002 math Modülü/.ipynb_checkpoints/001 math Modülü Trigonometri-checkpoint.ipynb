{
 "cells": [
  {
   "cell_type": "markdown",
   "id": "d845b0d9-0f3b-4a21-9f62-0c8f4fecda58",
   "metadata": {},
   "source": [
    "## Trigonometrik Fonksiyonlar\n",
    "\n",
    "\r\n",
    "Math modülünün sağladığı bazı fonksiyonların kısa bir genel görünümüyle başlayalım.\r\n",
    "\r\n",
    "Bu fonksiyonları rastgele seçtik, ancak burada bahsetmediğimiz fonksiyonların daha az önemli olduğu anlamına gelmiyor. Modülün tamamını kendiniz keşfedin - burada her şeyi ayrıntılı olarak ele alacak ne yerimiz ne de zamanımız var.\r\n",
    "\r\n",
    "İlk grup math fonksiyonları trigonometri ile ilgilidir:\r\n",
    "\r\n",
    "- `sin(x)` → x'in sinüsü;\r\n",
    "- `cos(x)` → x'in kosinüsü;\r\n",
    "- `tan(x)` → x'in tanjantı.\r\n",
    "\r\n",
    "Bu fonksiyonların her biri bir argüman alır (radyan cinsinden ifade edilen bir açı ölçüsü) ve uygun sonucu döner (dikkat edin, `tan()` tüm argümanları kabul etmez).\r\n",
    "\r\n",
    "Ek olarak, ters trigonometri fonksiyonları da vardır:\r\n",
    "\r\n",
    "- `asin(x)` → x'in ark sinüsü;\r\n",
    "- `acos(x)` → x'in ark kosinüsü;\r\n",
    "- `atan(x)` → x'in ark tanjantı.\r\n",
    "\r\n",
    "Bu fonksiyonlar da bir argüman alır (alanlara dikkat edin) ve radyan cinsinden bir açı ölçüsü döner.\r\n",
    "\r\n",
    "Açı ölçümleri üzerinde verimli bir şekilde çalışmak için, math modülü şu varlıkları sunar:\r\n",
    "\r\n",
    "- `pi` → π'nin yaklaşık değeri olan bir sabit;\r\n",
    "- `radians(x)` → x'i derece cinsinden radyana çeviren bir fonksiyon;\r\n",
    "- `degrees(x)` → x'i radyan cinsinden dereceye çeviren bir fonksiyon.\r\n",
    "\r\n",
    "Şimdi editördeki koda bakın. Örnek program çok karmaşık değil, ancak sonuçlarını tahmin edebilir misiniz?\r\n",
    "\r\n",
    "Yukarıda listelenen dairesel fonksiyonların yanı sıra, math modülü hiperbolik karşılıklarını da içerir:\r\n",
    "\r\n",
    "- `sinh(x)` → hiperbolik sinüs;\r\n",
    "- `cosh(x)` → hiperbolik kosinüs;\r\n",
    "- `tanh(x)` → hiperbolik tanjant;\r\n",
    "- `asinh(x)` → hiperbolik ark sinüs;\r\n",
    "- `acosh(x)` → hiperbolik ark kosinüs;\r\n",
    "- `atanh(x)` → hiperbolik ark tanjant."
   ]
  },
  {
   "cell_type": "code",
   "execution_count": 1,
   "id": "a1913ba3-4847-4a8e-b2bf-411c89085392",
   "metadata": {},
   "outputs": [
    {
     "name": "stdout",
     "output_type": "stream",
     "text": [
      "True\n",
      "True\n",
      "True\n",
      "True\n"
     ]
    }
   ],
   "source": [
    "from math import pi, radians, degrees, sin, cos, tan, asin\n",
    "\n",
    "ad = 90\n",
    "ar = radians(ad)\n",
    "ad = degrees(ar)\n",
    "\n",
    "print(ad == 90.)\n",
    "print(ar == pi / 2.)\n",
    "print(sin(ar) / cos(ar) == tan(ar))\n",
    "print(asin(sin(ar)) == ar)\n"
   ]
  },
  {
   "cell_type": "code",
   "execution_count": null,
   "id": "9a9cad94-cc52-4364-a209-ada277d9b73b",
   "metadata": {},
   "outputs": [],
   "source": []
  }
 ],
 "metadata": {
  "kernelspec": {
   "display_name": "Python 3 (ipykernel)",
   "language": "python",
   "name": "python3"
  },
  "language_info": {
   "codemirror_mode": {
    "name": "ipython",
    "version": 3
   },
   "file_extension": ".py",
   "mimetype": "text/x-python",
   "name": "python",
   "nbconvert_exporter": "python",
   "pygments_lexer": "ipython3",
   "version": "3.11.7"
  }
 },
 "nbformat": 4,
 "nbformat_minor": 5
}
