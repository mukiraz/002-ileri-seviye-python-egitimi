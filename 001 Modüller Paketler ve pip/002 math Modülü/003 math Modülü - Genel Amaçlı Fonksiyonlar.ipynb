{
 "cells": [
  {
   "cell_type": "markdown",
   "id": "89d86d7a-d980-48f8-8bc6-a98af528d66f",
   "metadata": {},
   "source": [
    "### Math Modülündeki Genel Amaçlı Fonksiyonlar\r\n",
    "\r\n",
    "#### Math Modülünden Seçili Fonksiyonlar: Devamı\r\n",
    "\r\n",
    "Son grup, birkaç genel amaçlı fonksiyonu içerir:\r\n",
    "\r\n",
    "- `ceil(x)` → x'in tavanını döner (x'e eşit veya ondan büyük en küçük tam sayı);\r\n",
    "- `floor(x)` → x'in tabanını döner (x'e eşit veya ondan küçük en büyük tam sayı);\r\n",
    "- `trunc(x)` → x'i bir tamsayıya keser (dikkat edin - bu, `ceil` veya `floor` ile eşdeğer değildir);\r\n",
    "- `factorial(x)` → x!'i hesaplar (x negatif olmayan bir tamsayı olmalıdır);\r\n",
    "- `hypot(x, y)` → x ve y uzunluklarına sahip bir dik üçgenin hipotenüs uzunluğunu hesaplar (`sqrt(pow(x, 2) + pow(y, 2))` ile aynı ancak daha kesin).\r\n",
    "\r\n",
    "Editördeki kodu inceleyin ve programı dikkatlice analiz edin.\r\n",
    "\r\n",
    "Bu, `ceil()`, `floor()` ve `trunc()` arasındaki temel farkları göstermektedir.\r\n",
    "\r\n",
    "Programı çalıştırın ve çıktısını gözlemleyin."
   ]
  },
  {
   "cell_type": "code",
   "execution_count": 2,
   "id": "aba839b1-434d-41a7-ba6c-c8cccb7db930",
   "metadata": {},
   "outputs": [
    {
     "name": "stdout",
     "output_type": "stream",
     "text": [
      "1 2\n",
      "-2 -3\n",
      "2 3\n",
      "-1 -2\n",
      "1 2\n",
      "-1 -2\n"
     ]
    }
   ],
   "source": [
    "from math import ceil, floor, trunc\n",
    "\n",
    "x = 1.4\n",
    "y = 2.6\n",
    "\n",
    "print(floor(x), floor(y))\n",
    "print(floor(-x), floor(-y))\n",
    "print(ceil(x), ceil(y))\n",
    "print(ceil(-x), ceil(-y))\n",
    "print(trunc(x), trunc(y))\n",
    "print(trunc(-x), trunc(-y))"
   ]
  },
  {
   "cell_type": "code",
   "execution_count": null,
   "id": "9a557100-e3fa-44ae-9976-840b4c89ef5f",
   "metadata": {},
   "outputs": [],
   "source": []
  }
 ],
 "metadata": {
  "kernelspec": {
   "display_name": "Python 3 (ipykernel)",
   "language": "python",
   "name": "python3"
  },
  "language_info": {
   "codemirror_mode": {
    "name": "ipython",
    "version": 3
   },
   "file_extension": ".py",
   "mimetype": "text/x-python",
   "name": "python",
   "nbconvert_exporter": "python",
   "pygments_lexer": "ipython3",
   "version": "3.11.7"
  }
 },
 "nbformat": 4,
 "nbformat_minor": 5
}
