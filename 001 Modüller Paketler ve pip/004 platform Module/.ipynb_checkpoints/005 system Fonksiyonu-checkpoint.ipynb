{
 "cells": [
  {
   "cell_type": "markdown",
   "id": "7d3f26d4-a495-477a-944b-f43cd128f105",
   "metadata": {},
   "source": [
    "### system Fonksiyonu\r\n",
    "\r\n",
    "`system()` fonksiyonu, genel işletim sistemi adını bir dize olarak döndürür.\r\n",
    "\r\n",
    "Örnek platformlarımız şu şekilde kendini tanıttı:\r\n",
    "\r\n",
    "Intel x86 + Windows ® Vista (32 bit):\r\n",
    "\r\n",
    "```\r\n",
    "Windows\r\n",
    "```\r\n",
    "\r\n",
    "Intel x86 + Gentoo Linux (64 bit):\r\n",
    "\r\n",
    "```\r\n",
    "Linux\r\n",
    "```\r\n",
    "\r\n",
    "Raspberry PI2 + Raspbian Linux (32 bit):\r\n",
    "\r\n",
    "```\r\n",
    "Linux\r\n",
    "```\r\n",
    "\r\n",
    "Her platformun kimliği, `system()` fonksiyonunun çıktısıyla doğru şekilde temsil edilmiştir."
   ]
  },
  {
   "cell_type": "code",
   "execution_count": 1,
   "id": "b01cff6b-a429-4220-a95a-1b8e6da73693",
   "metadata": {},
   "outputs": [
    {
     "name": "stdout",
     "output_type": "stream",
     "text": [
      "Windows\n"
     ]
    }
   ],
   "source": [
    "from platform import system\n",
    "\n",
    "print(system())"
   ]
  }
 ],
 "metadata": {
  "kernelspec": {
   "display_name": "Python 3 (ipykernel)",
   "language": "python",
   "name": "python3"
  },
  "language_info": {
   "codemirror_mode": {
    "name": "ipython",
    "version": 3
   },
   "file_extension": ".py",
   "mimetype": "text/x-python",
   "name": "python",
   "nbconvert_exporter": "python",
   "pygments_lexer": "ipython3",
   "version": "3.11.7"
  }
 },
 "nbformat": 4,
 "nbformat_minor": 5
}
