{
 "cells": [
  {
   "cell_type": "markdown",
   "id": "56f9ca0e-90a9-4d72-aebc-c35e362336ef",
   "metadata": {},
   "source": [
    "## platform Fonksiyonu\n",
    "\n",
    "platform modülü, donanım detayları, işletim sistemi özellikleri ve yorumlayıcı sürüm bilgileri gibi altındaki platformun verilerine erişmenizi sağlar.\n",
    "\n",
    "Ayrıca, aynı isme sahip platform adında bir fonksiyon bulunmaktadır. Bu fonksiyon, tüm alt katmanları tek bir dize olarak açıklar. Çıktısı, otomatik işlem yerine insanlar için daha okunabilir olacak şekilde tasarlanmıştır (detaylar yakında gelecek).\n",
    "\n",
    "Bu fonksiyonu çağırmak için şu sözdizimini kullanın:\n",
    "\n",
    "```python\n",
    "platform(aliased=False, terse=False)\n",
    "```\n",
    "\n",
    "İşte her bir parametrenin ne işe yaradığı:\n",
    "\n",
    "- **aliased**: True olarak ayarlandığında (veya herhangi bir sıfır olmayan değer), bu parametre standart isimler yerine alternatif alt katman isimlerini gösterebilir.\n",
    "\n",
    "- **terse**: True olarak ayarlandığında (veya herhangi bir sıfır olmayan değer), bu parametre, mümkünse sonucun daha özlü bir biçimini sağlaması için fonksiyona talimat verir.\n",
    "\n",
    "Örnek programımızı üç farklı platformda çalıştırdık ve şu çıktıları elde ettik:\n",
    "\n",
    "**Intel x86 + Windows® Vista (32 bit):**\n",
    "```\n",
    "Windows-Vista-6.0.6002-SP2\n",
    "Windows-Vista-6.0.6002-SP2\n",
    "Windows-Vista\n",
    "```\n",
    "\n",
    "**Intel x86 + Gentoo Linux (64 bit):**\n",
    "```\n",
    "Linux-3.18.62-g6-x86_64-Intel-R-_Core-TM-_i3-2330M_CPU_@_2.20GHz-with-gentoo-2.3\n",
    "Linux-3.18.62-g6-x86_64-Intel-R-_Core-TM-_i3-2330M_CPU_@_2.20GHz-with-gentoo-2.3\n",
    "Linux-3.18.62-g6-x86_64-Intel-R-_Core-TM-_i3-2330M_CPU_@_2.20GHz-with-glibc2.3.4\n",
    "```\n",
    "\n",
    "**Raspberry PI2 + Raspbian Linux (32 bit):**\n",
    "```\n",
    "Linux-4.4.0-1-rpi2-armv7l-with-debian-9.0\n",
    "Linux-4.4.0-1-rpi2-armv7l-with-debian-9.0\n",
    "Linux-4.4.0-1-rpi2-armv7l-with-glibc2.9\n",
    "```\n",
    "\n",
    "Bu örnek programı kendi bilgisayarınızdaki IDLE ortamında çalıştırarak, kendi ortamınıza özgü çıktıları gözlemleyebilirsiniz."
   ]
  },
  {
   "cell_type": "code",
   "execution_count": 1,
   "id": "7b3fd2bf-55d8-430c-b58e-0e63986d4e1f",
   "metadata": {},
   "outputs": [
    {
     "name": "stdout",
     "output_type": "stream",
     "text": [
      "Windows-10-10.0.22631-SP0\n",
      "Windows-10-10.0.22631-SP0\n",
      "Windows-10\n"
     ]
    }
   ],
   "source": [
    "from platform import platform\n",
    "\n",
    "print(platform())\n",
    "print(platform(1))\n",
    "print(platform(0, 1))"
   ]
  },
  {
   "cell_type": "code",
   "execution_count": null,
   "id": "72658437-f83c-4907-9faa-d379df57579c",
   "metadata": {},
   "outputs": [],
   "source": []
  }
 ],
 "metadata": {
  "kernelspec": {
   "display_name": "Python 3 (ipykernel)",
   "language": "python",
   "name": "python3"
  },
  "language_info": {
   "codemirror_mode": {
    "name": "ipython",
    "version": 3
   },
   "file_extension": ".py",
   "mimetype": "text/x-python",
   "name": "python",
   "nbconvert_exporter": "python",
   "pygments_lexer": "ipython3",
   "version": "3.11.7"
  }
 },
 "nbformat": 4,
 "nbformat_minor": 5
}
