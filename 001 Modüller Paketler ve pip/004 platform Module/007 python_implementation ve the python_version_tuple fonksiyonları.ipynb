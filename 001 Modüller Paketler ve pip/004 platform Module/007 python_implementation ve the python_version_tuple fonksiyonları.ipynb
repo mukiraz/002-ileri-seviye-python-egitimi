{
 "cells": [
  {
   "cell_type": "markdown",
   "id": "8ac187e8-b2e0-4ed7-8a38-c942434935f7",
   "metadata": {},
   "source": [
    "## python_implementation ve the python_version_tuple fonksiyonları\n",
    "\r\n",
    "\r\n",
    "Python_implementation ve python_version_tuple fonksiyonları\r\n",
    "\r\n",
    "Python kodunuzun çalıştığı Python sürümünü öğrenmek isterseniz, bunu yapmanın birkaç özel fonksiyonu bulunmaktadır - işte onlardan ikisi:\r\n",
    "\r\n",
    "- python_implementation() → Python uygulamasını belirten bir dize döner (genellikle CPython, başka bir Python dalı kullanılmadıkça).\r\n",
    "  \r\n",
    "- python_version_tuple() → Üç elemanlı bir tuple döner:\r\n",
    "  - Python'un ana sürüm numarası.\r\n",
    "  - Alt sürüm numarası.\r\n",
    "  - Yama düzey nden farklı olacaktır."
   ]
  },
  {
   "cell_type": "code",
   "execution_count": 1,
   "id": "0430c40d-0bbb-43e6-b62e-81619387a692",
   "metadata": {},
   "outputs": [
    {
     "name": "stdout",
     "output_type": "stream",
     "text": [
      "CPython\n",
      "3\n",
      "11\n",
      "7\n"
     ]
    }
   ],
   "source": [
    "from platform import python_implementation, python_version_tuple\n",
    "\n",
    "print(python_implementation())\n",
    "\n",
    "for atr in python_version_tuple():\n",
    "    print(atr)"
   ]
  }
 ],
 "metadata": {
  "kernelspec": {
   "display_name": "Python 3 (ipykernel)",
   "language": "python",
   "name": "python3"
  },
  "language_info": {
   "codemirror_mode": {
    "name": "ipython",
    "version": 3
   },
   "file_extension": ".py",
   "mimetype": "text/x-python",
   "name": "python",
   "nbconvert_exporter": "python",
   "pygments_lexer": "ipython3",
   "version": "3.11.7"
  }
 },
 "nbformat": 4,
 "nbformat_minor": 5
}
