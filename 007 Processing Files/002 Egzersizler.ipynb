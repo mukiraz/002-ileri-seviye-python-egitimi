{
 "cells": [
  {
   "cell_type": "markdown",
   "metadata": {},
   "source": [
    "### Alıştırma 1\n",
    "\n",
    "Yeni bir metin dosyası oluşturup içine bir makale yazmak için `open()` fonksiyonunun mod argüman değerini nasıl kodlarsınız?\n",
    "\n",
    "### Alıştırma 2\n",
    "\n",
    "`errno.EACCES` tarafından temsil edilen değerin anlamı nedir?\n",
    "\n",
    "### Alıştırma 3\n",
    "\n",
    "Aşağıdaki kodun beklenen çıktısı nedir, dosya adında bir dosya olmadığını varsayarsak?"
   ]
  },
  {
   "cell_type": "code",
   "execution_count": null,
   "metadata": {},
   "outputs": [],
   "source": [
    "import errno\n",
    "\n",
    "try:\n",
    "    stream = open(\"file\", \"rb\")\n",
    "    print(\"exists\")\n",
    "    stream.close()\n",
    "except IOError as error:\n",
    "    if error.errno == errno.ENOENT:\n",
    "        print(\"absent\")\n",
    "    else:\n",
    "        print(\"unknown\")"
   ]
  }
 ],
 "metadata": {
  "language_info": {
   "name": "python"
  }
 },
 "nbformat": 4,
 "nbformat_minor": 2
}
