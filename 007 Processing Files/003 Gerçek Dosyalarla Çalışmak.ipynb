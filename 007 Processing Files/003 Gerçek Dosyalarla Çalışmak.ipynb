{
 "cells": [
  {
   "cell_type": "markdown",
   "metadata": {},
   "source": [
    "### Metin Dosyalarını İşleme\n",
    "\n",
    "Bu derste, kısa ve basit içerikli bir metin dosyası oluşturacağız.\n",
    "\n",
    "Dosya içeriğini okumak için kullanabileceğiniz bazı temel teknikleri göstereceğiz.\n",
    "\n",
    "İşlem oldukça basit olacak—dosyanın içeriğini konsola kopyalayacak ve programın okuduğu tüm karakterleri sayacaksınız.\n",
    "\n",
    "Unutmayın, bizim metin dosyası anlayışımız oldukça katıdır. Bu, yalnızca metin içeren, herhangi bir ek süsleme (formatlama, farklı yazı tipleri vb.) içermeyen düz bir metin dosyasıdır.\n",
    "\n",
    "Bu nedenle, dosyayı MS Word, LibreOffice Writer gibi gelişmiş metin işleme programlarıyla oluşturmaktan kaçınmalısınız. Bunun yerine, işletim sisteminizin sunduğu temel araçları kullanın: Not Defteri, vim, gedit, vb.\n",
    "\n",
    "Metin dosyalarınız standart ASCII karakter seti tarafından kapsanmayan bazı ulusal karakterler içeriyorsa, ek bir adım gerekebilir. `open()` fonksiyonunu çağırırken, belirli bir metin kodlamasını belirtmeniz gerekebilir.\n",
    "\n",
    "Örneğin, sistem genelinde UTF-8 kullanacak şekilde yapılandırılmış bir Unix/Linux işletim sistemi kullanıyorsanız, `open()` fonksiyonu şu şekilde görünebilir:"
   ]
  },
  {
   "cell_type": "code",
   "execution_count": 1,
   "metadata": {},
   "outputs": [
    {
     "name": "stdout",
     "output_type": "stream",
     "text": [
      "1\n",
      "2\n",
      "3\n",
      "4\n",
      "5\n"
     ]
    }
   ],
   "source": [
    "# tzop.txt dosyasını okuma modunda açma ve dosya nesnesi olarak döndürme:\n",
    "stream = open(\"tzop.txt\", \"rt\", encoding=\"utf-8\")\n",
    "\n",
    "print(stream.read()) # dosyanın içeriğini yazdırma"
   ]
  },
  {
   "cell_type": "markdown",
   "metadata": {},
   "source": [
    "Burada, `encoding` argümanı uygun metin kodlamasını temsil eden bir dizeye (bu durumda UTF-8) ayarlanmıştır.\n",
    "\n",
    "Çevrenize uygun bir kodlama adını bulmak için işletim sistemi belgelerinize başvurun.\n",
    "\n",
    "**Not**\n",
    "\n",
    "Bu bölümde dosya işlemleriyle ilgili deneylerimiz için önceden yüklenmiş bir dosya seti (örneğin, tzop.txt veya text.txt dosyaları) kullanacağız. Kendi makinenizde yerel olarak kendi dosyalarınızla çalışmak isterseniz, bunu yapmanızı ve kendi testlerinizi gerçekleştirmek için IDLE (veya tercih ettiğiniz herhangi bir IDE) kullanmanızı şiddetle tavsiye ederiz."
   ]
  },
  {
   "cell_type": "markdown",
   "metadata": {},
   "source": [
    "### Bir Metin Dosyasının İçeriğini Okuma\n",
    "\n",
    "Bir metin dosyasının içeriğini okumak, çeşitli yöntemler kullanılarak gerçekleştirilebilir ve hiçbiri diğerlerinden daha iyi veya kötü değildir. Hangi yöntemi tercih edeceğiniz ve seveceğiniz size bağlıdır.\n",
    "\n",
    "Bazı yöntemler bazen daha kullanışlı, bazen daha zahmetli olabilir. Esnek olun ve tercihlerinizi değiştirmekten çekinmeyin.\n",
    "\n",
    "Bu yöntemlerin en temel olanı, önceki derste gördüğünüz `read()` fonksiyonu tarafından sunulan yöntemdir.\n",
    "\n",
    "Bir metin dosyasına uygulandığında, bu fonksiyon şunları yapabilir:\n",
    "\n",
    "- Dosyadan istenen sayıda karakteri (sadece bir karakter dahil) okuyabilir ve bunları bir dize olarak döndürebilir.\n",
    "- Dosyanın tüm içeriğini okuyabilir ve bunları bir dize olarak döndürebilir.\n",
    "- Okunacak başka bir şey kalmadığında (sanal okuma kafası dosyanın sonuna ulaştığında), fonksiyon boş bir dize döndürür.\n",
    "\n",
    "En basit varyantla başlayacağız ve `text.txt` adlı bir dosya kullanacağız. Dosya şu içeriğe sahiptir:\n",
    "\n",
    "```\n",
    "Beautiful is better than ugly.\n",
    "Explicit is better than implicit.\n",
    "Simple is better than complex.\n",
    "Complex is better than complicated.\n",
    "```\n",
    "\n",
    "Şimdi aşağıdaki koda bakın ve analiz edelim:"
   ]
  },
  {
   "cell_type": "code",
   "execution_count": 2,
   "metadata": {},
   "outputs": [
    {
     "name": "stdout",
     "output_type": "stream",
     "text": [
      "Beautiful is better than ugly.\n",
      "Explicit is better than implicit.\n",
      "Simple is better than complex.\n",
      "Complex is better than complicated.\n",
      "\n",
      "Dosyadaki karakterler: 131\n"
     ]
    }
   ],
   "source": [
    "from os import strerror\n",
    "\n",
    "try:\n",
    "    cnt = 0\n",
    "    s = open('text.txt', \"rt\")\n",
    "    ch = s.read(1)\n",
    "    while ch != '':\n",
    "        print(ch, end='')\n",
    "        cnt += 1\n",
    "        ch = s.read(1)\n",
    "    s.close()\n",
    "    print(\"\\n\\nDosyadaki karakterler:\", cnt)\n",
    "except IOError as e:\n",
    "    print(\"G/Ç hatası oluştu: \", strerror(e.errno))"
   ]
  },
  {
   "cell_type": "markdown",
   "metadata": {},
   "source": [
    "Bu işlemler oldukça basittir:\n",
    "\n",
    "1. `try-except` mekanizmasını kullanarak belirlenen adıyla dosyayı açın (`bizim durumumuzda text.txt`).\n",
    "2. Dosyadan ilk karakteri okumayı deneyin (`ch = s.read(1)`).\n",
    "3. Başarılı olursa (bu, `while` koşul kontrolünün pozitif bir sonuç vermesiyle kanıtlanır), karakteri yazdırın (her karakterden sonra yeni bir satıra geçmek istemediğiniz için `end=''` argümanına dikkat edin).\n",
    "4. Sayacı (`cnt`) güncelleyin.\n",
    "5. Bir sonraki karakteri okumayı deneyin ve işlemi tekrarlayın."
   ]
  },
  {
   "cell_type": "markdown",
   "metadata": {},
   "source": [
    "### Dosyanın Tamamını Bir Kez Okuma\n",
    "\n",
    "Eğer dosyanın boyutunun güvenli olduğundan ve tamamını belleğe bir kerede okuyabileceğinizden eminseniz, bunu yapabilirsiniz. `read()` fonksiyonu, herhangi bir argüman verilmeden veya `None` olarak değerlendirilen bir argümanla çağrıldığında, tüm dosyayı okuyacaktır.\n",
    "\n",
    "Unutmayın, bu yöntemle terabayt boyutunda bir dosyayı okumak işletim sisteminizi çökertir. Bilgisayar belleği esnek değildir.\n",
    "\n",
    "Aşağıdaki koda bir göz atın. Ne düşünüyorsunuz?"
   ]
  },
  {
   "cell_type": "code",
   "execution_count": 3,
   "metadata": {},
   "outputs": [
    {
     "name": "stdout",
     "output_type": "stream",
     "text": [
      "Beautiful is better than ugly.\n",
      "Explicit is better than implicit.\n",
      "Simple is better than complex.\n",
      "Complex is better than complicated.\n",
      "\n",
      "Dosyadaki karakterler: 131\n"
     ]
    }
   ],
   "source": [
    "from os import strerror\n",
    "\n",
    "try:\n",
    "    cnt = 0\n",
    "    s = open('text.txt', \"rt\")\n",
    "    content = s.read()\n",
    "    for ch in content:\n",
    "        print(ch, end='')\n",
    "        cnt += 1\n",
    "    s.close()\n",
    "    print(\"\\n\\nDosyadaki karakterler:\", cnt)\n",
    "except IOError as e:\n",
    "    print(\"G/Ç hatası oluştu: \", strerror(e.errno))"
   ]
  },
  {
   "cell_type": "markdown",
   "metadata": {},
   "source": [
    "Analiz edelim:\n",
    "\n",
    "1. Daha önce olduğu gibi dosyayı açın.\n",
    "2. `read()` fonksiyonunu bir kez çağırarak dosyanın tüm içeriğini okuyun.\n",
    "3. Metni, sıradan bir `for` döngüsüyle üzerinden geçerek işleyin ve her döngü turunda sayaç değerini güncelleyin.\n",
    "\n",
    "Sonuç, önceki yöntemle aynı olacaktır."
   ]
  },
  {
   "cell_type": "markdown",
   "metadata": {},
   "source": [
    "### Metin Dosyalarını İşleme: `readline()`\n",
    "\n",
    "Dosyanın içeriğini bir karakter yığını yerine bir dizi satır olarak ele almak istiyorsanız, `readline()` yöntemi bu iş için mükemmeldir.\n",
    "\n",
    "Bu yöntem, dosyadan tam bir metin satırı okumaya çalışır ve başarılı olursa bir dize olarak döndürür. Aksi takdirde, boş bir dize döndürür.\n",
    "\n",
    "Bu yöntem, yeni imkanlar sunar—artık yalnızca karakterleri değil, satırları da kolayca sayabilirsiniz.\n",
    "\n",
    "Bunu kullanarak bir örnek yapalım:"
   ]
  },
  {
   "cell_type": "code",
   "execution_count": 4,
   "metadata": {},
   "outputs": [
    {
     "name": "stdout",
     "output_type": "stream",
     "text": [
      "Beautiful is better than ugly.\n",
      "Explicit is better than implicit.\n",
      "Simple is better than complex.\n",
      "Complex is better than complicated.\n",
      "\n",
      "Dosyadaki karakterler: 131\n",
      "Dosyadaki satırlar:   4\n"
     ]
    }
   ],
   "source": [
    "from os import strerror\n",
    "\n",
    "try:\n",
    "    ccnt = lcnt = 0\n",
    "    s = open('text.txt', 'rt')\n",
    "    line = s.readline()\n",
    "    while line != '':\n",
    "        lcnt += 1\n",
    "        for ch in line:\n",
    "            print(ch, end='')\n",
    "            ccnt += 1\n",
    "        line = s.readline()\n",
    "    s.close()\n",
    "    print(\"\\n\\nDosyadaki karakterler:\", ccnt)\n",
    "    print(\"Dosyadaki satırlar:  \", lcnt)\n",
    "except IOError as e:\n",
    "    print(\"G/Ç hatası oluştu:\", strerror(e.errno))"
   ]
  },
  {
   "cell_type": "markdown",
   "metadata": {},
   "source": [
    "Gördüğünüz gibi, genel fikir önceki örneklerle aynıdır:\n",
    "\n",
    "1. Dosyayı açın.\n",
    "2. Dosyayı satır satır okumak için `readline()` yöntemini kullanın.\n",
    "3. Her satır ve karakteri iterasyondan geçirerek karakterleri ve satırları sayın.\n",
    "4. Dosya işlendiğinde sonuçları yazdırın."
   ]
  },
  {
   "cell_type": "markdown",
   "metadata": {},
   "source": [
    "### Metin Dosyalarını İşleme: `readlines()`\n",
    "\n",
    "Metin dosyasını karakterlerden ziyade satırlar olarak ele alan bir diğer yöntem de `readlines()` yöntemidir.\n",
    "\n",
    "`readlines()` yöntemi, argümansız olarak çağrıldığında, dosyanın tüm içeriğini okur ve dosyadaki her bir satırı bir eleman olarak içeren bir dizi döndürür.\n",
    "\n",
    "Dosya boyutunun yeterince küçük olduğundan emin değilseniz ve işletim sistemi sınırlarını test etmek istemiyorsanız, `readlines()` yöntemini bir seferde belirli bir bayt sayısından fazla okumaması için yönlendirebilirsiniz. Döndürülen değer yine bir dize listesi olacaktır.\n",
    "\n",
    "`readlines()` yönteminin nasıl çalıştığını anlamak için aşağıdaki örnek kod ile denemeler yapın:"
   ]
  },
  {
   "cell_type": "code",
   "execution_count": 5,
   "metadata": {},
   "outputs": [
    {
     "name": "stdout",
     "output_type": "stream",
     "text": [
      "['Beautiful is better than ugly.\\n']\n",
      "['Explicit is better than implicit.\\n']\n",
      "['Simple is better than complex.\\n']\n",
      "['Complex is better than complicated.']\n"
     ]
    }
   ],
   "source": [
    "s = open(\"text.txt\")\n",
    "print(s.readlines(20))\n",
    "print(s.readlines(20))\n",
    "print(s.readlines(20))\n",
    "print(s.readlines(20))\n",
    "s.close()"
   ]
  },
  {
   "cell_type": "markdown",
   "metadata": {},
   "source": [
    "Yönteme argüman olarak maksimum kabul edilen giriş tamponu boyutu verilir.\n",
    "\n",
    "`readlines()` yönteminin, `readline()` yöntemine göre daha az sayıda çağrılmaya ihtiyaç duyduğu için dosya içeriğini daha verimli bir şekilde işleyebileceğini düşünebilirsiniz.\n",
    "\n",
    "**Not:** Dosyadan okunacak bir şey kalmadığında, yöntem boş bir liste döndürür. Bunu dosyanın sonunu tespit etmek için kullanın.\n",
    "\n",
    "Tampon boyutu sınırında, artırılması giriş performansını iyileştirebilir, ancak bunun için altın bir kural yoktur—en iyi değerleri kendiniz deneyerek bulun.\n",
    "\n",
    "Aşağıdaki koda bakın. `readlines()` yöntemini nasıl kullanacağınızı göstermek için kodu değiştirdik:"
   ]
  },
  {
   "cell_type": "code",
   "execution_count": 6,
   "metadata": {},
   "outputs": [
    {
     "name": "stdout",
     "output_type": "stream",
     "text": [
      "Beautiful is better than ugly.\n",
      "Explicit is better than implicit.\n",
      "Simple is better than complex.\n",
      "Complex is better than complicated.\n",
      "\n",
      "Dosyadaki karakterler: 131\n",
      "Dosyadaki satırlar:   4\n"
     ]
    }
   ],
   "source": [
    "from os import strerror\n",
    "\n",
    "try:\n",
    "    ccnt = lcnt = 0\n",
    "    s = open('text.txt', 'rt')\n",
    "    lines = s.readlines(20)\n",
    "    while len(lines) != 0:\n",
    "        for line in lines:\n",
    "            lcnt += 1\n",
    "            for ch in line:\n",
    "                print(ch, end='')\n",
    "                ccnt += 1\n",
    "        lines = s.readlines(10)\n",
    "    s.close()\n",
    "    print(\"\\n\\nDosyadaki karakterler:\", ccnt)\n",
    "    print(\"Dosyadaki satırlar:  \", lcnt)\n",
    "except IOError as e:\n",
    "    print(\"G/Ç hatası oluştu:\", strerror(e.errno))"
   ]
  },
  {
   "cell_type": "markdown",
   "metadata": {},
   "source": [
    "15 bayt uzunluğunda bir tampon kullanmaya karar verdik. Bu, bir öneri olarak düşünülmemelidir.\n",
    "\n",
    "İlk `readlines()` çağrısının tüm dosyayı tüketmesini önlemek için bu değeri kullandık. Yöntemin daha fazla çalışmaya zorlanmasını ve yeteneklerini göstermesini istiyoruz.\n",
    "\n",
    "Kodda iki iç içe döngü vardır: dış döngü `readlines()` yönteminin sonucunu kullanarak iterasyon yapar, iç döngü ise satırları karakter karakter yazdırır."
   ]
  },
  {
   "cell_type": "markdown",
   "metadata": {},
   "source": [
    "### Metin Dosyalarını İşleme: Yinelemeli Nesneler\n",
    "\n",
    "Sunmak istediğimiz son örnek, `open()` fonksiyonunun metin modunda döndürdüğü nesnenin çok ilginç bir özelliğini göstermektedir.\n",
    "\n",
    "Bu özellik sizi şaşırtabilir—nesne, yinelenebilir bir sınıfın bir örneğidir.\n",
    "\n",
    "Garip mi? Hiç de değil. Kullanışlı mı? Kesinlikle.\n",
    "\n",
    "Dosya nesnesi için tanımlanan yineleme protokolü çok basittir—`__next__` metodu sadece dosyadan okunan bir sonraki satırı döndürür.\n",
    "\n",
    "Dahası, dosyadaki herhangi bir okuma işlemi dosyanın sonuna ulaştığında, nesnenin otomatik olarak `close()` metodunu çağırmasını bekleyebilirsiniz.\n",
    "\n",
    "Aşağıdaki koda bakın ve kodun ne kadar basit ve anlaşılır hale geldiğini görün:"
   ]
  },
  {
   "cell_type": "code",
   "execution_count": 7,
   "metadata": {},
   "outputs": [
    {
     "name": "stdout",
     "output_type": "stream",
     "text": [
      "Beautiful is better than ugly.\n",
      "Explicit is better than implicit.\n",
      "Simple is better than complex.\n",
      "Complex is better than complicated.\n",
      "\n",
      "Dosyadaki karakterler: 131\n",
      "Dosyadaki satırlar:   4\n"
     ]
    }
   ],
   "source": [
    "from os import strerror\n",
    "\n",
    "try:\n",
    "    ccnt = lcnt = 0\n",
    "    for line in open('text.txt', 'rt'):\n",
    "        lcnt += 1\n",
    "        for ch in line:\n",
    "            print(ch, end='')\n",
    "            ccnt += 1\n",
    "    print(\"\\n\\nDosyadaki karakterler:\", ccnt)\n",
    "    print(\"Dosyadaki satırlar:  \", lcnt)\n",
    "except IOError as e:\n",
    "    print(\"G/Ç hatası oluştu: \", strerror(e.errno))"
   ]
  },
  {
   "cell_type": "markdown",
   "metadata": {},
   "source": [
    "Bu örnek, bir dosya nesnesi üzerinde yinelenmenin satırları okuma ve karakterleri sayma sürecini nasıl basitleştirdiğini göstermektedir.\n",
    "\n",
    "### Metin Dosyalarıyla Çalışmak: `write()`\n",
    "\n",
    "Metin dosyalarına yazmak oldukça basittir, çünkü bu görevi gerçekleştirmek için kullanılan temel bir yöntem vardır: `write()`.\n",
    "\n",
    "`write()` yöntemi, tek bir argüman bekler—açık bir dosyaya yazılacak olan bir dize. Unutmayın, açık modu verilerin nasıl aktarılacağını yansıtmalıdır—okuma modunda açılmış bir dosyaya yazma işlemi başarısız olur.\n",
    "\n",
    "`write()` yöntemine verilen argümana otomatik olarak yeni satır karakteri eklenmez, bu yüzden dosyanın birden fazla satır içermesini istiyorsanız bunu kendiniz eklemelisiniz.\n",
    "\n",
    "Aşağıdaki örnek, `newtext.txt` adlı bir dosya oluşturan basit bir kodu göstermektedir (not: `w` modu dosyanın sıfırdan oluşturulmasını sağlar, hatta mevcutsa ve veri içeriyorsa bile) ve ardından dosyaya on satır yazar.\n",
    "\n",
    "Yazılacak dize, \"line\" kelimesi ve ardından satır numarasından oluşur. Dizenin içeriğini karakter karakter yazmayı seçtik (iç döngü `for` kullanarak), ancak bunu bu şekilde yapmak zorunda değilsiniz.\n",
    "\n",
    "`write()` yönteminin tek tek karakterler üzerinde çalışabileceğini göstermek istedik."
   ]
  },
  {
   "cell_type": "code",
   "execution_count": 8,
   "metadata": {},
   "outputs": [],
   "source": [
    "from os import strerror\n",
    "\n",
    "try:\n",
    "    fo = open('newtext.txt', 'wt') # Yeni bir dosya (newtext.txt) oluşturulur.\n",
    "    for i in range(10):\n",
    "        s = \"line #\" + str(i+1) + \"\\n\"\n",
    "        for ch in s:\n",
    "            fo.write(ch)\n",
    "    fo.close()\n",
    "except IOError as e:\n",
    "    print(\"G/Ç hatası oluştu: \", strerror(e.errno))"
   ]
  },
  {
   "cell_type": "markdown",
   "metadata": {},
   "source": [
    "Kod, aşağıdaki metinle dolu bir dosya oluşturur:\n",
    "\n",
    "```\n",
    "line #1\n",
    "line #2\n",
    "line #3\n",
    "line #4\n",
    "line #5\n",
    "line #6\n",
    "line #7\n",
    "line #8\n",
    "line #9\n",
    "line #10\n",
    "```\n",
    "\n",
    "Dosyanın içeriğini konsola yazdırabilir misiniz?\n",
    "\n",
    "`write()` yönteminin davranışını kendi makinenizde yerel olarak test etmenizi öneririz."
   ]
  },
  {
   "cell_type": "markdown",
   "metadata": {},
   "source": []
  },
  {
   "cell_type": "markdown",
   "metadata": {},
   "source": [
    "### Metin Dosyalarıyla Çalışmak: Devamı\n",
    "\n",
    "Aşağıdaki örneğe bakın. Önceki kodu, metin dosyasına tüm satırları yazacak şekilde değiştirdik.\n",
    "\n",
    "```python\n",
    "from os import strerror\n",
    "\n",
    "try:\n",
    "    fo = open('newtext.txt', 'wt')\n",
    "    for i in range(10):\n",
    "        fo.write(\"line #\" + str(i+1) + \"\\n\")\n",
    "    fo.close()\n",
    "except IOError as e:\n",
    "    print(\"G/Ç hatası oluştu: \", strerror(e.errno))\n",
    "```\n",
    "\n",
    "Yeni oluşturulan dosyanın içeriği aynı olacaktır.\n",
    "\n",
    "**Not:** Aynı yöntemi `stderr` akışına yazmak için de kullanabilirsiniz, ancak `stderr` akışını açmaya çalışmayın, çünkü bu akış her zaman örtük olarak açıktır.\n",
    "\n",
    "Örneğin, normal program çıktısından ayırt etmek için bir hata mesajı dizesini `stderr` akışına göndermek isterseniz, şu şekilde görünebilir:\n",
    "\n",
    "```python\n",
    "import sys\n",
    "sys.stderr.write(\"Hata mesajı\\n\")\n",
    "```\n",
    "\n",
    "Bu yöntem, hata mesajlarının `stderr` akışına gönderilmesini ve standart program çıktısından ayrılmasını sağlar."
   ]
  },
  {
   "cell_type": "markdown",
   "metadata": {},
   "source": [
    "### Metin Dosyalarıyla Çalışmak: Devamı\n",
    "\n",
    "Aşağıdaki örneğe bakın. Önceki kodu, metin dosyasına tüm satırları yazacak şekilde değiştirdik."
   ]
  },
  {
   "cell_type": "code",
   "execution_count": 9,
   "metadata": {},
   "outputs": [],
   "source": [
    "from os import strerror\n",
    "\n",
    "try:\n",
    "    fo = open('newtext.txt', 'wt')\n",
    "    for i in range(10):\n",
    "        fo.write(\"line #\" + str(i+1) + \"\\n\")\n",
    "    fo.close()\n",
    "except IOError as e:\n",
    "    print(\"G/Ç hatası oluştu: \", strerror(e.errno))"
   ]
  },
  {
   "cell_type": "markdown",
   "metadata": {},
   "source": [
    "Yeni oluşturulan dosyanın içeriği aynı olacaktır.\n",
    "\n",
    "**Not:** Aynı yöntemi `stderr` akışına yazmak için de kullanabilirsiniz, ancak `stderr` akışını açmaya çalışmayın, çünkü bu akış her zaman örtük olarak açıktır.\n",
    "\n",
    "Örneğin, normal program çıktısından ayırt etmek için bir hata mesajı dizesini `stderr` akışına göndermek isterseniz, şu şekilde görünebilir:\n",
    "\n",
    "```python\n",
    "import sys\n",
    "sys.stderr.write(\"Hata mesajı\\n\")\n",
    "```\n",
    "\n",
    "Bu yöntem, hata mesajlarının `stderr` akışına gönderilmesini ve standart program çıktısından ayrılmasını sağlar."
   ]
  },
  {
   "cell_type": "markdown",
   "metadata": {},
   "source": [
    "### Bytearray Nedir?\n",
    "\n",
    "İkili dosyalar hakkında konuşmaya başlamadan önce, Python'ın amorf verileri depolamak için kullandığı özel sınıflardan birini tanıtmalıyız.\n",
    "\n",
    "Amorf veri, belirli bir şekil veya forma sahip olmayan veridir; sadece bir dizi bayttan oluşur.\n",
    "\n",
    "Bu, bu baytların kendi anlamlarının olamayacağı veya herhangi bir kullanışlı nesneyi (örneğin, bitmap grafikler) temsil edemeyeceği anlamına gelmez. Buradaki en önemli nokta, bu verilerle ilgilendiğimizde, ya bunların belirli doğasını bilmememiz ya da bilmek istemememizdir.\n",
    "\n",
    "Amorf veriler, daha önce sunulan yöntemlerden herhangi biriyle depolanamaz; ne dizedirler ne de listedirler. Bu tür verileri işleyebilecek özel bir konteyner gereklidir.\n",
    "\n",
    "Python, bu tür veriler için birden fazla konteyner sunar ve bunlardan biri `bytearray` adlı özel bir sınıftır. Adından da anlaşılacağı gibi, bu sınıf (amorf) baytları içeren bir dizidir.\n",
    "\n",
    "Örneğin, bir bitmap resmi okumak ve işlemden geçirmek istiyorsanız, bu tür bir konteyneri oluşturmak için kullanılabilir kuruculardan birini kullanarak açıkça oluşturmanız gerekir.\n",
    "\n",
    "Şu örneği göz önünde bulundurun:"
   ]
  },
  {
   "cell_type": "code",
   "execution_count": 10,
   "metadata": {},
   "outputs": [],
   "source": [
    "data = bytearray(10)"
   ]
  },
  {
   "cell_type": "markdown",
   "metadata": {},
   "source": [
    "Bu çağrı, on bayt depolayabilen bir `bytearray` nesnesi oluşturur.\n",
    "\n",
    "Not: Bu tür bir kurucu, tüm diziyi sıfırlarla doldurur."
   ]
  },
  {
   "cell_type": "markdown",
   "metadata": {},
   "source": [
    "### Bytearray'ler Hakkında\n",
    "\n",
    "Bytearray'ler birçok açıdan listelere benzer. Örneğin, değiştirilebilirler, `len()` fonksiyonuyla kullanılabilirler ve geleneksel indeksleme kullanarak herhangi bir elemanına erişebilirsiniz.\n",
    "\n",
    "Ancak, önemli kısıtlamalar vardır:\n",
    "- Byte array elemanlarını bir tamsayı olmayan bir değerle ayarlayamazsınız (bu kuralı ihlal etmek bir `TypeError` istisnasına neden olur).\n",
    "- 0 ile 255 aralığı dışında bir değer atayamazsınız (bu kuralı ihlal etmek bir `ValueError` istisnasına neden olur).\n",
    "\n",
    "Aşağıdaki örnekte gösterildiği gibi, byte array elemanlarını tamsayı değerler olarak ele alabilirsiniz:"
   ]
  },
  {
   "cell_type": "code",
   "execution_count": 11,
   "metadata": {},
   "outputs": [
    {
     "name": "stdout",
     "output_type": "stream",
     "text": [
      "0xa\n",
      "0x9\n",
      "0x8\n",
      "0x7\n",
      "0x6\n",
      "0x5\n",
      "0x4\n",
      "0x3\n",
      "0x2\n",
      "0x1\n"
     ]
    }
   ],
   "source": [
    "data = bytearray(10)\n",
    "\n",
    "for i in range(len(data)):\n",
    "    data[i] = 10 - i\n",
    "\n",
    "for b in data:\n",
    "    print(hex(b))"
   ]
  },
  {
   "cell_type": "markdown",
   "metadata": {},
   "source": [
    "Not: Byte array'ler üzerinde yineleme yapmak için iki yöntem kullandık ve elemanları onaltılık değerler olarak görmek için `hex()` fonksiyonunu kullandık.\n",
    "\n",
    "Şimdi, bir byte array'i ikili bir dosyaya nasıl yazacağınızı göstereceğiz. Okunabilir bir temsilini kaydetmek yerine, fiziksel bellek içeriğinin bire bir kopyasını, bayt bayt yazmak istiyoruz."
   ]
  },
  {
   "cell_type": "code",
   "execution_count": 12,
   "metadata": {},
   "outputs": [],
   "source": [
    "# Bir byte array'i ikili bir dosyaya yazma örneği\n",
    "from os import strerror\n",
    "\n",
    "try:\n",
    "    data = bytearray(10)\n",
    "    for i in range(len(data)):\n",
    "        data[i] = 10 - i\n",
    "\n",
    "    with open('binaryfile.bin', 'wb') as bf:\n",
    "        bf.write(data)\n",
    "except IOError as e:\n",
    "    print(\"G/Ç hatası oluştu:\", strerror(e.errno))"
   ]
  },
  {
   "cell_type": "markdown",
   "metadata": {},
   "source": [
    "### Byte Array'i İkili Dosyaya Yazmak\n",
    "\n",
    "Bir byte array'i ikili dosyaya nasıl yazacağımıza bir bakalım:"
   ]
  },
  {
   "cell_type": "code",
   "execution_count": 13,
   "metadata": {},
   "outputs": [],
   "source": [
    "from os import strerror\n",
    "\n",
    "try:\n",
    "    # Bytearray'i 10'dan başlayarak değerlerle başlatma\n",
    "    data = bytearray(10)\n",
    "    for i in range(len(data)):\n",
    "        data[i] = 10 - i\n",
    "\n",
    "    # İkili dosya oluşturma ve byte array'i dosyaya yazma\n",
    "    with open('binaryfile.bin', 'wb') as bf:\n",
    "        bf.write(data)\n",
    "except IOError as e:\n",
    "    print(\"G/Ç hatası oluştu:\", strerror(e.errno))"
   ]
  },
  {
   "cell_type": "markdown",
   "metadata": {},
   "source": [
    "### Analiz:\n",
    "- **Başlatma:** `bytearray`'i 10'dan başlayan ardışık değerlerle başlatıyoruz. Dosya içeriğinin daha okunabilir olmasını istiyorsanız, `10` yerine `ord('a')` gibi bir değer kullanabilirsiniz. Bu, ASCII kodunun alfabetik kısmına karşılık gelen baytlar üretir. Ancak, dosya `wb` bayrağı ile oluşturulduğu için hala ikili bir dosya olarak kalır.\n",
    "- **Dosya Oluşturma:** `open()` fonksiyonunu `wb` (ikili yazma) moduyla kullanarak dosyayı oluşturuyoruz.\n",
    "- **Veri Yazma:** `write()` yöntemi, `bytearray`'i alır ve dosyaya bir bütün olarak yazar.\n",
    "- **Akışı Kapatma:** Akış rutin bir şekilde kapatılır.\n",
    "- **Dönen Değer:** `write()` yöntemi, başarıyla yazılan baytların sayısını döndürür. Bu değer, `bytearray`'in uzunluğundan farklıysa, bir yazma hatasını gösterir.\n",
    "\n",
    "Kodu çalıştırın ve yeni oluşturulan dosyanın içeriğini analiz edin. Bir sonraki adımda bu dosyayı kullanacaksınız.\n",
    "\n",
    "### Akıştan Bayt Okuma\n",
    "\n",
    "Bir ikili dosyadan okumak için `readinto()` yöntemini kullanmalısınız. Bu yöntem, yeni bir byte array nesnesi oluşturmaz, bunun yerine önceden oluşturulmuş bir byte array'i dosyadan alınan değerlerle doldurur.\n",
    "\n",
    "**Not:**\n",
    "- Yöntem, başarıyla okunan baytların sayısını döndürür.\n",
    "- Yöntem, argümanında mevcut olan tüm alanı doldurmaya çalışır. Dosyada, argümandaki alandan daha fazla veri varsa, okuma işlemi dosyanın sonundan önce durur. Dosyada daha az veri varsa, sonuç byte array'in yalnızca kısmen doldurulduğunu gösterir. Kullanılmayan kısım değişmeden kalır.\n",
    "\n",
    "İşte tam kod:"
   ]
  },
  {
   "cell_type": "code",
   "execution_count": 14,
   "metadata": {},
   "outputs": [
    {
     "name": "stdout",
     "output_type": "stream",
     "text": [
      "0xa 0x9 0x8 0x7 0x6 0x5 0x4 0x3 0x2 0x1 "
     ]
    }
   ],
   "source": [
    "from os import strerror\n",
    "\n",
    "data = bytearray(10)\n",
    "\n",
    "try:\n",
    "    # Dosyayı ikili okuma modunda açma\n",
    "    bf = open('binaryfile.bin', 'rb')\n",
    "    bf.readinto(data)\n",
    "    bf.close()\n",
    "\n",
    "    # Byte array'in içeriğini yazdırma\n",
    "    for b in data:\n",
    "        print(hex(b), end=' ')\n",
    "except IOError as e:\n",
    "    print(\"G/Ç hatası oluştu:\", strerror(e.errno))"
   ]
  },
  {
   "cell_type": "markdown",
   "metadata": {},
   "source": [
    "### Analiz:\n",
    "- **Dosyayı Açma:** Önceki adımda oluşturulan dosyayı `rb` modunda açıyoruz.\n",
    "- **Veri Okuma:** Dosyanın içeriğini, boyutu on bayt olan `data` adlı byte array'e okuyoruz.\n",
    "- **Veri Yazdırma:** Son olarak, byte array'in içeriğini yazdırıyoruz. İçeriğin beklentilerinize uyup uymadığını kontrol edin.\n",
    "\n",
    "Kodu çalıştırarak çalışıp çalışmadığını kontrol edin."
   ]
  },
  {
   "cell_type": "markdown",
   "metadata": {},
   "source": [
    "### Bir Akıştan Bayt Okuma\n",
    "\n",
    "Bir ikili dosyanın içeriğini okumanın alternatif bir yolu, `read()` adlı yöntemdir.\n",
    "\n",
    "Bu yöntem, argümansız olarak çağrıldığında, dosyanın tüm içeriğini belleğe okumaya çalışır ve bunları yeni oluşturulan bir `bytes` sınıfı nesnesinin parçası haline getirir.\n",
    "\n",
    "Bu sınıf, önemli bir fark dışında `bytearray` sınıfına benzer: `bytes` sınıfı değiştirilemezdir (immutable).\n",
    "\n",
    "Neyse ki, `bytes` nesnesinden doğrudan başlangıç değerini alarak bir `bytearray` oluşturmak için hiçbir engel yoktur, tıpkı burada gösterildiği gibi:"
   ]
  },
  {
   "cell_type": "code",
   "execution_count": 15,
   "metadata": {},
   "outputs": [
    {
     "name": "stdout",
     "output_type": "stream",
     "text": [
      "G/Ç hatası oluştu: No such file or directory\n"
     ]
    }
   ],
   "source": [
    "from os import strerror\n",
    "\n",
    "try:\n",
    "    bf = open('file.bin', 'rb')\n",
    "    data = bytearray(bf.read())\n",
    "    bf.close()\n",
    "\n",
    "    for b in data:\n",
    "        print(hex(b), end=' ')\n",
    "\n",
    "except IOError as e:\n",
    "    print(\"G/Ç hatası oluştu:\", strerror(e.errno))"
   ]
  },
  {
   "cell_type": "markdown",
   "metadata": {},
   "source": [
    "Dikkatli olun—dosyanın içeriğinin mevcut belleğe sığacağından emin değilseniz bu tür bir okumayı kullanmayın."
   ]
  },
  {
   "cell_type": "markdown",
   "metadata": {},
   "source": [
    "### Bir Akıştan Bayt Okuma: Devamı\n",
    "\n",
    "Eğer `read()` yöntemi bir argümanla çağrılırsa, bu argüman okunacak maksimum bayt sayısını belirtir.\n",
    "\n",
    "Yöntem, dosyadan istenen sayıda bayt okumaya çalışır ve döndürülen nesnenin uzunluğu, aslında kaç bayt okunduğunu belirlemek için kullanılabilir.\n",
    "\n",
    "Yöntemi şu şekilde kullanabilirsiniz:"
   ]
  },
  {
   "cell_type": "code",
   "execution_count": 16,
   "metadata": {},
   "outputs": [
    {
     "name": "stdout",
     "output_type": "stream",
     "text": [
      "G/Ç hatası oluştu: No such file or directory\n"
     ]
    }
   ],
   "source": [
    "try:\n",
    "    bf = open('file.bin', 'rb')\n",
    "    data = bytearray(bf.read(5))\n",
    "    bf.close()\n",
    "\n",
    "    for b in data:\n",
    "        print(hex(b), end=' ')\n",
    "\n",
    "except IOError as e:\n",
    "    print(\"G/Ç hatası oluştu:\", strerror(e.errno))"
   ]
  },
  {
   "cell_type": "markdown",
   "metadata": {},
   "source": [
    "**Not:** Kod, dosyanın ilk beş baytını okudu; sonraki beş bayt hala işlenmeyi bekliyor."
   ]
  },
  {
   "cell_type": "code",
   "execution_count": 17,
   "metadata": {},
   "outputs": [],
   "source": [
    "from os import strerror\n",
    "\n",
    "data = bytearray(10)\n",
    "\n",
    "for i in range(len(data)):\n",
    "    data[i] = 10 + i\n",
    "\n",
    "try:\n",
    "    bf = open('file.bin', 'wb')\n",
    "    bf.write(data)\n",
    "    bf.close()\n",
    "except IOError as e:\n",
    "    print(\"I/O error occurred:\", strerror(e.errno))\n",
    "\n",
    "# Your code that reads bytes from the stream should go here.\n"
   ]
  },
  {
   "cell_type": "markdown",
   "metadata": {},
   "source": [
    "### Dosya Kopyalama - Basit ve İşlevsel Bir Araç\n",
    "\n",
    "Şimdi, bu yeni bilgileri bir araya getirecek, bazı yeni öğeler ekleyecek ve bir dosyanın içeriğini gerçekten kopyalayabilen bir kod yazmak için kullanacaksınız.\n",
    "\n",
    "Amaç, `copy` (MS Windows) veya `cp` (Unix/Linux) gibi komutların yerine daha iyi bir şey yapmak değil, kimse kullanmasa bile çalışan bir araç oluşturmanın mümkün yollarını görmek.\n",
    "\n",
    "Aşağıdaki koda bakın ve birlikte inceleyelim:"
   ]
  },
  {
   "cell_type": "code",
   "execution_count": null,
   "metadata": {},
   "outputs": [],
   "source": [
    "from os import strerror  # 1\n",
    "\n",
    "srcname = input(\"Kaynak dosya adını girin: \")  # 3\n",
    "try:  # 4\n",
    "    src = open(srcname, 'rb')  # 5\n",
    "except IOError as e:  # 6\n",
    "    print(\"Kaynak dosya açılamıyor: \", strerror(e.errno))  # 7\n",
    "    exit(e.errno)  # 8\n",
    "\n",
    "dstname = input(\"Hedef dosya adını girin: \")  # 10\n",
    "try:  # 11\n",
    "    dst = open(dstname, 'wb')  # 12\n",
    "except Exception as e:  # 13\n",
    "    print(\"Hedef dosya oluşturulamıyor: \", strerror(e.errno))  # 14\n",
    "    src.close()  # 15\n",
    "    exit(e.errno)  # 16\n",
    "\n",
    "buffer = bytearray(65536)  # 18\n",
    "total = 0  # 19\n",
    "try:  # 20\n",
    "    readin = src.readinto(buffer)  # 21\n",
    "    while readin > 0:  # 22\n",
    "        written = dst.write(buffer[:readin])  # 23\n",
    "        total += written  # 24\n",
    "        readin = src.readinto(buffer)  # 25\n",
    "except IOError as e:  # 26\n",
    "    print(\"Hedef dosya oluşturulamıyor: \", strerror(e.errno))  # 27\n",
    "    exit(e.errno)  # 28\n",
    "\n",
    "print(total, 'bayt başarıyla yazıldı')  # 30\n",
    "src.close()  # 31\n",
    "dst.close()  # 32\n"
   ]
  },
  {
   "cell_type": "markdown",
   "metadata": {},
   "source": [
    "### Kod Analizi:\n",
    "\n",
    "- **Satır 3-8:** Kullanıcıdan kopyalanacak dosyanın adını isteyin ve okuma amacıyla açmaya çalışın. Açma işlemi başarısız olursa, `exit()` fonksiyonunu kullanarak programın çalışmasını sonlandırın ve tamamlanma kodunu işletim sistemine iletin. 0 dışındaki herhangi bir kod, bir sorunun olduğunu belirtir. Sorunun niteliğini belirtmek için `errno` değerini kullanın.\n",
    "\n",
    "- **Satır 10-16:** Çıktı dosyası için benzer bir işlem gerçekleştirin.\n",
    "\n",
    "- **Satır 18:** Kaynak dosyadan hedef dosyaya veri aktarımı için bir bellek parçası ayırın, bu tampon olarak adlandırılır. Burada tampon boyutu 64 kilobayt olarak belirlenmiştir. Daha büyük bir tampon, daha az I/O işlemi nedeniyle genellikle daha hızlı kopyalama anlamına gelir, ancak belirli bir sınırın ötesinde daha fazla artış iyileştirme sağlamaz.\n",
    "\n",
    "- **Satır 19:** Kopyalanan baytları izlemek için bir sayaç başlatın.\n",
    "\n",
    "- **Satır 21:** Tamponu ilk kez doldurun.\n",
    "\n",
    "- **Satır 22:** Sıfırdan farklı bir bayt sayısı okuduğunuz sürece döngüye devam edin.\n",
    "\n",
    "- **Satır 23:** Tamponun içeriğini çıktı dosyasına yazın. `write()` fonksiyonunun tüm tamponu yazmayı tercih ettiği için, yazılacak bayt sayısını sınırlamak için bir dilim kullanılmıştır.\n",
    "\n",
    "- **Satır 24:** Yazılan bayt sayısıyla sayacı güncelleyin.\n",
    "\n",
    "- **Satır 25:** Dosyanın bir sonraki parçasını okuyun.\n",
    "\n",
    "- **Satır 30-32:** Kopyalama işlemi tamamlandıktan sonra kaynak ve hedef dosyaları kapatarak son temizlik işlemlerini gerçekleştirin.\n",
    "\n",
    "Bu kod, Python kullanarak dosya kopyalamanın pratik bir yolunu gösterir ve dosya işleme, istisna yönetimi ve bellek yönetimi bilgilerini bir araya getirir."
   ]
  },
  {
   "cell_type": "markdown",
   "metadata": {},
   "source": [
    "### Temel Bilgiler\n",
    "\n",
    "1. **Bir Dosyanın İçeriğini Okuma:**\n",
    "   - `read(number)`: Dosyadan belirtilen sayıda karakter/bayt okur ve bunları bir dize olarak döndürür. Bir sayı belirtilmezse tüm dosyayı bir kerede okuyabilir.\n",
    "   - `readline()`: Metin dosyasından tek bir satır okur.\n",
    "   - `readlines(number)`: Metin dosyasından belirtilen sayıda satır okur. Bir sayı belirtilmezse tüm satırları bir kerede okuyabilir.\n",
    "   - `readinto(bytearray)`: Dosyadan baytları okur ve bunları `bytearray` içine doldurur.\n",
    "\n",
    "2. **Bir Dosyaya Yeni İçerik Yazma:**\n",
    "   - `write(string)`: Bir dizeyi metin dosyasına yazar.\n",
    "   - `write(bytearray)`: `bytearray` içindeki tüm baytları dosyaya yazar.\n",
    "\n",
    "3. **`open()` Yöntemini Kullanma:**\n",
    "   - `open()` yöntemi, dosyanın tüm satırları boyunca yineleme yapmak için kullanılabilecek bir iterable nesne döndürür. Örneğin:\n"
   ]
  },
  {
   "cell_type": "code",
   "execution_count": null,
   "metadata": {},
   "outputs": [],
   "source": [
    "for line in open(\"file\", \"rt\"):\n",
    "    print(line, end='')"
   ]
  },
  {
   "cell_type": "markdown",
   "metadata": {},
   "source": [
    "\n",
    "\n",
    "Bu kod, dosyanın içeriğini satır satır konsola kopyalar. Not: Akış, dosyanın sonuna ulaştığında otomatik olarak kapanır."
   ]
  }
 ],
 "metadata": {
  "kernelspec": {
   "display_name": "Python 3 (ipykernel)",
   "language": "python",
   "name": "python3"
  },
  "language_info": {
   "codemirror_mode": {
    "name": "ipython",
    "version": 3
   },
   "file_extension": ".py",
   "mimetype": "text/x-python",
   "name": "python",
   "nbconvert_exporter": "python",
   "pygments_lexer": "ipython3",
   "version": "3.11.7"
  }
 },
 "nbformat": 4,
 "nbformat_minor": 4
}
