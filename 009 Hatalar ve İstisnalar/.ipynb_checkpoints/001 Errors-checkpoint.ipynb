{
 "cells": [
  {
   "cell_type": "markdown",
   "id": "a443cb8c-78c8-41a0-8447-9a6ad8da47fd",
   "metadata": {},
   "source": [
    "# Errors\n",
    "\n",
    "**Hatalar, Başarısızlıklar ve Diğer Konular**\n",
    "\r\n",
    "Yanlış gidebilecek her şey yanlış gider.\r\n",
    "\r\n",
    "Bu, Murphy Kanunu'dur ve her yerde, her zaman geçerlidir. Kodunuzun çalışması da yanlış gidebilir. Eğer yanlış gidebilirse, gider.\r\n",
    "\r\n",
    "Editördeki koda bakın. \"Yanlış gidebilecek\" en az iki yol var. Görebiliyor musunuz?\r\n",
    "\r\n",
    "Bir kullanıcı tamamen rastgele bir karakter dizisi girebildiğinden, bu dizinin float değerine dönüştürülebileceği garantisi yoktur - bu, kodun ilk savunmasızlığıdır;\r\n",
    "ikinci olarak, sqrt() fonksiyonu negatif bir argüman alırsa başarıs\n",
    "ız olur.\r\n",
    "Aşağıdaki hata mesajlarından birini alabiul edilmek için bunu yapmak zorundasınız."
   ]
  },
  {
   "cell_type": "code",
   "execution_count": 1,
   "id": "6e83e7a4-367c-4d78-87d0-5f60058d7c25",
   "metadata": {},
   "outputs": [
    {
     "name": "stdin",
     "output_type": "stream",
     "text": [
      "Enter x:  xxx\n"
     ]
    },
    {
     "ename": "ValueError",
     "evalue": "could not convert string to float: 'xxx'",
     "output_type": "error",
     "traceback": [
      "\u001b[1;31m---------------------------------------------------------------------------\u001b[0m",
      "\u001b[1;31mValueError\u001b[0m                                Traceback (most recent call last)",
      "Cell \u001b[1;32mIn[1], line 3\u001b[0m\n\u001b[0;32m      1\u001b[0m \u001b[38;5;28;01mimport\u001b[39;00m \u001b[38;5;21;01mmath\u001b[39;00m\n\u001b[1;32m----> 3\u001b[0m x \u001b[38;5;241m=\u001b[39m \u001b[38;5;28mfloat\u001b[39m(\u001b[38;5;28minput\u001b[39m(\u001b[38;5;124m\"\u001b[39m\u001b[38;5;124mEnter x: \u001b[39m\u001b[38;5;124m\"\u001b[39m))\n\u001b[0;32m      4\u001b[0m y \u001b[38;5;241m=\u001b[39m math\u001b[38;5;241m.\u001b[39msqrt(x)\n\u001b[0;32m      6\u001b[0m \u001b[38;5;28mprint\u001b[39m(\u001b[38;5;124m\"\u001b[39m\u001b[38;5;124mThe square root of\u001b[39m\u001b[38;5;124m\"\u001b[39m, x, \u001b[38;5;124m\"\u001b[39m\u001b[38;5;124mequals to\u001b[39m\u001b[38;5;124m\"\u001b[39m, y)\n",
      "\u001b[1;31mValueError\u001b[0m: could not convert string to float: 'xxx'"
     ]
    }
   ],
   "source": [
    "import math\n",
    "\n",
    "x = float(input(\"Enter x: \"))\n",
    "y = math.sqrt(x)\n",
    "\n",
    "print(\"The square root of\", x, \"equals to\", y)"
   ]
  },
  {
   "cell_type": "markdown",
   "id": "22bddf26-17d8-46d7-8999-20e93c2835ad",
   "metadata": {},
   "source": [
    "Böyle sürprizlerden korunabilir misiniz? Tabii ki korunabilirsiniz. Dahası, iyi bir programcı olarak kabul edilmek için bunu yapmak zorundasınız."
   ]
  },
  {
   "cell_type": "markdown",
   "id": "d6e8fa39-1dd1-4459-8627-f4e1a881dfdf",
   "metadata": {},
   "source": [
    "## **İstisnalar**\r\n",
    "Kodunuz yanlış, aptalca, sorumsuz, çılgınca veya uygulanamaz bir şey yapmaya çalıştığında Python iki şey yapar:\r\n",
    "\r\n",
    "1. Programınızı durdurur.\r\n",
    "2. İstisna adı verilen özel bir veri türü oluşturur.\r\n",
    "\r\n",
    "Bu faaliyetlerin her ikisine de istisna oluşturma adı verilir. Kodunuza nasıl devam edeceğine dair hiçbir fikri olmadığında Python'un her zaman bir istisna oluşturduğunu (veya bir istisna oluştuğunu) söyleyebiliriz.\r\n",
    "\r\n",
    "Sonra ne olur?\r\n",
    "\r\n",
    "1. Ortaya çıkan istisna, birisinin veya bir şeyin onu fark etmesini ve onunla ilgilenmesini bekler.\r\n",
    "2. Ortaya çıkan istisnayı giderecek hiçbir şey olmazsa program zorla sonlandırılacak ve Python tarafından konsola gönderilen bir hata mesajı göreceksiniz.\r\n",
    "3. İstisna uygun şekilde ele alınırsa, askıya alınan program yeniden başlatılabilir ve yürütülmesine devam edilebilir.\r\n",
    "\r\n",
    "Python, istisnaları gözlemlemenize, bunları tanımlamanıza ve bunları verimli bir şekilde ele almanıza olanak tanıyan etkili araçlar sağlar. Bu mümkündür çünkü tüm olası istisnaların benzersiz adları vardır, böylece bunları uygun şekilde kategorilere ayırabilir ve bunlara tepki verebilirsiniz.\r\n",
    "\r\n",
    "**İstisna Kavramı**\r\n",
    "\r\n",
    "Bazı istisna adlarını zaten biliyorsunuz. Aşağıdaki teşhis mesajına bir göz atın:\r\n",
    "\r\n",
    "''''\r\n",
    "ValueError: matematik etki alanı hatası\r\n",
    "''''\r\n",
    "Çıktı\r\n",
    "\r\n",
    "Yukarıda vurgulanan kelime istisna adıdır. Diğer bazı \n",
    "\n",
    "Editördeki koda bakın. (Açıkçası yanlış) programı çalıştırın.istisnalara aşina olalım."
   ]
  },
  {
   "cell_type": "code",
   "execution_count": 2,
   "id": "acb3d9a7-5280-4325-b0a6-d7bbc8a70612",
   "metadata": {},
   "outputs": [
    {
     "ename": "ZeroDivisionError",
     "evalue": "division by zero",
     "output_type": "error",
     "traceback": [
      "\u001b[1;31m---------------------------------------------------------------------------\u001b[0m",
      "\u001b[1;31mZeroDivisionError\u001b[0m                         Traceback (most recent call last)",
      "Cell \u001b[1;32mIn[2], line 2\u001b[0m\n\u001b[0;32m      1\u001b[0m value \u001b[38;5;241m=\u001b[39m \u001b[38;5;241m1\u001b[39m\n\u001b[1;32m----> 2\u001b[0m value \u001b[38;5;241m/\u001b[39m\u001b[38;5;241m=\u001b[39m \u001b[38;5;241m0\u001b[39m\n",
      "\u001b[1;31mZeroDivisionError\u001b[0m: division by zero"
     ]
    }
   ],
   "source": [
    "value = 1\n",
    "value /= 0"
   ]
  },
  {
   "cell_type": "code",
   "execution_count": 3,
   "id": "91e1e4ef-29e2-402e-ad78-f1074834edba",
   "metadata": {},
   "outputs": [
    {
     "ename": "IndexError",
     "evalue": "list index out of range",
     "output_type": "error",
     "traceback": [
      "\u001b[1;31m---------------------------------------------------------------------------\u001b[0m",
      "\u001b[1;31mIndexError\u001b[0m                                Traceback (most recent call last)",
      "Cell \u001b[1;32mIn[3], line 2\u001b[0m\n\u001b[0;32m      1\u001b[0m my_list \u001b[38;5;241m=\u001b[39m []\n\u001b[1;32m----> 2\u001b[0m x \u001b[38;5;241m=\u001b[39m my_list[\u001b[38;5;241m0\u001b[39m]\n",
      "\u001b[1;31mIndexError\u001b[0m: list index out of range"
     ]
    }
   ],
   "source": [
    "my_list = []\n",
    "x = my_list[0]"
   ]
  },
  {
   "cell_type": "markdown",
   "id": "dd5e1a2d-5119-45d9-acb6-8bf09f82938c",
   "metadata": {},
   "source": [
    "### **İstisnaları nasıl ele alıyorsunuz?**\n",
    "\n",
    "'Denemek' kelimesi çözümün anahtarıdır. Dahası, bu aynı zamanda bir anahtar kelimedir.\n",
    "\n",
    "Başarının tarifi şu şekildedir:\n",
    "\n",
    "1. Öncelikle bir şeyler yapmaya çalışmalısınız.\n",
    "2. Daha sonra her şeyin yolunda gidip gitmediğini kontrol etmelisiniz.\n",
    "\n",
    "Ama önce tüm koşulları kontrol edip, ancak güvenliyse bir şeyler yapmak daha iyi olmaz mı?\n",
    "\n",
    "Tıpkı editördeki örnek gibi.\n",
    "\n",
    "Kuşkusuz, bu yöntem en doğal ve anlaşılır görünebilir, ancak gerçekte bu yöntem programlamayı hiç de kolaylaştırmaz. Tüm bu kontroller kodunuzu **şişirebilir ve okunamaz** hale getirebilir.\n",
    "\n",
    "Python tamamen farklı olmayı tercih ediyor"
   ]
  },
  {
   "cell_type": "code",
   "execution_count": 4,
   "id": "467dafc1-8329-4b35-a868-5248a8ab2f71",
   "metadata": {},
   "outputs": [
    {
     "name": "stdin",
     "output_type": "stream",
     "text": [
      "Enter the first number:  2\n",
      "Enter the second number:  0\n"
     ]
    },
    {
     "name": "stdout",
     "output_type": "stream",
     "text": [
      "This operation cannot be done.\n",
      "THE END.\n"
     ]
    }
   ],
   "source": [
    "first_number = int(input(\"Enter the first number: \"))\n",
    "second_number = int(input(\"Enter the second number: \"))\n",
    "\n",
    "if second_number != 0:\n",
    "    print(first_number / second_number)\n",
    "else:\n",
    "    print(\"This operation cannot be done.\")\n",
    "\n",
    "print(\"THE END.\")"
   ]
  },
  {
   "cell_type": "markdown",
   "id": "63196be5-4d14-43f1-bdf0-3ce3043e2fc8",
   "metadata": {},
   "source": [
    "nabileceği anlamına gelir."
   ]
  },
  {
   "cell_type": "markdown",
   "id": "1c244cab-3470-475c-9e18-b742df5ef200",
   "metadata": {},
   "source": [
    "Editördeki koda bakın. Bu tercih edilen Python yaklaşımıdır.\n",
    "\n",
    "**Not:**\n",
    "\n",
    "- `try` anahtar sözcüğü, doğru şekilde çalışabilecek veya çalışmayabilecek bir kod bloğunu başlatır.\n",
    "- Daha sonra Python riskli eylemi gerçekleştirmeye çalışır; başarısız olursa bir istisna oluşturulur ve Python bir çözüm aramaya başlar.\n",
    "- `except` anahtar sözcüğü, `try` bloğunun içinde herhangi bir şey ters giderse yürütülecek kod bloğunu başlatır. Önceki `try` bloğunun içinde bir istisna ortaya çıkarsa, burada yakalanır ve `except` anahtar kelimesinden sonraki kod, ortaya çıkan istisnaya yeterli bir tepki sağlamalıdır.\n",
    "- Önceki yuvalama düzeyine geri dönmek, `try- except` bölümünü sonlandırır.\n",
    "\n",
    "Kodu çalıştırın ve davranışını test edin.\n",
    "\n",
    "**Şunu özetleyelim:**\n",
    "\n",
    "```python\n",
    "try:\n",
    " # İstisnaya neden olabilecek kod\n",
    " :\n",
    " :\n",
    "except:\n",
    " # İstisnayı işleyen kod\n",
    " :\n",
    " :\n",
    "```\n",
    "\n",
    "- İlk adımda Python, `try:` ve `except:` ifadeleri arasına yerleştirilen tüm talimatları gerçekleştirmeye çalışır.\n",
    "- Yürütme sırasında hiçbir sorun olmazsa ve tüm talimatlar başarıyla yerine getirilirse, yürütme `except:` bloğunun son satırından sonraki noktaya atlar ve bloğun yürütülmesi tamamlanmış sayılır.\n",
    "- Eğer `try:` bloğu içinde bir şeyler ters giderse, yürütme hemen bloğun dışına atlar ve `except:` anahtar sözcüğünden sonra yer alan ilk talimata geçer. Bu, `try:` bloğundaki bazı talimatların sessizce atlanabileceği anlamına gelir."
   ]
  },
  {
   "cell_type": "code",
   "execution_count": 5,
   "id": "c477bdd6-7c3c-43c9-bdbd-e8a499dc8dfa",
   "metadata": {},
   "outputs": [
    {
     "name": "stdin",
     "output_type": "stream",
     "text": [
      "Enter the first number:  2\n",
      "Enter the second number:  0\n"
     ]
    },
    {
     "name": "stdout",
     "output_type": "stream",
     "text": [
      "This operation cannot be done.\n",
      "THE END.\n"
     ]
    }
   ],
   "source": [
    "first_number = int(input(\"Enter the first number: \"))\n",
    "second_number = int(input(\"Enter the second number: \"))\n",
    "\n",
    "try:\n",
    "    print(first_number / second_number)\n",
    "except:\n",
    "    print(\"This operation cannot be done.\")\n",
    "\n",
    "print(\"THE END.\")"
   ]
  },
  {
   "cell_type": "markdown",
   "id": "e13733e8-c57b-4afa-803d-32120688f6f8",
   "metadata": {},
   "source": [
    "Editördeki koda bakın. Bu mekanizmayı anlamanıza yardımcı olacaktır."
   ]
  },
  {
   "cell_type": "code",
   "execution_count": 6,
   "id": "50c5bedf-c2d1-4a05-847b-9bd61f195db5",
   "metadata": {},
   "outputs": [
    {
     "name": "stdout",
     "output_type": "stream",
     "text": [
      "1\n",
      "Oh dear, something went wrong...\n",
      "3\n"
     ]
    }
   ],
   "source": [
    "try:\n",
    "    print(\"1\")\n",
    "    x = 1 / 0\n",
    "    print(\"2\")\n",
    "except:\n",
    "    print(\"Oh dear, something went wrong...\")\n",
    "\n",
    "print(\"3\")"
   ]
  },
  {
   "cell_type": "markdown",
   "id": "c51483e5-d775-4ebb-8945-d649c6754cdf",
   "metadata": {},
   "source": [
    "Bu yaklaşımın önemli bir dezavantajı vardır: Birden fazla türde istisnanın `except:` bloğuna girebilme olasılığı varsa, aslında ne olduğunu anlamakta zorluk çekebilirsiniz.\n",
    "\n",
    "Örneğin, editördeki koda bakın. Çalıştırın ve ne olduğunu görün.\n",
    "\n",
    "Konsolda görünen \"Oh dear, something went wrong...\" mesajı neden hakkında hiçbir şey söylemiyor, ancak istisnanın iki olası nedeni vardır:\n",
    "\n",
    "- Kullanıcı tarafından girilen tamsayı olmayan veri\n",
    "- `x` değişkenine atanan 0 değeri\n",
    "\n",
    "Teknik olarak, sorunu çözmenin iki yolu vardır:\n",
    "\n",
    "1. Her olası istisna nedeni için iki ardışık `try-except` bloğu oluşturun (kolay, ancak kodun gereksiz yere büyümesine neden olur)\n",
    "2. Daha gelişmiş bir varyant olan `try-except` yapısını kullanın.\n",
    "\n",
    "Şöyle görünür:\n",
    "\n",
    "```python\n",
    "try:\n",
    "    # İstisna oluşturabilecek kod\n",
    "    :\n",
    "except exc1:\n",
    "    # exc1 istisnasını ele al\n",
    "    :\n",
    "except exc2:\n",
    "    # exc2 istisnasını ele al\n",
    "    :\n",
    "except:\n",
    "    # Diğer istisnaları ele al\n",
    "    :\n",
    "```\n",
    "\n",
    "**Nasıl çalışır:**\n",
    "\n",
    "- Eğer `try` bloğu `exc1` istisnasını oluşturursa, bu `except exc1:` bloğunda ele alınır.\n",
    "- Benzer şekilde, eğer `try` bloğu `exc2` istisnasını oluşturursa, bu `except exc2:` bloğunda ele alınır.\n",
    "- Eğer `try` bloğu başka bir istisna oluşturursa, bu isimsiz `except:` bloğunda ele alınır.\n",
    "\n",
    "Kursun bir sonraki bölümüne geçelim ve bunu uygulamada görelim."
   ]
  },
  {
   "cell_type": "code",
   "execution_count": 7,
   "id": "ed389b93-412c-4fbc-a3c8-1f18483296b5",
   "metadata": {},
   "outputs": [
    {
     "name": "stdin",
     "output_type": "stream",
     "text": [
      "Enter a number:  0\n"
     ]
    },
    {
     "name": "stdout",
     "output_type": "stream",
     "text": [
      "Oh dear, something went wrong...\n",
      "THE END.\n"
     ]
    }
   ],
   "source": [
    "try:\n",
    "    x = int(input(\"Enter a number: \"))\n",
    "    y = 1 / x\n",
    "except:\n",
    "    print(\"Oh dear, something went wrong...\")\n",
    "\n",
    "print(\"THE END.\")"
   ]
  },
  {
   "cell_type": "code",
   "execution_count": 8,
   "id": "36dbb9cb-5843-48fc-8acd-b8cb3b14d4f1",
   "metadata": {},
   "outputs": [
    {
     "name": "stdin",
     "output_type": "stream",
     "text": [
      "Enter a number:  f\n"
     ]
    },
    {
     "name": "stdout",
     "output_type": "stream",
     "text": [
      "Oh dear, something went wrong...\n",
      "THE END.\n"
     ]
    }
   ],
   "source": [
    "try:\n",
    "    x = int(input(\"Enter a number: \"))\n",
    "    y = 1 / x\n",
    "except:\n",
    "    print(\"Oh dear, something went wrong...\")\n",
    "\n",
    "print(\"THE END.\")"
   ]
  },
  {
   "cell_type": "markdown",
   "id": "481e2dcf-87bc-4c45-89dd-5bc7e673ed49",
   "metadata": {},
   "source": [
    "Editördeki koda bakın. Çözümümüz orada.\n",
    "\n",
    "Kod çalıştırıldığında, aşağıdaki dört çıktıdan birini üretir:\n",
    "\n",
    "Eğer geçerli, sıfır olmayan bir tamsayı değeri girerseniz (örneğin, 5), şunu söyler:\n",
    "\n",
    "```\n",
    "0.2\n",
    "THE END.\n",
    "```\n",
    "\n",
    "Eğer 0 girerseniz, şunu söyler:\n",
    "\n",
    "```\n",
    "You cannot divide by zero, sorry.\n",
    "THE END.\n",
    "```\n",
    "\n",
    "Eğer herhangi bir tamsayı olmayan dize girerseniz, şunu görürsünüz:\n",
    "\n",
    "```\n",
    "You must enter an integer value.\n",
    "THE END.\n",
    "```\n",
    "\n",
    "(Lokal makinenizde) program kullanıcının girişini beklerken Ctrl-C tuşlarına basarsanız (bu bir KeyboardInterrupt adında bir istisnaya neden olur), program şunu söyler:\n",
    "\n",
    "```\n",
    "Oh dear, something went wrong...\n",
    "THE END.\n",
    "```"
   ]
  },
  {
   "cell_type": "code",
   "execution_count": 9,
   "id": "91f6ba5b-8cd5-4dac-afa0-a56d62f0d0e9",
   "metadata": {},
   "outputs": [
    {
     "name": "stdin",
     "output_type": "stream",
     "text": [
      "Enter a number:  0\n"
     ]
    },
    {
     "name": "stdout",
     "output_type": "stream",
     "text": [
      "You cannot divide by zero, sorry.\n",
      "THE END.\n"
     ]
    }
   ],
   "source": [
    "try:\n",
    "    x = int(input(\"Enter a number: \"))\n",
    "    y = 1 / x\n",
    "    print(y)\n",
    "except ZeroDivisionError:\n",
    "    print(\"You cannot divide by zero, sorry.\")\n",
    "except ValueError:\n",
    "    print(\"You must enter an integer value.\")\n",
    "except:\n",
    "    print(\"Oh dear, something went wrong...\")\n",
    "\n",
    "print(\"THE END.\")"
   ]
  },
  {
   "cell_type": "code",
   "execution_count": 10,
   "id": "b782cebe-cca0-4da7-b372-aa28b0d4957c",
   "metadata": {},
   "outputs": [
    {
     "name": "stdin",
     "output_type": "stream",
     "text": [
      "Enter a number:  dd\n"
     ]
    },
    {
     "name": "stdout",
     "output_type": "stream",
     "text": [
      "You must enter an integer value.\n",
      "THE END.\n"
     ]
    }
   ],
   "source": [
    "try:\n",
    "    x = int(input(\"Enter a number: \"))\n",
    "    y = 1 / x\n",
    "    print(y)\n",
    "except ZeroDivisionError:\n",
    "    print(\"You cannot divide by zero, sorry.\")\n",
    "except ValueError:\n",
    "    print(\"You must enter an integer value.\")\n",
    "except:\n",
    "    print(\"Oh dear, something went wrong...\")\n",
    "\n",
    "print(\"THE END.\")"
   ]
  },
  {
   "cell_type": "markdown",
   "id": "864df108-f179-442b-a578-49d8b01a67cf",
   "metadata": {},
   "source": [
    "Unutmayın ki:\n",
    "\n",
    "- `except` blokları, kodda göründükleri sırayla aranır.\n",
    "- Aynı istisna adıyla birden fazla `except` bloğu kullanamazsınız.\n",
    "- Farklı `except` bloklarının sayısı keyfidir; tek koşul, `try` kullandıysanız, sonrasında en az bir `except` (adlı veya adsız) koymanız gerektiğidir.\n",
    "- `except` anahtar kelimesi, kendisinden önce bir `try` olmadan kullanılamaz.\n",
    "- Eğer herhangi bir `except` bloğu çalıştırılırsa, diğer bloklar ziyaret edilmez.\n",
    "- Belirtilen `except` bloklarından hiçbiri oluşturulan istisna ile eşleşmezse, istisna işlenmeden kalır (bunu yakında tartışacağız).\n",
    "- Adsız bir `except` bloğu varsa (istisna adı olmayan bir blok), bu en son belirtilmelidir.\n",
    "\n",
    "Örnek yapı:\n",
    "\n",
    "```python\n",
    "try:\n",
    "    # İstisna oluşturabilecek kod\n",
    "    :\n",
    "except exc1:\n",
    "    # exc1 istisnasını ele al\n",
    "    :\n",
    "except exc2:\n",
    "    # exc2 istisnasını ele al\n",
    "    :\n",
    "except:\n",
    "    # Diğer istisnaları ele al\n",
    "    :\n",
    "```\n",
    "\n",
    "Şimdi denemelere devam edelim.\n",
    "\n",
    "Editördeki koda bakın. Önceki programı değiştirdik - `ZeroDivisionError` bloğunu kaldırdık.\n",
    "\n",
    "Kullanıcı girdi olarak 0 girerse ne olur?\n",
    "\n",
    "Bölme işlemi sıfırla olduğunda, özel bir `except` bloğu olmadığından, oluşturulan istisna genel (adsız) bloğa düşer. Bu durumda, program şunu söyleyecektir:\n",
    "\n",
    "```\n",
    "Oh dear, something went wrong...\n",
    "THE END.\n",
    "```\n",
    "Çıktı\n",
    "\n",
    "Kendiniz deneyin. Programı çalıştırın.\n",
    "\n",
    "İşte değiştirilmiş kod:"
   ]
  },
  {
   "cell_type": "code",
   "execution_count": 11,
   "id": "864d65c3-b757-46e0-b90a-3e85e32e19b5",
   "metadata": {},
   "outputs": [
    {
     "name": "stdin",
     "output_type": "stream",
     "text": [
      "Enter a number:  0\n"
     ]
    },
    {
     "name": "stdout",
     "output_type": "stream",
     "text": [
      "Oh dear, something went wrong...\n",
      "THE END.\n"
     ]
    }
   ],
   "source": [
    "try:\n",
    "    x = int(input(\"Enter a number: \"))\n",
    "    y = 1 / x\n",
    "    print(y)\n",
    "except ValueError:\n",
    "    print(\"You must enter an integer value.\")\n",
    "except:\n",
    "    print(\"Oh dear, something went wrong...\")\n",
    "\n",
    "print(\"THE END.\")"
   ]
  },
  {
   "cell_type": "markdown",
   "id": "02cdcf29-d590-422f-bb4d-1d379fd45bc1",
   "metadata": {},
   "source": [
    "Kodu bir kez daha bozacağız.\n",
    "\n",
    "Editördeki programa bakın. Bu sefer, adsız bloğu kaldırdık.\n",
    "\n",
    "Kullanıcı tekrar 0 girerse:\n",
    "\n",
    "- Oluşturulan istisna `ValueError` tarafından ele alınmaz - bununla hiçbir ilgisi yoktur;\n",
    "- Başka bir blok olmadığından, şu mesajı görmelisiniz:\n",
    "\n",
    "```\n",
    "Traceback (most recent call last):\n",
    "File \"exc.py\", line 3, in \n",
    "y = 1 / x\n",
    "ZeroDivisionError: division by zero\n",
    "```\n",
    "Çıktı\n",
    "\n",
    "Python'da istisna yönetimi hakkında çok şey öğrendiniz. Bir sonraki bölümde, Python yerleşik istisnalarına ve bunların hiyerarşilerine odaklanacağız.\n",
    "\n",
    "İşte kodun son hali:"
   ]
  },
  {
   "cell_type": "code",
   "execution_count": 12,
   "id": "bfdfc8ea-e52a-49bf-9d55-b9793cd3937d",
   "metadata": {},
   "outputs": [
    {
     "name": "stdin",
     "output_type": "stream",
     "text": [
      "Enter a number:  0\n"
     ]
    },
    {
     "ename": "ZeroDivisionError",
     "evalue": "division by zero",
     "output_type": "error",
     "traceback": [
      "\u001b[1;31m---------------------------------------------------------------------------\u001b[0m",
      "\u001b[1;31mZeroDivisionError\u001b[0m                         Traceback (most recent call last)",
      "Cell \u001b[1;32mIn[12], line 3\u001b[0m\n\u001b[0;32m      1\u001b[0m \u001b[38;5;28;01mtry\u001b[39;00m:\n\u001b[0;32m      2\u001b[0m     x \u001b[38;5;241m=\u001b[39m \u001b[38;5;28mint\u001b[39m(\u001b[38;5;28minput\u001b[39m(\u001b[38;5;124m\"\u001b[39m\u001b[38;5;124mEnter a number: \u001b[39m\u001b[38;5;124m\"\u001b[39m))\n\u001b[1;32m----> 3\u001b[0m     y \u001b[38;5;241m=\u001b[39m \u001b[38;5;241m1\u001b[39m \u001b[38;5;241m/\u001b[39m x\n\u001b[0;32m      4\u001b[0m     \u001b[38;5;28mprint\u001b[39m(y)\n\u001b[0;32m      5\u001b[0m \u001b[38;5;28;01mexcept\u001b[39;00m \u001b[38;5;167;01mValueError\u001b[39;00m:\n",
      "\u001b[1;31mZeroDivisionError\u001b[0m: division by zero"
     ]
    }
   ],
   "source": [
    "try:\n",
    "    x = int(input(\"Enter a number: \"))\n",
    "    y = 1 / x\n",
    "    print(y)\n",
    "except ValueError:\n",
    "    print(\"You must enter an integer value.\")\n",
    "\n",
    "print(\"THE END.\")"
   ]
  },
  {
   "cell_type": "markdown",
   "id": "4779d258-c1f8-45af-b64c-366de5881b1d",
   "metadata": {},
   "source": [
    "### Özet\r\n",
    "\r\n",
    "1. **İstisna Yönetimi Temelleri:**\r\n",
    "   - Bir istisna, program yürütülmesi sırasında anormal bir durumdan kaynaklanan bir olaydır. İstisnalar, programın sonlanmasını önlemek için ele alınmalıdır. Kodunuzda istisnanın kaynağı olduğu düşünülen kısmı `try` bloğunun içine yerleştirmelisiniz.\r\n",
    "   - Bir istisna meydana geldiğinde, kodun yürütülmesi sonlanmaz, bunun yerine `except` bloğuna atlar. İstisnanın ele alınması burada gerçekleşmelidir. Böyle bir yapının genel şeması aşağıdaki gibidir:\r\n",
    "\r\n",
    "   ```python\r\n",
    "   # Sorunsuz çalışan kod.\r\n",
    "   :\r\n",
    "   try:\r\n",
    "       # Riskli kod.\r\n",
    "       :\r\n",
    "   except:\r\n",
    "       # Kriz yönetimi burada gerçekleşir.\r\n",
    "       : \r\n",
    "   # Normal duruma dönüş.\r\n",
    "   :\r\n",
    "   ```\r\n",
    "\r\n",
    "2. **Birden Fazla İstisnayı Ele Alma:**\r\n",
    "   - Aynı `try` bloğundan kaynaklanan birden fazla istisnayı ele almanız gerekiyorsa, birden fazla `except` bloğu ekleyebilirsiniz, ancak bunları farklı istisna adlarıyla etiketlemelisiniz, şöyle:\r\n",
    "\r\n",
    "   ```python\r\n",
    "   # Sorunsuz çalışan kod.\r\n",
    "   :\r\n",
    "   try:\r\n",
    "       # Riskli kod.\r\n",
    "       :\r\n",
    "   except Except_1:\r\n",
    "       # Kriz yönetimi burada gerçekleşir.\r\n",
    "       :\r\n",
    "   except Except_2:\r\n",
    "       # Dünyayı burada kurtarıyoruz.\r\n",
    "       :\r\n",
    "   # Normal duruma dönüş.\r\n",
    "   :\r\n",
    "   ```\r\n",
    "\r\n",
    "   - En fazla bir `except` bloğu çalıştırılır. Yükseltilen istisna belirtilen istisnalardan hiçbiriyle eşleşmezse, hiçbir `except` bloğu çalıştırılmaz.\r\n",
    "\r\n",
    "3. **Adsız Except Bloğu:**\r\n",
    "   - Adlı `except` bloklarının ardından birden fazla adsız (isimsiz) `except` bloğu ekleyemezsiniz.\r\n",
    "\r\n",
    "   ```python\r\n",
    "   # Sorunsuz çalışan kod.\r\n",
    "   :\r\n",
    "   try:\r\n",
    "       # Riskli kod.\r\n",
    "       :\r\n",
    "   except Except_1:\r\n",
    "       # Kriz yönetimi burada gerçekleşir.\r\n",
    "       :\r\n",
    "   except Except_2:\r\n",
    "       # Dünyayı burada kurtarıyoruz.\r\n",
    "       :\r\n",
    "   except:\r\n",
    "       # Diğer tüm sorunlar buraya düşer.\r\n",
    "       :\r\n",
    "   # Normal duruma dönüş.\r\n",
    "   :\r\n",
    "   ```\n",
    "\n"
   ]
  },
  {
   "cell_type": "code",
   "execution_count": null,
   "id": "68285c64-77ac-4c72-95bb-9e0228d30b4d",
   "metadata": {},
   "outputs": [],
   "source": []
  }
 ],
 "metadata": {
  "kernelspec": {
   "display_name": "Python 3 (ipykernel)",
   "language": "python",
   "name": "python3"
  },
  "language_info": {
   "codemirror_mode": {
    "name": "ipython",
    "version": 3
   },
   "file_extension": ".py",
   "mimetype": "text/x-python",
   "name": "python",
   "nbconvert_exporter": "python",
   "pygments_lexer": "ipython3",
   "version": "3.11.7"
  }
 },
 "nbformat": 4,
 "nbformat_minor": 5
}
