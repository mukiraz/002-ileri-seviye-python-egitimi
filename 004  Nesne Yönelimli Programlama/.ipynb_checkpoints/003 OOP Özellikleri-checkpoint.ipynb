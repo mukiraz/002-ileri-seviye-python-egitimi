{
 "cells": [
  {
   "cell_type": "markdown",
   "id": "36dd6d80",
   "metadata": {},
   "source": [
    "### Örnek (Instance) Değişkenler\n",
    "\n",
    "Genel olarak, bir sınıfın özelliklerini oluşturmak için iki farklı tür veriyle donatılabilir. Yığınları incelediğimizde bunlardan birini zaten gördünüz.\n",
    "\n",
    "Bu tür sınıf özelliği, yalnızca açıkça oluşturulup bir nesneye eklendiğinde var olur. Bu, nesnenin başlatılması sırasında, genellikle yapıcı (constructor) tarafından gerçekleştirilir.\n",
    "\n",
    "Ayrıca, nesnenin yaşam süresi boyunca herhangi bir zamanda eklenebilir. Ek olarak, mevcut herhangi bir özellik herhangi bir zamanda kaldırılabilir.\n",
    "\n",
    "Bu yaklaşımın bazı önemli sonuçları vardır:\n",
    "\n",
    "1. Aynı sınıfın farklı nesneleri farklı özellik setlerine sahip olabilir.\n",
    "2. Kullanmak istediğiniz belirli bir özelliğin belirli bir nesnede bulunup bulunmadığını güvenli bir şekilde kontrol etmenin bir yolu olmalıdır (bir istisna oluşturmak istemiyorsanız, bu her zaman dikkate alınmaya değerdir).\n",
    "3. Her nesne, birbirleriyle hiçbir şekilde etkileşime girmeyen kendi özellik setine sahiptir.\n",
    "\n",
    "Bu tür değişkenler (özellikler) örnek (instance) değişkenler olarak adlandırılır.\n",
    "\n",
    "\"Örnek\" kelimesi, bunların sınıfların kendileriyle değil, nesnelerle (sınıf örnekleri olan) yakından ilişkili olduğunu gösterir. Onlara daha yakından bakalım.\n",
    "\n",
    "İşte bir örnek:"
   ]
  },
  {
   "cell_type": "code",
   "execution_count": 1,
   "id": "7152ace3",
   "metadata": {},
   "outputs": [
    {
     "name": "stdout",
     "output_type": "stream",
     "text": [
      "{'first': 1}\n",
      "{'first': 2, 'second': 3}\n",
      "{'first': 4, 'third': 5}\n"
     ]
    }
   ],
   "source": [
    "class ExampleClass:\n",
    "    def __init__(self, val=1):\n",
    "        self.first = val\n",
    "\n",
    "    def set_second(self, val):\n",
    "        self.second = val\n",
    "\n",
    "example_object_1 = ExampleClass()\n",
    "example_object_2 = ExampleClass(2)\n",
    "\n",
    "example_object_2.set_second(3)\n",
    "\n",
    "example_object_3 = ExampleClass(4)\n",
    "example_object_3.third = 5\n",
    "\n",
    "print(example_object_1.__dict__)\n",
    "print(example_object_2.__dict__)\n",
    "print(example_object_3.__dict__)\n"
   ]
  },
  {
   "cell_type": "markdown",
   "id": "907ab234",
   "metadata": {},
   "source": [
    "Daha ileri gitmeden önce bir ek açıklama yapalım. Kodun son üç satırına bakın.\n",
    "\n",
    "Python nesneleri oluşturulduğunda, küçük bir dizi önceden tanımlanmış özellik ve yöntemle donatılırlar. Her nesne bunlara sahiptir, ister isteyin ister istemeyin. Bunlardan biri `__dict__` adlı bir değişkendir (bir sözlüktür).\n",
    "\n",
    "Bu değişken, nesnenin şu anda taşıdığı tüm özelliklerin (değişkenlerin) adlarını ve değerlerini içerir. Bir nesnenin içeriğini güvenli bir şekilde göstermek için bunu kullanabiliriz.\n",
    "\n",
    "Şimdi koda dalalım:\n",
    "\n",
    "1. `ExampleClass` adlı sınıfın bir yapıcısı vardır, bu yapıcı koşulsuz olarak `first` adlı bir örnek değişkeni oluşturur ve bunu ilk argüman (sınıf kullanıcısının perspektifinden) veya ikinci argüman (yapıcının perspektifinden) aracılığıyla geçirilen değerle ayarlar. Parametrenin varsayılan değerine dikkat edin—normal bir fonksiyon parametresiyle yapabileceğiniz her numara, yöntemlere de uygulanabilir.\n",
    "\n",
    "2. Sınıf ayrıca `second` adlı başka bir örnek değişkeni oluşturan bir metoda sahiptir.\n",
    "\n",
    "3. `ExampleClass` sınıfının üç nesnesini oluşturduk, ancak tüm bu örnekler farklıdır:\n",
    "   - `example_object_1` yalnızca `first` adlı özelliğe sahiptir.\n",
    "   - `example_object_2` iki özelliğe sahiptir: `first` ve `second`.\n",
    "   - `example_object_3`, sınıfın kodu dışında, uçup giden bir şekilde `third` adlı bir özellik ile zenginleştirilmiştir—bu hem mümkündür hem de izin verilebilir.\n",
    "\n",
    "Programın çıktısı, varsayımlarımızın doğru olduğunu açıkça göstermektedir:\n",
    "\n",
    "```\n",
    "{'first': 1}\n",
    "{'second': 3, 'first': 2}\n",
    "{'third': 5, 'first': 4}\n",
    "```\n",
    "\n",
    "Burada belirtilmesi gereken bir ek sonuç daha vardır: herhangi bir nesnenin örnek değişkenini değiştirmek, kalan tüm nesneleri etkilemez. Örnek değişkenler birbirinden tamamen izoledir."
   ]
  },
  {
   "cell_type": "markdown",
   "id": "32652ab3",
   "metadata": {},
   "source": [
    "### Örnek Değişkenler: Devam\n",
    "\n",
    "Aşağıdaki değiştirilmiş örneğe bir göz atın:"
   ]
  },
  {
   "cell_type": "code",
   "execution_count": 2,
   "id": "060a5650",
   "metadata": {},
   "outputs": [
    {
     "name": "stdout",
     "output_type": "stream",
     "text": [
      "{'_ExampleClass__first': 1}\n",
      "{'_ExampleClass__first': 2, '_ExampleClass__second': 3}\n",
      "{'_ExampleClass__first': 4, '__third': 5}\n"
     ]
    }
   ],
   "source": [
    "class ExampleClass:\n",
    "    def __init__(self, val=1):\n",
    "        self.__first = val\n",
    "\n",
    "    def set_second(self, val=2):\n",
    "        self.__second = val\n",
    "\n",
    "example_object_1 = ExampleClass()\n",
    "example_object_2 = ExampleClass(2)\n",
    "\n",
    "example_object_2.set_second(3)\n",
    "\n",
    "example_object_3 = ExampleClass(4)\n",
    "example_object_3.__third = 5\n",
    "\n",
    "print(example_object_1.__dict__)\n",
    "print(example_object_2.__dict__)\n",
    "print(example_object_3.__dict__)\n"
   ]
  },
  {
   "cell_type": "markdown",
   "id": "6cab419e",
   "metadata": {
    "vscode": {
     "languageId": "plaintext"
    }
   },
   "source": [
    "Bu örnek, öncekiyle neredeyse aynıdır. Tek fark, özellik adlarında iki alt çizgi (__) eklememizdir.\n",
    "\n",
    "Bildiğiniz gibi, bu ekleme örnek değişkeni özel (private) yapar, yani dış dünyadan erişilemez hale gelir.\n",
    "\n",
    "Bu adların gerçek davranışı biraz daha karmaşıktır, bu yüzden programı çalıştıralım. İşte çıktı:\n",
    "\n",
    "```\n",
    "{'_ExampleClass__first': 1}\n",
    "{'_ExampleClass__first': 2, '_ExampleClass__second': 3}\n",
    "{'_ExampleClass__first': 4, '__third': 5}\n",
    "```\n",
    "\n",
    "Bu garip alt çizgilerle dolu adları fark ettiniz mi? Nereden geldiler?\n",
    "\n",
    "Python, bir nesneye örnek değişkeni eklemek istediğinizi ve bunu nesnenin herhangi bir yöntemi içinde yapacağınızı gördüğünde, işlemi şu şekilde karıştırır:\n",
    "\n",
    "1. Değişken adınızın önüne sınıf adını ekler.\n",
    "2. Başlangıca bir ek alt çizgi koyar.\n",
    "\n",
    "Bu yüzden `__first`, `_ExampleClass__first` olur.\n",
    "\n",
    "Ad artık sınıfın dışından tamamen erişilebilir hale gelir. Şu kodu çalıştırabilirsiniz:"
   ]
  },
  {
   "cell_type": "code",
   "execution_count": 3,
   "id": "f239faf3",
   "metadata": {},
   "outputs": [
    {
     "name": "stdout",
     "output_type": "stream",
     "text": [
      "1\n"
     ]
    }
   ],
   "source": [
    "print(example_object_1._ExampleClass__first)"
   ]
  },
  {
   "cell_type": "markdown",
   "id": "7010cd6f",
   "metadata": {},
   "source": [
    "Ve hatasız veya istisnasız geçerli bir sonuç alırsınız.\n",
    "\n",
    "Gördüğünüz gibi, bir özelliği özel yapmak sınırlıdır.\n",
    "\n",
    "Eğer sınıf kodunun dışında özel bir örnek değişkeni eklerseniz, bu karıştırma işe yaramaz. Bu durumda, herhangi bir başka normal özellik gibi davranır."
   ]
  },
  {
   "cell_type": "markdown",
   "id": "57907c6f",
   "metadata": {},
   "source": [
    "### Sınıf Değişkenleri\n",
    "\n",
    "Bir sınıf değişkeni, sadece bir kopya halinde var olan ve herhangi bir nesnenin dışında saklanan bir özelliktir.\n",
    "\n",
    "Not: Sınıfta nesne yoksa hiçbir örnek değişkeni yoktur; ancak, sınıfta nesne olmasa bile bir sınıf değişkeni tek bir kopya halinde var olur.\n",
    "\n",
    "Sınıf değişkenleri, örnek değişkenlerinden farklı şekilde oluşturulur. Aşağıdaki örnek bunu daha iyi açıklayacaktır:"
   ]
  },
  {
   "cell_type": "code",
   "execution_count": 4,
   "id": "fc702921",
   "metadata": {},
   "outputs": [
    {
     "name": "stdout",
     "output_type": "stream",
     "text": [
      "{'_ExampleClass__first': 1} 3\n",
      "{'_ExampleClass__first': 2} 3\n",
      "{'_ExampleClass__first': 4} 3\n"
     ]
    }
   ],
   "source": [
    "class ExampleClass:\n",
    "    counter = 0\n",
    "    def __init__(self, val=1):\n",
    "        self.__first = val\n",
    "        ExampleClass.counter += 1\n",
    "\n",
    "example_object_1 = ExampleClass()\n",
    "example_object_2 = ExampleClass(2)\n",
    "example_object_3 = ExampleClass(4)\n",
    "\n",
    "print(example_object_1.__dict__, example_object_1.counter)\n",
    "print(example_object_2.__dict__, example_object_2.counter)\n",
    "print(example_object_3.__dict__, example_object_3.counter)\n"
   ]
  },
  {
   "cell_type": "markdown",
   "id": "21831f02",
   "metadata": {},
   "source": [
    "Gözlemleyin:\n",
    "\n",
    "- Sınıf tanımının ilk satırında `counter` adlı değişken 0 olarak atanır. Değişkeni sınıf içinde ancak herhangi bir metodun dışında başlatmak, onu bir sınıf değişkeni yapar.\n",
    "- Bu tür bir değişkene erişmek, herhangi bir örnek özelliğine erişmekle aynı görünür. Yapıcıda bunu görebilirsiniz. Yapıcı değişkeni bir artırır, bu da oluşturulan tüm nesneleri sayar.\n",
    "\n",
    "Kodun çalıştırılması aşağıdaki çıktıyı üretecektir:\n",
    "\n",
    "```\n",
    "{'_ExampleClass__first': 1} 3\n",
    "{'_ExampleClass__first': 2} 3\n",
    "{'_ExampleClass__first': 4} 3\n",
    "```\n",
    "\n",
    "Bu örnekten iki önemli sonuç çıkarılabilir:\n",
    "\n",
    "1. Sınıf değişkenleri, bir nesnenin `__dict__` içinde gösterilmez (çünkü sınıf değişkenleri nesnenin parçası değildir), ancak her zaman aynı adı taşıyan değişkene sınıf seviyesinde bakabilirsiniz - bunu çok yakında göstereceğiz.\n",
    "2. Bir sınıf değişkeni, sınıfın tüm örneklerinde (nesnelerinde) her zaman aynı değeri gösterir."
   ]
  },
  {
   "cell_type": "markdown",
   "id": "2963d559",
   "metadata": {},
   "source": [
    "Aşağıdaki Örneği İnceleyin:"
   ]
  },
  {
   "cell_type": "code",
   "execution_count": 5,
   "id": "945c114c",
   "metadata": {},
   "outputs": [
    {
     "name": "stdout",
     "output_type": "stream",
     "text": [
      "{'_ExampleClass__first': 1} 3\n",
      "{'_ExampleClass__first': 2} 3\n",
      "{'_ExampleClass__first': 4} 3\n"
     ]
    }
   ],
   "source": [
    "class ExampleClass:\n",
    "    __counter = 0\n",
    "    def __init__(self, val = 1):\n",
    "        self.__first = val\n",
    "        ExampleClass.__counter += 1\n",
    "\n",
    "\n",
    "example_object_1 = ExampleClass()\n",
    "example_object_2 = ExampleClass(2)\n",
    "example_object_3 = ExampleClass(4)\n",
    "\n",
    "print(example_object_1.__dict__, example_object_1._ExampleClass__counter)\n",
    "print(example_object_2.__dict__, example_object_2._ExampleClass__counter)\n",
    "print(example_object_3.__dict__, example_object_3._ExampleClass__counter)\n"
   ]
  },
  {
   "cell_type": "markdown",
   "id": "e6058cb2",
   "metadata": {},
   "source": [
    "### Sınıf Değişkenleri: Devam\n",
    "\n",
    "Daha önce, sınıf değişkenlerinin, sınıfın herhangi bir örneği (nesnesi) oluşturulmamış olsa bile var olduğunu söylemiştik.\n",
    "\n",
    "Şimdi, bu iki `__dict__` değişkeni arasındaki farkı göstereceğiz: biri sınıftan, diğeri nesneden gelen.\n",
    "\n",
    "Aşağıdaki koda bakın:"
   ]
  },
  {
   "cell_type": "code",
   "execution_count": 6,
   "id": "9fb206c3",
   "metadata": {},
   "outputs": [
    {
     "name": "stdout",
     "output_type": "stream",
     "text": [
      "{'__module__': '__main__', 'varia': 1, '__init__': <function ExampleClass.__init__ at 0x000001C21334E660>, '__dict__': <attribute '__dict__' of 'ExampleClass' objects>, '__weakref__': <attribute '__weakref__' of 'ExampleClass' objects>, '__doc__': None}\n",
      "\n",
      "{'__module__': '__main__', 'varia': 2, '__init__': <function ExampleClass.__init__ at 0x000001C21334E660>, '__dict__': <attribute '__dict__' of 'ExampleClass' objects>, '__weakref__': <attribute '__weakref__' of 'ExampleClass' objects>, '__doc__': None}\n",
      "\n",
      "{}\n"
     ]
    }
   ],
   "source": [
    "class ExampleClass:\n",
    "    varia = 1\n",
    "    def __init__(self, val):\n",
    "        ExampleClass.varia = val\n",
    "\n",
    "print(ExampleClass.__dict__)\n",
    "print()\n",
    "example_object = ExampleClass(2)\n",
    "\n",
    "print(ExampleClass.__dict__)\n",
    "print()\n",
    "print(example_object.__dict__)"
   ]
  },
  {
   "cell_type": "markdown",
   "id": "3673f26a",
   "metadata": {},
   "source": [
    "Detaylı inceleyelim:\n",
    "\n",
    "- `ExampleClass` adlı bir sınıf tanımladık.\n",
    "- Sınıf, `varia` adlı bir sınıf değişkeni tanımlar.\n",
    "- Sınıf yapıcısı (constructor), sınıf değişkenini verilen parametre değeri ile ayarlar.\n",
    "\n",
    "Bu örnekte değişkenin adlandırılması çok önemlidir çünkü:\n",
    "- Atamayı `self.varia = val` olarak değiştirmek, sınıf değişkeni ile aynı ada sahip bir örnek (instance) değişkeni oluşturur.\n",
    "- Atamayı `varia = val` olarak değiştirmek, yöntemin yerel değişkeni üzerinde işlem yapar. (Her iki durumu da test etmenizi öneririz - bu, farkı hatırlamanızı kolaylaştıracaktır.)\n",
    "\n",
    "Sınıfın dışındaki kodun ilk satırı, `ExampleClass.varia` özniteliğinin değerini yazdırır. Dikkat edin - bu değeri sınıfın ilk nesnesi oluşturulmadan önce kullanıyoruz.\n",
    "\n",
    "Gördüğünüz gibi, sınıfın `__dict__` değişkeni, nesnenin `__dict__` değişkeninden çok daha fazla veri içerir. Çoğu şu anda gereksizdir, ancak `varia` değişkeninin mevcut değerini dikkatlice kontrol etmenizi istiyoruz.\n",
    "\n",
    "Nesnenin `__dict__` değişkeninin boş olduğuna dikkat edin - nesnenin hiçbir örnek değişkeni yoktur."
   ]
  },
  {
   "cell_type": "code",
   "execution_count": 7,
   "id": "096f22db-9302-490d-b010-e43f66ee441f",
   "metadata": {},
   "outputs": [
    {
     "name": "stdout",
     "output_type": "stream",
     "text": [
      "{'__module__': '__main__', 'varia': 1, '__init__': <function ExampleClass.__init__ at 0x000001C21334E520>, '__dict__': <attribute '__dict__' of 'ExampleClass' objects>, '__weakref__': <attribute '__weakref__' of 'ExampleClass' objects>, '__doc__': None}\n",
      "\n",
      "{'__module__': '__main__', 'varia': 1, '__init__': <function ExampleClass.__init__ at 0x000001C21334E520>, '__dict__': <attribute '__dict__' of 'ExampleClass' objects>, '__weakref__': <attribute '__weakref__' of 'ExampleClass' objects>, '__doc__': None}\n",
      "\n",
      "{'varia': 2}\n"
     ]
    }
   ],
   "source": [
    "class ExampleClass:\n",
    "    varia = 1\n",
    "    def __init__(self, val):\n",
    "        self.varia = val\n",
    "\n",
    "print(ExampleClass.__dict__)\n",
    "print()\n",
    "example_object = ExampleClass(2)\n",
    "\n",
    "print(ExampleClass.__dict__)\n",
    "print()\n",
    "print(example_object.__dict__)"
   ]
  },
  {
   "cell_type": "markdown",
   "id": "dc14c0c8-8c20-4731-b42f-c78bc39181f6",
   "metadata": {},
   "source": [
    "Ancak, varia isimli değişkeni objeyi nitelendiren self anahtar kelimesi ile beraber kullandığımızda, example_object objesinin içerisinde oluşan varia isimli değişkene ulaşabiliriz."
   ]
  },
  {
   "cell_type": "markdown",
   "id": "f4724bce-9de0-4d44-a5e8-60df687ba328",
   "metadata": {},
   "source": [
    "### Bir Özelliğin Varlığını Kontrol Etme\n",
    "\n",
    "Python'un nesne başlatmaya (instantiation) yaklaşımı önemli bir hususu ortaya çıkarır: diğer programlama dillerinden farklı olarak, aynı sınıfa ait tüm nesnelerin aynı özellik setlerine sahip olmasını bekleyemezsiniz.\n",
    "\n",
    "Aşağıdaki örneği göz önünde bulundurun:"
   ]
  },
  {
   "cell_type": "code",
   "execution_count": 8,
   "id": "3b74dcbf",
   "metadata": {},
   "outputs": [
    {
     "name": "stdout",
     "output_type": "stream",
     "text": [
      "1\n"
     ]
    },
    {
     "ename": "AttributeError",
     "evalue": "'ExampleClass' object has no attribute 'b'",
     "output_type": "error",
     "traceback": [
      "\u001b[1;31m---------------------------------------------------------------------------\u001b[0m",
      "\u001b[1;31mAttributeError\u001b[0m                            Traceback (most recent call last)",
      "Cell \u001b[1;32mIn[8], line 11\u001b[0m\n\u001b[0;32m      8\u001b[0m example_object \u001b[38;5;241m=\u001b[39m ExampleClass(\u001b[38;5;241m1\u001b[39m)\n\u001b[0;32m     10\u001b[0m \u001b[38;5;28mprint\u001b[39m(example_object\u001b[38;5;241m.\u001b[39ma)\n\u001b[1;32m---> 11\u001b[0m \u001b[38;5;28mprint\u001b[39m(example_object\u001b[38;5;241m.\u001b[39mb)\n",
      "\u001b[1;31mAttributeError\u001b[0m: 'ExampleClass' object has no attribute 'b'"
     ]
    }
   ],
   "source": [
    "class ExampleClass:\n",
    "    def __init__(self, val):\n",
    "        if val % 2 != 0:\n",
    "            self.a = 1\n",
    "        else:\n",
    "            self.b = 1\n",
    "\n",
    "example_object = ExampleClass(1)\n",
    "\n",
    "print(example_object.a)\n",
    "print(example_object.b)"
   ]
  },
  {
   "cell_type": "markdown",
   "id": "ece37464",
   "metadata": {},
   "source": [
    "Yapıcı tarafından oluşturulan nesne, yalnızca iki olası özellikten birine sahip olabilir: `a` veya `b`.\n",
    "\n",
    "Kodu çalıştırmak şu çıktıyı üretecektir:\n",
    "\n",
    "```\n",
    "1\n",
    "Traceback (most recent call last):\n",
    "  File \".main.py\", line 11, in \n",
    "    print(example_object.b)\n",
    "AttributeError: 'ExampleClass' object has no attribute 'b'\n",
    "```\n",
    "\n",
    "Görüldüğü gibi, var olmayan bir nesne (veya sınıf) özelliğine erişmeye çalışmak bir `AttributeError` istisnası ile sonuçlanır."
   ]
  },
  {
   "cell_type": "markdown",
   "id": "76e299a2",
   "metadata": {},
   "source": [
    "### Bir Özelliğin Varlığını Kontrol Etme: Devam\n",
    "\n",
    "Try-except ifadesi, var olmayan özelliklerle ilgili sorunları önlemenizi sağlar.\n",
    "\n",
    "Bu basit - aşağıdaki koda bakın:"
   ]
  },
  {
   "cell_type": "code",
   "execution_count": null,
   "id": "7326ce74",
   "metadata": {},
   "outputs": [],
   "source": [
    "class ExampleClass:\n",
    "    def __init__(self, val):\n",
    "        if val % 2 != 0:\n",
    "            self.a = 1\n",
    "        else:\n",
    "            self.b = 1\n",
    "\n",
    "example_object = ExampleClass(1)\n",
    "\n",
    "try:\n",
    "    print(example_object.a)\n",
    "    print(example_object.b)\n",
    "except AttributeError as e:\n",
    "    print(e)\n"
   ]
  },
  {
   "cell_type": "markdown",
   "id": "2834a24f",
   "metadata": {},
   "source": [
    "Gördüğünüz gibi, bu yöntem çok karmaşık değildir. Temelde sorunu halının altına süpürdük.\n",
    "\n",
    "Neyse ki, bu sorunu ele almanın başka bir yolu daha var.\n",
    "\n",
    "Python, herhangi bir nesne/sınıfın belirli bir özelliğe sahip olup olmadığını güvenli bir şekilde kontrol edebilen bir fonksiyon sağlar. Bu fonksiyonun adı `hasattr` ve iki argüman bekler:\n",
    "\n",
    "1. Kontrol edilen sınıf veya nesne.\n",
    "2. Varlığı doğrulanması gereken özelliğin adı (not: bu, yalnızca adın kendisi değil, özelliğin adını içeren bir dize olmalıdır).\n",
    "\n",
    "Fonksiyon `True` veya `False` döner.\n",
    "\n",
    "İşte nasıl kullanabileceğiniz:"
   ]
  },
  {
   "cell_type": "code",
   "execution_count": 9,
   "id": "b0af7b83",
   "metadata": {},
   "outputs": [
    {
     "name": "stdout",
     "output_type": "stream",
     "text": [
      "1\n"
     ]
    }
   ],
   "source": [
    "class ExampleClass:\n",
    "    def __init__(self, val):\n",
    "        if val % 2 != 0:\n",
    "            self.a = 1\n",
    "        else:\n",
    "            self.b = 1\n",
    "\n",
    "example_object = ExampleClass(1)\n",
    "print(example_object.a)\n",
    "\n",
    "if hasattr(example_object, 'b'):\n",
    "    print(example_object.b)\n"
   ]
  },
  {
   "cell_type": "markdown",
   "id": "44562570",
   "metadata": {},
   "source": [
    "Bu şekilde, bir özelliğe erişmeden önce onun varlığını güvenli bir şekilde kontrol edebilirsiniz."
   ]
  },
  {
   "cell_type": "markdown",
   "id": "76637949",
   "metadata": {},
   "source": [
    "Bir niteliğin varlığını kontrol etme: devam\n",
    "\n",
    "Unutmayın, `hasattr()` fonksiyonu sınıflar üzerinde de çalışabilir. Bu, bir sınıf değişkeninin mevcut olup olmadığını kontrol etmenize olanak tanır, editördeki örnekte olduğu gibi.\n",
    "\n",
    "Fonksiyon, belirtilen sınıfın verilen niteliği içeriyorsa `True`, aksi takdirde `False` döner.\n",
    "\n",
    "Kodun çıktısını tahmin edebilir misiniz? Tahminlerinizi kontrol etmek için çalıştırın.\n",
    "\n",
    "İşte başka bir örnek - aşağıdaki koda bakın ve çıktısını tahmin etmeye çalışın:"
   ]
  },
  {
   "cell_type": "code",
   "execution_count": 10,
   "id": "d57362f6",
   "metadata": {},
   "outputs": [
    {
     "name": "stdout",
     "output_type": "stream",
     "text": [
      "True\n",
      "True\n",
      "False\n",
      "True\n"
     ]
    }
   ],
   "source": [
    "class ExampleClass:\n",
    "    a = 1\n",
    "    def __init__(self):\n",
    "        self.b = 2\n",
    "\n",
    "example_object = ExampleClass()\n",
    "\n",
    "print(hasattr(example_object, 'b'))\n",
    "print(hasattr(example_object, 'a'))\n",
    "print(hasattr(ExampleClass, 'b'))\n",
    "print(hasattr(ExampleClass, 'a'))"
   ]
  },
  {
   "cell_type": "markdown",
   "id": "24868da7",
   "metadata": {},
   "source": [
    "Tahminleriniz doğru mu? Kontrol etmek için kodu çalıştırın.\n",
    "\n",
    "Bu bölümün sonuna geldik. Bir sonraki bölümde, nesneleri harekete geçiren ve işlevsel hale getiren metodlardan bahsedeceğiz."
   ]
  },
  {
   "cell_type": "code",
   "execution_count": 11,
   "id": "546619d7",
   "metadata": {},
   "outputs": [
    {
     "name": "stdout",
     "output_type": "stream",
     "text": [
      "True\n",
      "False\n"
     ]
    }
   ],
   "source": [
    "class ExampleClass:\n",
    "    attr = 1\n",
    "\n",
    "\n",
    "print(hasattr(ExampleClass, 'attr'))\n",
    "print(hasattr(ExampleClass, 'prop'))\n"
   ]
  },
  {
   "cell_type": "markdown",
   "id": "558ab5e3",
   "metadata": {},
   "source": [
    "### Önemli Noktalar\n",
    "\n",
    "1. **Örnek Değişkenleri**\n",
    "   - Bir örnek değişkeni, varlığı bir nesnenin oluşturulmasına bağlı olan bir özelliktir. Her nesne, benzersiz bir örnek değişkenleri setine sahip olabilir.\n",
    "   - Örnek değişkenleri, nesnelerin yaşam döngüsü boyunca eklenebilir ve kaldırılabilir. Her nesne içinde özel bir sözlük olan `__dict__` içinde saklanırlar.\n",
    "\n",
    "2. **Özel Örnek Değişkenleri**\n",
    "   - Bir örnek değişkeni, adının çift alt çizgi (`__`) ile başlamasıyla özel hale getirilebilir. Ancak, bu özellik sınıf dışından hala `_ClassName__PrivatePropertyName` biçiminde oluşturulan karmaşık bir ad kullanılarak erişilebilir.\n",
    "\n",
    "3. **Sınıf Değişkenleri**\n",
    "   - Bir sınıf değişkeni, tek bir kopya halinde var olan ve bir nesne oluşturulmadan erişilebilen bir özelliktir. Bu değişkenler, örneklerin `__dict__` içeriğinde gösterilmez.\n",
    "   - Tüm sınıf değişkenleri, her sınıf içinde ayrı ayrı tutulan `__dict__` adında özel bir sözlük içinde saklanır.\n",
    "\n",
    "4. **`hasattr()` Fonksiyonunu Kullanma**\n",
    "   - `hasattr()` fonksiyonu, bir nesne veya sınıfın belirli bir özelliği içerip içermediğini kontrol etmek için kullanılabilir.\n",
    "\n",
    "#### Örnek:\n",
    "\n",
    "```python\n",
    "class Sample:\n",
    "    gamma = 0  # Sınıf değişkeni.\n",
    "    def __init__(self):\n",
    "        self.alpha = 1  # Örnek değişkeni.\n",
    "        self.__delta = 3  # Özel örnek değişkeni.\n",
    "\n",
    "obj = Sample()\n",
    "obj.beta = 2  # Başka bir örnek değişkeni (sadece \"obj\" örneği içinde mevcut).\n",
    "print(obj.__dict__)\n",
    "```\n",
    "\n",
    "Kodun çıktısı:\n",
    "\n",
    "```python\n",
    "{'alpha': 1, '_Sample__delta': 3, 'beta': 2}\n",
    "```"
   ]
  }
 ],
 "metadata": {
  "kernelspec": {
   "display_name": "Python 3 (ipykernel)",
   "language": "python",
   "name": "python3"
  },
  "language_info": {
   "codemirror_mode": {
    "name": "ipython",
    "version": 3
   },
   "file_extension": ".py",
   "mimetype": "text/x-python",
   "name": "python",
   "nbconvert_exporter": "python",
   "pygments_lexer": "ipython3",
   "version": "3.11.7"
  }
 },
 "nbformat": 4,
 "nbformat_minor": 5
}
