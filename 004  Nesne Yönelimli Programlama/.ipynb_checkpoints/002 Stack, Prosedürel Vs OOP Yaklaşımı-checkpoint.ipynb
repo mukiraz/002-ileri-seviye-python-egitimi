{
 "cells": [
  {
   "cell_type": "markdown",
   "id": "867dc39d-1c56-4760-a1f7-978065ce223b",
   "metadata": {},
   "source": [
    "### Yığın (Stack) nedir?\n",
    "\n",
    "Yığın, verileri belirli bir şekilde depolamak için tasarlanmış bir veri yapısıdır. Bir madeni para yığını hayal edin: Bir madeni parayı yalnızca yığının en üstüne yerleştirebilirsiniz ve bir madeni parayı yalnızca üst kısımdan çıkarabilirsiniz. Alttaki paraya erişmek için öncelikle üstündeki tüm paraları kaldırmanız gerekir.\n",
    "\n",
    "BT terminolojisinde yığın, Son Giren İlk Çıkar anlamına gelen LIFO olarak da bilinir. Bu, en son eklenen öğenin ilk kaldırılacak öğe olduğu anlamına gelir.\n",
    "\n",
    "Bir yığın iki temel işlemi destekler:\n",
    "- **Push**: Yığının en üstüne yeni bir öğe ekleme.\n",
    "- **Pop**: Üstteki öğe yığından kaldırılıyor.\n",
    "\n",
    "Yığınlar birçok klasik algoritmada sıklıkla kullanılır ve çeşitli araçların uygulanmasında gereklidir.\n",
    "\n",
    "### Yığın Kavramı\n",
    "\n",
    "Hem prosedür hem de nesne yönelimli yaklaşımları kullanarak Python'da basit bir yığın uygulayalım. Prosedürel yaklaşımla başlayacağız."
   ]
  },
  {
   "attachments": {
    "789dac9f-5eed-492c-aeee-ff911b507eb0.png": {
     "image/png": "[encoded data removed]"
    }
   },
   "cell_type": "markdown",
   "id": "27fa9a58-2426-454d-88b0-abb5e10ea03a",
   "metadata": {},
   "source": [
    "![image.png](attachment:789dac9f-5eed-492c-aeee-ff911b507eb0.png)"
   ]
  },
  {
   "cell_type": "markdown",
   "id": "31f0c951-0b03-42b1-87bf-3036f2a80652",
   "metadata": {},
   "source": [
    "### Yığın - Prosedürel Yaklaşım\r\n",
    "\r\n",
    "Öncelikle stack'e eklenecek değerlerin nasıl saklanacağına karar verin. En basit yöntem bir liste kullanmaktır. Yığının boyut sınırı olmadığını ve yığının en üst öğesinin listenin son öğesi olduğunu varsayacağız.\r\n",
    "\r\n",
    "Yığını oluşturmak için şunu kullanın:"
   ]
  },
  {
   "cell_type": "code",
   "execution_count": 1,
   "id": "b70fb428-e5bd-4aff-a3ae-bf555ec53861",
   "metadata": {},
   "outputs": [],
   "source": [
    "stack = []"
   ]
  },
  {
   "cell_type": "markdown",
   "id": "0e6fe438-c5b0-47c6-a0b4-78b1dec4d436",
   "metadata": {},
   "source": [
    "Şimdi yığına değer ekleyecek bir fonksiyon tanımlayalım:\n",
    "\n",
    "- Fonksiyonun adı 'Push'.\n",
    "- Bir parametre (yığına eklenecek değer) alır.\n",
    "- Hiçbir şey döndürmez.\n",
    "- Parametrenin değerini yığının sonuna ekler.\n",
    "\n",
    "İşte uygulama:"
   ]
  },
  {
   "cell_type": "code",
   "execution_count": 2,
   "id": "ce05cfd1-9c03-41cb-bdf8-e8d98fa83d27",
   "metadata": {},
   "outputs": [],
   "source": [
    "def push(val):\n",
    "    stack.append(val)\n"
   ]
  },
  {
   "cell_type": "markdown",
   "id": "b8a190e9-a4dd-4b27-b99b-a8e944577fe8",
   "metadata": {},
   "source": [
    "Next, we'll define a function to remove a value from the stack:\r\n",
    "\r\n",
    "- The function is named `pop`.\r\n",
    "- It takes no parameters.\r\n",
    "- It returns the value removed from the stack.\r\n",
    "- It reads and removes the value from the top of the stack.\r\n",
    "\r\n",
    "Here's the implementation:\r\n"
   ]
  },
  {
   "cell_type": "code",
   "execution_count": 3,
   "id": "1bc3b434-381a-4548-94da-634440afead0",
   "metadata": {},
   "outputs": [],
   "source": [
    "def pop():\n",
    "    val = stack[-1]\n",
    "    del stack[-1]\n",
    "    return val\n"
   ]
  },
  {
   "cell_type": "markdown",
   "id": "0cbe7031-e040-4d3a-b5d2-41776dcc964c",
   "metadata": {},
   "source": [
    "**Not:** İşlev, yığının boş olup olmadığını kontrol etmez.\r\n",
    "\r\n",
    "Son olarak, yığının nasıl çalıştığını göstermek için her şeyi birleştirelim. Programın tamamı yığına üç sayıyı iter, onları çıkarır ve değerlerini yazdırır:"
   ]
  },
  {
   "cell_type": "code",
   "execution_count": 4,
   "id": "ea8da9e8-0b7f-4fbc-96ae-092db77daf21",
   "metadata": {},
   "outputs": [
    {
     "name": "stdout",
     "output_type": "stream",
     "text": [
      "3\n",
      "2\n",
      "1\n"
     ]
    }
   ],
   "source": [
    "stack = []\n",
    "\n",
    "def push(val):\n",
    "    stack.append(val)\n",
    "\n",
    "def pop():\n",
    "    val = stack[-1]\n",
    "    del stack[-1]\n",
    "    return val\n",
    "\n",
    "# Example usage:\n",
    "push(1)\n",
    "push(2)\n",
    "push(3)\n",
    "\n",
    "print(pop())\n",
    "print(pop())\n",
    "print(pop())\n"
   ]
  },
  {
   "cell_type": "markdown",
   "id": "3c78c71f-e8e1-4bd3-a556-0273817edeba",
   "metadata": {},
   "source": [
    "### Yığın: Prosedürel Yaklaşım vs. Nesne Yönelimli Yaklaşım\n",
    "\n",
    "Prosedürel yığın artık hazır. Bazı zayıf yönler ve geliştirme alanları (örneğin hata işleme için istisnaların kullanılması) olsa da, yığın tamamen uygulanmış durumda ve gerektiğinde kullanılabilir.\n",
    "\n",
    "Ancak, yığını ne kadar çok kullanırsanız, o kadar çok dezavantajını fark edeceksiniz:\n",
    "\n",
    "1. **Güvenlik Açığı**: Yığın listesi oldukça savunmasızdır. Herhangi biri istemeden onu değiştirebilir ve bu da yığını bozabilir. Örneğin, aşağıdaki gibi basit bir hata sorunlara yol açabilir:\n",
    "    ```python\n",
    "    stack[0] = 0\n",
    "    ```\n",
    "\n",
    "2. **Birden Fazla Yığın**: Birden fazla yığına ihtiyacınız varsa, her biri için ek listeler ve karşılık gelen push ve pop fonksiyonları oluşturmanız gerekecektir.\n",
    "\n",
    "3. **Ek Fonksiyonlar**: Yığın için ek işlevler gerekirse, bunları ayrı ayrı uygulamanız gerekecektir ki bu, birden fazla yığınınız varsa zahmetli hale gelebilir.\n",
    "\n",
    "Nesne yönelimli yaklaşım bu sorunları şu şekilde çözer:\n",
    "\n",
    "1. **Kapsülleme**: Bu, belirli değerleri yetkisiz erişimden gizlemenize ve korumanıza olanak tanır, böylece bu değerler yalnızca kontrol edilen yollarla değiştirilebilir.\n",
    "\n",
    "2. **Birden Fazla Örnek**: Yığın davranışlarını uygulayan bir sınıf ile, kodu kopyalamadan ihtiyacınız kadar yığın örneği oluşturabilirsiniz.\n",
    "\n",
    "3. **Kalıtım**: Üst sınıftan mevcut özellikleri devralan ve yeni özellikler ekleyen bir alt sınıf oluşturarak yığının işlevselliğini genişletebilirsiniz.\n",
    "\n",
    "### Yığını Uygulama: Prosedürel vs. Nesne Yönelimli Yaklaşım\n",
    "\n",
    "Şimdi, sizi adım adım nesne yönelimli programlama dünyasına yönlendirerek nesne yönelimli yaklaşımı kullanarak yeni bir yığın uygulaması yapalım."
   ]
  },
  {
   "cell_type": "markdown",
   "id": "c31758a2-9aae-4e2f-a83e-1d832baa44de",
   "metadata": {},
   "source": [
    "### Yığın - Nesneye Dayalı Yaklaşım\n",
    "\n",
    "Ana fikir aynı: yığının elemanlarını saklamak için bir liste kullanacağız. Buradaki zorluk bu listeyi bir sınıf içinde kapsüllemektir.\n",
    "\n",
    "Sıfırdan başlayalım. Yığın sınıfını şu şekilde tanımlayabilirsiniz:\n",
    "\n",
    "```python\r\n",
    "class Stack:\r\n",
    "    pass\r\n",
    "```\n",
    "\n",
    "Bu sınıftan iki şey bekliyoruz:\n",
    "\n",
    "1. **Depolama Özelliği**: Sınıfın, yığının öğelerini saklayacak bir listesi olmalıdır. Sınıfın her nesnesinin kendi listesi olmalıdır; liste farklı yığın örnekleri arasında paylaşılmamalıdır.\n",
    "2. **Kapsülleme**: Liste, sınıfın kullanıcılarından gizlenmelidir.\n",
    "\n",
    "Python'da diğer programlama dillerinde olduğu gibi böyle bir özelliği doğrudan bildiremezsiniz. Bunun yerine, özellikleri sınıfa manuel olarak eklemek için belirli bir ifade veya talimat eklemeniz gerekir.\n",
    "\n",
    "Her yeni yığın nesnesi başlatıldığında listenin oluşturulduğundan emin olmak için yapıcı olarak bilinen özel bir işlevi kullanmamız gerekir. Yapıcının ikili bir amacı vardır:\n",
    "\n",
    "1. Belirli bir şekilde adlandırılmalıdır.\n",
    "2. Yeni bir nesne oluşturulduğunda otomatik olarak çağrılır.\n",
    "\n",
    "Yapıcının görevi, gerekli tüm özellikleri başlatarak yeni nesneyi kurmaktır.\n",
    "\n",
    "Sınıfa basit bir kurucunun nasıl ekleneceği aşağıda açıklanmıştır:"
   ]
  },
  {
   "cell_type": "code",
   "execution_count": 5,
   "id": "cd1509ae-0cb4-4790-85a8-4f61dfdfd707",
   "metadata": {},
   "outputs": [
    {
     "name": "stdout",
     "output_type": "stream",
     "text": [
      "Hi!\n"
     ]
    }
   ],
   "source": [
    "class Stack:  # Defining the Stack class.\n",
    "    def __init__(self):  # Defining the constructor function.\n",
    "        print(\"Hi!\")\n",
    "\n",
    "\n",
    "stack_object = Stack()  # Instantiating the object."
   ]
  },
  {
   "cell_type": "markdown",
   "id": "1956dd42-4a0b-4b46-a764-6942610ac19a",
   "metadata": {},
   "source": [
    "Birkaç önemli nokta:\n",
    "\n",
    "- Yapıcı her zaman `__init__` olarak adlandırılır.\n",
    "- Genellikle \"self\" olarak adlandırılan en az bir parametreye sahip olmalıdır. Bu parametre, oluşturulan yeni nesneyi temsil eder ve onu değiştirmenize ve gerekli özellikleri eklemenize olanak tanır.\n",
    "\n",
    "Yukarıdaki kodu çalıştırmak çıktıyı verecektir:\n",
    "\n",
    "\r\n",
    "```\r\n",
    "Hi!\r\n",
    "```\n",
    "\n",
    "Kodda yapıcıya açık bir çağrı yapılmadığına dikkat edin; otomatik olarak çağrılır. Şimdi bu bilgiyi yığın uygulamamızı daha da geliştirmek için kullanalım."
   ]
  },
  {
   "cell_type": "markdown",
   "id": "42938e76-323d-4f25-837d-12788ddfe1d2",
   "metadata": {},
   "source": [
    "### Yığın – Nesneye Dayalı Yaklaşım: Devamı\r\n",
    "\r\n",
    "Yapıcı içinde yapılan ve 'self' parametresinin durumunu değiştiren herhangi bir değişiklik, yeni oluşturulan nesneye yansıtılacaktır.\r\n",
    "\r\n",
    "Bu, nesneye özellikler ekleyebileceğiniz anlamına gelir ve bu özellikler, nesne yok edilene veya özellik açıkça kaldırılana kadar kalacaktır.\r\n",
    "\r\n",
    "Yeni nesneye bir özellik ekleyelim: yığın görevi görecek bir liste. Buna 'stack_list' adını vereceğiz.\r\n",
    "\r\n",
    "Bunu nasıl yapacağınız aşağıda açıklanmıştır:"
   ]
  },
  {
   "cell_type": "code",
   "execution_count": 6,
   "id": "a95dacb1-20f2-4516-87ca-9761d1ba3516",
   "metadata": {},
   "outputs": [
    {
     "name": "stdout",
     "output_type": "stream",
     "text": [
      "0\n"
     ]
    }
   ],
   "source": [
    "class Stack:\n",
    "    def __init__(self):\n",
    "        self.stack_list = []\n",
    "\n",
    "\n",
    "stack_object = Stack()\n",
    "print(len(stack_object.stack_list))"
   ]
  },
  {
   "cell_type": "markdown",
   "id": "cc76fc0d-9516-466c-b041-0799559baf7a",
   "metadata": {},
   "source": [
    "**Notlar:**\r\n",
    "\r\n",
    "- Çağırma yöntemlerine benzer şekilde nokta gösterimi kullanıyoruz. Bu, bir nesnenin özelliklerine erişmenin standart yoludur: nesneyi adlandırın, bir nokta (.) ekleyin ve özelliğin adını belirtin. Bir özelliğe erişirken, bir yöntemi çağırmadığınız için parantez kullanmayın.\r\n",
    "- Bir özelliğin değerini ilk kez ayarladığınızda (yapıcıda olduğu gibi), özelliği yaratırsınız. Bu noktadan itibaren nesnenin özelliği vardır ve değerini kullanabilir.\r\n",
    "- Kodda, yığının mevcut uzunluğunu kontrol etmek için nesneyi oluşturduktan hemen sonra `stack_list` özelliğine sınıf dışından da eriştik.\r\n",
    "\r\n",
    "Bu, yığının başlangıçta boş olduğunu gösterir. Ancak biz 'stack_list'in dış dünyadan gizlenmesini istiyoruz. Mümkün mü?\r\n",
    "\r\n",
    "Evet, çok sezgisel olmasa da mümkün ve basittir."
   ]
  },
  {
   "cell_type": "markdown",
   "id": "4bd084a2-65c4-4256-b202-58e6ed7dbbc9",
   "metadata": {},
   "source": [
    "### Yığın – Nesneye Dayalı Yaklaşım: Devamı\n",
    "\n",
    "Şu değişikliğe bir göz atın: : `stack_list`en önce iki alt çizgi ekledik; başka bir şey yok:"
   ]
  },
  {
   "cell_type": "code",
   "execution_count": 7,
   "id": "2014e0c1-5688-4dd7-bc22-65a8c11171d8",
   "metadata": {},
   "outputs": [
    {
     "ename": "AttributeError",
     "evalue": "'Stack' object has no attribute '__stack_list'",
     "output_type": "error",
     "traceback": [
      "\u001b[1;31m---------------------------------------------------------------------------\u001b[0m",
      "\u001b[1;31mAttributeError\u001b[0m                            Traceback (most recent call last)",
      "Cell \u001b[1;32mIn[7], line 7\u001b[0m\n\u001b[0;32m      3\u001b[0m         \u001b[38;5;28mself\u001b[39m\u001b[38;5;241m.\u001b[39m__stack_list \u001b[38;5;241m=\u001b[39m []\n\u001b[0;32m      6\u001b[0m stack_object \u001b[38;5;241m=\u001b[39m Stack()\n\u001b[1;32m----> 7\u001b[0m \u001b[38;5;28mprint\u001b[39m(\u001b[38;5;28mlen\u001b[39m(stack_object\u001b[38;5;241m.\u001b[39m__stack_list))\n",
      "\u001b[1;31mAttributeError\u001b[0m: 'Stack' object has no attribute '__stack_list'"
     ]
    }
   ],
   "source": [
    "class Stack:\n",
    "    def __init__(self):\n",
    "        self.__stack_list = []\n",
    "\n",
    "\n",
    "stack_object = Stack()\n",
    "print(len(stack_object.__stack_list))"
   ]
  },
  {
   "cell_type": "markdown",
   "id": "b9e0158e-337f-4ef1-97ba-187a2f7d49d9",
   "metadata": {},
   "source": [
    "Bu değişiklik programı geçersiz kılar.\n",
    "\n",
    "**Neden?**\n",
    "\n",
    "Herhangi bir sınıf bileşeninin adı iki alt çizgiyle (__) başlarsa, özel olur. Bu, yalnızca sınıf içinden erişilebileceği anlamına gelir.\n",
    "\n",
    "Ona dış dünyadan erişemezsiniz. Python kapsülleme kavramını bu şekilde uygular.\n",
    "\n",
    "Bu varsayımı sınamak için programı çalıştırın; bir 'AttributeError' istisnası ortaya çıkmalıdır.\n",
    "\n",
    "Bu, `__stack_list`in gerçekten özel olduğunu ve sınıf dışından doğrudan erişilemeyeceğini doğrular. Bu Python'un kapsülleme yaklaşımının temel bir parçasıdır."
   ]
  },
  {
   "cell_type": "markdown",
   "id": "d9b17299-d91c-4ca6-80a7-84fc0c02808e",
   "metadata": {},
   "source": [
    "### Nesneye Dayalı Yaklaşım: Sıfırdan Yığın Oluşturmak\n",
    "\n",
    "Artık yığın sınıfımız için 'Push' ve 'pop' yöntemlerini uygulama zamanı. Python'da bu tür yöntemler (sınıf etkinlikleri), tıpkı yapıcı gibi, sınıf gövdesi içinde tanımlanmalıdır.\n",
    "\n",
    "Bu yöntemlerin, gizli olan listeden farklı olarak, sınıfın kullanıcıları tarafından erişilebilir olmasını istiyoruz. Bu nedenle bu yöntemler herkese açık olmalı, yani adları iki veya daha fazla alt çizgiyle başlamamalıdır. Ayrıca, yöntem adlarının sonunda birden fazla alt çizgi bulunmamalıdır.\n",
    "\n",
    "İşte yığın sınıfının `push` ve `pop` yöntemleriyle uygulanması:"
   ]
  },
  {
   "cell_type": "code",
   "execution_count": null,
   "id": "e368a5f9-690a-4738-b500-7323f707f9d1",
   "metadata": {},
   "outputs": [],
   "source": [
    "class Stack:\n",
    "    def __init__(self):\n",
    "        self.__stack_list = []\n",
    "\n",
    "\n",
    "    def push(self, val):\n",
    "        self.__stack_list.append(val)\n",
    "\n",
    "\n",
    "    def pop(self):\n",
    "        val = self.__stack_list[-1]\n",
    "        del self.__stack_list[-1]\n",
    "        return val\n",
    "\n",
    "\n",
    "stack_object = Stack()\n",
    "\n",
    "stack_object.push(3)\n",
    "stack_object.push(2)\n",
    "stack_object.push(1)\n",
    "\n",
    "print(stack_object.pop())\n",
    "print(stack_object.pop())\n",
    "print(stack_object.pop())\n"
   ]
  },
  {
   "cell_type": "markdown",
   "id": "77f387ab-ef2b-48ad-b68f-3edf1a2392a6",
   "metadata": {},
   "source": [
    "#### Açıklama\r\n",
    "\r\n",
    "- **Genel Yöntemler**: `push` ve `pop` genel yöntemlerdir, yani isimleri alt çizgi ile başlamaz. Bu, onların sınıf kullanıcıları tarafından erişilebilir olmasını sağlar.\r\n",
    "- **Self Parametresi**: Her iki yöntemde de `self` ilk parametre olarak yer alır. Bu gereklidir çünkü `self`, yöntemlerin ait oldukları örneğin özelliklerine ve diğer yöntemlerine erişmesini sağlar. Bir yöntem çağrıldığında, Python otomatik olarak mevcut örneği ilk argüman olarak iletir.\r\n",
    "- **Özel Özelliklere Erişim**: Yöntemler, özel `__stack_list` özelliğine `self.__stack_list` kullanarak erişir. Bu desen (`self.property_name`), yöntemlerin nesnenin özelliklerini değiştirmesine olanak tanır.\r\n",
    "\r\n",
    "### Özet\r\n",
    "\r\n",
    "- **Sınıf Tanımı**: Yığın sınıfı, özel `__stack_list` özelliğini başlatan bir yapıcı ile tanımlanmıştır.\r\n",
    "- **Push Yöntemi**: Yığına bir değer ekler.\r\n",
    "- **Pop Yöntemi**: Yığının en üstündeki değeri çıkarır ve döner.\r\n",
    "- **Kapsülleme**: `__stack_list` özelliği özeldir, bu da yalnızca `push` ve `pop` yöntemleri aracılığıyla değiştirilmesini sağlar ve kapsülleme sağlar.\r\n",
    "\r\n",
    "Bu yapıyla, yığın sınıfımız artık tam işlevsel ve kullanıma hazırdır, kapsülleme ve yeniden kullanılabilirlik gibi nesne yönelimli yaklaşımın faydalarını gösterir."
   ]
  },
  {
   "cell_type": "markdown",
   "id": "69bed696-90b3-4927-b945-a4f24ec0d947",
   "metadata": {},
   "source": [
    "### Nesne Yönelimli Yaklaşım: Baştan Bir Yığın Oluşturma\n",
    "\n",
    "Böyle bir sınıfa sahip olmak, bazı yeni olanaklar açar. Örneğin, artık aynı şekilde davranan birden fazla yığına sahip olabilirsiniz. Her yığının kendi özel verileri olacak, ancak aynı yöntemler setini kullanacaktır.\n",
    "\n",
    "Bu örnek için tam olarak istediğimiz budur.\n",
    "\n",
    "Kodu analiz edin:"
   ]
  },
  {
   "cell_type": "code",
   "execution_count": 8,
   "id": "177848b7-78eb-4a06-8b8f-8ca976ad0169",
   "metadata": {},
   "outputs": [
    {
     "name": "stdout",
     "output_type": "stream",
     "text": [
      "3\n"
     ]
    }
   ],
   "source": [
    "class Stack:\n",
    "    def __init__(self):\n",
    "        self.__stack_list = []\n",
    "\n",
    "    def push(self, val):\n",
    "        self.__stack_list.append(val)\n",
    "\n",
    "    def pop(self):\n",
    "        val = self.__stack_list[-1]\n",
    "        del self.__stack_list[-1]\n",
    "        return val\n",
    "\n",
    "\n",
    "stack_object_1 = Stack()\n",
    "stack_object_2 = Stack()\n",
    "\n",
    "stack_object_1.push(3)\n",
    "stack_object_2.push(stack_object_1.pop())\n",
    "\n",
    "print(stack_object_2.pop())\n"
   ]
  },
  {
   "cell_type": "markdown",
   "id": "1a8facd2-798a-4324-a443-0d5e07957523",
   "metadata": {},
   "source": [
    "Aynı taban sınıftan oluşturulmuş iki yığın vardır. Bağımsız olarak çalışırlar. İsterseniz daha fazlasını yapabilirsiniz."
   ]
  },
  {
   "cell_type": "markdown",
   "id": "0988b396-0702-4714-aa9b-907d9924a72f",
   "metadata": {},
   "source": [
    "### Nesne yaklaşımı: sıfırdan bir yığın (devamı)\n",
    "\n",
    "Aşağıdaki parçayı analiz edin; `Stack` sınıfının üç nesnesini oluşturduk. Daha sonra bunları bir araya getirdik. Ekrana çıkan değeri tahmin etmeye çalışın."
   ]
  },
  {
   "cell_type": "code",
   "execution_count": 9,
   "id": "50c86235-6aa7-47da-a338-b5946639a078",
   "metadata": {},
   "outputs": [
    {
     "name": "stdout",
     "output_type": "stream",
     "text": [
      "0\n"
     ]
    }
   ],
   "source": [
    "class Stack:\n",
    "    def __init__(self):\n",
    "        self.__stack_list = []\n",
    "\n",
    "    def push(self, val):\n",
    "        self.__stack_list.append(val)\n",
    "\n",
    "    def pop(self):\n",
    "        val = self.__stack_list[-1]\n",
    "        del self.__stack_list[-1]\n",
    "        return val\n",
    "\n",
    "\n",
    "little_stack = Stack()\n",
    "another_stack = Stack()\n",
    "funny_stack = Stack()\n",
    "\n",
    "little_stack.push(1)\n",
    "another_stack.push(little_stack.pop() + 1)\n",
    "funny_stack.push(another_stack.pop() - 2)\n",
    "\n",
    "print(funny_stack.pop())"
   ]
  },
  {
   "cell_type": "markdown",
   "id": "bd147aa5-cc3b-44bb-aa57-94c43e4d38e6",
   "metadata": {},
   "source": [
    "### Nesneye Dayalı Yaklaşım: Sıfırdan Bir Yığın (Devam)\n",
    "\n",
    "Şimdi yığınları işlemek için ek işlevlere sahip yeni bir sınıf oluşturarak yığınımızı geliştirelim. Özellikle, bu yeni sınıfın halihazırda yığında depolanan tüm öğelerin toplamını değerlendirebilmesini istiyoruz.\n",
    "\n",
    "Mevcut `Stack` sınıfını değiştirmek istemiyoruz çünkü o zaten amaçlanan uygulamalar için işlevseldir. Bunun yerine yeni yeteneklere sahip bir alt sınıf oluşturacağız.\n",
    "\n",
    "İlk adım basittir: 'Stack' sınıfından miras alan yeni bir alt sınıf tanımlayın.\n",
    "\n",
    "İşte nasıl göründüğü:"
   ]
  },
  {
   "cell_type": "code",
   "execution_count": 10,
   "id": "0b256ac5-2746-49f2-9941-94865369940f",
   "metadata": {},
   "outputs": [],
   "source": [
    "class AddingStack(Stack):\n",
    "    pass"
   ]
  },
  {
   "cell_type": "markdown",
   "id": "fa781156-df86-478f-8cb7-4e09cb2eb87f",
   "metadata": {},
   "source": [
    "Yeni sınıf henüz herhangi bir yeni bileşen tanımlamaz, ancak tüm bileşenleri kendi üst sınıfından (\"Yığın\") miras alır. Üst sınıfın adı, yeni sınıf adının ardından iki nokta üst üste işaretinden sonra gelir.\n",
    "\n",
    "### Yeni Yığın için İstenilen İşlevsellik\n",
    "\n",
    "1. **Gelişmiş İtme Yöntemi**: `Push` yöntemi, değeri yalnızca yığına değil aynı zamanda bir `sum' değişkenine de eklemelidir.\n",
    "2. **Gelişmiş Pop Yöntemi**: `pop` yöntemi yalnızca değeri yığından kaldırmakla kalmamalı, aynı zamanda onu 'sum' değişkeninden de çıkarmalıdır.\n",
    "\n",
    "### Toplam Değişkenini Ekleme\n",
    "\n",
    "Toplamı saklamak için sınıfa yeni bir özel değişken ekleyeceğiz. Yığın listesi gibi, bu değişken de harici manipülasyonu önlemek için özel olmalıdır.\n",
    "\n",
    "Bildiğiniz gibi Constructor üzerinden yeni özellikler ekleniyor. İşte bunu nasıl yapıyoruz:"
   ]
  },
  {
   "cell_type": "code",
   "execution_count": 11,
   "id": "db4193df-b812-4035-bfab-01849c33aaf3",
   "metadata": {},
   "outputs": [],
   "source": [
    "class AddingStack(Stack):\n",
    "    def __init__(self):\n",
    "        Stack.__init__(self)\n",
    "        self.__sum = 0"
   ]
  },
  {
   "cell_type": "markdown",
   "id": "12fe28c7-c0ed-4c62-b186-f7956b44761a",
   "metadata": {},
   "source": [
    "### Açıklama\n",
    "\n",
    "- **Süper Sınıf Oluşturucusunu Çağırmak**: `Stack.__init__(self)' satırı açıkça üst sınıfın yapıcısını çağırır. Bu Python'da gereklidir çünkü '__stack_list'in düzgün şekilde başlatılmasını sağlar. Bu çağrı olmasaydı, yeni yığın nesnesinin '__stack_list' listesi eksik olurdu ve bu da onun arızalanmasına neden olurdu.\n",
    "\n",
    " Sözdizimi:\n",
    " - Üst sınıf adını belirtin (\"Yığın\").\n",
    " - Ondan sonra nokta (`.`) koyun.\n",
    " - Yapıcı adını belirtin (`__init__`).\n",
    " - Nesne örneğini (\"self\") yapıcıya argüman olarak iletin.\n",
    "\n",
    "- **Sum Özelliğini Eklemek**: `self.__sum = 0`, yığındaki tüm değerlerin toplamını saklayacak toplam değişkenini başlatır.\n",
    "\n",
    "### Önerilen Uygulama\n",
    "\n",
    "Alt sınıfta herhangi bir başlatma işlemi gerçekleştirmeden önce genellikle üst sınıf yapıcısının çağrılması önerilir. Bu, alt sınıfa özgü özellikler veya yöntemler eklenmeden önce temel sınıfın doğru şekilde kurulmasını sağlar.\n",
    "\n",
    "Geliştirilmiş \"Push\" ve \"pop\" yöntemleriyle güncellenmiş sınıf tanımı aşağıda verilmiştir:"
   ]
  },
  {
   "cell_type": "code",
   "execution_count": 12,
   "id": "6608d6e1-7b36-4786-8094-ede07706d738",
   "metadata": {},
   "outputs": [],
   "source": [
    "class Stack:\n",
    "    def __init__(self):\n",
    "        self.__stack_list = []\n",
    "\n",
    "    def push(self, val):\n",
    "        self.__stack_list.append(val)\n",
    "\n",
    "    def pop(self):\n",
    "        val = self.__stack_list[-1]\n",
    "        del self.__stack_list[-1]\n",
    "        return val\n",
    "\n",
    "\n",
    "class AddingStack(Stack):\n",
    "    def __init__(self):\n",
    "        Stack.__init__(self)\n",
    "        self.__sum = 0"
   ]
  },
  {
   "cell_type": "markdown",
   "id": "a945be6f-653c-4d1d-bcef-9fcecac022f9",
   "metadata": {},
   "source": [
    "Bu, mevcut yapıcılardan herhangi birini açıkça çağırabileceğiniz tek zamandır ve bunun alt sınıfın yapıcısı içinde yapılması gerekir.\n",
    "\n",
    "Sözdizimine dikkat edin:\n",
    "\n",
    "- Üst sınıfın adını belirtin (kurucusunu çağırmak istediğiniz sınıf).\n",
    "- Ondan sonra nokta (`.`) ekleyin.\n",
    "- Yapıcının adını belirtin.\n",
    "- Yapıcı tarafından başlatılacak nesneyi (sınıf örneği) iletin. Bu, argümanın belirtilmesini ve `self` değişkeninin kullanılmasını gerektirir. Not: Sınıfın dışından herhangi bir yöntemin (kurucular dahil) çağrılması, hiçbir zaman argüman listesine `self` argümanının eklenmesini gerektirmez. Bununla birlikte, sınıf içinden bir yöntemin çağrılması, listede ilk sıraya yerleştirilmesi gereken `self` argümanının açık bir şekilde kullanılmasını gerektirir.\n",
    "\n",
    "**Not:** Alt sınıf içinde başka herhangi bir başlatma işlemi gerçekleştirmeden önce genellikle üst sınıfın yapıcısının çağrılması önerilir. Bu uygulama, kurulumun doğru yapılmasını sağlar ve verilen örnekte izlenen kuraldır."
   ]
  },
  {
   "cell_type": "markdown",
   "id": "ae8199a3-5342-4e3d-90f5-b4bd4874f2e5",
   "metadata": {},
   "source": [
    "### Nesne Yönelimli Yaklaşım: Baştan Bir Yığın Oluşturma (Devamı)\r\n",
    "\r\n",
    "Şimdi iki yöntem ekleyelim. Ama gerçekten eklemek mi? Bu yöntemler zaten üst sınıfta var. Böyle bir şey yapabilir miyiz?\r\n",
    "\r\n",
    "Evet, yapabiliriz. Bu, yöntemlerin adlarını değil işlevselliklerini değiştireceğimiz anlamına gelir. Daha kesin bir şekilde söylemek gerekirse, sınıfın arayüzü (nesnelerin nasıl kullanıldığı) aynı kalırken, uygulama aynı anda değişir.\r\n",
    "\r\n",
    "Öncelikle `push` yönteminin uygulanmasına bakalım. Bu yöntemden beklediğimiz:\r\n",
    "\r\n",
    "- Değeri `__sum` değişkenine eklemek;\r\n",
    "- Değeri yığına itmek.\r\n",
    "\r\n",
    "Not: İkinci işlem zaten üst sınıfta uygulanmıştır, bu yüzden onu kullanmalıyız, çünkü `__stack_list` değişkenine erişmenin başka bir yolu yoktur.\r\n",
    "\r\n",
    "Alt sınıftaki `push` yöntemi şöyle görünür:"
   ]
  },
  {
   "cell_type": "code",
   "execution_count": 13,
   "id": "82abd726-31e8-4e7b-a0fb-9e42db369670",
   "metadata": {},
   "outputs": [],
   "source": [
    "class AddingStack(Stack):\n",
    "    def __init__(self):\n",
    "        Stack.__init__(self)\n",
    "        self.__sum = 0\n",
    "\n",
    "    def push(self, val):\n",
    "        self.__sum += val\n",
    "        Stack.push(self, val)\n"
   ]
  },
  {
   "cell_type": "markdown",
   "id": "671170bb-71c5-4c42-b972-881b4610170f",
   "metadata": {},
   "source": [
    "**Açıklama:**\n",
    "\n",
    "- **Üst Sınıf Yönteminin Çağrılması**: Üst sınıfın `push` yöntemini, değeri yığına eklemek için açıkça çağırırız.\n",
    "  - Üst sınıfın adını (`Stack`) belirtin.\n",
    "  - Geçerli nesneyi (`self`) ilk argüman olarak geçirin. Bu gereklidir çünkü hedef nesne bu bağlamda yöntem çağrısına otomatik olarak eklenmez.\n",
    "\n",
    "Bunu yaparak, `push` yöntemini geçersiz kılıyoruz. Yöntem adı aynı kalır, ancak işlevselliği `__sum` değişkenini güncellemek için değişir.\n",
    "\n",
    "### Yöntemlerin Geçersiz Kılınması\n",
    "\n",
    "Bir yöntemi geçersiz kıldığımızda, üst sınıfta zaten var olan bir yöntem için yeni bir uygulama sağlarız. Yöntem adı aynı kalır, ancak yeni uygulama davranışını değiştirir.\n",
    "\n",
    "İşte geçersiz kılınmış `push` yöntemi ve `pop` yöntemi içeren tam kod:\n"
   ]
  },
  {
   "cell_type": "code",
   "execution_count": 14,
   "id": "4447bdfb-ebc6-4c9a-bd9d-b98020b14005",
   "metadata": {},
   "outputs": [],
   "source": [
    "class AddingStack(Stack):\n",
    "    def __init__(self):\n",
    "        Stack.__init__(self)\n",
    "        self.__sum = 0\n",
    "\n",
    "    def push(self, val):\n",
    "        self.__sum += val\n",
    "        Stack.push(self, val)\n",
    "\n",
    "    def pop(self):\n",
    "        val = Stack.pop(self)\n",
    "        self.__sum -= val\n",
    "        return val\n",
    "\n",
    "    def get_sum(self):\n",
    "        return self.__sum\n"
   ]
  },
  {
   "cell_type": "markdown",
   "id": "390b266a-eb2d-4349-8b0a-d9a7a6046582",
   "metadata": {},
   "source": [
    "Bu alt sınıf, yığın işlevlerini kullanırken yığındaki elemanların toplamını takip etmenizi sağlar.\r\n"
   ]
  },
  {
   "cell_type": "code",
   "execution_count": 15,
   "id": "61a2de29-539b-4e68-9035-2e9de17618c5",
   "metadata": {},
   "outputs": [
    {
     "name": "stdout",
     "output_type": "stream",
     "text": [
      "1\n",
      "2\n",
      "3\n",
      "0\n"
     ]
    }
   ],
   "source": [
    "stack_object = AddingStack()\n",
    "stack_object.push(3)\n",
    "stack_object.push(2)\n",
    "stack_object.push(1)\n",
    "\n",
    "print(stack_object.pop())  # Çıktı: 1\n",
    "print(stack_object.pop())  # Çıktı: 2\n",
    "print(stack_object.pop())  # Çıktı: 3\n",
    "print(stack_object.get_sum())  # Çıktı: 0\n"
   ]
  },
  {
   "cell_type": "markdown",
   "id": "a720c8cd-4e46-4ee4-914f-3bde2e8d6720",
   "metadata": {},
   "source": [
    "\n",
    "Bu kod, yeni `AddingStack` sınıfının yığındaki elemanların toplamını nasıl koruduğunu ve miras alınan yığın işlevselliklerini nasıl kullandığını gösterir."
   ]
  }
 ],
 "metadata": {
  "kernelspec": {
   "display_name": "Python 3 (ipykernel)",
   "language": "python",
   "name": "python3"
  },
  "language_info": {
   "codemirror_mode": {
    "name": "ipython",
    "version": 3
   },
   "file_extension": ".py",
   "mimetype": "text/x-python",
   "name": "python",
   "nbconvert_exporter": "python",
   "pygments_lexer": "ipython3",
   "version": "3.11.7"
  }
 },
 "nbformat": 4,
 "nbformat_minor": 5
}
