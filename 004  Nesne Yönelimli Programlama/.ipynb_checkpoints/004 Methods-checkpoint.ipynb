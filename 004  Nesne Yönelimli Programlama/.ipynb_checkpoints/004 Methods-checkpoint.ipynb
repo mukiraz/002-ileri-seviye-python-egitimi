{
 "cells": [
  {
   "cell_type": "markdown",
   "id": "16232f04-10b5-4168-92ab-575ae3aec25a",
   "metadata": {},
   "source": [
    "### Metotlar Detaylı İnceleme\n",
    "\n",
    "Python sınıflarında metot kullanımıyla ilgili tüm önemli noktaları özetleyelim.\n",
    "\n",
    "Bildiğiniz gibi, bir metot, bir sınıfın içinde yer alan bir fonksiyondur.\n",
    "\n",
    "Temel bir gereksinim vardır: bir metot en az bir parametreye sahip olmalıdır. Parametresiz metotlar olamaz—bir metot argüman olmadan çağrılabilir, ancak parametresiz olarak tanımlanamaz.\n",
    "\n",
    "İlk (veya tek) parametre genellikle `self` olarak adlandırılır. Bu konvansiyonu takip etmeniz iyi bir uygulamadır çünkü yaygın olarak kullanılır ve başka isimler kullanmak karışıklığa neden olabilir.\n",
    "\n",
    "`self` ismi, parametrenin amacını belirtir: metodun çağrıldığı nesneyi tanımlar.\n",
    "\n",
    "Bir metodu çağırırken `self` parametresi için bir argüman geçirmenize gerek yoktur—Python bunu sizin için otomatik olarak ayarlar.\n",
    "\n",
    "Editördeki örnek bu farkı göstermektedir."
   ]
  },
  {
   "cell_type": "code",
   "execution_count": 1,
   "id": "60282640",
   "metadata": {},
   "outputs": [
    {
     "name": "stdout",
     "output_type": "stream",
     "text": [
      "method: 1\n",
      "method: 2\n",
      "method: 3\n"
     ]
    }
   ],
   "source": [
    "class Classy:\n",
    "    def method(self, par):\n",
    "        print(\"method:\", par)\n",
    "\n",
    "obj = Classy()\n",
    "obj.method(1)\n",
    "obj.method(2)\n",
    "obj.method(3)"
   ]
  },
  {
   "cell_type": "markdown",
   "id": "36fa0928",
   "metadata": {},
   "source": [
    "Kod şu çıktıyı verir:\n",
    "\n",
    "```\n",
    "method: 1\n",
    "method: 2\n",
    "method: 3\n",
    "```\n",
    "\n",
    "Nesneyi oluşturma şeklimize dikkat edin: sınıf adını bir fonksiyon gibi kullanarak yeni bir sınıf nesnesi oluşturduk.\n",
    "\n",
    "Metodun `self` dışında parametreler kabul etmesini istiyorsanız:\n",
    "\n",
    "1. `self`'ten sonra metodun tanımında yerleştirin.\n",
    "2. Çağrılma sırasında `self` belirtmeden verin (Python bunu otomatik olarak ayarlar)."
   ]
  },
  {
   "cell_type": "markdown",
   "id": "4bf90e8e",
   "metadata": {},
   "source": [
    "### Metotlar Detaylı İnceleme: Devam\n",
    "\n",
    "`self` parametresi, bir nesnenin örnek (instance) ve sınıf değişkenlerine erişim sağlamak için kullanılır.\n",
    "\n",
    "Aşağıdaki örnek, `self` kullanımının her iki yolunu da göstermektedir:"
   ]
  },
  {
   "cell_type": "code",
   "execution_count": 2,
   "id": "4c342ed7",
   "metadata": {},
   "outputs": [
    {
     "name": "stdout",
     "output_type": "stream",
     "text": [
      "2 3\n"
     ]
    }
   ],
   "source": [
    "class Classy:\n",
    "    varia = 2\n",
    "    def method(self):\n",
    "        print(self.varia, self.var)\n",
    "\n",
    "obj = Classy()\n",
    "obj.var = 3\n",
    "obj.method()\n"
   ]
  },
  {
   "cell_type": "markdown",
   "id": "acc5e19d",
   "metadata": {},
   "source": [
    "`self` parametresi ayrıca sınıf içinden diğer nesne/sınıf metotlarını çağırmak için kullanılır.\n",
    "\n",
    "Örneğin:"
   ]
  },
  {
   "cell_type": "code",
   "execution_count": 3,
   "id": "06b690f8",
   "metadata": {},
   "outputs": [
    {
     "name": "stdout",
     "output_type": "stream",
     "text": [
      "method\n",
      "other\n"
     ]
    }
   ],
   "source": [
    "class Classy:\n",
    "    def other(self):\n",
    "        print(\"other\")\n",
    "\n",
    "    def method(self):\n",
    "        print(\"method\")\n",
    "        self.other()\n",
    "\n",
    "obj = Classy()\n",
    "obj.method()\n"
   ]
  },
  {
   "cell_type": "markdown",
   "id": "b27466fe",
   "metadata": {},
   "source": [
    "### Metotlar Detaylı İnceleme: Devam\n",
    "\n",
    "Bir metodu `__init__` olarak adlandırırsanız, bu sıradan bir metot olmayacak; bu bir kurucu (constructor) olacaktır.\n",
    "\n",
    "Bir sınıfın kurucusu varsa, sınıfın bir nesnesi oluşturulduğunda otomatik ve örtük olarak çağrılır.\n",
    "\n",
    "Kurucu:\n",
    "\n",
    "- `self` parametresine sahip olmalıdır (her zamanki gibi otomatik olarak ayarlanır).\n",
    "- `self` dışında başka parametrelere de sahip olabilir (ama zorunlu değildir); eğer böyle olursa, sınıf adının kullanılarak nesne oluşturulma şekli `__init__` tanımını yansıtmalıdır.\n",
    "- Nesneyi kurmak için kullanılabilir, yani iç durumunu düzgün şekilde başlatmak, örnek değişkenler oluşturmak, diğer nesneleri gerekli olduğunda başlatmak vb.\n",
    "\n",
    "Aşağıdaki koda bakın. Örnek, çok basit bir kurucunun (constructor) nasıl çalıştığını göstermektedir."
   ]
  },
  {
   "cell_type": "code",
   "execution_count": 4,
   "id": "0181f2db",
   "metadata": {},
   "outputs": [
    {
     "name": "stdout",
     "output_type": "stream",
     "text": [
      "object\n"
     ]
    }
   ],
   "source": [
    "class Classy:\n",
    "    def __init__(self, value):\n",
    "        self.var = value\n",
    "\n",
    "obj_1 = Classy(\"object\")\n",
    "print(obj_1.var)"
   ]
  },
  {
   "cell_type": "markdown",
   "id": "945ebe02",
   "metadata": {},
   "source": [
    "Kurucunun şu noktalara dikkat edin:\n",
    "\n",
    "- Bir değer döndüremez, çünkü yalnızca yeni oluşturulan bir nesneyi döndürmek için tasarlanmıştır ve başka bir şey için değildir.\n",
    "- Kurucu doğrudan ne nesneden ne de sınıf içinden çağrılabilir (bir nesnenin alt sınıflarından birinden kurucuyu çağırabilirsiniz, ancak bu konuyu daha sonra ele alacağız)."
   ]
  },
  {
   "cell_type": "markdown",
   "id": "9739d07a",
   "metadata": {},
   "source": [
    "### Metotlar Detaylı İnceleme: Devam\n",
    "\n",
    "`__init__` bir metot olduğu için ve bir metot da bir fonksiyon olduğu için, kurucular/metotlarla sıradan fonksiyonlarla yaptığınız aynı teknikleri kullanabilirsiniz.\n",
    "\n",
    "Aşağıdaki örnek, varsayılan argüman değeri olan bir kurucunun nasıl tanımlanacağını gösterir. Deneyin."
   ]
  },
  {
   "cell_type": "code",
   "execution_count": 5,
   "id": "4d70cd6a",
   "metadata": {},
   "outputs": [
    {
     "name": "stdout",
     "output_type": "stream",
     "text": [
      "object\n",
      "None\n"
     ]
    }
   ],
   "source": [
    "class Classy:\n",
    "    def __init__(self, value=None):\n",
    "        self.var = value\n",
    "\n",
    "obj_1 = Classy(\"object\")\n",
    "obj_2 = Classy()\n",
    "\n",
    "print(obj_1.var)\n",
    "print(obj_2.var)\n"
   ]
  },
  {
   "cell_type": "markdown",
   "id": "e617cfe6",
   "metadata": {},
   "source": [
    "Özellik adı karmaşıklaştırma (name mangling) hakkında söylediklerimizin hepsi metot adları için de geçerlidir—adı `__` ile başlayan bir metot (kısmen) gizlenir.\n",
    "\n",
    "Aşağıdaki örnek bu etkiyi göstermektedir:"
   ]
  },
  {
   "cell_type": "code",
   "execution_count": 6,
   "id": "8e53c971",
   "metadata": {},
   "outputs": [
    {
     "name": "stdout",
     "output_type": "stream",
     "text": [
      "visible\n",
      "failed\n",
      "hidden\n"
     ]
    }
   ],
   "source": [
    "class Classy:\n",
    "    def visible(self):\n",
    "        print(\"visible\")\n",
    "    \n",
    "    def __hidden(self):\n",
    "        print(\"hidden\")\n",
    "\n",
    "obj = Classy()\n",
    "obj.visible()\n",
    "\n",
    "try:\n",
    "    obj.__hidden()\n",
    "except:\n",
    "    print(\"failed\")\n",
    "\n",
    "obj._Classy__hidden()\n"
   ]
  },
  {
   "cell_type": "markdown",
   "id": "825ea8b0",
   "metadata": {},
   "source": []
  },
  {
   "cell_type": "markdown",
   "id": "ab58163c",
   "metadata": {},
   "source": [
    "## Sınıfların ve nesnelerin iç yaşamı\n",
    "\n",
    "Her Python sınıfı ve her Python nesnesi, yeteneklerini incelemek için kullanılabilecek bir dizi yararlı özellik ile önceden donatılmıştır.\n",
    "\n",
    "Bunlardan birini zaten biliyorsunuz; bu __dict__ özelliğidir.\n",
    "\n",
    "Yöntemlerle nasıl ilgilendiğine bakalım - editördeki koda bakalım.\n",
    "\n",
    "Çıktıyı görmek için çalıştırın. Çıktıyı dikkatlice kontrol edin.\n",
    "\n",
    "Tanımlanan tüm yöntemleri ve öznitelikleri bulun. İçinde bulundukları bağlamı bulun: nesnenin içinde veya sınıfın içinde."
   ]
  },
  {
   "cell_type": "markdown",
   "id": "7c3fee73",
   "metadata": {},
   "source": [
    "### Sınıfların ve Nesnelerin İçsel Yaşamı: Devam\n",
    "\n",
    "`__dict__` bir sözlüktür. Bahsetmeye değer diğer bir yerleşik özellik ise bir dize olan `__name__`'dir.\n",
    "\n",
    "Bu özellik, sınıfın adını içerir. Sadece bir dizedir ve pek heyecan verici değildir.\n",
    "\n",
    "Not: `__name__` niteliği nesnelerde bulunmaz—yalnızca sınıfların içinde vardır.\n",
    "\n",
    "Belirli bir nesnenin sınıfını bulmak istiyorsanız, `type()` adlı bir fonksiyonu kullanabilirsiniz. Bu fonksiyon, herhangi bir nesnenin oluşturulmasında kullanılan sınıfı bulabilir.\n",
    "\n",
    "Aşağıdaki koda bakarak bunu kendiniz görün."
   ]
  },
  {
   "cell_type": "markdown",
   "id": "f9a04b7f",
   "metadata": {},
   "source": [
    "class Classy:\n",
    "    pass\n",
    "\n",
    "print(Classy.__name__)\n",
    "obj = Classy()\n",
    "print(type(obj).__name__)\n"
   ]
  },
  {
   "cell_type": "markdown",
   "id": "4ca6c522",
   "metadata": {},
   "source": [
    "Şu gibi bir ifade bir hataya neden olacaktır.\n",
    "\n",
    "\n",
    "\n"
   ]
  },
  {
   "cell_type": "code",
   "execution_count": 7,
   "id": "51aeb16e",
   "metadata": {},
   "outputs": [
    {
     "ename": "AttributeError",
     "evalue": "'Classy' object has no attribute '__name__'",
     "output_type": "error",
     "traceback": [
      "\u001b[1;31m---------------------------------------------------------------------------\u001b[0m",
      "\u001b[1;31mAttributeError\u001b[0m                            Traceback (most recent call last)",
      "Cell \u001b[1;32mIn[7], line 1\u001b[0m\n\u001b[1;32m----> 1\u001b[0m \u001b[38;5;28mprint\u001b[39m(obj\u001b[38;5;241m.\u001b[39m\u001b[38;5;18m__name__\u001b[39m)\n",
      "\u001b[1;31mAttributeError\u001b[0m: 'Classy' object has no attribute '__name__'"
     ]
    }
   ],
   "source": [
    "print(obj.__name__)"
   ]
  },
  {
   "cell_type": "markdown",
   "id": "3af504ea",
   "metadata": {},
   "source": [
    "### Sınıfların ve Nesnelerin İçsel Yaşamı: Devam\n",
    "\n",
    "`__module__` da bir dizedir - sınıfın tanımını içeren modülün adını saklar.\n",
    "\n",
    "Bunu kontrol edelim - aşağıdaki kodu çalıştırın:"
   ]
  },
  {
   "cell_type": "code",
   "execution_count": null,
   "id": "11c47eef",
   "metadata": {},
   "outputs": [],
   "source": [
    "class Classy:\n",
    "    pass\n",
    "\n",
    "print(Classy.__module__)\n",
    "obj = Classy()\n",
    "print(obj.__module__)"
   ]
  },
  {
   "cell_type": "markdown",
   "id": "5033ab59",
   "metadata": {},
   "source": [
    "Bildiğiniz gibi, `__main__` adlı herhangi bir modül aslında bir modül değil, şu anda çalıştırılan dosyadır."
   ]
  },
  {
   "cell_type": "markdown",
   "id": "37899842",
   "metadata": {},
   "source": [
    "### Sınıfların ve Nesnelerin İçsel Yaşamı: Devam\n",
    "\n",
    "`__bases__` bir demettir. Bu demet, sınıfın doğrudan üst sınıflarını (sınıf adlarını değil) içerir.\n",
    "\n",
    "Sıra, sınıf tanımında kullanılan sırayla aynıdır.\n",
    "\n",
    "Miras almanın nasıl çalıştığını vurgulamak için size çok basit bir örnek göstereceğiz.\n",
    "\n",
    "Ayrıca, istisnaların nesnel yönlerini tartışırken bu özelliği nasıl kullanacağınızı göstereceğiz.\n",
    "\n",
    "Not: Yalnızca sınıfların bu özelliği vardır - nesnelerin yoktur.\n",
    "\n",
    "Demetin içeriğini net bir şekilde sunmak için `printBases()` adlı bir fonksiyon tanımladık.\n",
    "\n",
    "Aşağıdaki koda bakın, analiz edin ve çalıştırın. Şu çıktıyı verecektir:"
   ]
  },
  {
   "cell_type": "code",
   "execution_count": null,
   "id": "f2ef452a",
   "metadata": {},
   "outputs": [],
   "source": [
    "class SuperOne:\n",
    "    pass\n",
    "\n",
    "\n",
    "class SuperTwo:\n",
    "    pass\n",
    "\n",
    "\n",
    "class Sub(SuperOne, SuperTwo):\n",
    "    pass\n",
    "\n",
    "\n",
    "def printBases(cls):\n",
    "    print('( ', end='')\n",
    "\n",
    "    for x in cls.__bases__:\n",
    "        print(x.__name__, end=' ')\n",
    "    print(')')\n",
    "\n",
    "\n",
    "printBases(SuperOne)\n",
    "printBases(SuperTwo)\n",
    "printBases(Sub)\n"
   ]
  },
  {
   "cell_type": "markdown",
   "id": "3b9aac8d",
   "metadata": {},
   "source": [
    "Not: Açıkça belirtilmiş üst sınıfları olmayan bir sınıf, doğrudan atası olarak `object` (önceden tanımlanmış bir Python sınıfı) sınıfına işaret eder."
   ]
  },
  {
   "cell_type": "markdown",
   "id": "7ae00ad5",
   "metadata": {},
   "source": [
    "### Yansıma ve İçgözlem\n",
    "\n",
    "Bu yetenekler, Python programcılarının birçok nesneye yönelik dilde yaygın olan iki önemli etkinliği gerçekleştirmesini sağlar:\n",
    "\n",
    "1. **İçgözlem (Introspection)**: Bir programın çalışma zamanında bir nesnenin türünü veya özelliklerini inceleyebilme yeteneği.\n",
    "2. **Yansıma (Reflection)**: Bir programın çalışma zamanında bir nesnenin değerlerini, özelliklerini ve/veya işlevlerini manipüle edebilme yeteneği, içgözlemden bir adım öteye gider.\n",
    "\n",
    "Başka bir deyişle, bir nesneyi manipüle etmek için sınıfının veya nesnesinin tam tanımını bilmek zorunda değilsiniz. Nesne ve/veya sınıfı, program yürütme sırasında özelliklerini tanımanıza olanak tanıyan meta verileri içerir."
   ]
  },
  {
   "cell_type": "markdown",
   "id": "a5867bcc",
   "metadata": {},
   "source": [
    "### Sınıfları Araştırma\n",
    "\n",
    "Python'daki sınıflar hakkında neler öğrenebilirsiniz? Cevap basit – her şeyi.\n",
    "\n",
    "Hem yansıma (reflection) hem de içgözlem (introspection), bir programcının herhangi bir nesneyle, nereden gelirse gelsin, her şeyi yapmasına olanak tanır.\n",
    "\n",
    "Aşağıdaki kodu analiz edin:"
   ]
  },
  {
   "cell_type": "code",
   "execution_count": null,
   "id": "b8bf490a",
   "metadata": {},
   "outputs": [],
   "source": [
    "class MyClass:\n",
    "    pass\n",
    "\n",
    "\n",
    "obj = MyClass()\n",
    "obj.a = 1\n",
    "obj.b = 2\n",
    "obj.i = 3\n",
    "obj.ireal = 3.5\n",
    "obj.integer = 4\n",
    "obj.z = 5\n",
    "\n",
    "\n",
    "def incIntsI(obj):\n",
    "    for name in obj.__dict__.keys():\n",
    "        if name.startswith('i'):\n",
    "            val = getattr(obj, name)\n",
    "            if isinstance(val, int):\n",
    "                setattr(obj, name, val + 1)\n",
    "\n",
    "\n",
    "print(obj.__dict__)\n",
    "incIntsI(obj)\n",
    "print(obj.__dict__)\n"
   ]
  },
  {
   "cell_type": "markdown",
   "id": "90fa8c6b",
   "metadata": {},
   "source": [
    "`incIntsI()` adlı fonksiyon, herhangi bir sınıfın bir nesnesini alır, içeriğini tarar ve `i` ile başlayan tüm tamsayı (integer) niteliklerini bir artırır.\n",
    "\n",
    "İmkansız mı? Hiç de değil!\n",
    "\n",
    "İşte nasıl çalıştığı:\n",
    "\n",
    "1. satır: Çok basit bir sınıf tanımlayın...\n",
    "5 ila 11. satırlar: ... ve bazı niteliklerle doldurun;\n",
    "14. satır: Bu bizim fonksiyonumuz!\n",
    "15. satır: `__dict__` niteliğini tarayın ve tüm nitelik adlarını arayın;\n",
    "16. satır: Eğer bir ad `i` ile başlıyorsa...\n",
    "17. satır: ... `getattr()` fonksiyonunu kullanarak mevcut değerini alın; not: `getattr()` iki argüman alır: bir nesne ve onun özellik adı (bir dize olarak), ve mevcut niteliğin değerini döner;\n",
    "18. satır: Değerin tamsayı olup olmadığını kontrol edin ve bu amaçla `isinstance()` fonksiyonunu kullanın (bunu daha sonra tartışacağız);\n",
    "19. satır: Kontrol iyi giderse, `setattr()` fonksiyonunu kullanarak niteliğin değerini artırın; fonksiyon üç argüman alır: bir nesne, özellik adı (bir dize olarak) ve niteliğin yeni değeri.\n",
    "\n",
    "Kod şu çıktıyı verir:\n",
    "\n",
    "```\n",
    "{'a': 1, 'integer': 4, 'b': 2, 'i': 3, 'z': 5, 'ireal': 3.5}\n",
    "{'a': 1, 'integer': 5, 'b': 2, 'i': 4, 'z': 5, 'ireal': 3.5}\n",
    "```"
   ]
  },
  {
   "cell_type": "markdown",
   "id": "cee3b70e",
   "metadata": {},
   "source": [
    "### Önemli Noktalar\n",
    "\n",
    "1. Bir metot, bir sınıfın içinde yer alan bir fonksiyondur. Her metodun ilk (veya tek) parametresi genellikle `self` olarak adlandırılır ve bu parametre, metodun çağrıldığı nesneyi tanımlamak ve nesnenin özelliklerine ve metodlarına erişim sağlamak için kullanılır.\n",
    "\n",
    "2. Bir sınıf bir kurucu (adı `__init__` olan bir metot) içeriyorsa, bu kurucu herhangi bir değer döndüremez ve doğrudan çağrılamaz.\n",
    "\n",
    "3. Tüm sınıflarda (ama nesnelerde değil) sınıfın adını saklayan `__name__` adlı bir özellik vardır. Ek olarak, `__module__` adlı bir özellik, sınıfın tanımlandığı modülün adını saklar. `__bases__` adlı özellik ise bir sınıfın üst sınıflarını içeren bir demettir.\n",
    "\n",
    "Örneğin:"
   ]
  },
  {
   "cell_type": "code",
   "execution_count": 8,
   "id": "4778bfdb",
   "metadata": {},
   "outputs": [
    {
     "name": "stdout",
     "output_type": "stream",
     "text": [
      "My name is Sample living in __main__\n"
     ]
    }
   ],
   "source": [
    "class Sample:\n",
    "    def __init__(self):\n",
    "        self.name = Sample.__name__\n",
    "\n",
    "    def myself(self):\n",
    "        print(\"My name is \" + self.name + \" living in \" + Sample.__module__)\n",
    "\n",
    "obj = Sample()\n",
    "obj.myself()\n"
   ]
  }
 ],
 "metadata": {
  "kernelspec": {
   "display_name": "Python 3 (ipykernel)",
   "language": "python",
   "name": "python3"
  },
  "language_info": {
   "codemirror_mode": {
    "name": "ipython",
    "version": 3
   },
   "file_extension": ".py",
   "mimetype": "text/x-python",
   "name": "python",
   "nbconvert_exporter": "python",
   "pygments_lexer": "ipython3",
   "version": "3.11.7"
  }
 },
 "nbformat": 4,
 "nbformat_minor": 5
}
