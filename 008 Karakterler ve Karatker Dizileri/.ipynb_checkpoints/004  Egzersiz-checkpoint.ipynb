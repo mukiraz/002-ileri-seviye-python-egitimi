{
 "cells": [
  {
   "cell_type": "markdown",
   "id": "44b8b4c3-71fb-4717-8040-e4308c736be0",
   "metadata": {},
   "source": [
    "## Tahmini süresi\r\n",
    "20-25 dakika\r\n",
    "\r\n",
    "## Zorluk seviyesi\r\n",
    "Orta\r\n",
    "\r\n",
    "## Hedefler\r\n",
    "öğrencinin tellerle işlem yapma becerilerini geliştirmek;\r\n",
    "yerleşik Python dize yöntemlerini kullanma.\r\n",
    "\r\n",
    "## Senaryo\r\n",
    "split() işlevinin nasıl çalıştığını zaten biliyorsunuz. Şimdi sizden bunu kanıtlamanızı istiyoruz.\r\n",
    "\r\n",
    "Göreviniz neredeyse tamamen orijinal split() yöntemi gibi davranan kendi fonksiyonunuzu yazmaktır, yani:\r\n",
    "\r\n",
    "- tam olarak bir argümanı kabul etmelidir - bir dize;\r\n",
    "- dizeden oluşturulan kelimelerin, dizenin boşluk içerdiği yerlere bölünmüş bir listesini döndürmelidir;\r\n",
    "- dize boşsa işlev boş bir liste döndürmelidir;\r\n",
    "- adı mysplit() olmalıdır\r\n",
    "- Düzenleyicideki şablonu kullanın. Kodunuzu dikkatlice test edin.\r\n",
    "\r\n",
    "Beklenen çıktı:"
   ]
  },
  {
   "cell_type": "raw",
   "id": "015ad0ed-4180-4de2-a5a3-679a639af237",
   "metadata": {},
   "source": [
    "['To', 'be', 'or', 'not', 'to', 'be,', 'that', 'is', 'the', 'question']\n",
    "['To', 'be', 'or', 'not', 'to', 'be,that', 'is', 'the', 'question']\n",
    "[]\n",
    "['abc']\n",
    "[]"
   ]
  },
  {
   "cell_type": "code",
   "execution_count": null,
   "id": "f27efcee-8841-4443-b54e-c926d3cb8314",
   "metadata": {},
   "outputs": [],
   "source": [
    "def mysplit(strng):\n",
    "    #\n",
    "    # put your code here\n",
    "    #\n",
    "\n",
    "\n",
    "print(mysplit(\"To be or not to be, that is the question\"))\n",
    "print(mysplit(\"To be or not to be,that is the question\"))\n",
    "print(mysplit(\"   \"))\n",
    "print(mysplit(\" abc \"))\n",
    "print(mysplit(\"\"))"
   ]
  }
 ],
 "metadata": {
  "kernelspec": {
   "display_name": "Python 3 (ipykernel)",
   "language": "python",
   "name": "python3"
  },
  "language_info": {
   "codemirror_mode": {
    "name": "ipython",
    "version": 3
   },
   "file_extension": ".py",
   "mimetype": "text/x-python",
   "name": "python",
   "nbconvert_exporter": "python",
   "pygments_lexer": "ipython3",
   "version": "3.11.7"
  }
 },
 "nbformat": 4,
 "nbformat_minor": 5
}
