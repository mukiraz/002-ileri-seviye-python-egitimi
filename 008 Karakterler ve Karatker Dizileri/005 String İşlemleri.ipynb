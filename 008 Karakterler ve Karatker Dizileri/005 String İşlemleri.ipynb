{
 "cells": [
  {
   "cell_type": "markdown",
   "id": "32cd54d0-da7b-47ae-8fe6-f362a410ff53",
   "metadata": {},
   "source": [
    "# String İşlemleri"
   ]
  },
  {
   "cell_type": "markdown",
   "id": "9847bc3b-1599-4768-b029-543d4ca646da",
   "metadata": {},
   "source": [
    "**Dizeleri Karşılaştırma**\n",
    "Python, sayıları karşılaştırmak için kullanılan operatörlerin aynısını kullanarak dizeleri karşılaştırmanıza olanak tanır.\n",
    "\n",
    "Dizeleri karşılaştırmak için kullanılabilecek operatörler şunlardır:\n",
    "\n",
    "- `==`\n",
    "- `!=`\n",
    "- `>`\n",
    "- `>=`\n",
    "- `<`\n",
    "- `<=`\n",
    "\n",
    "Ancak önemli bir uyarı var; bu karşılaştırmaların sonuçları bazen beklenmedik olabilir. Python, dizeleri kod noktası değerlerine göre karakter karakter karşılaştırır ve herhangi bir dilsel inceliği dikkate almaz.\n",
    "\n",
    "Bu tür karşılaştırmaların sonuçları bazen şaşırtıcı olabiliyor. En basit durumlarla başlayalım.\n",
    "\n",
    "İki dize aynı karakterlerden ve aynı sırada oluşuyorsa eşittir. Benzer şekilde, iki dize aynı sırada aynı karakterlerden oluşmuyorsa eşit değildir.\n",
    "\n",
    "Aşağıdaki karşılaştırmaların her ikisi de \"Doğru\" sonucunu döndürür:"
   ]
  },
  {
   "cell_type": "code",
   "execution_count": 1,
   "id": "533a1d02-6acb-461a-91ea-4e072d7a6fe7",
   "metadata": {},
   "outputs": [
    {
     "data": {
      "text/plain": [
       "True"
      ]
     },
     "execution_count": 1,
     "metadata": {},
     "output_type": "execute_result"
    }
   ],
   "source": [
    "'alpha' == 'alpha'\n",
    "'alpha' != 'Alpha'"
   ]
  },
  {
   "cell_type": "markdown",
   "id": "7eaf822b-8f09-4e25-bcce-3ae985e21842",
   "metadata": {},
   "source": [
    "Dizeler arasındaki son ilişki, her iki dizedeki ilk farklı karakter karşılaştırılarak belirlenir (ASCII/UNICODE kod noktalarını her zaman aklınızda bulundurun).\r\n",
    "\r\n",
    "Daha kısa dizenin daha uzun dizenin başlangıcıyla aynı olduğu farklı uzunluktaki iki diziyi karşılaştırırken, daha uzun dizenin daha büyük olduğu kabul edilir. Örneğin:"
   ]
  },
  {
   "cell_type": "code",
   "execution_count": 2,
   "id": "12e7622a-100f-48da-b512-8957d27ae43b",
   "metadata": {},
   "outputs": [
    {
     "data": {
      "text/plain": [
       "True"
      ]
     },
     "execution_count": 2,
     "metadata": {},
     "output_type": "execute_result"
    }
   ],
   "source": [
    "'alpha' < 'alphabet'"
   ]
  },
  {
   "cell_type": "markdown",
   "id": "a6363708-1298-422a-9a7a-db81ad5b0292",
   "metadata": {},
   "source": [
    "Bu karşılaştırma True değerini döndürür.\n",
    "\n",
    "Dize karşılaştırması büyük/küçük harfe duyarlıdır, yani büyük harfler küçük harflerden daha az kabul edilir. Aşağıdaki ifade doğrudur:"
   ]
  },
  {
   "cell_type": "code",
   "execution_count": 3,
   "id": "b1898827-6d14-4402-84ff-6b3286150be2",
   "metadata": {},
   "outputs": [
    {
     "data": {
      "text/plain": [
       "True"
      ]
     },
     "execution_count": 3,
     "metadata": {},
     "output_type": "execute_result"
    }
   ],
   "source": [
    "'beta' > 'Beta'"
   ]
  },
  {
   "cell_type": "markdown",
   "id": "47247575-b7f6-4b46-9d6b-83d57fbf8751",
   "metadata": {},
   "source": [
    "Bir dize yalnızca rakamlardan oluşsa bile yine de sayı olarak kabul edilmez. Tıpkı diğer normal dizeler gibi yorumlanır ve sayısal yönü dikkate alınmaz.\n",
    "\n",
    "Aşağıdaki örnekleri göz önünde bulundurun:"
   ]
  },
  {
   "cell_type": "code",
   "execution_count": 4,
   "id": "11022f32-61c0-4e6c-b085-d3378df86a29",
   "metadata": {},
   "outputs": [
    {
     "data": {
      "text/plain": [
       "True"
      ]
     },
     "execution_count": 4,
     "metadata": {},
     "output_type": "execute_result"
    }
   ],
   "source": [
    "'10' == '010'   # False\n",
    "'10' > '010'    # True\n",
    "'10' > '8'      # False\n",
    "'20' < '8'      # True\n",
    "'20' < '80'     # True"
   ]
  },
  {
   "cell_type": "markdown",
   "id": "9932947e-0923-4b3c-9fe0-2a05bcf7b186",
   "metadata": {},
   "source": [
    "Dizeleri sayılarla karşılaştırmak genellikle kötü bir fikirdir.\n",
    "\n",
    "Güvenli bir şekilde gerçekleştirebileceğiniz tek karşılaştırma == ve != operatörlerini kullananlardır. == operatörü her zaman Yanlış değerini döndürürken, != operatörü her zaman Doğru değerini döndürür.\n",
    "\n",
    "Kalan karşılaştırma işleçlerinden herhangi birinin kullanılması TypeError istisnasına yol açacaktır.\n",
    "\n",
    "Kontrol edelim:"
   ]
  },
  {
   "cell_type": "code",
   "execution_count": 5,
   "id": "5c0dcbe8-44ee-4a8f-86e3-0c5662735193",
   "metadata": {},
   "outputs": [
    {
     "ename": "TypeError",
     "evalue": "'>' not supported between instances of 'str' and 'int'",
     "output_type": "error",
     "traceback": [
      "\u001b[1;31m---------------------------------------------------------------------------\u001b[0m",
      "\u001b[1;31mTypeError\u001b[0m                                 Traceback (most recent call last)",
      "Cell \u001b[1;32mIn[5], line 5\u001b[0m\n\u001b[0;32m      3\u001b[0m \u001b[38;5;124m'\u001b[39m\u001b[38;5;124m10\u001b[39m\u001b[38;5;124m'\u001b[39m \u001b[38;5;241m==\u001b[39m \u001b[38;5;241m1\u001b[39m       \u001b[38;5;66;03m# False\u001b[39;00m\n\u001b[0;32m      4\u001b[0m \u001b[38;5;124m'\u001b[39m\u001b[38;5;124m10\u001b[39m\u001b[38;5;124m'\u001b[39m \u001b[38;5;241m!=\u001b[39m \u001b[38;5;241m1\u001b[39m       \u001b[38;5;66;03m# True\u001b[39;00m\n\u001b[1;32m----> 5\u001b[0m \u001b[38;5;124m'\u001b[39m\u001b[38;5;124m10\u001b[39m\u001b[38;5;124m'\u001b[39m \u001b[38;5;241m>\u001b[39m \u001b[38;5;241m10\u001b[39m\n",
      "\u001b[1;31mTypeError\u001b[0m: '>' not supported between instances of 'str' and 'int'"
     ]
    }
   ],
   "source": [
    "'10' == 10      # False\n",
    "'10' != 10      # True\n",
    "'10' == 1       # False\n",
    "'10' != 1       # True\n",
    "'10' > 10       # TypeError exception"
   ]
  },
  {
   "cell_type": "markdown",
   "id": "d42043f3-bbf5-473e-b001-c1c3a19257ec",
   "metadata": {},
   "source": [
    "## Sıralama\n",
    "Karşılaştırma, sıralamayla yakından ilişkilidir (veya daha doğrusu, sıralama aslında karşılaştırmanın çok karmaşık bir durumudur).\n",
    "\n",
    "Bu size **dizeler içeren listeleri sıralamanın** iki olası yolunu göstermek için iyi bir fırsattır. Bu tür bir işlem gerçek dünyada çok yaygındır; adların, malların, unvanların veya şehirlerin bir listesini gördüğünüzde, bu işlemin gerçekleşmesini beklersiniz. sıralanacaklardır.\n",
    "\n",
    "Aşağıdaki listeyi sıralamak istediğinizi varsayalım:"
   ]
  },
  {
   "cell_type": "code",
   "execution_count": 6,
   "id": "1346267c-0465-411b-959b-d73b694c9df1",
   "metadata": {},
   "outputs": [
    {
     "name": "stdout",
     "output_type": "stream",
     "text": [
      "['omega', 'alpha', 'pi', 'gamma']\n",
      "['alpha', 'gamma', 'omega', 'pi']\n"
     ]
    }
   ],
   "source": [
    "# Demonstrating the sorted() function:\n",
    "first_greek = ['omega', 'alpha', 'pi', 'gamma']\n",
    "first_greek_2 = sorted(first_greek)\n",
    "\n",
    "print(first_greek)\n",
    "print(first_greek_2)"
   ]
  },
  {
   "cell_type": "markdown",
   "id": "a08bb77a-785a-43f2-a1c4-edcf32b96362",
   "metadata": {},
   "source": [
    "Genel olarak Python listeleri sıralamak için iki farklı yol sunar.\n",
    "\n",
    "İlki **`sorted()' adlı bir** işlev olarak uygulanır.\n",
    "\n",
    "İşlev bir bağımsız değişkeni (bir liste) alır ve sıralanmış bağımsız değişkenin öğeleriyle dolu yeni bir liste döndürür. (Not: Bu açıklama gerçek uygulamaya kıyasla biraz basitleştirilmiştir; bunu daha sonra tartışacağız.)\n",
    "\n",
    "Orijinal listeye dokunulmadan kalır.\n",
    "\n",
    "Düzenleyicideki koda bakın ve çalıştırın. Parçacık aşağıdaki çıktıyı üretir:\n",
    "\n",
    "İkinci yöntem listenin kendisini etkiler; yeni bir liste oluşturulmaz. Sıralama, sort() adı verilen yöntemle yerinde gerçekleştirilir.\n",
    "\n",
    "Çıktı değişmedi:"
   ]
  },
  {
   "cell_type": "code",
   "execution_count": 7,
   "id": "900ec468-3fed-44b9-b415-74ee276c3bcd",
   "metadata": {},
   "outputs": [
    {
     "name": "stdout",
     "output_type": "stream",
     "text": [
      "['omega', 'alpha', 'pi', 'gamma']\n",
      "['alpha', 'gamma', 'omega', 'pi']\n"
     ]
    }
   ],
   "source": [
    "# Demonstrating the sort() method:\n",
    "second_greek = ['omega', 'alpha', 'pi', 'gamma']\n",
    "print(second_greek)\n",
    "\n",
    "second_greek.sort()\n",
    "print(second_greek)"
   ]
  },
  {
   "cell_type": "markdown",
   "id": "82c990c6-e907-43c2-907c-06b3cdf567b8",
   "metadata": {},
   "source": [
    "## Dizeler ve Sayılar\n",
    "\r\n",
    "Ele alınacak iki ek konu daha vardır: bir sayıyı (bir tamsayı veya kayan noktalı sayı) bir dizeye dönüştürmek ve bir dizeyi bir sayıya dönüştürmek. Bu, giriş/çıkış verilerinin işlenmesi için gerekli olabilir.\r\n",
    "\r\n",
    "Bir sayıyı dizgeye dönüştürmek basit ve her zaman mümkündür. Bu str() fonksiyonu kullanılarak yapılır.\r\n",
    "\r\n",
    "Örneğin:"
   ]
  },
  {
   "cell_type": "code",
   "execution_count": 8,
   "id": "4dd1acf7-7ff0-413d-8c1f-6e31286a5adc",
   "metadata": {},
   "outputs": [
    {
     "name": "stdout",
     "output_type": "stream",
     "text": [
      "13 1.3\n"
     ]
    }
   ],
   "source": [
    "itg = 13\n",
    "flt = 1.3\n",
    "si = str(itg)\n",
    "sf = str(flt)\n",
    "\n",
    "print(si + ' ' + sf)"
   ]
  },
  {
   "cell_type": "markdown",
   "id": "c653e2a9-5888-4ea9-8ce9-a5293c0c90a5",
   "metadata": {},
   "source": [
    "Bir dizeyi sayıya dönüştürmek yalnızca dizenin geçerli bir sayıyı temsil etmesi durumunda mümkündür. Koşul karşılanmazsa bir `ValueError` istisnası ortaya çıkar.\n",
    "\n",
    "Bir dizeyi bir tamsayıya dönüştürmek için `int()` işlevini ve bir dizeyi kayan noktalı sayıya dönüştürmek için `float()` işlevini kullanın.\n",
    "\n",
    "Örneğin:"
   ]
  },
  {
   "cell_type": "code",
   "execution_count": 9,
   "id": "b3f774a2-4edc-43c5-ad9f-44299760393d",
   "metadata": {},
   "outputs": [
    {
     "name": "stdout",
     "output_type": "stream",
     "text": [
      "14.3\n"
     ]
    }
   ],
   "source": [
    "si = '13'\n",
    "sf = '1.3'\n",
    "itg = int(si)\n",
    "flt = float(sf)\n",
    "\n",
    "print(itg + flt)"
   ]
  },
  {
   "cell_type": "code",
   "execution_count": null,
   "id": "474c144f-4a67-4df9-9ed1-ddae8f98128c",
   "metadata": {},
   "outputs": [],
   "source": []
  }
 ],
 "metadata": {
  "kernelspec": {
   "display_name": "Python 3 (ipykernel)",
   "language": "python",
   "name": "python3"
  },
  "language_info": {
   "codemirror_mode": {
    "name": "ipython",
    "version": 3
   },
   "file_extension": ".py",
   "mimetype": "text/x-python",
   "name": "python",
   "nbconvert_exporter": "python",
   "pygments_lexer": "ipython3",
   "version": "3.11.7"
  }
 },
 "nbformat": 4,
 "nbformat_minor": 5
}
