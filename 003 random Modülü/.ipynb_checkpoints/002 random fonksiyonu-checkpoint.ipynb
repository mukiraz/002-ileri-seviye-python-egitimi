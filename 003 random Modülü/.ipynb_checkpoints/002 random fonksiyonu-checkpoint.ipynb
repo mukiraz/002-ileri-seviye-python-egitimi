{
 "cells": [
  {
   "cell_type": "markdown",
   "id": "b05ae1fe-740e-485e-9532-647b988cd768",
   "metadata": {},
   "source": [
    "### Random Modülünden Fonksiyonlar\n",
    "\n",
    "**random fonksiyonu**\n",
    "\n",
    "Random modülündeki ana fonksiyon olan `random()` float tipinde bir `x` değeri üretir ve bu değer (0.0, 1.0) aralığında olur. Yani, `x` şu koşulu sağlar: 0.0 <= x < 1.0.\n",
    "\n",
    "Aşağıda, mevcut (biraz öngörülemeyen) tohum değerine bağlı olarak beş sahte rastgele değer üreten bir örnek program bulunmaktadır:"
   ]
  },
  {
   "cell_type": "code",
   "execution_count": 1,
   "id": "aa56b44b-e0c5-43dd-b322-e9f76a928e92",
   "metadata": {},
   "outputs": [
    {
     "name": "stdout",
     "output_type": "stream",
     "text": [
      "0.5307527244526611\n",
      "0.6039928684858041\n",
      "0.39946197593212174\n",
      "0.9185231856966904\n",
      "0.8304257782301939\n"
     ]
    }
   ],
   "source": [
    "from random import random\n",
    "\n",
    "for i in range(5):\n",
    "    print(random())"
   ]
  },
  {
   "cell_type": "markdown",
   "id": "64d66f20-4793-440b-8b65-8af39550309a",
   "metadata": {},
   "source": [
    "Kodu yeniden çalıştıralım. Çıktı her zaman farklı üretilecektir."
   ]
  },
  {
   "cell_type": "code",
   "execution_count": 2,
   "id": "9a9f0806-537d-4bd0-b135-8efb54383b8b",
   "metadata": {},
   "outputs": [
    {
     "name": "stdout",
     "output_type": "stream",
     "text": [
      "6.367056860290266e-05\n",
      "0.7979163917769649\n",
      "0.22631836729579446\n",
      "0.7596062260457039\n",
      "0.604653906766345\n"
     ]
    }
   ],
   "source": [
    "from random import random\n",
    "\n",
    "for i in range(5):\n",
    "    print(random())"
   ]
  },
  {
   "cell_type": "markdown",
   "id": "e6ce1870-7c6d-47cf-ac12-019a86c7513b",
   "metadata": {},
   "source": [
    "## seed fonksiyonu\n",
    "\n",
    "`seed()` fonksiyonu, rastgele sayı üreticisinin tohumunu doğrudan ayarlamamızı sağlar. İki farklı kullanım şekli vardır:\n",
    "\n",
    "- `seed()` - mevcut sistem zamanına göre tohum değerini ayarlar.\n",
    "- `seed(int_value)` - tohum değerini belirtilen tam sayı `int_value` olarak ayarlar.\n",
    "\n",
    "Önceki programı değiştirerek, tohum değerini belirli bir değere (bu örnekte 0) ayarlayarak belirgin bir şekilde belirlenen davranışı göstermek için:"
   ]
  },
  {
   "cell_type": "code",
   "execution_count": 3,
   "id": "39b17763-2114-4130-9102-3803adc997da",
   "metadata": {},
   "outputs": [
    {
     "name": "stdout",
     "output_type": "stream",
     "text": [
      "0.8444218515250481\n",
      "0.7579544029403025\n",
      "0.420571580830845\n",
      "0.25891675029296335\n",
      "0.5112747213686085\n"
     ]
    }
   ],
   "source": [
    "from random import random, seed\n",
    "\n",
    "seed(0)\n",
    "\n",
    "for i in range(5):\n",
    "    print(random())"
   ]
  },
  {
   "cell_type": "markdown",
   "id": "35699e92-01a6-4e75-8e56-e963a7405cce",
   "metadata": {},
   "source": [
    "Belirli bir tohum değeri (bu durumda 0) kullanıldığı için, programı tekrar tekrar çalıştırdığınızda aynı sahte rastgele değerler dizisini elde edersiniz:"
   ]
  },
  {
   "cell_type": "code",
   "execution_count": 4,
   "id": "99db0caf-57a1-4c4f-8465-da280ba26a4b",
   "metadata": {},
   "outputs": [
    {
     "name": "stdout",
     "output_type": "stream",
     "text": [
      "0.8444218515250481\n",
      "0.7579544029403025\n",
      "0.420571580830845\n",
      "0.25891675029296335\n",
      "0.5112747213686085\n"
     ]
    }
   ],
   "source": [
    "from random import random, seed\n",
    "\n",
    "seed(0)\n",
    "\n",
    "for i in range(5):\n",
    "    print(random())"
   ]
  },
  {
   "cell_type": "markdown",
   "id": "bc0ed9de-16d3-4f63-b9bb-5539cfff4f6f",
   "metadata": {},
   "source": [
    "Sistemde kullanılan ondalık aritmetiğin hassasiyetine bağlı olarak sonuçlarınız biraz farklılık gösterebilir, ancak farklar genellikle ondalık noktadan uzakta minimal olacaktır."
   ]
  }
 ],
 "metadata": {
  "kernelspec": {
   "display_name": "Python 3 (ipykernel)",
   "language": "python",
   "name": "python3"
  },
  "language_info": {
   "codemirror_mode": {
    "name": "ipython",
    "version": 3
   },
   "file_extension": ".py",
   "mimetype": "text/x-python",
   "name": "python",
   "nbconvert_exporter": "python",
   "pygments_lexer": "ipython3",
   "version": "3.11.7"
  },
  "nbTranslate": {
   "displayLangs": [
    "*"
   ],
   "hotkey": "alt-t",
   "langInMainMenu": true,
   "sourceLang": "en",
   "targetLang": "fr",
   "useGoogleTranslate": true
  }
 },
 "nbformat": 4,
 "nbformat_minor": 5
}
