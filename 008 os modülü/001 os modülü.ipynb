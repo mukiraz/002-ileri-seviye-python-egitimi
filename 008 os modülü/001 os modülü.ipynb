{
 "cells": [
  {
   "cell_type": "markdown",
   "metadata": {},
   "source": [
    "### `os` Modülüne Giriş\n",
    "\n",
    "Bu bölümde, Python kullanarak işletim sistemiyle etkileşime geçmenizi sağlayan `os` adlı bir modülü inceleyeceksiniz.\n",
    "\n",
    "Bu modül, Unix ve Windows sistemlerinde kullanılabilen fonksiyonlar sunar. Komut konsoluna aşina iseniz, bazı fonksiyonların işletim sistemlerinde bulunan komutlarla benzer sonuçlar verdiğini göreceksiniz.\n",
    "\n",
    "Örneğin, `mkdir` fonksiyonu, Unix ve Windows'taki `mkdir` komutuna benzer şekilde bir dizin oluşturur. Bu komuta aşina değilseniz endişelenmeyin.\n",
    "\n",
    "Kısa süre içinde `os` modülünün fonksiyonlarını kullanarak dosya ve dizinler üzerinde işlemler yapmayı, bu işlemlere karşılık gelen komutları öğreneceksiniz.\n",
    "\n",
    "Dosya ve dizin işlemlerinin ötesinde, `os` modülü şu işlemleri yapmanızı sağlar:\n",
    "\n",
    "- İşletim sistemi hakkında bilgi edinme\n",
    "- Süreçleri yönetme\n",
    "- Dosya tanıtıcıları kullanarak G/Ç akışları üzerinde işlem yapma\n",
    "\n",
    "### Bir Penguen, Bir Yılan ve Bir Pencere\n",
    "\n",
    "Birazdan işletim sisteminiz hakkında temel bilgileri nasıl edineceğinizi öğreneceksiniz. Ancak, süreç yönetimi ve dosya tanıtıcılarıyla çalışma gibi ileri düzey konular burada ele alınmayacak, çünkü bu konular işletim sistemi mekanizmaları hakkında daha derin bir bilgi gerektirir."
   ]
  },
  {
   "cell_type": "markdown",
   "metadata": {},
   "source": [
    "### İşletim Sistemi Hakkında Bilgi Edinme\n",
    "\n",
    "İlk dizin yapınızı oluşturmadan önce, mevcut işletim sistemi hakkında nasıl bilgi edinebileceğinizi öğrenelim. Bu oldukça basittir, çünkü `os` modülü `uname` adlı bir fonksiyon sağlar. Bu fonksiyon, aşağıdaki özellikleri içeren bir nesne döndürür:\n",
    "\n",
    "- `sysname`: İşletim sisteminin adını saklar.\n",
    "- `nodename`: Makinenin ağ üzerindeki adını saklar.\n",
    "- `release`: İşletim sistemi sürümünü saklar.\n",
    "- `version`: İşletim sistemi versiyonunu saklar.\n",
    "- `machine`: Donanım tanıtıcısını saklar, örneğin, x86_64.\n",
    "\n",
    "Bunu pratikte nasıl kullanabileceğinize bakalım:"
   ]
  },
  {
   "cell_type": "code",
   "execution_count": null,
   "metadata": {},
   "outputs": [],
   "source": [
    "import os\n",
    "print(os.uname())"
   ]
  },
  {
   "cell_type": "markdown",
   "metadata": {},
   "source": [
    "**Sonuç:**\n",
    "\n",
    "```plaintext\n",
    "posix.uname_result(sysname='Linux', nodename='192d19f04766', release='4.4.0-164-generic', version='#192-Ubuntu SMP Fri Sep 13 12:02:50 UTC 2019', machine='x86_64')\n",
    "```\n",
    "\n",
    "Gördüğünüz gibi, `uname` fonksiyonu işletim sistemi hakkında bilgi içeren bir nesne döndürür. Yukarıdaki kod Ubuntu 16.04.6 LTS üzerinde çalıştırılmıştır, bu yüzden sonuçlarınız işletim sisteminize bağlı olarak farklı olabilir.\n",
    "\n",
    "Maalesef, `uname` fonksiyonu sadece bazı Unix sistemlerinde çalışır. Windows kullanıyorsanız, benzer bir sonuç döndüren `platform` modülündeki `uname` fonksiyonunu kullanabilirsiniz.\n",
    "\n",
    "`os` modülü ayrıca `name` özelliğini kullanarak işletim sistemini hızlıca tanımlamanızı sağlar. Bu özellik aşağıdaki değerlerden birine sahip olabilir:\n",
    "\n",
    "- `posix`: Unix sistemleri için.\n",
    "- `nt`: Windows sistemleri için.\n",
    "- `java`: Kodunuz Jython'da yazılmışsa.\n",
    "\n",
    "Ubuntu 16.04.6 LTS için `name` özelliği `posix` değerini döndürür:"
   ]
  },
  {
   "cell_type": "code",
   "execution_count": null,
   "metadata": {},
   "outputs": [],
   "source": [
    "import os\n",
    "print(os.name)"
   ]
  },
  {
   "cell_type": "markdown",
   "metadata": {},
   "source": [
    "```plaintext\n",
    "posix\n",
    "```\n",
    "\n",
    "**NOT:** Unix sistemlerinde, `uname` komutu (eğer `-a` seçeneğiyle çalıştırılırsa) `uname` fonksiyonuyla aynı bilgileri döndürür."
   ]
  },
  {
   "cell_type": "markdown",
   "metadata": {},
   "source": [
    "### Python'da Dizin Oluşturma\n",
    "\n",
    "`os` modülü, Unix ve Windows'taki `mkdir` komutuna benzer şekilde bir dizin oluşturmanızı sağlayan `mkdir` adlı bir fonksiyon sağlar. `mkdir` fonksiyonu, göreli veya mutlak olabilen bir yol gerektirir. Bu yolların pratikte nasıl göründüğünü inceleyelim:\n",
    "\n",
    "- `my_first_directory`: Mevcut çalışma dizininde `my_first_directory` dizinini oluşturan göreli bir yol.\n",
    "- `./my_first_directory`: Mevcut çalışma dizinini açıkça belirten göreli bir yol ve yukarıdaki yolla aynı etkiye sahiptir.\n",
    "- `../my_first_directory`: Mevcut çalışma dizininin üst dizininde `my_first_directory` dizinini oluşturan göreli bir yol.\n",
    "- `/python/my_first_directory`: Kök dizindeki `python` dizininde `my_first_directory` dizinini oluşturan mutlak bir yol.\n",
    "\n",
    "Şimdi, yalnızca dizin adını içeren en basit göreli yolu kullanarak `my_first_directory` dizinini oluşturmanın bir örneğine bakalım:"
   ]
  },
  {
   "cell_type": "code",
   "execution_count": null,
   "metadata": {},
   "outputs": [],
   "source": [
    "import os\n",
    "os.mkdir('my_first_directory')\n",
    "print(os.listdir('.'))"
   ]
  },
  {
   "cell_type": "markdown",
   "metadata": {},
   "source": [
    "Bu kodu çalıştırdığınızda, yeni oluşturulan `my_first_directory` dizinini ve mevcut çalışma dizininin tüm içeriğini görüntüler.\n",
    "\n",
    "`mkdir` fonksiyonu belirtilen yolda bir dizin oluşturur. Programı iki kez çalıştırmak bir `FileExistsError` hatası verecektir, bu da bir dizin zaten mevcutsa oluşturulamayacağını gösterir. Yol argümanının yanı sıra, `mkdir` fonksiyonu, dizin izinlerini belirten isteğe bağlı bir `mode` argümanı alabilir. Ancak, bazı sistemlerde bu argüman göz ardı edilir.\n",
    "\n",
    "Dizin izinlerini değiştirmek için Unix sistemlerdeki `chmod` komutuna benzer şekilde çalışan `chmod` fonksiyonunu kullanmanız önerilir. `chmod` hakkında daha fazla bilgi belgelerde bulunabilir.\n",
    "\n",
    "Yukarıdaki örnekte, `os` modülü tarafından sağlanan başka bir fonksiyon olan `listdir` kullanılmıştır. `listdir` fonksiyonu, argüman olarak verilen yoldaki dosya ve dizinlerin adlarını içeren bir liste döner. Eğer bir argüman verilmezse, mevcut çalışma dizini kullanılır (örnekte olduğu gibi). `listdir` fonksiyonunun sonucu, Unix sistemlerde `ls -a` komutunu kullandığınızda gösterilen `'.'` ve `'..'` girişlerini atlar.\n",
    "\n",
    "**NOT:** Hem Windows hem de Unix'te bir dizin yolu gerektiren `mkdir` adlı bir komut vardır. Yukarıdaki kodun komut satırındaki karşılığı `mkdir my_first_directory` komutudur."
   ]
  },
  {
   "cell_type": "markdown",
   "metadata": {},
   "source": [
    "### Özyinelemeli Dizin Oluşturma\n",
    "\n",
    "`mkdir` fonksiyonu çok kullanışlıdır, ancak yeni oluşturduğunuz dizin içinde başka bir dizin oluşturmanız gerekirse ne yaparsınız? Elbette, oluşturulan dizine gidip içinde başka bir dizin oluşturabilirsiniz, fakat `os` modülü bu işi kolaylaştıran `makedirs` adlı bir fonksiyon sağlar.\n",
    "\n",
    "`makedirs` fonksiyonu özyinelemeli dizin oluşturmayı sağlar, yani belirtilen yoldaki tüm dizinleri oluşturur. Aşağıdaki koda bakalım ve bunun pratikte nasıl çalıştığını görelim."
   ]
  },
  {
   "cell_type": "code",
   "execution_count": null,
   "metadata": {},
   "outputs": [],
   "source": [
    "import os\n",
    "\n",
    "os.makedirs(\"my_first_directory/my_second_directory\")\n",
    "os.chdir(\"my_first_directory\")\n",
    "print(os.listdir())"
   ]
  },
  {
   "cell_type": "markdown",
   "metadata": {},
   "source": [
    "Bu kod aşağıdaki çıktıyı vermelidir:\n",
    "\n",
    "```plaintext\n",
    "['my_second_directory']\n",
    "```\n",
    "\n",
    "Kod iki dizin oluşturur: ilki mevcut çalışma dizininde, ikincisi ise `my_first_directory` dizini içinde.\n",
    "\n",
    "`my_second_directory` dizinini oluşturmak için `my_first_directory` dizinine gitmenize gerek yoktur, çünkü `makedirs` fonksiyonu bunu sizin için yapar. Yukarıdaki örnekte, `makedirs` komutunun `my_second_directory` alt dizinini başarıyla oluşturduğunu göstermek için `my_first_directory` dizinine gidiyoruz.\n",
    "\n",
    "Dizinler arasında geçiş yapmak için, belirtilen yolu mevcut çalışma dizini olarak değiştiren `chdir` fonksiyonunu kullanabilirsiniz. Bu fonksiyon, göreli veya mutlak herhangi bir yolu argüman olarak alabilir. Örneğimizde, bu fonksiyona ilk dizin adını geçiyoruz.\n",
    "\n",
    "**NOT:** Unix sistemlerinde `makedirs` fonksiyonunun karşılığı, `-p` bayrağı ile kullanılan `mkdir` komutudur; Windows'ta ise bu basitçe yol ile birlikte `mkdir` komutudur:\n",
    "\n",
    "Unix benzeri sistemler:\n",
    "\n",
    "```sh\n",
    "mkdir -p my_first_directory/my_second_directory\n",
    "```\n",
    "\n",
    "Windows:\n",
    "\n",
    "```sh\n",
    "mkdir my_first_directory/my_second_directory\n",
    "```"
   ]
  },
  {
   "cell_type": "markdown",
   "metadata": {},
   "source": [
    "### Şimdi Neredeyim?\n",
    "\n",
    "Dizinler oluşturmayı ve bunlar arasında geçiş yapmayı öğrendiniz. Bazen büyük bir dizin yapısı içinde gezinirken, hangi dizinde çalıştığınızı bilmeyebilirsiniz.\n",
    "\n",
    "**Kaybolmuş Programcı**\n",
    "\n",
    "Neyse ki, `os` modülü mevcut çalışma dizini hakkında bilgi veren bir fonksiyon sağlar: `getcwd`. İşte bunu pratikte nasıl kullanabileceğinizi görelim:"
   ]
  },
  {
   "cell_type": "code",
   "execution_count": null,
   "metadata": {},
   "outputs": [],
   "source": [
    "import os\n",
    "\n",
    "os.makedirs(\"my_first_directory/my_second_directory\")\n",
    "os.chdir(\"my_first_directory\")\n",
    "print(os.getcwd())\n",
    "\n",
    "os.chdir(\"my_second_directory\")\n",
    "print(os.getcwd())"
   ]
  },
  {
   "cell_type": "markdown",
   "metadata": {},
   "source": [
    "**Sonuç:**\n",
    "\n",
    "```plaintext\n",
    ".../my_first_directory\n",
    ".../my_first_directory/my_second_directory\n",
    "```\n",
    "\n",
    "Bu örnekte, `my_first_directory` dizinini ve içinde `my_second_directory` dizinini oluşturuyoruz. Sonraki adımda, mevcut çalışma dizinini `my_first_directory` olarak değiştiriyoruz ve ardından mevcut dizini görüntülüyoruz (sonucun ilk satırı).\n",
    "\n",
    "Daha sonra, `my_second_directory` dizinine geçiyoruz ve mevcut dizini tekrar görüntülüyoruz (sonucun ikinci satırı). Görüldüğü gibi, `getcwd` fonksiyonu dizinlerin mutlak yolunu döndürür.\n",
    "\n",
    "**NOT:** Unix benzeri sistemlerde, `getcwd` fonksiyonunun karşılığı mevcut çalışma dizinini yazdıran `pwd` komutudur."
   ]
  },
  {
   "cell_type": "markdown",
   "metadata": {},
   "source": [
    "### Python'da Dizin Silme\n",
    "\n",
    "`os` modülü, dizinleri silmenize de olanak tanır ve tek bir dizini veya alt dizinleriyle birlikte bir dizini silme seçenekleri sunar. Tek bir dizini silmek için, yolu argüman olarak alan `rmdir` fonksiyonunu kullanabilirsiniz. İşte nasıl yapıldığı:"
   ]
  },
  {
   "cell_type": "code",
   "execution_count": null,
   "metadata": {},
   "outputs": [],
   "source": [
    "import os\n",
    "\n",
    "os.mkdir(\"my_first_directory\")\n",
    "print(os.listdir())\n",
    "os.rmdir(\"my_first_directory\")\n",
    "print(os.listdir())"
   ]
  },
  {
   "cell_type": "markdown",
   "metadata": {},
   "source": [
    "Bu basit örnekte, `my_first_directory` dizini oluşturulur ve ardından `rmdir` fonksiyonu kullanılarak silinir. `listdir` fonksiyonu, dizinin başarıyla silindiğini doğrulamak için kullanılır ve boş bir liste döndürür. Bir dizini silerken, dizinin mevcut ve boş olduğundan emin olun; aksi takdirde bir istisna oluşur.\n",
    "\n",
    "Bir dizini ve alt dizinlerini silmek için, tüm silinecek dizinleri içeren bir yol belirlemenizi gerektiren `removedirs` fonksiyonunu kullanabilirsiniz:"
   ]
  },
  {
   "cell_type": "code",
   "execution_count": null,
   "metadata": {},
   "outputs": [],
   "source": [
    "import os\n",
    "\n",
    "os.makedirs(\"my_first_directory/my_second_directory\")\n",
    "os.removedirs(\"my_first_directory/my_second_directory\")\n",
    "print(os.listdir())"
   ]
  },
  {
   "cell_type": "markdown",
   "metadata": {},
   "source": [
    "`rmdir` fonksiyonunda olduğu gibi, dizinlerden herhangi biri mevcut değilse veya boş değilse bir istisna oluşur.\n",
    "\n",
    "**NOT:** Hem Windows hem de Unix'te dizinleri silen `rmdir` adlı bir komut vardır ve bu komut, `rmdir` fonksiyonu ile benzer şekilde çalışır. Ayrıca, her iki sistemde de bir dizini ve içeriğini silmek için komutlar bulunur. Unix'te bu, `-r` bayrağı ile kullanılan `rm` komutudur."
   ]
  },
  {
   "cell_type": "markdown",
   "metadata": {},
   "source": [
    "### `system()` Fonksiyonu\n",
    "\n",
    "Kursun bu bölümünde sunulan tüm fonksiyonlar, bir komutu string olarak alıp çalıştıran `system` adlı bir fonksiyon ile değiştirilebilir.\n",
    "\n",
    "`system` fonksiyonu hem Windows hem de Unix'te kullanılabilir, ancak sistemlere göre farklı sonuçlar döndürür.\n",
    "\n",
    "- Windows'ta, verilen komutu çalıştırdıktan sonra shell tarafından döndürülen değeri döndürür.\n",
    "- Unix'te, işlemin çıkış durumunu döndürür.\n",
    "\n",
    "Aşağıdaki koda bakalım ve pratikte nasıl çalıştığını görelim:"
   ]
  },
  {
   "cell_type": "code",
   "execution_count": null,
   "metadata": {},
   "outputs": [],
   "source": [
    "import os\n",
    "\n",
    "returned_value = os.system(\"mkdir my_first_directory\")\n",
    "print(returned_value)"
   ]
  },
  {
   "cell_type": "markdown",
   "metadata": {},
   "source": [
    "**Sonuç:**\n",
    "\n",
    "```plaintext\n",
    "0\n",
    "```\n",
    "\n",
    "Yukarıdaki örnek hem Windows hem de Unix'te çalışır. Burada, Unix sistemlerinde başarıyı gösteren 0 çıkış durumunu alıyoruz.\n",
    "\n",
    "Bu, `my_first_directory` dizininin oluşturulduğu anlamına gelir. Bir alıştırma olarak, `my_first_directory` dizinini oluşturduğunuz dizinin içeriğini listelemeyi deneyin."
   ]
  },
  {
   "cell_type": "markdown",
   "metadata": {},
   "source": [
    "### Temel Bilgiler\n",
    "\n",
    "1. **`uname` Fonksiyonu**:\n",
    "   `uname` fonksiyonu, mevcut işletim sistemi hakkında bilgi içeren bir nesne döndürür ve bu nesne şu özelliklere sahiptir:\n",
    "   - `sysname`: İşletim sisteminin adı.\n",
    "   - `nodename`: Ağ üzerindeki makine adı.\n",
    "   - `release`: İşletim sistemi sürümü.\n",
    "   - `version`: İşletim sistemi versiyonu.\n",
    "   - `machine`: Donanım tanıtıcısı, örneğin, x86_64.\n",
    "\n",
    "2. **`name` Özelliği**:\n",
    "   `os` modülündeki `name` özelliği, işletim sistemini ayırt etmenizi sağlar ve aşağıdaki değerlerden birini döndürür:\n",
    "   - `posix`: Unix sistemleri için.\n",
    "   - `nt`: Windows sistemleri için.\n",
    "   - `java`: Jython gibi bir şeyde yazılmış kodlar için.\n",
    "\n",
    "3. **`mkdir` Fonksiyonu**:\n",
    "   `mkdir` fonksiyonu, belirtilen yolda bir dizin oluşturur ve yol göreli veya mutlak olabilir, örneğin:\n",
    "   ```python\n",
    "   import os\n",
    "\n",
    "   os.mkdir(\"hello\") # Göreli yol\n",
    "   os.mkdir(\"/home/python/hello\") # Mutlak yol\n",
    "   ```\n",
    "   Not: Dizin zaten mevcutsa, `FileExistsError` istisnası atılacaktır. `os` modülü ayrıca, yol üzerindeki tüm dizinleri özyinelemeli olarak oluşturmanıza olanak tanıyan `makedirs` fonksiyonunu sağlar.\n",
    "\n",
    "4. **`listdir` Fonksiyonu**:\n",
    "   `listdir` fonksiyonunun sonucu, argüman olarak verilen yoldaki dosya ve dizinlerin adlarını içeren bir listedir. Bu fonksiyon, Unix sistemlerde `ls -a` komutu kullanıldığında gösterilen `'.'` ve `'..'` girişlerini atlar. Eğer yol belirtilmezse, mevcut çalışma dizininin içeriği döndürülür.\n",
    "\n",
    "5. **`chdir` Fonksiyonu**:\n",
    "   `chdir` fonksiyonu, mevcut çalışma dizinini belirtilen yola değiştirir ve bu yol göreli veya mutlak olabilir. Mevcut çalışma dizinini öğrenmek için `getcwd` fonksiyonunu kullanabilirsiniz.\n",
    "\n",
    "6. **Dizin Silme**:\n",
    "   Bir dizini silmek için `rmdir` fonksiyonunu kullanabilirsiniz. Bir dizini ve alt dizinlerini silmek için `removedirs` fonksiyonunu kullanın.\n",
    "\n",
    "7. **`system` Fonksiyonu**:\n",
    "   Hem Unix hem de Windows'ta, `system` fonksiyonu bir komutu string olarak alır ve çalıştırır, örneğin:\n",
    "   ```python\n",
    "   import os\n",
    "\n",
    "   returned_value = os.system(\"mkdir hello\")\n",
    "   ```\n",
    "   - Windows'ta, verilen komutu çalıştırdıktan sonra shell tarafından döndürülen değeri döndürür.\n",
    "   - Unix'te, işlemin çıkış durumunu döndürür."
   ]
  }
 ],
 "metadata": {
  "language_info": {
   "name": "python"
  }
 },
 "nbformat": 4,
 "nbformat_minor": 2
}
