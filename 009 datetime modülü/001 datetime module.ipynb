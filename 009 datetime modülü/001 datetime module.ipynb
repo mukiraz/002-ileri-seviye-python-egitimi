{
 "cells": [
  {
   "cell_type": "markdown",
   "metadata": {},
   "source": [
    "### datetime Modülüne Giriş\n",
    "\n",
    "Bu bölümde, `datetime` adlı bir Python modülünü keşfedeceksiniz.\n",
    "\n",
    "Adından da anlaşılacağı gibi, bu modül tarih ve saatlerle çalışmak için sınıflar sağlar. Bu konunun sizinle ilgili olmadığını düşünüyorsanız, programlamada tarih ve saatlerin nasıl kullanıldığına dair şu örnekleri göz önünde bulundurun:\n",
    "\n",
    "- **Olay Günlüğü:** Tarih ve saati bilmek, uygulamamızda kritik bir hatanın ne zaman meydana geldiğini tam olarak belirlememizi sağlar. Günlük oluştururken tarih ve saat formatını belirtebilirsiniz.\n",
    "- **Veritabanında Değişiklikleri İzleme:** Bazen bir kaydın ne zaman oluşturulduğu veya değiştirildiği bilgisini saklamak önemlidir. `datetime` modülü bu amaç için idealdir.\n",
    "- **Veri Doğrulama:** Python'da geçerli tarih ve saati nasıl okuyacağınızı yakında öğreneceksiniz. Bu bilgiyle, çeşitli veri türlerini doğrulayabilirsiniz; örneğin, bir kullanıcının uygulamamızda girdiği indirim kuponunun hala geçerli olup olmadığını kontrol edebilirsiniz.\n",
    "- **Önemli Bilgilerin Saklanması:** Banka transferlerinin yapıldıkları tarihi ve saati kaydetmeden gerçekleştiğini hayal edin. Belirli eylemler zaman damgası gerektirir ve bunu doğru bir şekilde ele almamız gerekir.\n",
    "\n",
    "Tarih ve saat, hayatımızın birçok alanında önemli bir rol oynar, bu nedenle Python `datetime` modülünü anlamak çok önemlidir. Yeni bilgi dozuna hazır mısınız?"
   ]
  },
  {
   "cell_type": "markdown",
   "metadata": {},
   "source": [
    "### Geçerli Yerel Tarihi Alma ve Tarih Nesneleri Oluşturma\n",
    "\n",
    "Python'daki `datetime` modülü, yıl, ay ve gün içeren belirli bir tarihi temsil eden `date` adlı bir sınıf içerir. Aşağıda, `today` yöntemini kullanarak geçerli yerel tarihi nasıl alacağınızı ve özel tarih nesnelerini nasıl oluşturacağınızı göreceksiniz.\n",
    "\n",
    "#### Örnek: Geçerli Yerel Tarihi Alma\n",
    "\n",
    "Geçerli yerel tarihi almak ve görüntülemek için şu kodu kullanabilirsiniz:"
   ]
  },
  {
   "cell_type": "code",
   "execution_count": 1,
   "metadata": {},
   "outputs": [
    {
     "name": "stdout",
     "output_type": "stream",
     "text": [
      "Bugün: 2024-07-12\n",
      "Yıl: 2024\n",
      "Ay: 7\n",
      "Gün: 12\n"
     ]
    }
   ],
   "source": [
    "from datetime import date\n",
    "\n",
    "today = date.today()\n",
    "\n",
    "print(\"Bugün:\", today)\n",
    "print(\"Yıl:\", today.year)\n",
    "print(\"Ay:\", today.month)\n",
    "print(\"Gün:\", today.day)"
   ]
  },
  {
   "cell_type": "markdown",
   "metadata": {},
   "source": [
    "Bu kodu çalıştırmak, geçerli yerel tarihi gösterecektir. `today` yöntemi, `year`, `month` ve `day` olmak üzere üç özniteliği içeren bir `date` nesnesi döndürür. Bu özniteliklerin salt okunur olduğunu unutmayın.\n",
    "\n",
    "#### Örnek: Özel Bir Tarih Nesnesi Oluşturma\n",
    "\n",
    "Özel bir tarih nesnesi oluşturmak için yıl, ay ve günü şu şekilde belirtmelisiniz:"
   ]
  },
  {
   "cell_type": "code",
   "execution_count": 2,
   "metadata": {},
   "outputs": [
    {
     "name": "stdout",
     "output_type": "stream",
     "text": [
      "2019-11-04\n"
     ]
    }
   ],
   "source": [
    "from datetime import date\n",
    "\n",
    "my_date = date(2019, 11, 4)\n",
    "print(my_date)"
   ]
  },
  {
   "cell_type": "markdown",
   "metadata": {},
   "source": [
    "Bu kodu çalıştırmak, `2019-11-04` tarihini gösterecektir.\n",
    "\n",
    "#### Tarih Nesneleri Oluştururken Dikkat Edilmesi Gerekenler\n",
    "\n",
    "Bir tarih nesnesi oluştururken şu koşulların sağlandığından emin olun:\n",
    "\n",
    "- **Yıl:** 1 (`MINYEAR` sabiti) ile 9999 (`MAXYEAR` sabiti) arasında olmalıdır.\n",
    "- **Ay:** 1 ile 12 arasında olmalıdır.\n",
    "- **Gün:** Belirtilen ay ve yılın son gününe kadar olan bir değer olmalıdır.\n",
    "\n",
    "Bu kursun ilerleyen bölümlerinde, varsayılan tarih formatını nasıl değiştireceğinizi öğreneceksiniz."
   ]
  },
  {
   "cell_type": "markdown",
   "metadata": {},
   "source": [
    "### Bir Zaman Damgasından Tarih Nesnesi Oluşturma\n",
    "\n",
    "Python'daki `date` sınıfı, bir zaman damgasından (timestamp) tarih nesnesi oluşturma yeteneği sağlar.\n",
    "\n",
    "Unix sistemlerinde bir zaman damgası, 1 Ocak 1970, 00:00:00 (UTC) tarihinden itibaren geçen saniye sayısını ifade eder. Bu tarih Unix dönemi (epoch) olarak adlandırılır çünkü Unix sistemlerinde zaman sayımı bu tarihten itibaren başlamıştır.\n",
    "\n",
    "Bir zaman damgası aslında belirli bir tarih (ve zaman) ile 1 Ocak 1970, 00:00:00 (UTC) arasındaki farkın saniye cinsinden ifade edilmesidir.\n",
    "\n",
    "Bir zaman damgasından tarih nesnesi oluşturmak için, `fromtimestamp` yöntemine bir Unix zaman damgası geçmemiz gerekir.\n",
    "\n",
    "Bu amaçla, zamanla ilgili işlevler sağlayan `time` modülünü kullanabiliriz. Bu işlevlerden biri olan `time()`, 1 Ocak 1970'ten itibaren geçen saniye sayısını bir float sayı olarak döner. İşte bir örnek:"
   ]
  },
  {
   "cell_type": "code",
   "execution_count": 3,
   "metadata": {},
   "outputs": [
    {
     "name": "stdout",
     "output_type": "stream",
     "text": [
      "Zaman Damgası: 1720737202.1875536\n",
      "Tarih: 2024-07-12\n"
     ]
    }
   ],
   "source": [
    "from datetime import date\n",
    "import time\n",
    "\n",
    "timestamp = time.time()\n",
    "print(\"Zaman Damgası:\", timestamp)\n",
    "\n",
    "d = date.fromtimestamp(timestamp)\n",
    "print(\"Tarih:\", d)"
   ]
  },
  {
   "cell_type": "markdown",
   "metadata": {},
   "source": [
    "Bu kodu çalıştırdığınızda, geçerli zaman damgasını ve karşılık gelen tarihi göreceksiniz. Kodu birkaç kez çalıştırırsanız, zaman damgasının nasıl arttığını fark edeceksiniz. `time()` işlevinin sonucunun platforma bağlı olarak değişebileceğini unutmamak önemlidir, çünkü Unix ve Windows sistemlerinde artık saniyeler sayılmaz.\n",
    "\n",
    "Not: Bu kursun ilerleyen bölümlerinde `time` modülünü de ayrıntılı olarak ele alacağız."
   ]
  },
  {
   "cell_type": "markdown",
   "metadata": {},
   "source": [
    "### ISO Formatını Kullanarak Tarih Nesnesi Oluşturma\n",
    "\n",
    "`datetime` modülü, bir tarih nesnesi oluşturmak için çeşitli yöntemler sağlar. Bunlardan biri, ISO 8601 standardına uygun YYYY-AA-GG formatında bir tarihi alan `fromisoformat` yöntemidir.\n",
    "\n",
    "ISO 8601 standardı, tarih ve saatlerin nasıl temsil edileceğini tanımlar. Yaygın olarak kullanıldığından, bu standardı anlamak faydalıdır.\n",
    "\n",
    "#### Örnek: ISO Formatı ile Tarih Nesnesi Oluşturma\n",
    "\n",
    "Aşağıda, `fromisoformat` yöntemini kullanma örneği verilmiştir:"
   ]
  },
  {
   "cell_type": "code",
   "execution_count": 4,
   "metadata": {},
   "outputs": [
    {
     "name": "stdout",
     "output_type": "stream",
     "text": [
      "2019-11-04\n"
     ]
    }
   ],
   "source": [
    "from datetime import date\n",
    "\n",
    "d = date.fromisoformat('2019-11-04')\n",
    "print(d)"
   ]
  },
  {
   "cell_type": "markdown",
   "metadata": {},
   "source": [
    "Bu örnekte, YYYY 2019, AA 11 (Kasım) ve GG 04 (Kasım'ın dördüncü günü) olarak belirtilmiştir.\n",
    "\n",
    "Bir tarihi girerken, 10'dan küçük bir ay veya gün için önüne sıfır eklemeyi unutmayın.\n",
    "\n",
    "Not: `fromisoformat` yöntemi, Python 3.7 sürümünden itibaren kullanılabilir."
   ]
  },
  {
   "cell_type": "markdown",
   "metadata": {},
   "source": [
    "### `replace()` Metodu\n",
    "\n",
    "Bazen bir tarih nesnesinin yılını, ayını veya gününü değiştirmek isteyebilirsiniz. `year`, `month` ve `day` öznitelikleri salt okunur olduğu için bunu doğrudan yapamazsınız. Bu durumda, `replace` adlı yöntemi kullanabilirsiniz.\n",
    "\n",
    "#### Örnek: `replace()` Metodunu Kullanma\n",
    "\n",
    "Aşağıda `replace` metodunun nasıl kullanılacağına dair bir örnek verilmiştir:"
   ]
  },
  {
   "cell_type": "code",
   "execution_count": 5,
   "metadata": {},
   "outputs": [
    {
     "name": "stdout",
     "output_type": "stream",
     "text": [
      "1991-02-05\n",
      "1992-01-16\n"
     ]
    }
   ],
   "source": [
    "from datetime import date\n",
    "\n",
    "d = date(1991, 2, 5)\n",
    "print(d)\n",
    "\n",
    "d = d.replace(year=1992, month=1, day=16)\n",
    "print(d)"
   ]
  },
  {
   "cell_type": "markdown",
   "metadata": {},
   "source": [
    "**Çıktı:**\n",
    "```\n",
    "1991-02-05\n",
    "1992-01-16\n",
    "```\n",
    "\n",
    "`replace` metodu, yıl, ay ve gün parametrelerini değiştirmenize olanak tanır. Bu parametreler isteğe bağlıdır, yani sadece bir parametre (örneğin `year`) veya örnekte olduğu gibi tümünü geçebilirsiniz.\n",
    "\n",
    "`replace` metodu, belirtilen değişikliklerle yeni bir tarih nesnesi döndürür. Bu nedenle, güncellenmiş tarihi bir değişkene atamayı unutmamalısınız."
   ]
  },
  {
   "cell_type": "markdown",
   "metadata": {},
   "source": [
    "### Haftanın Hangi Günü?\n",
    "\n",
    "`datetime` modülü, tarihlerle çalışmayı kolaylaştıran yöntemler sağlar. Bu yöntemlerden biri, haftanın gününü belirten bir tamsayı döndüren `weekday` yöntemidir. Bu yöntemde 0 Pazartesi'yi ve 6 Pazar'ı temsil eder.\n",
    "\n",
    "#### Örnek: `weekday()` Yöntemini Kullanma\n",
    "\n",
    "İşte bir örnek:"
   ]
  },
  {
   "cell_type": "code",
   "execution_count": 6,
   "metadata": {},
   "outputs": [
    {
     "name": "stdout",
     "output_type": "stream",
     "text": [
      "0\n"
     ]
    }
   ],
   "source": [
    "from datetime import date\n",
    "\n",
    "d = date(2019, 11, 4)\n",
    "print(d.weekday())"
   ]
  },
  {
   "cell_type": "markdown",
   "metadata": {},
   "source": [
    "**Sonuç:**\n",
    "```\n",
    "0\n",
    "```\n",
    "\n",
    "Bu örnekte, `0` Pazartesi'yi temsil eder.\n",
    "\n",
    "#### Örnek: `isoweekday()` Yöntemini Kullanma\n",
    "\n",
    "`date` sınıfı ayrıca, haftanın gününü ISO 8601 standardına göre bir tamsayı olarak döndüren `isoweekday` adlı bir yöntem içerir. Bu yöntemde 1 Pazartesi'yi ve 7 Pazar'ı temsil eder:"
   ]
  },
  {
   "cell_type": "code",
   "execution_count": 7,
   "metadata": {},
   "outputs": [
    {
     "name": "stdout",
     "output_type": "stream",
     "text": [
      "1\n"
     ]
    }
   ],
   "source": [
    "from datetime import date\n",
    "\n",
    "d = date(2019, 11, 4)\n",
    "print(d.isoweekday())"
   ]
  },
  {
   "cell_type": "markdown",
   "metadata": {},
   "source": [
    "**Sonuç:**\n",
    "```\n",
    "1\n",
    "```\n",
    "\n",
    "Gördüğünüz gibi, aynı tarih için farklı bir tamsayı alıyoruz, ancak aynı günü ifade ediyor. `isoweekday` yöntemi, ISO 8601 standardını takip eder."
   ]
  },
  {
   "cell_type": "markdown",
   "metadata": {},
   "source": [
    "### Zaman Nesneleri Oluşturma\n",
    "\n",
    "Tarihi `date` nesnesi kullanarak nasıl temsil edeceğinizi zaten biliyorsunuz. `datetime` modülü, zamanı temsil etmenizi sağlayan bir sınıfa da sahiptir ve bu sınıfın adı `time`'dır.\n",
    "\n",
    "#### `time` Sınıfı İçin Parametreler\n",
    "\n",
    "`time` sınıfı yapıcısı aşağıdaki isteğe bağlı parametreleri kabul eder:\n",
    "\n",
    "| Parametre    | Kısıtlamalar                                                               |\n",
    "|--------------|----------------------------------------------------------------------------|\n",
    "| hour         | 0'a eşit veya büyük ve 24'ten küçük olmalıdır.                              |\n",
    "| minute       | 0'a eşit veya büyük ve 60'tan küçük olmalıdır.                              |\n",
    "| second       | 0'a eşit veya büyük ve 60'tan küçük olmalıdır.                              |\n",
    "| microsecond  | 0'a eşit veya büyük ve 1.000.000'dan küçük olmalıdır.                       |\n",
    "| tzinfo       | `tzinfo` alt sınıf nesnesi veya `None` (varsayılan) olmalıdır.              |\n",
    "| fold         | 0 veya 1 olmalıdır (varsayılan 0).                                          |\n",
    "\n",
    "`tzinfo` parametresi saat dilimleriyle, `fold` ise duvar saatleriyle ilişkilidir. Bu parametreleri bu kurs boyunca kullanmayacağız, ancak bunlarla ilgili bilgi edinmenizi öneririz.\n",
    "\n",
    "#### Örnek: Bir Zaman Nesnesi Oluşturma\n",
    "\n",
    "Bir `time` nesnesi oluşturmanın örneği aşağıda verilmiştir:"
   ]
  },
  {
   "cell_type": "code",
   "execution_count": 8,
   "metadata": {},
   "outputs": [
    {
     "name": "stdout",
     "output_type": "stream",
     "text": [
      "Zaman: 14:53:20.000001\n",
      "Saat: 14\n",
      "Dakika: 53\n",
      "Saniye: 20\n",
      "Mikrosaniye: 1\n"
     ]
    }
   ],
   "source": [
    "from datetime import time\n",
    "\n",
    "t = time(14, 53, 20, 1)\n",
    "\n",
    "print(\"Zaman:\", t)\n",
    "print(\"Saat:\", t.hour)\n",
    "print(\"Dakika:\", t.minute)\n",
    "print(\"Saniye:\", t.second)\n",
    "print(\"Mikrosaniye:\", t.microsecond)"
   ]
  },
  {
   "cell_type": "markdown",
   "metadata": {},
   "source": [
    "**Sonuç:**\n",
    "```\n",
    "Zaman: 14:53:20.000001\n",
    "Saat: 14\n",
    "Dakika: 53\n",
    "Saniye: 20\n",
    "Mikrosaniye: 1\n",
    "```\n",
    "\n",
    "Bu örnekte, sınıf yapıcısına dört parametre geçtik: `hour` (saat), `minute` (dakika), `second` (saniye) ve `microsecond` (mikrosaniye). Her birine sınıf öznitelikleri kullanılarak erişilebilir.\n",
    "\n",
    "Not: Yakında varsayılan zaman formatını nasıl değiştirebileceğinizi anlatacağız."
   ]
  },
  {
   "cell_type": "markdown",
   "metadata": {},
   "source": [
    "### `time` Modülü\n",
    "\n",
    "Python standart kütüphanesi, `time` sınıfına ek olarak çeşitli zaman ile ilgili fonksiyonlar sağlayan `time` adlı bir modül içerir. Tarih sınıfını tartışırken `time` fonksiyonunu zaten öğrenmiş olabilirsiniz. Şimdi, bu modülde bulunan başka bir kullanışlı fonksiyona bakalım.\n",
    "\n",
    "#### Örnek: Bir Öğrencinin Kısa Uyku Simülasyonu\n",
    "\n",
    "İşte `time` modülünü kullanarak bir öğrencinin kısa uyku simülasyonunu gerçekleştiren bir program:"
   ]
  },
  {
   "cell_type": "code",
   "execution_count": 9,
   "metadata": {},
   "outputs": [
    {
     "name": "stdout",
     "output_type": "stream",
     "text": [
      "Çok yorgunum. Kısa bir uykuya ihtiyacım var. Sonra görüşürüz.\n",
      "İyi uyudum! Kendimi harika hissediyorum!\n"
     ]
    }
   ],
   "source": [
    "import time\n",
    "\n",
    "class Student:\n",
    "    def take_nap(self, seconds):\n",
    "        print(\"Çok yorgunum. Kısa bir uykuya ihtiyacım var. Sonra görüşürüz.\")\n",
    "        time.sleep(seconds)\n",
    "        print(\"İyi uyudum! Kendimi harika hissediyorum!\")\n",
    "\n",
    "student = Student()\n",
    "student.take_nap(5)"
   ]
  },
  {
   "cell_type": "markdown",
   "metadata": {},
   "source": [
    "**Sonuç:**\n",
    "```\n",
    "Çok yorgunum. Kısa bir uykuya ihtiyacım var. Sonra görüşürüz.\n",
    "İyi uyudum! Kendimi harika hissediyorum!\n",
    "```\n",
    "\n",
    "Bu örneğin en önemli kısmı, programın belirtilen süre boyunca duraklamasını sağlayan `sleep` fonksiyonunun kullanılmasıdır. Bu durumda, program 5 saniye duraklatılır. Evet, bu çok kısa bir uyku.\n",
    "\n",
    "Öğrencinin uyku süresini artırmak için `sleep` fonksiyonuna geçirilen saniye sayısını değiştirebilirsiniz. `sleep` fonksiyonunun yalnızca bir tamsayı veya kayan nokta sayısını kabul ettiğini unutmayın."
   ]
  },
  {
   "cell_type": "markdown",
   "metadata": {},
   "source": [
    "### `ctime()` Metodu\n",
    "\n",
    "`time` modülü, 1 Ocak 1970'ten (Unix epoch) itibaren geçen süreyi saniye cinsinden bir dizeye dönüştüren `ctime` adlı bir fonksiyon sağlar.\n",
    "\n",
    "#### Örnek: `ctime()` Metodunu Kullanma\n",
    "\n",
    "İşte belirli bir zaman damgası ile `ctime` metodunu kullanma örneği:"
   ]
  },
  {
   "cell_type": "code",
   "execution_count": 10,
   "metadata": {},
   "outputs": [
    {
     "name": "stdout",
     "output_type": "stream",
     "text": [
      "Mon Nov  4 15:53:00 2019\n"
     ]
    }
   ],
   "source": [
    "import time\n",
    "\n",
    "timestamp = 1572879180\n",
    "print(time.ctime(timestamp))"
   ]
  },
  {
   "cell_type": "markdown",
   "metadata": {},
   "source": [
    "**Sonuç:**\n",
    "```\n",
    "Mon Nov  4 14:53:00 2019\n",
    "```\n",
    "\n",
    "Bu örnekte, `ctime` fonksiyonu zaman damgasını okunabilir bir dizeye dönüştürür ve bu dize 4 Kasım 2019, 14:53:00 tarihini temsil eder.\n",
    "\n",
    "Ayrıca, `ctime` fonksiyonunu saniye cinsinden bir zaman belirtmeden de çağırabilirsiniz. Bu durumda, geçerli zamanı döndürür:\n",
    "\n",
    "```python\n",
    "import time\n",
    "\n",
    "print(time.ctime())\n",
    "```\n",
    "\n",
    "Bu, benzer bir dize formatında geçerli tarih ve saati çıktılar."
   ]
  },
  {
   "cell_type": "markdown",
   "metadata": {},
   "source": [
    "### `gmtime()` ve `localtime()` Fonksiyonları\n",
    "\n",
    "`time` modülünde bulunan bazı fonksiyonlar `struct_time` sınıfını bilmenizi gerektirir. Öncelikle bu sınıfın nasıl göründüğüne bir bakalım:\n",
    "\n",
    "```python\n",
    "time.struct_time:\n",
    "    tm_year   # yılı belirtir\n",
    "    tm_mon    # ayı belirtir (1 ile 12 arasında bir değer)\n",
    "    tm_mday   # ayın gününü belirtir (1 ile 31 arasında bir değer)\n",
    "    tm_hour   # saati belirtir (0 ile 23 arasında bir değer)\n",
    "    tm_min    # dakikayı belirtir (0 ile 59 arasında bir değer)\n",
    "    tm_sec    # saniyeyi belirtir (0 ile 61 arasında bir değer)\n",
    "    tm_wday   # haftanın gününü belirtir (0 ile 6 arasında bir değer)\n",
    "    tm_yday   # yılın gününü belirtir (1 ile 366 arasında bir değer)\n",
    "    tm_isdst  # yaz saati uygulamasının geçerli olup olmadığını belirtir (1 – evet, 0 – hayır, -1 – bilinmiyor)\n",
    "    tm_zone   # saat dilimi adını belirtir (kısaltılmış formda bir değer)\n",
    "    tm_gmtoff # UTC doğusundaki kaymayı belirtir (saniye cinsinden bir değer)\n",
    "```\n",
    "\n",
    "`struct_time` sınıfı ayrıca değerlere indeks kullanarak erişmenizi sağlar. Örneğin, 0. indeks `tm_year` değerini dönerken, 8. indeks `tm_isdst` değerini döner. İstisnalar `tm_zone` ve `tm_gmtoff` öznitelikleridir, bunlara indeks kullanarak erişilemez.\n",
    "\n",
    "#### Örnek: `gmtime()` ve `localtime()` Fonksiyonlarını Kullanma\n",
    "\n",
    "Aşağıdaki kod, `struct_time` sınıfını nasıl kullanacağınızı göstermektedir:"
   ]
  },
  {
   "cell_type": "code",
   "execution_count": 11,
   "metadata": {},
   "outputs": [
    {
     "name": "stdout",
     "output_type": "stream",
     "text": [
      "time.struct_time(tm_year=2019, tm_mon=11, tm_mday=4, tm_hour=14, tm_min=53, tm_sec=0, tm_wday=0, tm_yday=308, tm_isdst=0)\n",
      "time.struct_time(tm_year=2019, tm_mon=11, tm_mday=4, tm_hour=15, tm_min=53, tm_sec=0, tm_wday=0, tm_yday=308, tm_isdst=0)\n"
     ]
    }
   ],
   "source": [
    "import time\n",
    "\n",
    "timestamp = 1572879180\n",
    "print(time.gmtime(timestamp))\n",
    "print(time.localtime(timestamp))"
   ]
  },
  {
   "cell_type": "markdown",
   "metadata": {},
   "source": [
    "**Sonuç:**\n",
    "```\n",
    "time.struct_time(tm_year=2019, tm_mon=11, tm_mday=4, tm_hour=14, tm_min=53, tm_sec=0, tm_wday=0, tm_yday=308, tm_isdst=0)\n",
    "time.struct_time(tm_year=2019, tm_mon=11, tm_mday=4, tm_hour=14, tm_min=53, tm_sec=0, tm_wday=0, tm_yday=308, tm_isdst=0)\n",
    "```\n",
    "\n",
    "Bu örnek, Unix epoch'tan geçen süreyi `struct_time` nesnesine dönüştüren iki fonksiyonu gösterir. Aralarındaki fark, `gmtime` fonksiyonunun `struct_time` nesnesini UTC zamanında döndürmesi, `localtime` fonksiyonunun ise yerel zamanda döndürmesidir. `gmtime` fonksiyonu için `tm_isdst` özniteliği her zaman 0'dır."
   ]
  },
  {
   "cell_type": "markdown",
   "metadata": {},
   "source": [
    "### `asctime()` ve `mktime()` Fonksiyonları\n",
    "\n",
    "`time` modülü, bir `struct_time` nesnesi veya `struct_time` sınıfında tartışılan indekslere göre değerler depolayan bir tuple bekleyen fonksiyonlar içerir.\n",
    "\n",
    "#### Örnek: `asctime()` ve `mktime()` Fonksiyonlarını Kullanma\n",
    "\n",
    "İşte bir örnek:"
   ]
  },
  {
   "cell_type": "code",
   "execution_count": 12,
   "metadata": {},
   "outputs": [
    {
     "name": "stdout",
     "output_type": "stream",
     "text": [
      "Mon Nov  4 14:53:00 2019\n",
      "1572875580.0\n"
     ]
    }
   ],
   "source": [
    "import time\n",
    "\n",
    "timestamp = 1572879180\n",
    "st = time.gmtime(timestamp)\n",
    "\n",
    "print(time.asctime(st))\n",
    "print(time.mktime((2019, 11, 4, 14, 53, 0, 0, 308, 0)))"
   ]
  },
  {
   "cell_type": "markdown",
   "metadata": {},
   "source": [
    "**Sonuç:**\n",
    "```\n",
    "Mon Nov  4 14:53:00 2019\n",
    "1572879180.0\n",
    "```\n",
    "\n",
    "#### `asctime()` Fonksiyonu\n",
    "\n",
    "`asctime` fonksiyonu, bir `struct_time` nesnesini veya bir tuple'ı bir string'e dönüştürür. `struct_time` nesnesini elde etmek için `gmtime` fonksiyonunu kullandığımıza dikkat edin. `asctime` fonksiyonuna bir argüman sağlamazsanız, `localtime` fonksiyonunun döndürdüğü geçerli yerel zamanı kullanır.\n",
    "\n",
    "#### `mktime()` Fonksiyonu\n",
    "\n",
    "`mktime` fonksiyonu, yerel zamanı temsil eden bir `struct_time` nesnesini veya bir tuple'ı Unix epoch'tan bu yana geçen saniye sayısına dönüştürür. Örneğimizde, aşağıdaki değerlere sahip bir tuple geçirdik:\n",
    "\n",
    "- 2019 => `tm_year`\n",
    "- 11 => `tm_mon`\n",
    "- 4 => `tm_mday`\n",
    "- 14 => `tm_hour`\n",
    "- 53 => `tm_min`\n",
    "- 0 => `tm_sec`\n",
    "- 0 => `tm_wday` (mktime tarafından yok sayılır)\n",
    "- 308 => `tm_yday` (mktime tarafından yok sayılır)\n",
    "- 0 => `tm_isdst`\n",
    "\n",
    "Bu değerler, 4 Kasım 2019, 14:53:00 tarihini temsil eder. `mktime` fonksiyonu, bu yerel zaman için karşılık gelen zaman damgasını döndürür."
   ]
  },
  {
   "cell_type": "markdown",
   "metadata": {},
   "source": [
    "### `datetime` Nesneleri Oluşturma\n",
    "\n",
    "`datetime` modülünde, tarih ve saatler ayrı nesneler olarak veya birleştirilmiş olarak temsil edilebilir. Tarih ve saati birleştiren sınıf `datetime` olarak adlandırılır.\n",
    "\n",
    "#### `datetime` Yapıcı Parametreleri\n",
    "\n",
    "`datetime` sınıfının yapıcısı aşağıdaki parametreleri kabul eder:\n",
    "\n",
    "| Parametre    | Kısıtlamalar                                                                 |\n",
    "|--------------|------------------------------------------------------------------------------|\n",
    "| year         | 1'e eşit veya büyük (`MINYEAR` sabiti) ve 9999'a eşit veya küçük (`MAXYEAR` sabiti) olmalıdır. |\n",
    "| month        | 1'e eşit veya büyük ve 12'ye eşit veya küçük olmalıdır.                      |\n",
    "| day          | 1'e eşit veya büyük ve belirtilen ay ve yılın son gününe eşit veya küçük olmalıdır. |\n",
    "| hour         | 0'a eşit veya büyük ve 24'ten küçük olmalıdır.                               |\n",
    "| minute       | 0'a eşit veya büyük ve 60'tan küçük olmalıdır.                               |\n",
    "| second       | 0'a eşit veya büyük ve 60'tan küçük olmalıdır.                               |\n",
    "| microsecond  | 0'a eşit veya büyük ve 1.000.000'dan küçük olmalıdır.                        |\n",
    "| tzinfo       | `tzinfo` alt sınıf nesnesi veya `None` (varsayılan) olmalıdır.               |\n",
    "| fold         | 0 veya 1 olmalıdır (varsayılan 0).                                           |\n",
    "\n",
    "#### Örnek: Bir `datetime` Nesnesi Oluşturma\n",
    "\n",
    "Aşağıda bir `datetime` nesnesinin nasıl oluşturulacağını gösteren bir örnek bulunmaktadır:"
   ]
  },
  {
   "cell_type": "code",
   "execution_count": 13,
   "metadata": {},
   "outputs": [
    {
     "name": "stdout",
     "output_type": "stream",
     "text": [
      "Datetime: 2019-11-04 14:53:00\n",
      "Date: 2019-11-04\n",
      "Time: 14:53:00\n"
     ]
    }
   ],
   "source": [
    "from datetime import datetime\n",
    "\n",
    "dt = datetime(2019, 11, 4, 14, 53)\n",
    "\n",
    "print(\"Datetime:\", dt)\n",
    "print(\"Date:\", dt.date())\n",
    "print(\"Time:\", dt.time())"
   ]
  },
  {
   "cell_type": "markdown",
   "metadata": {},
   "source": [
    "**Sonuç:**\n",
    "```\n",
    "Datetime: 2019-11-04 14:53:00\n",
    "Date: 2019-11-04\n",
    "Time: 14:53:00\n",
    "```\n",
    "\n",
    "Bu örnek, 4 Kasım 2019, 14:53:00'u temsil eden bir `datetime` nesnesi oluşturur. Yapıcıya geçirilen tüm parametreler salt okunur sınıf özniteliklerinde saklanır: `year`, `month`, `day`, `hour`, `minute`, `second`, `microsecond`, `tzinfo` ve `fold`.\n",
    "\n",
    "Örnek ayrıca iki yöntemi gösterir:\n",
    "- `date()`: Belirtilen yıl, ay ve günü içeren bir `date` nesnesi döner.\n",
    "- `time()`: Belirtilen saat ve dakikayı içeren bir `time` nesnesi döner."
   ]
  },
  {
   "cell_type": "markdown",
   "metadata": {},
   "source": [
    "### Geçerli Tarih ve Saati Döndüren Yöntemler\n",
    "\n",
    "Python'daki `datetime` sınıfı, geçerli tarih ve saati döndüren birkaç yöntem sağlar. Bu yöntemler şunlardır:\n",
    "\n",
    "- **`today()`**: `tzinfo` özniteliği `None` olarak ayarlanmış geçerli yerel tarih ve saati döner.\n",
    "- **`now()`**: `today` yöntemiyle aynı şekilde geçerli yerel tarih ve saati döner, ancak isteğe bağlı `tz` argümanı geçilirse, bu argüman `tzinfo` alt sınıfı nesnesi olmalıdır.\n",
    "- **`utcnow()`**: `tzinfo` özniteliği `None` olarak ayarlanmış geçerli UTC tarih ve saati döner.\n",
    "\n",
    "#### Örnek: `today()`, `now()` ve `utcnow()` Yöntemlerini Kullanma\n",
    "\n",
    "Bu yöntemleri pratikte görmek için bir örnek:"
   ]
  },
  {
   "cell_type": "code",
   "execution_count": 14,
   "metadata": {},
   "outputs": [
    {
     "name": "stdout",
     "output_type": "stream",
     "text": [
      "today: 2024-07-12 00:33:27.280499\n",
      "now: 2024-07-12 00:33:27.281506\n",
      "utcnow: 2024-07-11 22:33:27.281506\n"
     ]
    }
   ],
   "source": [
    "from datetime import datetime\n",
    "\n",
    "print(\"today:\", datetime.today())\n",
    "print(\"now:\", datetime.now())\n",
    "print(\"utcnow:\", datetime.utcnow())"
   ]
  },
  {
   "cell_type": "markdown",
   "metadata": {},
   "source": [
    "**Çıktı:**\n",
    "```\n",
    "today: 2024-07-11 08:56:12.123456\n",
    "now: 2024-07-11 08:56:12.123456\n",
    "utcnow: 2024-07-11 13:56:12.123456\n",
    "```\n",
    "\n",
    "Gördüğünüz gibi, üç yöntemin de sonuçları birbirine benzer, yalnızca ardışık çağrılar arasında geçen süre nedeniyle küçük farklar vardır.\n",
    "\n",
    "- `today()`: Geçerli yerel tarih ve saati döner.\n",
    "- `now()`: Geçerli yerel tarih ve saati döner ve isteğe bağlı olarak bir `tz` argümanı alabilir.\n",
    "- `utcnow()`: Geçerli UTC tarih ve saati döner.\n",
    "\n",
    "Not: `tzinfo` nesneleri hakkında daha fazla bilgi için Python belgelerine başvurabilirsiniz."
   ]
  },
  {
   "cell_type": "markdown",
   "metadata": {},
   "source": [
    "### Zaman Damgası Alma\n",
    "\n",
    "`datetime` modülü, verilen bir tarih ve saate dayalı olarak zaman damgası hesaplamanızı sağlayan `timestamp` yöntemini sağlar.\n",
    "\n",
    "#### Örnek: `timestamp()` Yöntemini Kullanma\n",
    "\n",
    "Aşağıda, belirtilen tarih ve saat ile 1 Ocak 1970, 00:00:00 (UTC) arasındaki geçen saniye sayısını almak için `timestamp` yönteminin nasıl kullanılacağını görebilirsiniz:"
   ]
  },
  {
   "cell_type": "code",
   "execution_count": 15,
   "metadata": {},
   "outputs": [
    {
     "name": "stdout",
     "output_type": "stream",
     "text": [
      "Zaman Damgası: 1601816100.0\n"
     ]
    }
   ],
   "source": [
    "from datetime import datetime\n",
    "\n",
    "dt = datetime(2020, 10, 4, 14, 55)\n",
    "print(\"Zaman Damgası:\", dt.timestamp())"
   ]
  },
  {
   "cell_type": "markdown",
   "metadata": {},
   "source": [
    "**Sonuç:**\n",
    "```\n",
    "Zaman Damgası: 1601823300.0\n",
    "```\n",
    "\n",
    "Bu örnekte, `timestamp` yöntemi belirtilen tarih ve saat (4 Ekim 2020, 14:55) ile Unix epoch (1 Ocak 1970, 00:00:00 UTC) arasındaki geçen saniye sayısını ifade eden bir float değeri döndürür.\n",
    "\n",
    "`timestamp` yöntemi, bir `datetime` nesnesini Unix zaman damgasına dönüştürmek için kullanışlı bir yoldur ve çeşitli uygulamalarda ve sistemlerde yaygın olarak kullanılır."
   ]
  },
  {
   "cell_type": "markdown",
   "metadata": {},
   "source": [
    "### Tarih ve Saat Biçimlendirme (Bölüm 1)\n",
    "\n",
    "Şimdiye kadar tanıtılan tüm `datetime` modül sınıflarının, `strftime` adlı bir yöntemi vardır. Bu yöntem çok önemlidir, çünkü tarih ve saati belirttiğimiz formatta döndürmemizi sağlar.\n",
    "\n",
    "`strftime` yöntemi, yalnızca biçimi belirten bir dize şeklinde tek bir argüman alır ve bu biçim yönergelerden oluşabilir.\n",
    "\n",
    "Bir yönerge, `%` (yüzde) karakteri ve bir küçük veya büyük harften oluşan bir dizedir. Örneğin, `%Y` yönergesi, yüzyıl ile birlikte yılı ondalık bir sayı olarak ifade eder. Bir örnek görelim:\n",
    "\n",
    "#### Örnek: `strftime()` Yöntemini Kullanma"
   ]
  },
  {
   "cell_type": "code",
   "execution_count": 16,
   "metadata": {},
   "outputs": [
    {
     "name": "stdout",
     "output_type": "stream",
     "text": [
      "2020/01/04\n"
     ]
    }
   ],
   "source": [
    "from datetime import date\n",
    "\n",
    "d = date(2020, 1, 4)\n",
    "print(d.strftime('%Y/%m/%d'))"
   ]
  },
  {
   "cell_type": "markdown",
   "metadata": {},
   "source": [
    "\n",
    "**Sonuç:**\n",
    "```\n",
    "2020/01/04\n",
    "```\n",
    "\n",
    "Bu örnekte, `strftime` yöntemine `/` (eğik çizgi) ile ayrılmış üç yönergeden oluşan bir format dizisi geçirdik. Ayırıcı karakter başka bir karakter veya hatta bir dize ile değiştirilebilir.\n",
    "\n",
    "Format dizisinde herhangi bir karakteri kullanabilirsiniz, ancak yalnızca tanınan yönergeler uygun değerlerle değiştirilir. Formatımızda aşağıdaki yönergeleri kullandık:\n",
    "\n",
    "- `%Y`: Yüzyıl ile birlikte yılı ondalık bir sayı olarak döner. Örneğimizde bu `2020`.\n",
    "- `%m`: Ayı sıfır ile doldurulmuş ondalık bir sayı olarak döner. Örneğimizde bu `01`.\n",
    "- `%d`: Günü sıfır ile doldurulmuş ondalık bir sayı olarak döner. Örneğimizde bu `04`.\n",
    "\n",
    "Tüm kullanılabilir yönergeleri [Python belgelerinde](https://docs.python.org/3/library/datetime.html#strftime-and-strptime-format-codes) bulabilirsiniz."
   ]
  },
  {
   "cell_type": "markdown",
   "metadata": {},
   "source": [
    "### Tarih ve Saat Biçimlendirme (Bölüm 2)\n",
    "\n",
    "Saat biçimlendirme, tarih biçimlendirme ile aynı şekilde çalışır, ancak uygun yönergelerin kullanılması gerekir. Aşağıda bazılarını daha yakından inceleyelim."
   ]
  },
  {
   "cell_type": "code",
   "execution_count": 17,
   "metadata": {},
   "outputs": [
    {
     "name": "stdout",
     "output_type": "stream",
     "text": [
      "14:53:00\n",
      "20/November/04 14:53:00\n"
     ]
    }
   ],
   "source": [
    "from datetime import time\n",
    "from datetime import datetime\n",
    "\n",
    "t = time(14, 53)\n",
    "print(t.strftime(\"%H:%M:%S\"))\n",
    "\n",
    "dt = datetime(2020, 11, 4, 14, 53)\n",
    "print(dt.strftime(\"%y/%B/%d %H:%M:%S\"))"
   ]
  },
  {
   "cell_type": "markdown",
   "metadata": {},
   "source": [
    "**Sonuç:**\n",
    "```\n",
    "14:53:00\n",
    "20/November/04 14:53:00\n",
    "```\n",
    "\n",
    "#### İlk Format: Sadece Saat\n",
    "Kullanılan ilk format sadece saati içerir. Tahmin edebileceğiniz gibi, `%H` saati sıfır ile doldurulmuş ondalık bir sayı olarak döner, `%M` dakikayı sıfır ile doldurulmuş ondalık bir sayı olarak döner ve `%S` saniyeyi sıfır ile doldurulmuş ondalık bir sayı olarak döner. Örneğimizde, `%H` 14 ile, `%M` 53 ile ve `%S` 00 ile değiştirilir.\n",
    "\n",
    "#### İkinci Format: Tarih ve Saat\n",
    "Kullanılan ikinci format, tarih ve saat yönergelerini birleştirir. İki yeni yönerge vardır: `%y` ve `%B`. `%y` yönergesi, yılı yüzyıl olmadan sıfır ile doldurulmuş ondalık bir sayı olarak döner (örneğimizde bu 20). `%B` yönergesi, ayı yerel dilde tam adı olarak döner (örneğimizde bu November).\n",
    "\n",
    "Genel olarak, formatlar oluştururken oldukça özgürsünüz, ancak yönergeleri doğru şekilde kullanmanız gerektiğini unutmamalısınız. Bir alıştırma olarak, örneğin, `%Y` yönergesini zaman nesnesinin `strftime` metoduna geçirilen formatta kullanmayı deneyebilirsiniz. Bu sonuca neden ulaştığınızı kendiniz bulmaya çalışın. İyi şanslar!"
   ]
  },
  {
   "cell_type": "markdown",
   "metadata": {},
   "source": [
    "### `time` Modülündeki `strftime()` Fonksiyonu\n",
    "\n",
    "`strftime` fonksiyonunun `time` modülünde de mevcut olduğunu öğrenmek sizi şaşırtmayacaktır. Bu fonksiyon, `datetime` modülündeki `strftime` yöntemlerinden biraz farklıdır çünkü format argümanına ek olarak, isteğe bağlı olarak bir tuple veya `struct_time` nesnesi de alabilir.\n",
    "\n",
    "Eğer bir tuple veya `struct_time` nesnesi geçmezseniz, biçimlendirme geçerli yerel zamanı kullanarak yapılır. İşte bir örnek:"
   ]
  },
  {
   "cell_type": "code",
   "execution_count": 18,
   "metadata": {},
   "outputs": [
    {
     "name": "stdout",
     "output_type": "stream",
     "text": [
      "2019/11/04 14:53:00\n",
      "2024/07/12 00:33:27\n"
     ]
    }
   ],
   "source": [
    "import time\n",
    "\n",
    "timestamp = 1572879180\n",
    "st = time.gmtime(timestamp)\n",
    "\n",
    "print(time.strftime(\"%Y/%m/%d %H:%M:%S\", st))\n",
    "print(time.strftime(\"%Y/%m/%d %H:%M:%S\"))"
   ]
  },
  {
   "cell_type": "markdown",
   "metadata": {},
   "source": [
    "**Çıktı:**\n",
    "```\n",
    "2019/11/04 14:53:00\n",
    "2020/10/12 12:19:40\n",
    "```\n",
    "\n",
    "`time` modülündeki `strftime` fonksiyonu ile format oluşturmak, `datetime` modülündeki `strftime` yöntemleri ile benzerdir. Örneğimizde, zaten bildiğiniz `%Y`, `%m`, `%d`, `%H`, `%M` ve `%S` yönergelerini kullandık.\n",
    "\n",
    "- İlk fonksiyon çağrısında, `struct_time` nesnesini biçimlendirdik.\n",
    "- İkinci çağrıda (isteğe bağlı argüman olmadan), geçerli yerel zamanı biçimlendirdik.\n",
    "\n",
    "`time` modülündeki `strftime` fonksiyonu için tüm mevcut yönergeleri [burada](https://docs.python.org/3/library/time.html#time.strftime) bulabilirsiniz."
   ]
  },
  {
   "cell_type": "markdown",
   "metadata": {},
   "source": [
    "### `strptime()` Metodu\n",
    "\n",
    "Bir format oluşturmayı bilmek, `datetime` sınıfındaki `strptime` metodunu kullanırken yardımcı olur. `strftime` metodunun aksine, `strptime` bir tarih ve saati temsil eden bir dizeden bir `datetime` nesnesi oluşturur.\n",
    "\n",
    "`strptime` metodu, tarih ve saatin hangi formatta kaydedildiğini belirtmenizi gerektirir. Bir örneğe bakalım:"
   ]
  },
  {
   "cell_type": "code",
   "execution_count": 19,
   "metadata": {},
   "outputs": [
    {
     "name": "stdout",
     "output_type": "stream",
     "text": [
      "2019-11-04 14:53:00\n"
     ]
    }
   ],
   "source": [
    "from datetime import datetime\n",
    "\n",
    "date_str = \"2019/11/04 14:53:00\"\n",
    "date_format = \"%Y/%m/%d %H:%M:%S\"\n",
    "dt = datetime.strptime(date_str, date_format)\n",
    "print(dt)"
   ]
  },
  {
   "cell_type": "markdown",
   "metadata": {},
   "source": [
    "**Sonuç:**\n",
    "```\n",
    "2019-11-04 14:53:00\n",
    "```\n",
    "\n",
    "Bu örnekte, iki gerekli argüman belirttik:\n",
    "1. Bir dize olarak tarih ve saat: `\"2019/11/04 14:53:00\"`\n",
    "2. Bir `datetime` nesnesine dönüştürmeyi kolaylaştıran bir format dizesi: `\"%Y/%m/%d %H:%M:%S\"`\n",
    "\n",
    "Dikkatli olun, çünkü belirttiğiniz format dizideki tarih ve saatle eşleşmezse, bir `ValueError` hatası oluşur.\n",
    "\n",
    "### `time` Modülünde `strptime()` Kullanımı\n",
    "\n",
    "`time` modülünde, bir zamanı temsil eden bir dizeyi `struct_time` nesnesine ayrıştıran bir `strptime` fonksiyonu da vardır. Kullanımı, `datetime` sınıfındaki `strptime` metoduna benzerdir:"
   ]
  },
  {
   "cell_type": "code",
   "execution_count": 20,
   "metadata": {},
   "outputs": [
    {
     "name": "stdout",
     "output_type": "stream",
     "text": [
      "time.struct_time(tm_year=2019, tm_mon=11, tm_mday=4, tm_hour=14, tm_min=53, tm_sec=0, tm_wday=0, tm_yday=308, tm_isdst=-1)\n"
     ]
    }
   ],
   "source": [
    "import time\n",
    "\n",
    "time_str = \"2019/11/04 14:53:00\"\n",
    "time_format = \"%Y/%m/%d %H:%M:%S\"\n",
    "st = time.strptime(time_str, time_format)\n",
    "print(st)"
   ]
  },
  {
   "cell_type": "markdown",
   "metadata": {},
   "source": [
    "**Sonuç:**\n",
    "```\n",
    "time.struct_time(tm_year=2019, tm_mon=11, tm_mday=4, tm_hour=14, tm_min=53, tm_sec=0, tm_wday=0, tm_yday=308, tm_isdst=-1)\n",
    "```\n",
    "\n",
    "Her iki yöntem de, tarih ve saatinin dize temsillerini ilgili nesnelere dönüştürmek ve daha fazla manipülasyon ve biçimlendirme yapmak için kullanışlıdır."
   ]
  },
  {
   "cell_type": "markdown",
   "metadata": {},
   "source": [
    "### Tarih ve Saat İşlemleri\n",
    "\n",
    "Er ya da geç tarih ve saat üzerinde bazı hesaplamalar yapmanız gerekecek. Neyse ki, `datetime` modülünde tam da bu amaç için oluşturulmuş `timedelta` adlı bir sınıf var.\n",
    "\n",
    "Bir `timedelta` nesnesi oluşturmak için, iki `date` veya `datetime` nesnesini birbirinden çıkarabilirsiniz. Bir örneğe bakalım:"
   ]
  },
  {
   "cell_type": "code",
   "execution_count": 21,
   "metadata": {},
   "outputs": [
    {
     "name": "stdout",
     "output_type": "stream",
     "text": [
      "366 days, 0:00:00\n",
      "365 days, 9:07:00\n"
     ]
    }
   ],
   "source": [
    "from datetime import date\n",
    "from datetime import datetime\n",
    "\n",
    "d1 = date(2020, 11, 4)\n",
    "d2 = date(2019, 11, 4)\n",
    "\n",
    "print(d1 - d2)\n",
    "\n",
    "dt1 = datetime(2020, 11, 4, 0, 0, 0)\n",
    "dt2 = datetime(2019, 11, 4, 14, 53, 0)\n",
    "\n",
    "print(dt1 - dt2)"
   ]
  },
  {
   "cell_type": "markdown",
   "metadata": {},
   "source": [
    "**Sonuç:**\n",
    "```\n",
    "366 gün, 0:00:00\n",
    "365 gün, 9:07:00\n",
    "```\n",
    "\n",
    "Bu örnek, hem `date` hem de `datetime` nesneleri için çıkarma işlemini göstermektedir:\n",
    "- İlk durumda, iki `date` nesnesini çıkardığımızda farkı gün cinsinden alırız ve bu 366 gündür.\n",
    "- İkinci durumda, iki `datetime` nesnesini çıkardığımızda saat, dakika ve saniye farkını da içeren bir sonuç alırız ve bu 365 gün, 9 saat ve 7 dakikadır.\n",
    "\n",
    "Kısa bir süre sonra `timedelta` nesneleri oluşturma ve bu nesnelerle yapabileceğiniz işlemler hakkında daha fazla bilgi edineceksiniz."
   ]
  },
  {
   "cell_type": "markdown",
   "metadata": {},
   "source": [
    "### `timedelta` Nesneleri Oluşturma\n",
    "\n",
    "Bir `timedelta` nesnesinin, iki `date` veya `datetime` nesnesini çıkarma işleminin sonucu olarak döndürülebileceğini öğrendiniz. Elbette, bir nesneyi doğrudan kendiniz de oluşturabilirsiniz. Bunun için sınıf yapıcısı tarafından kabul edilen argümanlarla tanışalım: `days`, `seconds`, `microseconds`, `milliseconds`, `minutes`, `hours` ve `weeks`. Her biri isteğe bağlıdır ve varsayılan olarak 0'dır.\n",
    "\n",
    "Bu argümanlar tamsayılar veya kayan nokta sayıları olmalı ve pozitif veya negatif olabilirler. Bir örneğe bakalım:"
   ]
  },
  {
   "cell_type": "code",
   "execution_count": 22,
   "metadata": {},
   "outputs": [
    {
     "name": "stdout",
     "output_type": "stream",
     "text": [
      "Days: 16\n",
      "Seconds: 10800\n",
      "Microseconds: 0\n"
     ]
    }
   ],
   "source": [
    "from datetime import timedelta\n",
    "\n",
    "delta = timedelta(weeks=2, days=2, hours=3)\n",
    "print(\"Days:\", delta.days)\n",
    "print(\"Seconds:\", delta.seconds)\n",
    "print(\"Microseconds:\", delta.microseconds)"
   ]
  },
  {
   "cell_type": "markdown",
   "metadata": {},
   "source": [
    "**Sonuç:**\n",
    "```\n",
    "Days: 16\n",
    "Seconds: 10800\n",
    "Microseconds: 0\n",
    "```\n",
    "\n",
    "Bu örnekte, `timedelta` nesnesi şu şekilde oluşturulmuştur:\n",
    "- `weeks=2` (14 güne dönüştürülür),\n",
    "- `days=2`,\n",
    "- `hours=3` (10800 saniyeye dönüştürülür).\n",
    "\n",
    "`timedelta` nesnesi bu argümanları dahili olarak gün, saniye ve mikrosaniye olarak saklar. `16 gün` sonucu, 2 haftadan (14 gün) ve 2 günün eklenmesiyle elde edilir. `10800 saniye` sonucu ise 3 saatin saniyeye dönüştürülmesiyle elde edilir.\n",
    "\n",
    "Bu davranış normaldir çünkü `timedelta` nesnesi içsel olarak yalnızca gün, saniye ve mikrosaniyeleri saklar. Haftalar, saatler ve dakikalar gibi diğer birimler nesne oluşturulurken bu içsel birimlere dönüştürülür.\n",
    "\n",
    "### Özet\n",
    "\n",
    "- `timedelta` nesneleri, `days`, `seconds`, `microseconds`, `milliseconds`, `minutes`, `hours` ve `weeks` argümanları geçirilerek doğrudan oluşturulabilir.\n",
    "- Argümanlar tamsayı veya kayan nokta sayıları olabilir ve pozitif veya negatif olabilir.\n",
    "- `timedelta` dahili olarak değerleri gün, saniye ve mikrosaniye olarak saklar.\n",
    "- Haftalar, saatler ve dakikalar gibi birimler, bu içsel birimlere dönüştürülür.\n",
    "\n",
    "`timedelta` nesnelerinin nasıl oluşturulacağını ve kullanılacağını anlayarak, çeşitli tarih ve saat hesaplamalarını kolayca yapabilirsiniz."
   ]
  },
  {
   "cell_type": "markdown",
   "metadata": {},
   "source": [
    "### `timedelta` Nesnelerinin Pratikte Kullanımı\n",
    "\n",
    "`timedelta` nesnesinin geçilen argümanları içsel olarak nasıl sakladığını zaten biliyorsunuz. Şimdi, nasıl kullanılabileceğini pratikte görelim.\n",
    "\n",
    "Aşağıda, `datetime` modül sınıfları tarafından desteklenen bazı işlemleri gösteren bir kod bulunmaktadır:"
   ]
  },
  {
   "cell_type": "code",
   "execution_count": 23,
   "metadata": {},
   "outputs": [
    {
     "name": "stdout",
     "output_type": "stream",
     "text": [
      "16 days, 2:00:00\n",
      "32 days, 4:00:00\n",
      "2019-11-05\n",
      "2019-11-05 18:53:00\n"
     ]
    }
   ],
   "source": [
    "from datetime import timedelta\n",
    "from datetime import date\n",
    "from datetime import datetime\n",
    "\n",
    "delta = timedelta(weeks=2, days=2, hours=2)\n",
    "print(delta)\n",
    "\n",
    "delta2 = delta * 2\n",
    "print(delta2)\n",
    "\n",
    "d = date(2019, 10, 4) + delta2\n",
    "print(d)\n",
    "\n",
    "dt = datetime(2019, 10, 4, 14, 53) + delta2\n",
    "print(dt)"
   ]
  },
  {
   "cell_type": "markdown",
   "metadata": {},
   "source": [
    "**Sonuç:**\n",
    "```\n",
    "16 gün, 2:00:00\n",
    "32 gün, 4:00:00\n",
    "2019-11-05\n",
    "2019-11-05 18:53:00\n",
    "```\n",
    "\n",
    "### Açıklama\n",
    "\n",
    "#### `timedelta` ile Çarpma\n",
    "\n",
    "`timedelta` nesnesi bir tamsayı ile çarpılabilir. Örneğimizde, 16 gün ve 2 saati temsil eden `timedelta` nesnesini 2 ile çarptık. Sonuç, 32 gün ve 4 saati temsil eden bir `timedelta` nesnesidir."
   ]
  },
  {
   "cell_type": "code",
   "execution_count": 24,
   "metadata": {},
   "outputs": [
    {
     "name": "stdout",
     "output_type": "stream",
     "text": [
      "32 days, 4:00:00\n"
     ]
    }
   ],
   "source": [
    "delta2 = delta * 2\n",
    "print(delta2)\n",
    "# Çıktı: 32 gün, 4:00:00"
   ]
  },
  {
   "cell_type": "markdown",
   "metadata": {},
   "source": [
    "Hem günler hem de saatler 2 ile çarpılmıştır.\n",
    "\n",
    "#### `timedelta` Nesnesini `date` ve `datetime` Nesnelerine Ekleme\n",
    "\n",
    "Başka bir ilginç işlem, bir `timedelta` nesnesini `date` ve `datetime` nesnelerine eklemektir. Örneğimizde, bir `timedelta` nesnesini bir `date` nesnesine ve bir `datetime` nesnesine ekledik:\n",
    "\n",
    "```python\n",
    "d = date(2019, 10, 4) + delta2\n",
    "print(d)\n",
    "# Çıktı: 2019-11-05\n",
    "\n",
    "dt = datetime(2019, 10, 4, 14, 53) + delta2\n",
    "print(dt)\n",
    "# Çıktı: 2019-11-05 18:53:00\n",
    "```\n",
    "\n",
    "Bu işlemlerin sonucu, `timedelta` nesnesinde saklanan günler ve saatler ile artırılmış `date` ve `datetime` nesneleridir.\n",
    "\n",
    "### Özet\n",
    "\n",
    "- **Çarpma**: `timedelta` nesnesi bir tamsayı ile çarpılarak değeri hızlıca artırılabilir. Bu, gelecekteki tarihleri elde etmek için yararlıdır.\n",
    "- **Ekleme**: Bir `timedelta` nesnesini `date` ve `datetime` nesnelerine ekleyerek yeni tarih ve saat değerleri elde edebilirsiniz.\n",
    "\n",
    "`timedelta`, `date` ve `datetime` sınıfları birçok başka işlemi de destekler. Daha fazla bilgi edinmek için resmi Python belgelerine başvurabilirsiniz."
   ]
  },
  {
   "cell_type": "markdown",
   "metadata": {},
   "source": [
    "### Özet\n",
    "\n",
    "1. **Tarih Nesnesi Oluşturma:**\n",
    "   Bir `date` nesnesi oluşturmak için yıl, ay ve gün argümanlarını geçmeniz gerekir:\n",
    "\n",
    "   ```python\n",
    "   from datetime import date\n",
    "\n",
    "   my_date = date(2020, 9, 29)\n",
    "   print(\"Yıl:\", my_date.year)  # Yıl: 2020\n",
    "   print(\"Ay:\", my_date.month)  # Ay: 9\n",
    "   print(\"Gün:\", my_date.day)  # Gün: 29\n",
    "   ```\n",
    "\n",
    "   `date` nesnesinin üç salt okunur özniteliği vardır: `year`, `month` ve `day`.\n",
    "\n",
    "2. **Geçerli Tarihi Alma:**\n",
    "   `today` metodu, geçerli yerel tarihi temsil eden bir `date` nesnesi döner:\n",
    "\n",
    "   ```python\n",
    "   from datetime import date\n",
    "   print(\"Bugün:\", date.today())  # Ekrana yazdırır: Bugün: 2020-09-29\n",
    "   ```\n",
    "\n",
    "3. **Bir Zaman Damgasından Tarih Nesnesi Oluşturma:**\n",
    "   Unix'te zaman damgası, 1 Ocak 1970, 00:00:00 (UTC) tarihinden itibaren geçen saniye sayısını ifade eder. Bir `date` nesnesini bir zaman damgasından oluşturmak için `fromtimestamp` metodunu kullanın:\n",
    "\n",
    "   ```python\n",
    "   from datetime import date\n",
    "   import time\n",
    "\n",
    "   timestamp = time.time()\n",
    "   d = date.fromtimestamp(timestamp)\n",
    "   print(d)\n",
    "   ```\n",
    "\n",
    "   Not: `time` fonksiyonu, 1 Ocak 1970'ten itibaren geçen saniye sayısını kayan nokta sayısı olarak döner.\n",
    "\n",
    "4. **Saat Nesnesi Oluşturma:**\n",
    "   `time` sınıfının yapıcısı altı argüman kabul eder (`hour`, `minute`, `second`, `microsecond`, `tzinfo`, ve `fold`). Bu argümanların her biri isteğe bağlıdır:\n",
    "\n",
    "   ```python\n",
    "   from datetime import time\n",
    "\n",
    "   t = time(13, 22, 20)\n",
    "\n",
    "   print(\"Saat:\", t.hour)  # Saat: 13\n",
    "   print(\"Dakika:\", t.minute)  # Dakika: 22\n",
    "   print(\"Saniye:\", t.second)  # Saniye: 20\n",
    "   ```\n",
    "\n",
    "5. **`sleep` Fonksiyonunu Kullanma:**\n",
    "   `time` modülü, verilen süre kadar programın yürütülmesini durduran `sleep` fonksiyonunu içerir:\n",
    "\n",
    "   ```python\n",
    "   import time\n",
    "\n",
    "   time.sleep(10)\n",
    "   print(\"Merhaba dünya!\")  # Bu metin 10 saniye sonra görüntülenecektir.\n",
    "   ```\n",
    "\n",
    "6. **`datetime` Nesnesi Oluşturma:**\n",
    "   `datetime` modülünde tarih ve saat, ayrı nesneler veya tek bir nesne olarak temsil edilebilir. Tarih ve saati birleştiren sınıf `datetime` olarak adlandırılır. Yapıcıya geçirilen tüm argümanlar salt okunur sınıf özniteliklerine gider:\n",
    "\n",
    "   ```python\n",
    "   from datetime import datetime\n",
    "\n",
    "   dt = datetime(2020, 9, 29, 13, 51)\n",
    "   print(\"Datetime:\", dt)  # Ekrana yazdırır: Datetime: 2020-09-29 13:51:00\n",
    "   ```\n",
    "\n",
    "7. **Tarih ve Saat Biçimlendirme:**\n",
    "   `strftime` metodu, bir format belirten bir dize şeklinde tek bir argüman alır. Kullanışlı bazı yönergeler şunlardır:\n",
    "\n",
    "   - `%Y` – yılı yüzyıl ile birlikte ondalık sayı olarak döner.\n",
    "   - `%m` – ayı sıfır ile doldurulmuş ondalık sayı olarak döner.\n",
    "   - `%d` – günü sıfır ile doldurulmuş ondalık sayı olarak döner.\n",
    "   - `%H` – saati sıfır ile doldurulmuş ondalık sayı olarak döner.\n",
    "   - `%M` – dakikayı sıfır ile doldurulmuş ondalık sayı olarak döner.\n",
    "   - `%S` – saniyeyi sıfır ile doldurulmuş ondalık sayı olarak döner.\n",
    "\n",
    "   Örnek:\n",
    "\n",
    "   ```python\n",
    "   from datetime import date\n",
    "\n",
    "   d = date(2020, 9, 29)\n",
    "   print(d.strftime('%Y/%m/%d'))  # Ekrana yazdırır: 2020/09/29\n",
    "   ```\n",
    "\n",
    "8. **Tarih ve Datetime Hesaplamaları:**\n",
    "   `date` ve `datetime` nesneleri üzerinde hesaplamalar yapmak mümkündür. Örneğin:\n",
    "\n",
    "   ```python\n",
    "   from datetime import date\n",
    "\n",
    "   d1 = date(2020, 11, 4)\n",
    "   d2 = date(2019, 11, 4)\n",
    "\n",
    "   d = d1 - d2\n",
    "   print(d)  # Ekrana yazdırır: 366 gün, 0:00:00.\n",
    "   print(d * 2)  # Ekrana yazdırır: 732 gün, 0:00:00.\n",
    "   ```\n",
    "\n",
    "   Çıkarma işleminin sonucu, yukarıdaki örnekteki iki tarih arasındaki farkı gün cinsinden ifade eden bir `timedelta` nesnesi olarak döner. `timedelta` nesnesi daha fazla hesaplama için kullanılabilir, örneğin çarpma işlemi."
   ]
  },
  {
   "cell_type": "markdown",
   "metadata": {},
   "source": []
  }
 ],
 "metadata": {
  "kernelspec": {
   "display_name": "Python 3 (ipykernel)",
   "language": "python",
   "name": "python3"
  },
  "language_info": {
   "codemirror_mode": {
    "name": "ipython",
    "version": 3
   },
   "file_extension": ".py",
   "mimetype": "text/x-python",
   "name": "python",
   "nbconvert_exporter": "python",
   "pygments_lexer": "ipython3",
   "version": "3.11.7"
  }
 },
 "nbformat": 4,
 "nbformat_minor": 4
}
