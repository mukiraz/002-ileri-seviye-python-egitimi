{
 "cells": [
  {
   "cell_type": "markdown",
   "metadata": {},
   "source": [
    "### Alıştırma 1\n",
    "\n",
    "Aşağıdaki kod parçasının çıktısı nedir?"
   ]
  },
  {
   "cell_type": "code",
   "execution_count": null,
   "metadata": {},
   "outputs": [],
   "source": [
    "from datetime import time\n",
    "\n",
    "t = time(14, 53)\n",
    "print(t.strftime(\"%H:%M:%S\"))"
   ]
  },
  {
   "cell_type": "markdown",
   "metadata": {},
   "source": [
    "### Alıştırma 2\n",
    "\n",
    "Aşağıdaki kod parçasının çıktısı nedir?"
   ]
  },
  {
   "cell_type": "code",
   "execution_count": null,
   "metadata": {},
   "outputs": [],
   "source": [
    "from datetime import datetime\n",
    "\n",
    "dt1 = datetime(2020, 9, 29, 14, 41, 0)\n",
    "dt2 = datetime(2020, 9, 28, 14, 41, 0)\n",
    "\n",
    "print(dt1 - dt2)"
   ]
  },
  {
   "cell_type": "markdown",
   "metadata": {},
   "source": []
  }
 ],
 "metadata": {
  "language_info": {
   "name": "python"
  }
 },
 "nbformat": 4,
 "nbformat_minor": 2
}
